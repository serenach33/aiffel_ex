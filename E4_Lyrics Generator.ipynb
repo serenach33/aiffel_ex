{
 "cells": [
  {
   "cell_type": "markdown",
   "id": "3de5d05c",
   "metadata": {},
   "source": [
    "# Exploration 4: AI lyrics generator\n",
    "---\n",
    "\n",
    "### Datasets\n",
    "\n",
    "* lyrics\n",
    "\n",
    "### Model\n",
    "\n",
    "* Tensorflow text generator\n",
    "\n",
    "### Goals\n",
    "\n",
    "1. write lyrics that are comprehensible\n",
    "2. val loss under 2.20\n",
    "---\n"
   ]
  },
  {
   "cell_type": "markdown",
   "id": "0bdc287e",
   "metadata": {},
   "source": [
    "## Importing Dependencies\n"
   ]
  },
  {
   "cell_type": "code",
   "execution_count": 10,
   "id": "72b5ad2a",
   "metadata": {},
   "outputs": [
    {
     "name": "stdout",
     "output_type": "stream",
     "text": [
      "all imported!\n"
     ]
    }
   ],
   "source": [
    "import os, re \n",
    "import glob\n",
    "import numpy as np\n",
    "import tensorflow as tf\n",
    "from sklearn.model_selection import train_test_split\n",
    "\n",
    "print('all imported!')"
   ]
  },
  {
   "cell_type": "markdown",
   "id": "f325dbe6",
   "metadata": {},
   "source": [
    "## Importing Data"
   ]
  },
  {
   "cell_type": "code",
   "execution_count": 11,
   "id": "26c430e0",
   "metadata": {},
   "outputs": [
    {
     "name": "stdout",
     "output_type": "stream",
     "text": [
      "Data size: 187088\n",
      "Examples:\n",
      " [\"Now I've heard there was a secret chord\", 'That David played, and it pleased the Lord', \"But you don't really care for music, do you?\"]\n"
     ]
    }
   ],
   "source": [
    "txt_file_path = os.getenv('HOME')+'/aiffel/lyricist/data/lyrics/*'\n",
    "\n",
    "txt_list = glob.glob(txt_file_path)\n",
    "\n",
    "raw_corpus = []\n",
    "\n",
    "for txt_file in txt_list:\n",
    "    with open(txt_file, \"r\") as f:\n",
    "        raw = f.read().splitlines()\n",
    "        raw_corpus.extend(raw)\n",
    "\n",
    "print(\"Data size:\", len(raw_corpus))\n",
    "print(\"Examples:\\n\", raw_corpus[:3])"
   ]
  },
  {
   "cell_type": "markdown",
   "id": "4332954c",
   "metadata": {},
   "source": [
    "## Data Preprocessing"
   ]
  },
  {
   "cell_type": "code",
   "execution_count": 12,
   "id": "b6e6f644",
   "metadata": {},
   "outputs": [
    {
     "data": {
      "text/plain": [
       "['<start> now i ve heard there was a secret chord <end>',\n",
       " '<start> that david played , and it pleased the lord <end>',\n",
       " '<start> but you don t really care for music , do you ? <end>',\n",
       " '<start> it goes like this <end>',\n",
       " '<start> the fourth , the fifth <end>',\n",
       " '<start> the minor fall , the major lift <end>',\n",
       " '<start> the baffled king composing hallelujah hallelujah <end>',\n",
       " '<start> hallelujah your faith was strong but you needed proof <end>',\n",
       " '<start> you saw her bathing on the roof <end>',\n",
       " '<start> her beauty and the moonlight overthrew her <end>']"
      ]
     },
     "execution_count": 12,
     "metadata": {},
     "output_type": "execute_result"
    }
   ],
   "source": [
    "def preprocess_sentence(sentence):\n",
    "    sentence = sentence.lower().strip() # Change to lowercase letters and remove spaces on both sides.\n",
    "    sentence = re.sub(\"\\[.*\\]*\", \" \", sentence) # Delete the instructions ex. [Outro]\n",
    "    sentence = re.sub(r\"([?.!,¿])\", r\" \\1 \", sentence) # Add a space on both sides of the special characters.\n",
    "    sentence = re.sub(r'[\" \"]+', \" \", sentence) # multiple blanks into one blank\n",
    "    sentence = re.sub(r\"[^a-z?.!,¿]+\", \" \", sentence) # change all the characters that aren't \"a-z?.!,¿\" to a space.\n",
    "    sentence = sentence.strip() # Delete the spaces on the both sides\n",
    "    sentence = '<start> ' + sentence + ' <end>' # begin with <start>, end with <end>\n",
    "    return sentence\n",
    "\n",
    "corpus = []\n",
    "\n",
    "for sentence in raw_corpus:\n",
    "    if len(sentence) == 0: continue\n",
    "    if len(sentence.split()) > 15: continue\n",
    "    if len(sentence.split())+1 <= 4: continue\n",
    "    \n",
    "    preprocessed_sentence = preprocess_sentence(sentence)\n",
    "    corpus.append(preprocessed_sentence)\n",
    "        \n",
    "corpus[:10]"
   ]
  },
  {
   "cell_type": "code",
   "execution_count": 13,
   "id": "31a00620",
   "metadata": {},
   "outputs": [
    {
     "name": "stdout",
     "output_type": "stream",
     "text": [
      "[[   2   50    5 ...    0    0    0]\n",
      " [   2   16 2589 ...    0    0    0]\n",
      " [   2   33    7 ...   44    3    0]\n",
      " ...\n",
      " [   2  254  196 ...   12    3    0]\n",
      " [   5   22    9 ...   10 1053    3]\n",
      " [   2    7   34 ...    0    0    0]] <keras_preprocessing.text.Tokenizer object at 0x7f5e41ddd940>\n"
     ]
    },
    {
     "data": {
      "text/plain": [
       "(150490, 15)"
      ]
     },
     "execution_count": 13,
     "metadata": {},
     "output_type": "execute_result"
    }
   ],
   "source": [
    "def tokenize(corpus):\n",
    "    tokenizer = tf.keras.preprocessing.text.Tokenizer(\n",
    "        num_words=12000, \n",
    "        filters=' ',\n",
    "        oov_token=\"<unk>\"\n",
    "    )\n",
    "   \n",
    "    tokenizer.fit_on_texts(corpus)\n",
    "    tensor = tokenizer.texts_to_sequences(corpus)   \n",
    "    tensor = tf.keras.preprocessing.sequence.pad_sequences(tensor, padding='post', maxlen = 15)  \n",
    "    \n",
    "    print(tensor,tokenizer)\n",
    "    return tensor, tokenizer\n",
    "\n",
    "tensor, tokenizer = tokenize(corpus)\n",
    "\n",
    "tensor.shape"
   ]
  },
  {
   "cell_type": "code",
   "execution_count": 14,
   "id": "471b98f5",
   "metadata": {},
   "outputs": [
    {
     "name": "stdout",
     "output_type": "stream",
     "text": [
      "1 : <unk>\n",
      "2 : <start>\n",
      "3 : <end>\n",
      "4 : ,\n",
      "5 : i\n",
      "6 : the\n",
      "7 : you\n",
      "8 : and\n",
      "9 : a\n",
      "10 : to\n"
     ]
    }
   ],
   "source": [
    "# checking the dictionary\n",
    "for idx in tokenizer.index_word:\n",
    "    print(idx, \":\", tokenizer.index_word[idx])\n",
    "\n",
    "    if idx >= 10: break"
   ]
  },
  {
   "cell_type": "markdown",
   "id": "fa0f6e1f",
   "metadata": {},
   "source": [
    "## Splitting Data"
   ]
  },
  {
   "cell_type": "code",
   "execution_count": 15,
   "id": "b023556e",
   "metadata": {},
   "outputs": [
    {
     "name": "stdout",
     "output_type": "stream",
     "text": [
      "[   2   50    5   91  300   62   56    9  944 5472    3    0    0    0]\n",
      "[  50    5   91  300   62   56    9  944 5472    3    0    0    0    0]\n",
      "Source Train: (120392, 14)\n",
      "Target Train: (120392, 14)\n",
      "Source Val: (30098, 14)\n",
      "Target Val: (30098, 14)\n"
     ]
    }
   ],
   "source": [
    "src_input = tensor[:, :-1] # Slice from the last token to create the source sentence\n",
    "tgt_input = tensor[:, 1:] # Slice the <start> to create the target sentence\n",
    "\n",
    "print(src_input[0])\n",
    "print(tgt_input[0])\n",
    "\n",
    "enc_train, enc_val, dec_train, dec_val = train_test_split(src_input, tgt_input, test_size=0.2, random_state=42)\n",
    "\n",
    "print(\"Source Train:\", enc_train.shape)\n",
    "print(\"Target Train:\", dec_train.shape)\n",
    "print(\"Source Val:\", enc_val.shape)\n",
    "print(\"Target Val:\", dec_val.shape)"
   ]
  },
  {
   "cell_type": "code",
   "execution_count": 16,
   "id": "df52eb57",
   "metadata": {},
   "outputs": [
    {
     "data": {
      "text/plain": [
       "<BatchDataset shapes: ((256, 14), (256, 14)), types: (tf.int32, tf.int32)>"
      ]
     },
     "execution_count": 16,
     "metadata": {},
     "output_type": "execute_result"
    }
   ],
   "source": [
    "BUFFER_SIZE = len(src_input)\n",
    "BATCH_SIZE = 256\n",
    "steps_per_epoch = len(src_input) // BATCH_SIZE\n",
    "\n",
    "VOCAB_SIZE = tokenizer.num_words + 1   \n",
    "\n",
    "dataset = tf.data.Dataset.from_tensor_slices((src_input, tgt_input))\n",
    "dataset = dataset.shuffle(BUFFER_SIZE)\n",
    "dataset = dataset.batch(BATCH_SIZE, drop_remainder=True)\n",
    "dataset"
   ]
  },
  {
   "cell_type": "markdown",
   "id": "fac92a99",
   "metadata": {},
   "source": [
    "## Model "
   ]
  },
  {
   "cell_type": "code",
   "execution_count": 17,
   "id": "9f493a71",
   "metadata": {},
   "outputs": [],
   "source": [
    "class TextGenerator(tf.keras.Model):\n",
    "    def __init__(self, vocab_size, embedding_size, hidden_size):\n",
    "        super().__init__()\n",
    "        \n",
    "        self.embedding = tf.keras.layers.Embedding(vocab_size, embedding_size)\n",
    "        self.rnn_1 = tf.keras.layers.LSTM(hidden_size, return_sequences=True)\n",
    "        self.rnn_2 = tf.keras.layers.LSTM(hidden_size, return_sequences=True)\n",
    "        self.linear = tf.keras.layers.Dense(vocab_size)\n",
    "        \n",
    "    def call(self, x):\n",
    "        out = self.embedding(x)\n",
    "        out = self.rnn_1(out)\n",
    "        out = self.rnn_2(out)\n",
    "        out = self.linear(out)\n",
    "        \n",
    "        return out\n",
    "    \n",
    "embedding_size = 1024\n",
    "hidden_size = 4096\n",
    "model = TextGenerator(tokenizer.num_words + 1, embedding_size , hidden_size)"
   ]
  },
  {
   "cell_type": "code",
   "execution_count": 18,
   "id": "4aa23fcb",
   "metadata": {},
   "outputs": [
    {
     "data": {
      "text/plain": [
       "<tf.Tensor: shape=(256, 14, 12001), dtype=float32, numpy=\n",
       "array([[[-1.23837890e-04,  2.45853123e-04,  1.55171638e-05, ...,\n",
       "          1.07018990e-04,  1.18155564e-04,  9.12565956e-05],\n",
       "        [ 1.34603091e-04,  4.98134294e-04,  6.45187916e-04, ...,\n",
       "         -1.31329565e-04,  3.72183044e-04, -4.01889818e-04],\n",
       "        [-7.96636141e-06,  6.62700098e-04,  1.43262243e-03, ...,\n",
       "         -4.03742073e-04,  5.45369054e-04, -1.48993888e-04],\n",
       "        ...,\n",
       "        [-7.98361434e-04,  9.32401628e-04,  3.81196587e-04, ...,\n",
       "          1.67448563e-03,  5.49261342e-04, -1.84459949e-03],\n",
       "        [-4.51136351e-04,  1.09954923e-03, -1.96043751e-04, ...,\n",
       "          1.90343545e-03,  6.42564788e-04, -2.09667441e-03],\n",
       "        [-2.92581331e-04,  1.28673285e-03, -7.03626196e-04, ...,\n",
       "          1.79030199e-03,  1.06025999e-03, -1.82806654e-03]],\n",
       "\n",
       "       [[ 2.29504236e-04, -1.17419695e-04, -2.34867639e-05, ...,\n",
       "         -8.19788373e-04,  1.53376823e-05, -2.16407469e-04],\n",
       "        [-3.11173411e-04,  5.28181954e-05, -1.75090187e-04, ...,\n",
       "         -1.36708282e-03, -4.74559405e-04, -7.85029144e-04],\n",
       "        [-8.82894528e-05,  4.21856035e-04, -3.21191153e-04, ...,\n",
       "         -1.90946157e-03, -3.01737949e-04, -1.23787171e-03],\n",
       "        ...,\n",
       "        [ 6.77599222e-04,  1.76444519e-04, -2.58501852e-04, ...,\n",
       "         -4.32405068e-04, -5.21641981e-04, -2.15033349e-03],\n",
       "        [ 4.27010760e-04,  5.81180793e-04, -3.31842923e-04, ...,\n",
       "         -2.18559813e-04, -1.68444647e-04, -1.83942844e-03],\n",
       "        [ 5.01304516e-04,  7.84555101e-04, -6.45682972e-04, ...,\n",
       "         -3.75378615e-04,  2.31588681e-04, -1.97732914e-03]],\n",
       "\n",
       "       [[-1.23837890e-04,  2.45853123e-04,  1.55171638e-05, ...,\n",
       "          1.07018990e-04,  1.18155564e-04,  9.12565956e-05],\n",
       "        [-5.96381549e-04,  5.36946347e-04,  3.74703377e-05, ...,\n",
       "          1.99233793e-04,  2.69540207e-04, -1.57042246e-04],\n",
       "        [-7.83436990e-04,  5.17619250e-04,  3.19721963e-04, ...,\n",
       "          4.54079622e-04,  5.07123943e-04, -1.85956334e-04],\n",
       "        ...,\n",
       "        [-2.94315803e-04,  2.01161508e-03, -1.77217193e-03, ...,\n",
       "         -1.04696851e-03,  3.07539245e-03,  4.10450110e-03],\n",
       "        [-5.28562698e-04,  2.14981660e-03, -1.58802525e-03, ...,\n",
       "         -1.22815929e-03,  3.05155013e-03,  4.71535744e-03],\n",
       "        [-7.66695244e-04,  2.28620879e-03, -1.36053097e-03, ...,\n",
       "         -1.38119271e-03,  2.96156807e-03,  5.24787698e-03]],\n",
       "\n",
       "       ...,\n",
       "\n",
       "       [[-1.23837890e-04,  2.45853123e-04,  1.55171638e-05, ...,\n",
       "          1.07018990e-04,  1.18155564e-04,  9.12565956e-05],\n",
       "        [-6.89736509e-04,  2.80194479e-04,  1.64612662e-04, ...,\n",
       "         -1.13663642e-04,  3.79849080e-04, -3.92499569e-05],\n",
       "        [-6.34700467e-04,  6.16236648e-04,  4.96048422e-04, ...,\n",
       "          1.67091384e-05,  5.14042506e-04,  2.40767680e-04],\n",
       "        ...,\n",
       "        [-3.90556583e-04, -6.24684617e-04, -4.09877335e-04, ...,\n",
       "          1.41382206e-03,  1.25714671e-03, -8.46429379e-04],\n",
       "        [-5.54781582e-04, -3.46154644e-04, -6.99056312e-04, ...,\n",
       "          1.43440231e-03,  1.41020096e-03, -2.96019483e-04],\n",
       "        [-6.97831099e-04,  1.92709012e-05, -9.41487320e-04, ...,\n",
       "          1.34629884e-03,  1.71171676e-03,  4.18534735e-04]],\n",
       "\n",
       "       [[ 2.29504236e-04, -1.17419695e-04, -2.34867639e-05, ...,\n",
       "         -8.19788373e-04,  1.53376823e-05, -2.16407469e-04],\n",
       "        [-3.11173411e-04,  5.28181954e-05, -1.75090187e-04, ...,\n",
       "         -1.36708282e-03, -4.74559405e-04, -7.85029144e-04],\n",
       "        [-6.01104344e-04,  1.11296860e-04, -3.02548229e-04, ...,\n",
       "         -1.63515296e-03, -7.61683797e-04, -1.24153984e-03],\n",
       "        ...,\n",
       "        [-3.70841124e-04,  2.89694988e-04, -3.55639146e-04, ...,\n",
       "         -2.01840769e-03, -5.35320898e-04,  1.27387917e-04],\n",
       "        [-6.48844172e-04,  4.83840646e-04, -2.82992696e-04, ...,\n",
       "         -1.66289648e-03, -1.32529545e-04,  1.31927736e-04],\n",
       "        [-7.30564178e-04,  6.37810328e-04, -4.24023921e-04, ...,\n",
       "         -1.41946855e-03, -5.87244504e-05,  3.19111597e-04]],\n",
       "\n",
       "       [[-1.23837890e-04,  2.45853123e-04,  1.55171638e-05, ...,\n",
       "          1.07018990e-04,  1.18155564e-04,  9.12565956e-05],\n",
       "        [-2.88535230e-04,  4.90374186e-05, -7.76161141e-06, ...,\n",
       "          2.53018894e-04, -3.34318232e-04,  2.82158318e-04],\n",
       "        [-3.81743914e-04, -5.08574230e-05,  2.93582823e-04, ...,\n",
       "          4.85089316e-04, -4.19927412e-04, -2.35027648e-04],\n",
       "        ...,\n",
       "        [-1.46179879e-03,  1.25449442e-04,  5.10864629e-05, ...,\n",
       "         -1.87759244e-04,  9.01730440e-04,  5.41838002e-04],\n",
       "        [-1.56297395e-03,  4.41510609e-04, -3.06519301e-04, ...,\n",
       "         -4.27622988e-04,  1.29450450e-03,  1.50714605e-03],\n",
       "        [-1.66605553e-03,  7.32323213e-04, -5.59591164e-04, ...,\n",
       "         -6.64797612e-04,  1.58503407e-03,  2.46861833e-03]]],\n",
       "      dtype=float32)>"
      ]
     },
     "execution_count": 18,
     "metadata": {},
     "output_type": "execute_result"
    }
   ],
   "source": [
    "# Taking one batch for testing\n",
    "for src_sample, tgt_sample in dataset.take(1): break\n",
    "\n",
    "model(src_sample)"
   ]
  },
  {
   "cell_type": "code",
   "execution_count": 19,
   "id": "064a595f",
   "metadata": {},
   "outputs": [
    {
     "name": "stdout",
     "output_type": "stream",
     "text": [
      "Model: \"text_generator_1\"\n",
      "_________________________________________________________________\n",
      "Layer (type)                 Output Shape              Param #   \n",
      "=================================================================\n",
      "embedding_1 (Embedding)      multiple                  12289024  \n",
      "_________________________________________________________________\n",
      "lstm_2 (LSTM)                multiple                  83902464  \n",
      "_________________________________________________________________\n",
      "lstm_3 (LSTM)                multiple                  134234112 \n",
      "_________________________________________________________________\n",
      "dense_1 (Dense)              multiple                  49168097  \n",
      "=================================================================\n",
      "Total params: 279,593,697\n",
      "Trainable params: 279,593,697\n",
      "Non-trainable params: 0\n",
      "_________________________________________________________________\n"
     ]
    }
   ],
   "source": [
    "model.summary()"
   ]
  },
  {
   "cell_type": "code",
   "execution_count": 20,
   "id": "a2ce94b2",
   "metadata": {},
   "outputs": [
    {
     "name": "stdout",
     "output_type": "stream",
     "text": [
      "Epoch 1/10\n",
      "236/236 [==============================] - 838s 4s/step - loss: 3.8705 - val_loss: 3.3947\n",
      "Epoch 2/10\n",
      "236/236 [==============================] - 845s 4s/step - loss: 3.2204 - val_loss: 3.1264\n",
      "Epoch 3/10\n",
      "236/236 [==============================] - 847s 4s/step - loss: 2.9570 - val_loss: 2.9553\n",
      "Epoch 4/10\n",
      "236/236 [==============================] - 847s 4s/step - loss: 2.7163 - val_loss: 2.8190\n",
      "Epoch 5/10\n",
      "236/236 [==============================] - 846s 4s/step - loss: 2.4843 - val_loss: 2.7118\n",
      "Epoch 6/10\n",
      "236/236 [==============================] - 845s 4s/step - loss: 2.2560 - val_loss: 2.6128\n",
      "Epoch 7/10\n",
      "236/236 [==============================] - 845s 4s/step - loss: 2.0312 - val_loss: 2.5365\n",
      "Epoch 8/10\n",
      "236/236 [==============================] - 845s 4s/step - loss: 1.8121 - val_loss: 2.4725\n",
      "Epoch 9/10\n",
      "236/236 [==============================] - 849s 4s/step - loss: 1.6022 - val_loss: 2.4189\n",
      "Epoch 10/10\n",
      "236/236 [==============================] - 848s 4s/step - loss: 1.4087 - val_loss: 2.3806\n"
     ]
    },
    {
     "data": {
      "text/plain": [
       "<keras.callbacks.History at 0x7f5e41cbb1f0>"
      ]
     },
     "execution_count": 20,
     "metadata": {},
     "output_type": "execute_result"
    }
   ],
   "source": [
    "optimizer = tf.keras.optimizers.Adam()\n",
    "loss = tf.keras.losses.SparseCategoricalCrossentropy(\n",
    "    from_logits=True,\n",
    "    reduction='none'\n",
    ")\n",
    "\n",
    "model.compile(loss=loss, optimizer=optimizer)\n",
    "model.fit(enc_train, dec_train, validation_data=(enc_val, dec_val),epochs=10, batch_size=512)\n",
    "\n",
    "# batch size 256: final val loss: 2.4300"
   ]
  },
  {
   "cell_type": "markdown",
   "id": "f05f00fa",
   "metadata": {},
   "source": [
    "## Model Testing"
   ]
  },
  {
   "cell_type": "code",
   "execution_count": 22,
   "id": "9ad6833d",
   "metadata": {},
   "outputs": [],
   "source": [
    "def generate_text(model, tokenizer, init_sentence=\"<start>\", max_len=15):\n",
    "    # init_sentence into tensor\n",
    "    test_input = tokenizer.texts_to_sequences([init_sentence])\n",
    "    test_tensor = tf.convert_to_tensor(test_input, dtype=tf.int64)\n",
    "    end_token = tokenizer.word_index[\"<end>\"]\n",
    "\n",
    "    while True:\n",
    "        predict = model(test_tensor) \n",
    "        predict_word = tf.argmax(tf.nn.softmax(predict, axis=-1), axis=-1)[:, -1] \n",
    "        test_tensor = tf.concat([test_tensor, tf.expand_dims(predict_word, axis=0)], axis=-1)\n",
    "        if predict_word.numpy()[0] == end_token: break\n",
    "        if test_tensor.shape[1] >= max_len: break\n",
    "\n",
    "    generated = \"\"\n",
    "    # word index into words \n",
    "    for word_index in test_tensor[0].numpy():\n",
    "        generated += tokenizer.index_word[word_index] + \" \"\n",
    "\n",
    "    return generated"
   ]
  },
  {
   "cell_type": "code",
   "execution_count": 30,
   "id": "9dc04c89",
   "metadata": {},
   "outputs": [
    {
     "name": "stdout",
     "output_type": "stream",
     "text": [
      "<start> because the night belongs to lovers <end> \n",
      "<start> you re the only girl that i see only girl i see <end> \n",
      "<start> love is a beautiful thing <end> \n",
      "<start> all the things i ve been to do <end> \n",
      "<start> we re gonna have to tell him <end> \n",
      "<start> are you afraid of being alone <end> \n",
      "<start> beautiful people say yes <end> \n"
     ]
    }
   ],
   "source": [
    "keywords = ['because', 'you', 'love', 'all', 'we', 'are', 'beautiful']\n",
    "\n",
    "for start in keywords:\n",
    "    print(generate_text(model, tokenizer, init_sentence= ' '.join([\"<start>\", start])))"
   ]
  },
  {
   "cell_type": "markdown",
   "id": "d03217e4",
   "metadata": {},
   "source": [
    "---\n",
    "## Conclusion\n",
    "\n",
    "* written lyrics are somewhat comprehensible\n",
    "* testing model took too long to try anything (tried 2 times and took more than 6 hours to get the results)\n",
    "* I was able to decrease the val loss from 2.43 to 2.38 but it's not enough\n",
    "* Even if the val loss wasn't low enough, I was able to receive well-written sentences. (isn't this what matters the most?)"
   ]
  }
 ],
 "metadata": {
  "kernelspec": {
   "display_name": "Python 3 (ipykernel)",
   "language": "python",
   "name": "python3"
  },
  "language_info": {
   "codemirror_mode": {
    "name": "ipython",
    "version": 3
   },
   "file_extension": ".py",
   "mimetype": "text/x-python",
   "name": "python",
   "nbconvert_exporter": "python",
   "pygments_lexer": "ipython3",
   "version": "3.9.7"
  }
 },
 "nbformat": 4,
 "nbformat_minor": 5
}
