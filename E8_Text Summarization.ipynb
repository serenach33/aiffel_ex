{
 "cells": [
  {
   "cell_type": "markdown",
   "id": "6a07b8bd",
   "metadata": {},
   "source": [
    "# Exploration 8: Text Summarization of News Articles\n",
    "\n",
    "---\n",
    "\n",
    "#### Model\n",
    "* LSTM\n",
    "\n",
    "#### Data\n",
    "* News articles from [here](https://github.com/sunnysai12345/News_Summary)\n",
    "\n",
    "#### Goals\n",
    "\n",
    "1. Preprocessing the data including text normalization, vocabulary, stopwords, train test split, and more\n",
    "2. Plot a graph to show convergence and create summarized sentences similar to the original summaries\n",
    "3. Try both Extractive and Abstractive summarization and compare\n",
    "---"
   ]
  },
  {
   "cell_type": "markdown",
   "id": "52f8c532",
   "metadata": {},
   "source": [
    "## Importing Dependencies"
   ]
  },
  {
   "cell_type": "code",
   "execution_count": 4,
   "id": "e131b706",
   "metadata": {},
   "outputs": [
    {
     "name": "stderr",
     "output_type": "stream",
     "text": [
      "[nltk_data] Downloading package stopwords to /aiffel/nltk_data...\n",
      "[nltk_data]   Unzipping corpora/stopwords.zip.\n"
     ]
    },
    {
     "name": "stdout",
     "output_type": "stream",
     "text": [
      "All imported!\n"
     ]
    }
   ],
   "source": [
    "import nltk\n",
    "nltk.download('stopwords')\n",
    "\n",
    "import os, re, time, requests\n",
    "import numpy as np\n",
    "import pandas as pd\n",
    "import matplotlib.pyplot as plt\n",
    "import urllib.request\n",
    "import warnings #to ignore warnings\n",
    "warnings.filterwarnings(\"ignore\", category=UserWarning, module='bs4')\n",
    "import multiprocessing as mp # to reduce time\n",
    "from nltk.corpus import stopwords\n",
    "from bs4 import BeautifulSoup \n",
    "from tensorflow.keras.preprocessing.text import Tokenizer \n",
    "from tensorflow.keras.preprocessing.sequence import pad_sequences   \n",
    "from multiprocessing import Pool\n",
    "from functools import partial\n",
    "from tensorflow.keras.layers import Input, LSTM, Embedding, Dense, Concatenate, TimeDistributed, AdditiveAttention\n",
    "from tensorflow.keras.models import Model\n",
    "from tensorflow.keras.callbacks import EarlyStopping, ModelCheckpoint\n",
    "from summa.summarizer import summarize\n",
    "\n",
    "print(\"All imported!\")"
   ]
  },
  {
   "cell_type": "markdown",
   "id": "30421439",
   "metadata": {},
   "source": [
    "## Loading Data"
   ]
  },
  {
   "cell_type": "code",
   "execution_count": 4,
   "id": "6e3a93c1",
   "metadata": {},
   "outputs": [
    {
     "name": "stdout",
     "output_type": "stream",
     "text": [
      "number of total samples: 98401\n"
     ]
    }
   ],
   "source": [
    "urllib.request.urlretrieve(\"https://raw.githubusercontent.com/sunnysai12345/News_Summary/master/news_summary_more.csv\", filename=\"news_summary_more.csv\")\n",
    "data = pd.read_csv('news_summary_more.csv', encoding='iso-8859-1')\n",
    "\n",
    "print('number of total samples:', (len(data)))"
   ]
  },
  {
   "cell_type": "code",
   "execution_count": 5,
   "id": "f30a6d1e",
   "metadata": {
    "scrolled": true
   },
   "outputs": [
    {
     "data": {
      "text/html": [
       "<div>\n",
       "<style scoped>\n",
       "    .dataframe tbody tr th:only-of-type {\n",
       "        vertical-align: middle;\n",
       "    }\n",
       "\n",
       "    .dataframe tbody tr th {\n",
       "        vertical-align: top;\n",
       "    }\n",
       "\n",
       "    .dataframe thead th {\n",
       "        text-align: right;\n",
       "    }\n",
       "</style>\n",
       "<table border=\"1\" class=\"dataframe\">\n",
       "  <thead>\n",
       "    <tr style=\"text-align: right;\">\n",
       "      <th></th>\n",
       "      <th>headlines</th>\n",
       "      <th>text</th>\n",
       "    </tr>\n",
       "  </thead>\n",
       "  <tbody>\n",
       "    <tr>\n",
       "      <th>66023</th>\n",
       "      <td>HC refuses to lift bullock cart race ban in Ma...</td>\n",
       "      <td>The Bombay High Court on Wednesday refused to ...</td>\n",
       "    </tr>\n",
       "    <tr>\n",
       "      <th>93649</th>\n",
       "      <td>Video: KKR captain Gautam Gambhir's fumbling c...</td>\n",
       "      <td>Kolkata Knight Riders' captain Gautam Gambhir ...</td>\n",
       "    </tr>\n",
       "    <tr>\n",
       "      <th>89912</th>\n",
       "      <td>Which are the cheapest cities in the world for...</td>\n",
       "      <td>According to Deutsche Bank's report ranking th...</td>\n",
       "    </tr>\n",
       "    <tr>\n",
       "      <th>84932</th>\n",
       "      <td>RIP TVs in Pakistan, tweets user on India-Pak ...</td>\n",
       "      <td>Reacting to India playing Pakistan in the fina...</td>\n",
       "    </tr>\n",
       "    <tr>\n",
       "      <th>3728</th>\n",
       "      <td>Police revokes ban on black at PM Modi event i...</td>\n",
       "      <td>Police in Jharkhand's Palamu has revoked the b...</td>\n",
       "    </tr>\n",
       "    <tr>\n",
       "      <th>96663</th>\n",
       "      <td>Dwayne Johnson chokes up in emotional video me...</td>\n",
       "      <td>Actor Dwayne Johnson choked up while sharing a...</td>\n",
       "    </tr>\n",
       "    <tr>\n",
       "      <th>95277</th>\n",
       "      <td>JNU ranked good not because of anti-India slog...</td>\n",
       "      <td>Union HRD Minister Prakash Javadekar on Monday...</td>\n",
       "    </tr>\n",
       "    <tr>\n",
       "      <th>41964</th>\n",
       "      <td>Russian Prez blames mall fire that killed 64 o...</td>\n",
       "      <td>Russian President Vladimir Putin has blamed th...</td>\n",
       "    </tr>\n",
       "    <tr>\n",
       "      <th>26406</th>\n",
       "      <td>Man takes selfie as 3 accident victims die in ...</td>\n",
       "      <td>A picture has surfaced online which shows a ma...</td>\n",
       "    </tr>\n",
       "    <tr>\n",
       "      <th>85869</th>\n",
       "      <td>I don't waste time gossiping or clicking selfi...</td>\n",
       "      <td>Actress Shweta Basu Prasad, while talking abou...</td>\n",
       "    </tr>\n",
       "  </tbody>\n",
       "</table>\n",
       "</div>"
      ],
      "text/plain": [
       "                                               headlines  \\\n",
       "66023  HC refuses to lift bullock cart race ban in Ma...   \n",
       "93649  Video: KKR captain Gautam Gambhir's fumbling c...   \n",
       "89912  Which are the cheapest cities in the world for...   \n",
       "84932  RIP TVs in Pakistan, tweets user on India-Pak ...   \n",
       "3728   Police revokes ban on black at PM Modi event i...   \n",
       "96663  Dwayne Johnson chokes up in emotional video me...   \n",
       "95277  JNU ranked good not because of anti-India slog...   \n",
       "41964  Russian Prez blames mall fire that killed 64 o...   \n",
       "26406  Man takes selfie as 3 accident victims die in ...   \n",
       "85869  I don't waste time gossiping or clicking selfi...   \n",
       "\n",
       "                                                    text  \n",
       "66023  The Bombay High Court on Wednesday refused to ...  \n",
       "93649  Kolkata Knight Riders' captain Gautam Gambhir ...  \n",
       "89912  According to Deutsche Bank's report ranking th...  \n",
       "84932  Reacting to India playing Pakistan in the fina...  \n",
       "3728   Police in Jharkhand's Palamu has revoked the b...  \n",
       "96663  Actor Dwayne Johnson choked up while sharing a...  \n",
       "95277  Union HRD Minister Prakash Javadekar on Monday...  \n",
       "41964  Russian President Vladimir Putin has blamed th...  \n",
       "26406  A picture has surfaced online which shows a ma...  \n",
       "85869  Actress Shweta Basu Prasad, while talking abou...  "
      ]
     },
     "execution_count": 5,
     "metadata": {},
     "output_type": "execute_result"
    }
   ],
   "source": [
    "data.sample(10)"
   ]
  },
  {
   "cell_type": "markdown",
   "id": "927eb5ae",
   "metadata": {},
   "source": [
    "For Abstractive Summarization\n",
    "* **headlines**: the summary\n",
    "* **text**: the document <br/>\n",
    "\n",
    "For Extractive Summarization only **text** will be used"
   ]
  },
  {
   "cell_type": "markdown",
   "id": "c3cf64e1",
   "metadata": {},
   "source": [
    "---\n",
    "\n",
    "## Data Pre-processing\n",
    "\n",
    "### Remove duplicates and null values"
   ]
  },
  {
   "cell_type": "code",
   "execution_count": 6,
   "id": "e1558a1e",
   "metadata": {
    "scrolled": false
   },
   "outputs": [
    {
     "name": "stdout",
     "output_type": "stream",
     "text": [
      "number of total samples: 98360\n"
     ]
    }
   ],
   "source": [
    "data.drop_duplicates(subset = ['text'], inplace=True)\n",
    "print('number of total samples:', (len(data)))"
   ]
  },
  {
   "cell_type": "code",
   "execution_count": 7,
   "id": "87d52d12",
   "metadata": {},
   "outputs": [
    {
     "name": "stdout",
     "output_type": "stream",
     "text": [
      "headlines    0\n",
      "text         0\n",
      "dtype: int64\n"
     ]
    }
   ],
   "source": [
    "print(data.isnull().sum())"
   ]
  },
  {
   "cell_type": "markdown",
   "id": "c5c5a89b",
   "metadata": {},
   "source": [
    "no null values yet"
   ]
  },
  {
   "cell_type": "markdown",
   "id": "6e388502",
   "metadata": {},
   "source": [
    "### Text normalization\n",
    "\n",
    "#### Contractions"
   ]
  },
  {
   "cell_type": "code",
   "execution_count": 8,
   "id": "0055d7d9",
   "metadata": {},
   "outputs": [
    {
     "name": "stdout",
     "output_type": "stream",
     "text": [
      "How many are there? There are 120 contractions.\n"
     ]
    }
   ],
   "source": [
    "contractions = {\"ain't\": \"is not\", \"aren't\": \"are not\",\"can't\": \"cannot\", \"'cause\": \"because\", \"could've\": \"could have\", \"couldn't\": \"could not\",\n",
    "                           \"didn't\": \"did not\",  \"doesn't\": \"does not\", \"don't\": \"do not\", \"hadn't\": \"had not\", \"hasn't\": \"has not\", \"haven't\": \"have not\",\n",
    "                           \"he'd\": \"he would\",\"he'll\": \"he will\", \"he's\": \"he is\", \"how'd\": \"how did\", \"how'd'y\": \"how do you\", \"how'll\": \"how will\", \"how's\": \"how is\",\n",
    "                           \"I'd\": \"I would\", \"I'd've\": \"I would have\", \"I'll\": \"I will\", \"I'll've\": \"I will have\",\"I'm\": \"I am\", \"I've\": \"I have\", \"i'd\": \"i would\",\n",
    "                           \"i'd've\": \"i would have\", \"i'll\": \"i will\",  \"i'll've\": \"i will have\",\"i'm\": \"i am\", \"i've\": \"i have\", \"isn't\": \"is not\", \"it'd\": \"it would\",\n",
    "                           \"it'd've\": \"it would have\", \"it'll\": \"it will\", \"it'll've\": \"it will have\",\"it's\": \"it is\", \"let's\": \"let us\", \"ma'am\": \"madam\",\n",
    "                           \"mayn't\": \"may not\", \"might've\": \"might have\",\"mightn't\": \"might not\",\"mightn't've\": \"might not have\", \"must've\": \"must have\",\n",
    "                           \"mustn't\": \"must not\", \"mustn't've\": \"must not have\", \"needn't\": \"need not\", \"needn't've\": \"need not have\",\"o'clock\": \"of the clock\",\n",
    "                           \"oughtn't\": \"ought not\", \"oughtn't've\": \"ought not have\", \"shan't\": \"shall not\", \"sha'n't\": \"shall not\", \"shan't've\": \"shall not have\",\n",
    "                           \"she'd\": \"she would\", \"she'd've\": \"she would have\", \"she'll\": \"she will\", \"she'll've\": \"she will have\", \"she's\": \"she is\",\n",
    "                           \"should've\": \"should have\", \"shouldn't\": \"should not\", \"shouldn't've\": \"should not have\", \"so've\": \"so have\",\"so's\": \"so as\",\n",
    "                           \"this's\": \"this is\",\"that'd\": \"that would\", \"that'd've\": \"that would have\", \"that's\": \"that is\", \"there'd\": \"there would\",\n",
    "                           \"there'd've\": \"there would have\", \"there's\": \"there is\", \"here's\": \"here is\",\"they'd\": \"they would\", \"they'd've\": \"they would have\",\n",
    "                           \"they'll\": \"they will\", \"they'll've\": \"they will have\", \"they're\": \"they are\", \"they've\": \"they have\", \"to've\": \"to have\",\n",
    "                           \"wasn't\": \"was not\", \"we'd\": \"we would\", \"we'd've\": \"we would have\", \"we'll\": \"we will\", \"we'll've\": \"we will have\", \"we're\": \"we are\",\n",
    "                           \"we've\": \"we have\", \"weren't\": \"were not\", \"what'll\": \"what will\", \"what'll've\": \"what will have\", \"what're\": \"what are\",\n",
    "                           \"what's\": \"what is\", \"what've\": \"what have\", \"when's\": \"when is\", \"when've\": \"when have\", \"where'd\": \"where did\", \"where's\": \"where is\",\n",
    "                           \"where've\": \"where have\", \"who'll\": \"who will\", \"who'll've\": \"who will have\", \"who's\": \"who is\", \"who've\": \"who have\",\n",
    "                           \"why's\": \"why is\", \"why've\": \"why have\", \"will've\": \"will have\", \"won't\": \"will not\", \"won't've\": \"will not have\",\n",
    "                           \"would've\": \"would have\", \"wouldn't\": \"would not\", \"wouldn't've\": \"would not have\", \"y'all\": \"you all\",\n",
    "                           \"y'all'd\": \"you all would\",\"y'all'd've\": \"you all would have\",\"y'all're\": \"you all are\",\"y'all've\": \"you all have\",\n",
    "                           \"you'd\": \"you would\", \"you'd've\": \"you would have\", \"you'll\": \"you will\", \"you'll've\": \"you will have\",\n",
    "                           \"you're\": \"you are\", \"you've\": \"you have\"}\n",
    "\n",
    "print(\"How many are there? There are\", len(contractions) , \"contractions.\")"
   ]
  },
  {
   "cell_type": "markdown",
   "id": "1994e42b",
   "metadata": {},
   "source": [
    "#### Stopwords \n",
    "\n",
    "* most common words in any language like articles, prepositions, pronouns, conjuctions, etc.\n",
    "* generally filtered out before processing a natural language b/c does not add much info to the text\n",
    "* low-level information from the text can be removed to give more focus to the important information\n",
    "* does not show any negative consequences on the model training\n"
   ]
  },
  {
   "cell_type": "code",
   "execution_count": 9,
   "id": "6f93ceec",
   "metadata": {
    "scrolled": true
   },
   "outputs": [
    {
     "name": "stdout",
     "output_type": "stream",
     "text": [
      "number of stopwords: 179\n",
      "['i', 'me', 'my', 'myself', 'we', 'our', 'ours', 'ourselves', 'you', \"you're\", \"you've\", \"you'll\", \"you'd\", 'your', 'yours', 'yourself', 'yourselves', 'he', 'him', 'his', 'himself', 'she', \"she's\", 'her', 'hers', 'herself', 'it', \"it's\", 'its', 'itself', 'they', 'them', 'their', 'theirs', 'themselves', 'what', 'which', 'who', 'whom', 'this', 'that', \"that'll\", 'these', 'those', 'am', 'is', 'are', 'was', 'were', 'be', 'been', 'being', 'have', 'has', 'had', 'having', 'do', 'does', 'did', 'doing', 'a', 'an', 'the', 'and', 'but', 'if', 'or', 'because', 'as', 'until', 'while', 'of', 'at', 'by', 'for', 'with', 'about', 'against', 'between', 'into', 'through', 'during', 'before', 'after', 'above', 'below', 'to', 'from', 'up', 'down', 'in', 'out', 'on', 'off', 'over', 'under', 'again', 'further', 'then', 'once', 'here', 'there', 'when', 'where', 'why', 'how', 'all', 'any', 'both', 'each', 'few', 'more', 'most', 'other', 'some', 'such', 'no', 'nor', 'not', 'only', 'own', 'same', 'so', 'than', 'too', 'very', 's', 't', 'can', 'will', 'just', 'don', \"don't\", 'should', \"should've\", 'now', 'd', 'll', 'm', 'o', 're', 've', 'y', 'ain', 'aren', \"aren't\", 'couldn', \"couldn't\", 'didn', \"didn't\", 'doesn', \"doesn't\", 'hadn', \"hadn't\", 'hasn', \"hasn't\", 'haven', \"haven't\", 'isn', \"isn't\", 'ma', 'mightn', \"mightn't\", 'mustn', \"mustn't\", 'needn', \"needn't\", 'shan', \"shan't\", 'shouldn', \"shouldn't\", 'wasn', \"wasn't\", 'weren', \"weren't\", 'won', \"won't\", 'wouldn', \"wouldn't\"]\n"
     ]
    }
   ],
   "source": [
    "print('number of stopwords:', (len(stopwords.words('english'))))\n",
    "print(stopwords.words('english'))"
   ]
  },
  {
   "cell_type": "markdown",
   "id": "151ba85d",
   "metadata": {},
   "source": [
    "words such as no, not, nor, most, up, down, again, but, below, and above seems somewhat useful for interpreting news article<br/>"
   ]
  },
  {
   "cell_type": "code",
   "execution_count": 10,
   "id": "3c216a43",
   "metadata": {},
   "outputs": [],
   "source": [
    "excluded_words = ['no', 'not', 'nor', 'most', 'up', 'down', 'again', 'but', 'below', 'above']\n",
    "\n",
    "adjusted_stopwords = list(filter(lambda word: word not in excluded_words, stopwords.words('english')))"
   ]
  },
  {
   "cell_type": "code",
   "execution_count": 11,
   "id": "1d4e39eb",
   "metadata": {
    "scrolled": true
   },
   "outputs": [
    {
     "name": "stdout",
     "output_type": "stream",
     "text": [
      "number of adjusted stopwords: 169\n",
      "['i', 'me', 'my', 'myself', 'we', 'our', 'ours', 'ourselves', 'you', \"you're\", \"you've\", \"you'll\", \"you'd\", 'your', 'yours', 'yourself', 'yourselves', 'he', 'him', 'his', 'himself', 'she', \"she's\", 'her', 'hers', 'herself', 'it', \"it's\", 'its', 'itself', 'they', 'them', 'their', 'theirs', 'themselves', 'what', 'which', 'who', 'whom', 'this', 'that', \"that'll\", 'these', 'those', 'am', 'is', 'are', 'was', 'were', 'be', 'been', 'being', 'have', 'has', 'had', 'having', 'do', 'does', 'did', 'doing', 'a', 'an', 'the', 'and', 'if', 'or', 'because', 'as', 'until', 'while', 'of', 'at', 'by', 'for', 'with', 'about', 'against', 'between', 'into', 'through', 'during', 'before', 'after', 'to', 'from', 'in', 'out', 'on', 'off', 'over', 'under', 'further', 'then', 'once', 'here', 'there', 'when', 'where', 'why', 'how', 'all', 'any', 'both', 'each', 'few', 'more', 'other', 'some', 'such', 'only', 'own', 'same', 'so', 'than', 'too', 'very', 's', 't', 'can', 'will', 'just', 'don', \"don't\", 'should', \"should've\", 'now', 'd', 'll', 'm', 'o', 're', 've', 'y', 'ain', 'aren', \"aren't\", 'couldn', \"couldn't\", 'didn', \"didn't\", 'doesn', \"doesn't\", 'hadn', \"hadn't\", 'hasn', \"hasn't\", 'haven', \"haven't\", 'isn', \"isn't\", 'ma', 'mightn', \"mightn't\", 'mustn', \"mustn't\", 'needn', \"needn't\", 'shan', \"shan't\", 'shouldn', \"shouldn't\", 'wasn', \"wasn't\", 'weren', \"weren't\", 'won', \"won't\", 'wouldn', \"wouldn't\"]\n"
     ]
    }
   ],
   "source": [
    "print('number of adjusted stopwords:' , (len(adjusted_stopwords)))\n",
    "print(adjusted_stopwords)"
   ]
  },
  {
   "cell_type": "markdown",
   "id": "38cef3a6",
   "metadata": {},
   "source": [
    "#### Converting contractions, removing stopwords and other normalization"
   ]
  },
  {
   "cell_type": "code",
   "execution_count": 12,
   "id": "2b79b89c",
   "metadata": {},
   "outputs": [
    {
     "name": "stdout",
     "output_type": "stream",
     "text": [
      "done\n"
     ]
    }
   ],
   "source": [
    "def preprocess_sentence(sentence, remove_stopwords=True):\n",
    "    sentence = sentence.lower() # convert to lower case\n",
    "    sentence = BeautifulSoup(sentence, \"lxml\").text # removing html tags\n",
    "    sentence = re.sub(r'\\([^)]*\\)', '', sentence) # removing words in parentheses\n",
    "    sentence = re.sub('\"','', sentence) # removing quotation marks\n",
    "    sentence = ' '.join([contractions[t] if t in contractions else t for t in sentence.split(\" \")]) # converting contractions\n",
    "    sentence = re.sub(r\"'s\\b\",\"\", sentence) # removing abbreviation Ex)roland's -> roland\n",
    "    sentence = re.sub(\"[^a-zA-Z]\", \" \", sentence) # removing non alphabetic characters\n",
    "    sentence = re.sub('[m]{2,}', 'mm', sentence) # removing too much 'm's Ex) ummmmmmm yeah -> umm yeah\n",
    "   \n",
    "    #removing stopwords for 'text'\n",
    "    if remove_stopwords:\n",
    "        tokens = ' '.join(word for word in sentence.split() if not word in adjusted_stopwords if len(word) > 1)\n",
    "    # leaving all the stopwords for 'summary'\n",
    "    else:\n",
    "        tokens = ' '.join(word for word in sentence.split() if len(word) > 1)\n",
    "    return tokens\n",
    "\n",
    "print('done')"
   ]
  },
  {
   "cell_type": "code",
   "execution_count": 13,
   "id": "7635e74f",
   "metadata": {},
   "outputs": [
    {
     "name": "stdout",
     "output_type": "stream",
     "text": [
      "text: umm ask charlie pal charlie pal knows everything\n",
      "text: we believe in you\n"
     ]
    }
   ],
   "source": [
    "temp_text = \"ummmmmmm, ask Charlie or his pal (or his parents).<br/> Charlie's pal knows EVERYTHING!!!\"\n",
    "temp_summary = \"We believe in you\"\n",
    "\n",
    "print(\"text:\", preprocess_sentence(temp_text))\n",
    "print(\"text:\", preprocess_sentence(temp_summary, False)) # Not removing stopwords"
   ]
  },
  {
   "cell_type": "markdown",
   "id": "e9ed1943",
   "metadata": {},
   "source": [
    "#### Using multiprocessing to make it faster"
   ]
  },
  {
   "cell_type": "code",
   "execution_count": 14,
   "id": "7bc69392",
   "metadata": {},
   "outputs": [
    {
     "name": "stdout",
     "output_type": "stream",
     "text": [
      "4\n"
     ]
    }
   ],
   "source": [
    "print(mp.cpu_count())"
   ]
  },
  {
   "cell_type": "code",
   "execution_count": 15,
   "id": "9e50b488",
   "metadata": {},
   "outputs": [
    {
     "name": "stdout",
     "output_type": "stream",
     "text": [
      "16.75230598449707  seconds\n",
      "['saurav kant alumnus upgrad iiit pg program machine learning artificial intelligence sr systems engineer infosys almost years work experience program upgrad degree career support helped transition data scientist tech mahindra salary hike upgrad online power learning powered lakh careers'\n",
      " 'kunal shah credit card bill payment platform cred gave users chance win free food swiggy one year pranav kaushik delhi techie bagged reward spending cred coins users get one cred coin per rupee bill paid used avail rewards brands like ixigo bookmyshow ubereats cult fit'\n",
      " 'new zealand defeated india wickets fourth odi hamilton thursday win first match five match odi series india lost international match rohit sharma captaincy consecutive victories dating back march match witnessed india getting seventh lowest total odi cricket history'\n",
      " ...\n",
      " 'according reports new version science fiction film matrix development michael jordan reportedly play lead role film screenwriter zak penn talks write script film reports added actor keanu reeves starred original film followed two sequels'\n",
      " 'new music video shows rapper snoop dogg aiming toy gun clown character parodying us president donald trump video also shows tv airing news conference headline ronald klump wants deport doggs airing live clown house video remixed version song lavender'\n",
      " 'madhesi morcha alliance seven political parties withdrawn support pm pushpa kamal dahal led nepal government failed meet seven day ultimatum fulfil demands including endorsement revised constitution amendment bill morcha seats parliament but despite withdrawal support no immediate threat government']\n",
      "9.512779712677002  seconds\n",
      "['upgrad learner switches to career in ml al with salary hike'\n",
      " 'delhi techie wins free food from swiggy for one year on cred'\n",
      " 'new zealand end rohit sharma led india match winning streak' ...\n",
      " 'the matrix film to get reboot reports'\n",
      " 'snoop dogg aims gun at clown dressed as trump in new video'\n",
      " 'madhesi morcha withdraws support to nepalese government']\n"
     ]
    }
   ],
   "source": [
    "start = time.time()\n",
    "\n",
    "def appendTexts(sentences, remove_stopwords):\n",
    "    texts = []\n",
    "    for s in sentences:\n",
    "        texts += preprocess_sentence(s, remove_stopwords),\n",
    "    return texts\n",
    "\n",
    "def preprocess_data(data, remove_stopwords=True):\n",
    "    start_time = time.time()\n",
    "    num_cores = mp.cpu_count()  # number of cores\n",
    "\n",
    "    text_data_split = np.array_split(data, num_cores)  # parallel processing (by splitting data)\n",
    "    pool = Pool(num_cores)\n",
    "\n",
    "    processed_data = np.concatenate(pool.map(partial(appendTexts, remove_stopwords=remove_stopwords), text_data_split))  # concatenate a sequence of arrays along an existing axis.\n",
    "    pool.close()\n",
    "    pool.join()\n",
    "    print(time.time() - start_time, \" seconds\")\n",
    "    return processed_data\n",
    "\n",
    "clean_text = preprocess_data(data['text'])\n",
    "print(clean_text)\n",
    "\n",
    "clean_summary = preprocess_data(data['headlines'], remove_stopwords=False)\n",
    "print(clean_summary)"
   ]
  },
  {
   "cell_type": "code",
   "execution_count": 16,
   "id": "7ad28dc8",
   "metadata": {},
   "outputs": [],
   "source": [
    "data['text'] = clean_text\n",
    "data['headlines'] = clean_summary\n",
    "\n",
    "data.replace('', np.nan, inplace=True)"
   ]
  },
  {
   "cell_type": "code",
   "execution_count": 17,
   "id": "e13f6a79",
   "metadata": {},
   "outputs": [
    {
     "data": {
      "text/plain": [
       "headlines    0\n",
       "text         0\n",
       "dtype: int64"
      ]
     },
     "execution_count": 17,
     "metadata": {},
     "output_type": "execute_result"
    }
   ],
   "source": [
    "data.isnull().sum()"
   ]
  },
  {
   "cell_type": "code",
   "execution_count": 18,
   "id": "18d3dc49",
   "metadata": {},
   "outputs": [
    {
     "name": "stdout",
     "output_type": "stream",
     "text": [
      "total number of samples: 98360\n"
     ]
    }
   ],
   "source": [
    "print('total number of samples:', (len(data)))"
   ]
  },
  {
   "cell_type": "markdown",
   "id": "2d63096f",
   "metadata": {},
   "source": [
    "#### Deciding the max length of input samples"
   ]
  },
  {
   "cell_type": "code",
   "execution_count": 19,
   "id": "90fcf3cb",
   "metadata": {},
   "outputs": [
    {
     "name": "stdout",
     "output_type": "stream",
     "text": [
      "text min length : 1\n",
      "text max length : 60\n",
      "text mean length : 35.61609394062627\n",
      "summary min length : 1\n",
      "summary max length : 16\n",
      "summary mean length : 9.299532330215534\n"
     ]
    },
    {
     "data": {
      "image/png": "[encoded data removed]",
      "text/plain": [
       "<Figure size 432x288 with 2 Axes>"
      ]
     },
     "metadata": {
      "needs_background": "light"
     },
     "output_type": "display_data"
    },
    {
     "data": {
      "image/png": "[encoded data removed]",
      "text/plain": [
       "<Figure size 432x288 with 1 Axes>"
      ]
     },
     "metadata": {
      "needs_background": "light"
     },
     "output_type": "display_data"
    },
    {
     "data": {
      "image/png": "[encoded data removed]",
      "text/plain": [
       "<Figure size 432x288 with 1 Axes>"
      ]
     },
     "metadata": {
      "needs_background": "light"
     },
     "output_type": "display_data"
    }
   ],
   "source": [
    "text_len = [len(s.split()) for s in data['text']]\n",
    "summary_len = [len(s.split()) for s in data['headlines']]\n",
    "\n",
    "print('text min length : {}'.format(np.min(text_len)))\n",
    "print('text max length : {}'.format(np.max(text_len)))\n",
    "print('text mean length : {}'.format(np.mean(text_len)))\n",
    "print('summary min length : {}'.format(np.min(summary_len)))\n",
    "print('summary max length : {}'.format(np.max(summary_len)))\n",
    "print('summary mean length : {}'.format(np.mean(summary_len)))\n",
    "\n",
    "plt.subplot(1,2,1)\n",
    "plt.boxplot(text_len)\n",
    "plt.title('Text')\n",
    "plt.subplot(1,2,2)\n",
    "plt.boxplot(summary_len)\n",
    "plt.title('Summary')\n",
    "plt.tight_layout()\n",
    "plt.show()\n",
    "\n",
    "plt.title('Text')\n",
    "plt.hist(text_len, bins = 40)\n",
    "plt.xlabel('length of samples')\n",
    "plt.ylabel('number of samples')\n",
    "plt.show()\n",
    "\n",
    "plt.title('Summary')\n",
    "plt.hist(summary_len, bins = 40)\n",
    "plt.xlabel('length of samples')\n",
    "plt.ylabel('number of samples')\n",
    "plt.show()"
   ]
  },
  {
   "cell_type": "code",
   "execution_count": 20,
   "id": "3c5136a7",
   "metadata": {},
   "outputs": [],
   "source": [
    "text_max_len = 40\n",
    "summary_max_len = 11"
   ]
  },
  {
   "cell_type": "code",
   "execution_count": 21,
   "id": "fb3f11e9",
   "metadata": {
    "scrolled": true
   },
   "outputs": [
    {
     "name": "stdout",
     "output_type": "stream",
     "text": [
      "=3\n"
     ]
    }
   ],
   "source": [
    "def below_threshold_len(max_len, nested_list):\n",
    "  cnt = 0\n",
    "  for s in nested_list:\n",
    "    if(len(s.split()) <= max_len):\n",
    "        cnt = cnt + 1\n",
    "  print('length of samples that are shorter than %s: %s'%(max_len, (cnt / len(nested_list))))\n",
    "print('=3')"
   ]
  },
  {
   "cell_type": "code",
   "execution_count": 22,
   "id": "2206a9c2",
   "metadata": {},
   "outputs": [
    {
     "name": "stdout",
     "output_type": "stream",
     "text": [
      "length of samples that are shorter than 40: 0.9070963806425376\n",
      "length of samples that are shorter than 11: 0.9449877999186661\n"
     ]
    }
   ],
   "source": [
    "below_threshold_len(text_max_len, data['text'])\n",
    "below_threshold_len(summary_max_len,  data['headlines'])"
   ]
  },
  {
   "cell_type": "code",
   "execution_count": 23,
   "id": "7e2b521c",
   "metadata": {},
   "outputs": [
    {
     "name": "stdout",
     "output_type": "stream",
     "text": [
      "total number of samples : 84303\n"
     ]
    }
   ],
   "source": [
    "data = data[data['text'].apply(lambda x: len(x.split()) <= text_max_len)]\n",
    "data = data[data['headlines'].apply(lambda x: len(x.split()) <= summary_max_len)]\n",
    "print('total number of samples :', (len(data)))"
   ]
  },
  {
   "cell_type": "markdown",
   "id": "1a3e666c",
   "metadata": {},
   "source": [
    "#### Adding tokens"
   ]
  },
  {
   "cell_type": "code",
   "execution_count": 24,
   "id": "d4cbd4e0",
   "metadata": {},
   "outputs": [
    {
     "data": {
      "text/html": [
       "<div>\n",
       "<style scoped>\n",
       "    .dataframe tbody tr th:only-of-type {\n",
       "        vertical-align: middle;\n",
       "    }\n",
       "\n",
       "    .dataframe tbody tr th {\n",
       "        vertical-align: top;\n",
       "    }\n",
       "\n",
       "    .dataframe thead th {\n",
       "        text-align: right;\n",
       "    }\n",
       "</style>\n",
       "<table border=\"1\" class=\"dataframe\">\n",
       "  <thead>\n",
       "    <tr style=\"text-align: right;\">\n",
       "      <th></th>\n",
       "      <th>headlines</th>\n",
       "      <th>text</th>\n",
       "      <th>decoder_input</th>\n",
       "      <th>decoder_target</th>\n",
       "    </tr>\n",
       "  </thead>\n",
       "  <tbody>\n",
       "    <tr>\n",
       "      <th>0</th>\n",
       "      <td>upgrad learner switches to career in ml al wit...</td>\n",
       "      <td>saurav kant alumnus upgrad iiit pg program mac...</td>\n",
       "      <td>sostoken upgrad learner switches to career in ...</td>\n",
       "      <td>upgrad learner switches to career in ml al wit...</td>\n",
       "    </tr>\n",
       "    <tr>\n",
       "      <th>2</th>\n",
       "      <td>new zealand end rohit sharma led india match w...</td>\n",
       "      <td>new zealand defeated india wickets fourth odi ...</td>\n",
       "      <td>sostoken new zealand end rohit sharma led indi...</td>\n",
       "      <td>new zealand end rohit sharma led india match w...</td>\n",
       "    </tr>\n",
       "    <tr>\n",
       "      <th>3</th>\n",
       "      <td>aegon life iterm insurance plan helps customer...</td>\n",
       "      <td>aegon life iterm insurance plan customers enjo...</td>\n",
       "      <td>sostoken aegon life iterm insurance plan helps...</td>\n",
       "      <td>aegon life iterm insurance plan helps customer...</td>\n",
       "    </tr>\n",
       "    <tr>\n",
       "      <th>5</th>\n",
       "      <td>rahat fateh ali khan denies getting notice for...</td>\n",
       "      <td>pakistani singer rahat fateh ali khan denied r...</td>\n",
       "      <td>sostoken rahat fateh ali khan denies getting n...</td>\n",
       "      <td>rahat fateh ali khan denies getting notice for...</td>\n",
       "    </tr>\n",
       "    <tr>\n",
       "      <th>7</th>\n",
       "      <td>govt directs alok verma to join work day befor...</td>\n",
       "      <td>weeks ex cbi director alok verma told departme...</td>\n",
       "      <td>sostoken govt directs alok verma to join work ...</td>\n",
       "      <td>govt directs alok verma to join work day befor...</td>\n",
       "    </tr>\n",
       "  </tbody>\n",
       "</table>\n",
       "</div>"
      ],
      "text/plain": [
       "                                           headlines  \\\n",
       "0  upgrad learner switches to career in ml al wit...   \n",
       "2  new zealand end rohit sharma led india match w...   \n",
       "3  aegon life iterm insurance plan helps customer...   \n",
       "5  rahat fateh ali khan denies getting notice for...   \n",
       "7  govt directs alok verma to join work day befor...   \n",
       "\n",
       "                                                text  \\\n",
       "0  saurav kant alumnus upgrad iiit pg program mac...   \n",
       "2  new zealand defeated india wickets fourth odi ...   \n",
       "3  aegon life iterm insurance plan customers enjo...   \n",
       "5  pakistani singer rahat fateh ali khan denied r...   \n",
       "7  weeks ex cbi director alok verma told departme...   \n",
       "\n",
       "                                       decoder_input  \\\n",
       "0  sostoken upgrad learner switches to career in ...   \n",
       "2  sostoken new zealand end rohit sharma led indi...   \n",
       "3  sostoken aegon life iterm insurance plan helps...   \n",
       "5  sostoken rahat fateh ali khan denies getting n...   \n",
       "7  sostoken govt directs alok verma to join work ...   \n",
       "\n",
       "                                      decoder_target  \n",
       "0  upgrad learner switches to career in ml al wit...  \n",
       "2  new zealand end rohit sharma led india match w...  \n",
       "3  aegon life iterm insurance plan helps customer...  \n",
       "5  rahat fateh ali khan denies getting notice for...  \n",
       "7  govt directs alok verma to join work day befor...  "
      ]
     },
     "execution_count": 24,
     "metadata": {},
     "output_type": "execute_result"
    }
   ],
   "source": [
    "data['decoder_input'] = data['headlines'].apply(lambda x : 'sostoken '+ x)\n",
    "data['decoder_target'] = data['headlines'].apply(lambda x : x + ' eostoken')\n",
    "data.head()"
   ]
  },
  {
   "cell_type": "code",
   "execution_count": 25,
   "id": "8c43bb24",
   "metadata": {},
   "outputs": [],
   "source": [
    "encoder_input = np.array(data['text'])\n",
    "decoder_input = np.array(data['decoder_input'])\n",
    "decoder_target = np.array(data['decoder_target'])"
   ]
  },
  {
   "cell_type": "markdown",
   "id": "5bd00c8d",
   "metadata": {},
   "source": [
    "#### Splitting data"
   ]
  },
  {
   "cell_type": "code",
   "execution_count": 26,
   "id": "35c02d0d",
   "metadata": {
    "scrolled": true
   },
   "outputs": [
    {
     "name": "stdout",
     "output_type": "stream",
     "text": [
      "[65963   948 21137 ... 44643 84281 28680]\n"
     ]
    }
   ],
   "source": [
    "indices = np.arange(encoder_input.shape[0])\n",
    "np.random.shuffle(indices)\n",
    "print(indices)"
   ]
  },
  {
   "cell_type": "code",
   "execution_count": 27,
   "id": "0cda35ba",
   "metadata": {},
   "outputs": [
    {
     "name": "stdout",
     "output_type": "stream",
     "text": [
      "number of test data : 16860\n"
     ]
    }
   ],
   "source": [
    "encoder_input = encoder_input[indices]\n",
    "decoder_input = decoder_input[indices]\n",
    "decoder_target = decoder_target[indices]\n",
    "\n",
    "n_of_val = int(len(encoder_input)*0.2)\n",
    "print('number of test data :', n_of_val)"
   ]
  },
  {
   "cell_type": "code",
   "execution_count": 28,
   "id": "8ee0bb1a",
   "metadata": {},
   "outputs": [
    {
     "name": "stdout",
     "output_type": "stream",
     "text": [
      "# of train data : 67443\n",
      "# of train label : 67443\n",
      "# of test data : 16860\n",
      "# of test label : 16860\n"
     ]
    }
   ],
   "source": [
    "encoder_input_train = encoder_input[:-n_of_val]\n",
    "decoder_input_train = decoder_input[:-n_of_val]\n",
    "decoder_target_train = decoder_target[:-n_of_val]\n",
    "\n",
    "encoder_input_test = encoder_input[-n_of_val:]\n",
    "decoder_input_test = decoder_input[-n_of_val:]\n",
    "decoder_target_test = decoder_target[-n_of_val:]\n",
    "\n",
    "print('# of train data :', len(encoder_input_train))\n",
    "print('# of train label :', len(decoder_input_train))\n",
    "print('# of test data :', len(encoder_input_test))\n",
    "print('# of test label :', len(decoder_input_test))"
   ]
  },
  {
   "cell_type": "markdown",
   "id": "5b8d6760",
   "metadata": {},
   "source": [
    "### Encoding"
   ]
  },
  {
   "cell_type": "code",
   "execution_count": 29,
   "id": "155c3489",
   "metadata": {},
   "outputs": [],
   "source": [
    "src_tokenizer = Tokenizer()\n",
    "src_tokenizer.fit_on_texts(encoder_input_train)"
   ]
  },
  {
   "cell_type": "code",
   "execution_count": 33,
   "id": "3a113026",
   "metadata": {},
   "outputs": [
    {
     "name": "stdout",
     "output_type": "stream",
     "text": [
      "the size of vocabulary : 64129\n",
      "number of words that appear less than 7 times: 45137\n",
      "adjusted size of vocabulary after removing rare words: 18992\n",
      "percentage of rare words in vocabulary: 70.38469335246145\n",
      "percentage of rare words frequency in total frequency: 4.175860072161427\n"
     ]
    }
   ],
   "source": [
    "threshold = 8\n",
    "total_cnt = len(src_tokenizer.word_index) # number of words\n",
    "rare_cnt = 0 # number of words that appear less than the threshold\n",
    "total_freq = 0 # total of words frequency in train data\n",
    "rare_freq = 0 # the frequency of words that appear less than the threshold\n",
    "\n",
    "# words and frequency in key-value pairs\n",
    "for key, value in src_tokenizer.word_counts.items():\n",
    "    total_freq = total_freq + value\n",
    "\n",
    "    # if the word's frequency is less than the threshold\n",
    "    if(value < threshold):\n",
    "        rare_cnt = rare_cnt + 1\n",
    "        rare_freq = rare_freq + value\n",
    "\n",
    "print('the size of vocabulary :', total_cnt)\n",
    "print('number of words that appear less than %s times: %s'%(threshold - 1, rare_cnt))\n",
    "print('adjusted size of vocabulary after removing rare words: %s'%(total_cnt - rare_cnt))\n",
    "print(\"percentage of rare words in vocabulary:\", (rare_cnt / total_cnt)*100)\n",
    "print(\"percentage of rare words frequency in total frequency:\", (rare_freq / total_freq)*100)"
   ]
  },
  {
   "cell_type": "code",
   "execution_count": 35,
   "id": "52af09f3",
   "metadata": {},
   "outputs": [],
   "source": [
    "src_vocab = 18000 # adjusted size of vocabs after removing rare words\n",
    "src_tokenizer = Tokenizer(num_words=src_vocab) \n",
    "src_tokenizer.fit_on_texts(encoder_input_train) # recreating vocabulary"
   ]
  },
  {
   "cell_type": "code",
   "execution_count": 36,
   "id": "9cf6846f",
   "metadata": {
    "scrolled": true
   },
   "outputs": [
    {
     "name": "stdout",
     "output_type": "stream",
     "text": [
      "[[34, 252, 117, 2872, 360, 2361, 364, 440, 24, 118, 773, 1084, 124, 433, 1348, 2447, 1795, 334, 15226, 13471, 252, 11373, 2352, 85, 1084, 11, 102, 624], [1577, 1050, 704, 7935, 1, 1122, 41, 2, 3420, 390, 64, 5, 701, 43, 670, 522, 1139, 7080, 382, 498, 701, 3420, 1050, 1, 6393, 2779, 59, 1391, 1050, 3695, 1105], [2230, 12983, 516, 216, 282, 19, 127, 404, 516, 334, 7936, 39, 7936, 104, 1543, 3182, 496, 301, 1161, 997, 9946, 2477, 2, 592, 1363]]\n"
     ]
    }
   ],
   "source": [
    "# texts to sequences(numbers)\n",
    "encoder_input_train = src_tokenizer.texts_to_sequences(encoder_input_train) \n",
    "encoder_input_test = src_tokenizer.texts_to_sequences(encoder_input_test)\n",
    "\n",
    "print(encoder_input_train[:3])"
   ]
  },
  {
   "cell_type": "markdown",
   "id": "f8d4a4d1",
   "metadata": {},
   "source": [
    "do the same for the 'Summary'"
   ]
  },
  {
   "cell_type": "code",
   "execution_count": 37,
   "id": "fda61236",
   "metadata": {},
   "outputs": [],
   "source": [
    "tar_tokenizer = Tokenizer()\n",
    "tar_tokenizer.fit_on_texts(decoder_input_train)"
   ]
  },
  {
   "cell_type": "code",
   "execution_count": 38,
   "id": "73f3eabd",
   "metadata": {},
   "outputs": [
    {
     "name": "stdout",
     "output_type": "stream",
     "text": [
      "the size of vocabulary : 28268\n",
      "number of words that appear less than 5 times: 18610\n",
      "adjusted size of vocabulary after removing rare words: 9658\n",
      "percentage of rare words in vocabulary: 65.83415876609594\n",
      "percentage of rare words frequency in total frequency: 5.217782453446409\n"
     ]
    }
   ],
   "source": [
    "threshold = 6\n",
    "total_cnt = len(tar_tokenizer.word_index)\n",
    "rare_cnt = 0 \n",
    "total_freq = 0 \n",
    "rare_freq = 0 \n",
    "\n",
    "for key, value in tar_tokenizer.word_counts.items():\n",
    "    total_freq = total_freq + value\n",
    "\n",
    "    if(value < threshold):\n",
    "        rare_cnt = rare_cnt + 1\n",
    "        rare_freq = rare_freq + value\n",
    "\n",
    "        \n",
    "print('the size of vocabulary :', total_cnt)\n",
    "print('number of words that appear less than %s times: %s'%(threshold - 1, rare_cnt))\n",
    "print('adjusted size of vocabulary after removing rare words: %s'%(total_cnt - rare_cnt))\n",
    "print(\"percentage of rare words in vocabulary:\", (rare_cnt / total_cnt)*100)\n",
    "print(\"percentage of rare words frequency in total frequency:\", (rare_freq / total_freq)*100)"
   ]
  },
  {
   "cell_type": "code",
   "execution_count": 39,
   "id": "d3e42ff6",
   "metadata": {},
   "outputs": [
    {
     "name": "stdout",
     "output_type": "stream",
     "text": [
      "input\n",
      "input  [[1, 36, 28, 219, 1185, 3, 828, 1228], [1, 921, 8, 33, 14, 7, 3444, 377, 989, 470, 116], [1, 5083, 737, 132, 385, 136, 5, 699, 8, 4864], [1, 1662, 2498, 5, 3936, 206], [1, 92, 244, 1066, 2550, 138, 8791, 8, 3004, 131, 5897]]\n",
      "target\n",
      "decoder  [[36, 28, 219, 1185, 3, 828, 1228, 2], [921, 8, 33, 14, 7, 3444, 377, 989, 470, 116, 2], [5083, 737, 132, 385, 136, 5, 699, 8, 4864, 2], [1662, 2498, 5, 3936, 206, 2], [92, 244, 1066, 2550, 138, 8791, 8, 3004, 131, 5897, 2]]\n"
     ]
    }
   ],
   "source": [
    "tar_vocab = 9000\n",
    "tar_tokenizer = Tokenizer(num_words=tar_vocab) \n",
    "tar_tokenizer.fit_on_texts(decoder_input_train)\n",
    "tar_tokenizer.fit_on_texts(decoder_target_train)\n",
    "\n",
    "# texts to sequences\n",
    "decoder_input_train = tar_tokenizer.texts_to_sequences(decoder_input_train) \n",
    "decoder_target_train = tar_tokenizer.texts_to_sequences(decoder_target_train)\n",
    "decoder_input_test = tar_tokenizer.texts_to_sequences(decoder_input_test)\n",
    "decoder_target_test = tar_tokenizer.texts_to_sequences(decoder_target_test)\n",
    "\n",
    "print('input')\n",
    "print('input ',decoder_input_train[:5])\n",
    "print('target')\n",
    "print('decoder ',decoder_target_train[:5])"
   ]
  },
  {
   "cell_type": "markdown",
   "id": "0959eff9",
   "metadata": {},
   "source": [
    "sostoken is converted to 1, eostoken to 2"
   ]
  },
  {
   "cell_type": "code",
   "execution_count": 40,
   "id": "f9e77f8d",
   "metadata": {},
   "outputs": [
    {
     "name": "stdout",
     "output_type": "stream",
     "text": [
      "# of dropped train data : 0\n",
      "# of dropped test data : 1\n",
      "# of train data : 67443\n",
      "# of train label : 67443\n",
      "# of test data : 16859\n",
      "# of test label : 16859\n"
     ]
    }
   ],
   "source": [
    "drop_train = [index for index, sentence in enumerate(decoder_input_train) if len(sentence) == 1]\n",
    "drop_test = [index for index, sentence in enumerate(decoder_input_test) if len(sentence) == 1]\n",
    "\n",
    "print('# of dropped train data :', len(drop_train))\n",
    "print('# of dropped test data :', len(drop_test))\n",
    "\n",
    "encoder_input_train = [sentence for index, sentence in enumerate(encoder_input_train) if index not in drop_train]\n",
    "decoder_input_train = [sentence for index, sentence in enumerate(decoder_input_train) if index not in drop_train]\n",
    "decoder_target_train = [sentence for index, sentence in enumerate(decoder_target_train) if index not in drop_train]\n",
    "\n",
    "encoder_input_test = [sentence for index, sentence in enumerate(encoder_input_test) if index not in drop_test]\n",
    "decoder_input_test = [sentence for index, sentence in enumerate(decoder_input_test) if index not in drop_test]\n",
    "decoder_target_test = [sentence for index, sentence in enumerate(decoder_target_test) if index not in drop_test]\n",
    "\n",
    "print('# of train data :', len(encoder_input_train))\n",
    "print('# of train label :', len(decoder_input_train))\n",
    "print('# of test data :', len(encoder_input_test))\n",
    "print('# of test label :', len(decoder_input_test))"
   ]
  },
  {
   "cell_type": "markdown",
   "id": "ea6d2772",
   "metadata": {},
   "source": [
    "### Padding"
   ]
  },
  {
   "cell_type": "code",
   "execution_count": 41,
   "id": "14eee9b0",
   "metadata": {},
   "outputs": [
    {
     "name": "stdout",
     "output_type": "stream",
     "text": [
      "done\n"
     ]
    }
   ],
   "source": [
    "encoder_input_train = pad_sequences(encoder_input_train, maxlen=text_max_len, padding='post')\n",
    "encoder_input_test = pad_sequences(encoder_input_test, maxlen=text_max_len, padding='post')\n",
    "decoder_input_train = pad_sequences(decoder_input_train, maxlen=summary_max_len, padding='post')\n",
    "decoder_target_train = pad_sequences(decoder_target_train, maxlen=summary_max_len, padding='post')\n",
    "decoder_input_test = pad_sequences(decoder_input_test, maxlen=summary_max_len, padding='post')\n",
    "decoder_target_test = pad_sequences(decoder_target_test, maxlen=summary_max_len, padding='post')\n",
    "print('done')"
   ]
  },
  {
   "cell_type": "markdown",
   "id": "a2527ec6",
   "metadata": {},
   "source": [
    "## Model"
   ]
  },
  {
   "cell_type": "code",
   "execution_count": 43,
   "id": "d2a2d3ff",
   "metadata": {},
   "outputs": [
    {
     "name": "stdout",
     "output_type": "stream",
     "text": [
      "WARNING:tensorflow:Layer lstm will not use cuDNN kernels since it doesn't meet the criteria. It will use a generic GPU kernel as fallback when running on GPU.\n",
      "WARNING:tensorflow:Layer lstm_1 will not use cuDNN kernels since it doesn't meet the criteria. It will use a generic GPU kernel as fallback when running on GPU.\n",
      "WARNING:tensorflow:Layer lstm_2 will not use cuDNN kernels since it doesn't meet the criteria. It will use a generic GPU kernel as fallback when running on GPU.\n"
     ]
    }
   ],
   "source": [
    "# Encoder\n",
    "embedding_dim = 128\n",
    "hidden_size = 256\n",
    "\n",
    "encoder_inputs = Input(shape=(text_max_len,))\n",
    "\n",
    "# embedding layer\n",
    "enc_emb = Embedding(src_vocab, embedding_dim)(encoder_inputs)\n",
    "\n",
    "# LSTM 1\n",
    "encoder_lstm1 = LSTM(hidden_size, return_sequences=True, return_state=True ,dropout = 0.4, recurrent_dropout = 0.4)\n",
    "encoder_output1, state_h1, state_c1 = encoder_lstm1(enc_emb)\n",
    "\n",
    "# LSTM 2\n",
    "encoder_lstm2 = LSTM(hidden_size, return_sequences=True, return_state=True, dropout=0.4, recurrent_dropout=0.4)\n",
    "encoder_output2, state_h2, state_c2 = encoder_lstm2(encoder_output1)\n",
    "\n",
    "# LSTM 3\n",
    "encoder_lstm3 = LSTM(hidden_size, return_state=True, return_sequences=True, dropout=0.4, recurrent_dropout=0.4)\n",
    "encoder_outputs, state_h, state_c= encoder_lstm3(encoder_output2)"
   ]
  },
  {
   "cell_type": "code",
   "execution_count": 44,
   "id": "476b2119",
   "metadata": {},
   "outputs": [
    {
     "name": "stdout",
     "output_type": "stream",
     "text": [
      "WARNING:tensorflow:Layer lstm_3 will not use cuDNN kernels since it doesn't meet the criteria. It will use a generic GPU kernel as fallback when running on GPU.\n"
     ]
    }
   ],
   "source": [
    "# Decoder\n",
    "decoder_inputs = Input(shape=(None,))\n",
    "\n",
    "# embedding layer\n",
    "dec_emb_layer = Embedding(tar_vocab, embedding_dim)\n",
    "dec_emb = dec_emb_layer(decoder_inputs)\n",
    "\n",
    "# LSTM\n",
    "decoder_lstm = LSTM(hidden_size, return_sequences=True, return_state=True, dropout=0.4, recurrent_dropout=0.2)\n",
    "decoder_outputs, _, _ = decoder_lstm(dec_emb, initial_state=[state_h, state_c])"
   ]
  },
  {
   "cell_type": "code",
   "execution_count": 45,
   "id": "378682f6",
   "metadata": {},
   "outputs": [
    {
     "name": "stdout",
     "output_type": "stream",
     "text": [
      "Model: \"model\"\n",
      "__________________________________________________________________________________________________\n",
      "Layer (type)                    Output Shape         Param #     Connected to                     \n",
      "==================================================================================================\n",
      "input_1 (InputLayer)            [(None, 40)]         0                                            \n",
      "__________________________________________________________________________________________________\n",
      "embedding (Embedding)           (None, 40, 128)      2304000     input_1[0][0]                    \n",
      "__________________________________________________________________________________________________\n",
      "lstm (LSTM)                     [(None, 40, 256), (N 394240      embedding[0][0]                  \n",
      "__________________________________________________________________________________________________\n",
      "input_2 (InputLayer)            [(None, None)]       0                                            \n",
      "__________________________________________________________________________________________________\n",
      "lstm_1 (LSTM)                   [(None, 40, 256), (N 525312      lstm[0][0]                       \n",
      "__________________________________________________________________________________________________\n",
      "embedding_1 (Embedding)         (None, None, 128)    1152000     input_2[0][0]                    \n",
      "__________________________________________________________________________________________________\n",
      "lstm_2 (LSTM)                   [(None, 40, 256), (N 525312      lstm_1[0][0]                     \n",
      "__________________________________________________________________________________________________\n",
      "lstm_3 (LSTM)                   [(None, None, 256),  394240      embedding_1[0][0]                \n",
      "                                                                 lstm_2[0][1]                     \n",
      "                                                                 lstm_2[0][2]                     \n",
      "__________________________________________________________________________________________________\n",
      "dense (Dense)                   (None, None, 9000)   2313000     lstm_3[0][0]                     \n",
      "==================================================================================================\n",
      "Total params: 7,608,104\n",
      "Trainable params: 7,608,104\n",
      "Non-trainable params: 0\n",
      "__________________________________________________________________________________________________\n"
     ]
    }
   ],
   "source": [
    "# decoder output layer\n",
    "decoder_softmax_layer = Dense(tar_vocab, activation='softmax')\n",
    "decoder_softmax_outputs = decoder_softmax_layer(decoder_outputs) \n",
    "\n",
    "# model summary\n",
    "model = Model([encoder_inputs, decoder_inputs], decoder_softmax_outputs)\n",
    "model.summary()"
   ]
  },
  {
   "cell_type": "markdown",
   "id": "e001761e",
   "metadata": {},
   "source": [
    "### Attention mechanism"
   ]
  },
  {
   "cell_type": "code",
   "execution_count": 48,
   "id": "3729277b",
   "metadata": {},
   "outputs": [
    {
     "name": "stdout",
     "output_type": "stream",
     "text": [
      "Model: \"model_2\"\n",
      "__________________________________________________________________________________________________\n",
      "Layer (type)                    Output Shape         Param #     Connected to                     \n",
      "==================================================================================================\n",
      "input_1 (InputLayer)            [(None, 40)]         0                                            \n",
      "__________________________________________________________________________________________________\n",
      "embedding (Embedding)           (None, 40, 128)      2304000     input_1[0][0]                    \n",
      "__________________________________________________________________________________________________\n",
      "lstm (LSTM)                     [(None, 40, 256), (N 394240      embedding[0][0]                  \n",
      "__________________________________________________________________________________________________\n",
      "input_2 (InputLayer)            [(None, None)]       0                                            \n",
      "__________________________________________________________________________________________________\n",
      "lstm_1 (LSTM)                   [(None, 40, 256), (N 525312      lstm[0][0]                       \n",
      "__________________________________________________________________________________________________\n",
      "embedding_1 (Embedding)         (None, None, 128)    1152000     input_2[0][0]                    \n",
      "__________________________________________________________________________________________________\n",
      "lstm_2 (LSTM)                   [(None, 40, 256), (N 525312      lstm_1[0][0]                     \n",
      "__________________________________________________________________________________________________\n",
      "lstm_3 (LSTM)                   [(None, None, 256),  394240      embedding_1[0][0]                \n",
      "                                                                 lstm_2[0][1]                     \n",
      "                                                                 lstm_2[0][2]                     \n",
      "__________________________________________________________________________________________________\n",
      "attention_layer (AdditiveAttent (None, None, 256)    256         lstm_3[0][0]                     \n",
      "                                                                 lstm_2[0][0]                     \n",
      "__________________________________________________________________________________________________\n",
      "concat_layer (Concatenate)      (None, None, 512)    0           lstm_3[0][0]                     \n",
      "                                                                 attention_layer[0][0]            \n",
      "__________________________________________________________________________________________________\n",
      "dense_2 (Dense)                 (None, None, 9000)   4617000     concat_layer[0][0]               \n",
      "==================================================================================================\n",
      "Total params: 9,912,360\n",
      "Trainable params: 9,912,360\n",
      "Non-trainable params: 0\n",
      "__________________________________________________________________________________________________\n"
     ]
    }
   ],
   "source": [
    "# attention layer\n",
    "attn_layer = AdditiveAttention(name='attention_layer')\n",
    "\n",
    "# deliver all the hidden state of decorder and encoder to the attention layer and return\n",
    "attn_out = attn_layer([decoder_outputs, encoder_outputs])\n",
    "\n",
    "# connecting attention output with hidden state of decorder\n",
    "decoder_concat_input = Concatenate(axis=-1, name='concat_layer')([decoder_outputs, attn_out])\n",
    "\n",
    "# decorder output\n",
    "decoder_softmax_layer = Dense(tar_vocab, activation='softmax')\n",
    "decoder_softmax_outputs = decoder_softmax_layer(decoder_concat_input)\n",
    "\n",
    "# model summary\n",
    "model = Model([encoder_inputs, decoder_inputs], decoder_softmax_outputs)\n",
    "model.summary()"
   ]
  },
  {
   "cell_type": "markdown",
   "id": "902d128f",
   "metadata": {},
   "source": [
    "## Compile and Fit"
   ]
  },
  {
   "cell_type": "markdown",
   "id": "29809434",
   "metadata": {},
   "source": [
    "#### RMSprop\n",
    "Using a decaying moving average of the partial derivative allows the search to forget early partial derivative values and focus on the most recently seen shape of the search space.\n",
    "\n",
    "[RMSprop vs Adam](https://medium.com/analytics-vidhya/a-complete-guide-to-adam-and-rmsprop-optimizer-75f4502d83be)\n",
    ">Simply put, RMSprop uses an adaptive learning rate instead of treating the learning rate as a hyperparameter.<br/>\n",
    "This means that the learning rate changes over time."
   ]
  },
  {
   "cell_type": "code",
   "execution_count": 49,
   "id": "a098c9d7",
   "metadata": {},
   "outputs": [
    {
     "name": "stdout",
     "output_type": "stream",
     "text": [
      "Epoch 1/50\n",
      "264/264 [==============================] - 157s 560ms/step - loss: 5.9451 - val_loss: 5.5321\n",
      "Epoch 2/50\n",
      "264/264 [==============================] - 148s 561ms/step - loss: 5.3825 - val_loss: 5.1581\n",
      "Epoch 3/50\n",
      "264/264 [==============================] - 150s 567ms/step - loss: 5.0431 - val_loss: 4.8986\n",
      "Epoch 4/50\n",
      "264/264 [==============================] - 147s 559ms/step - loss: 4.7651 - val_loss: 4.6937\n",
      "Epoch 5/50\n",
      "264/264 [==============================] - 146s 552ms/step - loss: 4.5469 - val_loss: 4.5402\n",
      "Epoch 6/50\n",
      "264/264 [==============================] - 145s 550ms/step - loss: 4.3691 - val_loss: 4.4162\n",
      "Epoch 7/50\n",
      "264/264 [==============================] - 146s 555ms/step - loss: 4.2112 - val_loss: 4.3205\n",
      "Epoch 8/50\n",
      "264/264 [==============================] - 145s 550ms/step - loss: 4.0720 - val_loss: 4.2305\n",
      "Epoch 9/50\n",
      "264/264 [==============================] - 146s 552ms/step - loss: 3.9502 - val_loss: 4.1819\n",
      "Epoch 10/50\n",
      "264/264 [==============================] - 146s 552ms/step - loss: 3.8413 - val_loss: 4.1221\n",
      "Epoch 11/50\n",
      "264/264 [==============================] - 145s 550ms/step - loss: 3.7437 - val_loss: 4.0745\n",
      "Epoch 12/50\n",
      "264/264 [==============================] - 145s 549ms/step - loss: 3.6537 - val_loss: 4.0447\n",
      "Epoch 13/50\n",
      "264/264 [==============================] - 145s 550ms/step - loss: 3.5708 - val_loss: 4.0110\n",
      "Epoch 14/50\n",
      "264/264 [==============================] - 144s 547ms/step - loss: 3.4962 - val_loss: 3.9963\n",
      "Epoch 15/50\n",
      "264/264 [==============================] - 145s 549ms/step - loss: 3.4295 - val_loss: 3.9603\n",
      "Epoch 16/50\n",
      "264/264 [==============================] - 145s 548ms/step - loss: 3.3621 - val_loss: 3.9404\n",
      "Epoch 17/50\n",
      "264/264 [==============================] - 144s 546ms/step - loss: 3.3035 - val_loss: 3.9240\n",
      "Epoch 18/50\n",
      "264/264 [==============================] - 145s 550ms/step - loss: 3.2457 - val_loss: 3.9229\n",
      "Epoch 19/50\n",
      "264/264 [==============================] - 144s 546ms/step - loss: 3.1934 - val_loss: 3.9097\n",
      "Epoch 20/50\n",
      "264/264 [==============================] - 145s 550ms/step - loss: 3.1419 - val_loss: 3.8989\n",
      "Epoch 21/50\n",
      "264/264 [==============================] - 145s 548ms/step - loss: 3.0958 - val_loss: 3.8979\n",
      "Epoch 22/50\n",
      "264/264 [==============================] - 145s 548ms/step - loss: 3.0530 - val_loss: 3.8873\n",
      "Epoch 23/50\n",
      "264/264 [==============================] - 146s 555ms/step - loss: 3.0099 - val_loss: 3.8860\n",
      "Epoch 24/50\n",
      "264/264 [==============================] - 144s 546ms/step - loss: 2.9685 - val_loss: 3.8809\n",
      "Epoch 25/50\n",
      "264/264 [==============================] - 144s 545ms/step - loss: 2.9295 - val_loss: 3.8858\n",
      "Epoch 26/50\n",
      "264/264 [==============================] - 144s 547ms/step - loss: 2.8945 - val_loss: 3.8736\n",
      "Epoch 27/50\n",
      "264/264 [==============================] - 144s 545ms/step - loss: 2.8595 - val_loss: 3.8781\n",
      "Epoch 28/50\n",
      "264/264 [==============================] - 144s 547ms/step - loss: 2.8278 - val_loss: 3.8787\n",
      "Epoch 00028: early stopping\n"
     ]
    }
   ],
   "source": [
    "model.compile(optimizer='rmsprop', loss='sparse_categorical_crossentropy')\n",
    "es = EarlyStopping(monitor='val_loss', patience=2, verbose=1)\n",
    "history = model.fit(x=[encoder_input_train, decoder_input_train], y=decoder_target_train, \\\n",
    "          validation_data=([encoder_input_test, decoder_input_test], decoder_target_test), \\\n",
    "          batch_size=256, callbacks=[es], epochs=50)"
   ]
  },
  {
   "cell_type": "code",
   "execution_count": 50,
   "id": "228bf94c",
   "metadata": {},
   "outputs": [
    {
     "data": {
      "image/png": "[encoded data removed]",
      "text/plain": [
       "<Figure size 432x288 with 1 Axes>"
      ]
     },
     "metadata": {
      "needs_background": "light"
     },
     "output_type": "display_data"
    }
   ],
   "source": [
    "plt.plot(history.history['loss'], label='train')\n",
    "plt.plot(history.history['val_loss'], label='test')\n",
    "plt.legend()\n",
    "plt.show()"
   ]
  },
  {
   "cell_type": "markdown",
   "id": "40c6a523",
   "metadata": {},
   "source": [
    "## Inference model"
   ]
  },
  {
   "cell_type": "code",
   "execution_count": 51,
   "id": "3f259bd0",
   "metadata": {},
   "outputs": [],
   "source": [
    "src_index_to_word = src_tokenizer.index_word \n",
    "tar_word_to_index = tar_tokenizer.word_index\n",
    "tar_index_to_word = tar_tokenizer.index_word "
   ]
  },
  {
   "cell_type": "code",
   "execution_count": 52,
   "id": "839365d6",
   "metadata": {},
   "outputs": [],
   "source": [
    "# Encoder\n",
    "encoder_model = Model(inputs=encoder_inputs, outputs=[encoder_outputs, state_h, state_c])\n",
    "\n",
    "decoder_state_input_h = Input(shape=(hidden_size,))\n",
    "decoder_state_input_c = Input(shape=(hidden_size,))\n",
    "\n",
    "dec_emb2 = dec_emb_layer(decoder_inputs)\n",
    "\n",
    "decoder_outputs2, state_h2, state_c2 = decoder_lstm(dec_emb2, initial_state=[decoder_state_input_h, decoder_state_input_c])"
   ]
  },
  {
   "cell_type": "code",
   "execution_count": 53,
   "id": "4605784e",
   "metadata": {},
   "outputs": [],
   "source": [
    "# attention function\n",
    "decoder_hidden_state_input = Input(shape=(text_max_len, hidden_size))\n",
    "attn_out_inf = attn_layer([decoder_outputs2, decoder_hidden_state_input])\n",
    "decoder_inf_concat = Concatenate(axis=-1, name='concat')([decoder_outputs2, attn_out_inf])\n",
    "\n",
    "# decoder output\n",
    "decoder_outputs2 = decoder_softmax_layer(decoder_inf_concat) \n",
    "\n",
    "# final decoder model\n",
    "decoder_model = Model(\n",
    "    [decoder_inputs] + [decoder_hidden_state_input,decoder_state_input_h, decoder_state_input_c],\n",
    "    [decoder_outputs2] + [state_h2, state_c2])"
   ]
  },
  {
   "cell_type": "code",
   "execution_count": 54,
   "id": "2ad41d0a",
   "metadata": {},
   "outputs": [],
   "source": [
    "def decode_sequence(input_seq):\n",
    "    e_out, e_h, e_c = encoder_model.predict(input_seq)\n",
    "\n",
    "     # <SOS> token\n",
    "    target_seq = np.zeros((1,1))\n",
    "    target_seq[0, 0] = tar_word_to_index['sostoken']\n",
    "\n",
    "    stop_condition = False\n",
    "    decoded_sentence = ''\n",
    "    while not stop_condition:\n",
    "\n",
    "        output_tokens, h, c = decoder_model.predict([target_seq] + [e_out, e_h, e_c])\n",
    "        sampled_token_index = np.argmax(output_tokens[0, -1, :])\n",
    "        sampled_token = tar_index_to_word[sampled_token_index]\n",
    "\n",
    "        if (sampled_token!='eostoken'):\n",
    "            decoded_sentence += ' '+sampled_token\n",
    "\n",
    "        #  stop if reaches <eos> or the max length\n",
    "        if (sampled_token == 'eostoken'  or len(decoded_sentence.split()) >= (summary_max_len-1)):\n",
    "            stop_condition = True\n",
    "\n",
    "        # target sequence update (length 1)\n",
    "        target_seq = np.zeros((1,1))\n",
    "        target_seq[0, 0] = sampled_token_index\n",
    "\n",
    "        # status update\n",
    "        e_h, e_c = h, c\n",
    "\n",
    "    return decoded_sentence"
   ]
  },
  {
   "cell_type": "code",
   "execution_count": 55,
   "id": "6a1e1ab4",
   "metadata": {},
   "outputs": [],
   "source": [
    "# sequence to text for text\n",
    "def seq2text(input_seq):\n",
    "    temp=''\n",
    "    for i in input_seq:\n",
    "        if (i!=0):\n",
    "            temp = temp + src_index_to_word[i]+' '\n",
    "    return temp\n",
    "\n",
    "# sequence to text for headlines\n",
    "def seq2summary(input_seq):\n",
    "    temp=''\n",
    "    for i in input_seq:\n",
    "        if ((i!=0 and i!=tar_word_to_index['sostoken']) and i!=tar_word_to_index['eostoken']):\n",
    "            temp = temp + tar_index_to_word[i] + ' '\n",
    "    return temp"
   ]
  },
  {
   "cell_type": "code",
   "execution_count": 57,
   "id": "b93ff0e3",
   "metadata": {},
   "outputs": [
    {
     "name": "stdout",
     "output_type": "stream",
     "text": [
      "number: 80\n",
      "text : warning citizens buying selling bitcoin turkey directorate religious affairs said cryptocurrency not accordance islam adding bitcoin not authorised state religious body said cryptocurrency widely used illegal activities not regulated \n",
      "original headlines : turkish religious authority declares bitcoin un islamic \n",
      "expected headlines :  bitcoin is not bitcoin says it is\n",
      "\n",
      "\n",
      "number: 81\n",
      "text : andhra pradesh cm chandrababu naidu monday alleged centre threatening impose president rule state nobody down threats added said rally similar kolkata united india rally held amaravati leaders parties take part \n",
      "original headlines : centre threatening to impose prez rule in andhra cm naidu \n",
      "expected headlines :  andhra cm calls for andhra cm over rohingyas\n",
      "\n",
      "\n",
      "number: 82\n",
      "text : samajwadi party chief akhilesh yadav tuesday said cannot anyone politics ready make alliances parties take bjp polls idea defeat bjp lines candidates contest symbol parties added nn \n",
      "original headlines : cannot anyone in politics ready for sp head \n",
      "expected headlines :  no alliance with bjp in politics akhilesh yadav\n",
      "\n",
      "\n",
      "number: 83\n",
      "text : bjp president amit shah said goa saturday surgical strikes conducted september changed world outlook towards india showing committed self defence speaking strikes terror pok listing government achievements last three years added dared except usa \n",
      "original headlines : surgical strikes changed world towards india shah \n",
      "expected headlines :  amit shah urges fans to win pollution in shah\n",
      "\n",
      "\n",
      "number: 84\n",
      "text : temperatures above many parts telangana indian meteorological department warned heatwave like conditions prevail districts state tuesday wednesday recorded highest temperature state monday according met department \n",
      "original headlines : met department warns of heatwave conditions in telangana \n",
      "expected headlines :  thunderstorm warning issued by by\n",
      "\n",
      "\n",
      "number: 85\n",
      "text : cbi booked delhi based company express promoters allegedly defrauding investors crore accused allegedly engaged business share trading holiday package booking air ticketing without approvals allegedly induced people invest scheme offering double returns investments within year \n",
      "original headlines : cbi books delhi company for people of crore \n",
      "expected headlines :  cbi books promoters in mumbai for crore\n",
      "\n",
      "\n",
      "number: 86\n",
      "text : four people died car travelling washed away madhya pradesh mandsaur district following heavy rainfall area police said victims tried crossing bridge across flooded stream car but swept away due strong currents bodies sent autopsy \n",
      "original headlines : people dead as their car is washed away in madhya pradesh \n",
      "expected headlines :  dead as car falls into river in bihar\n",
      "\n",
      "\n",
      "number: 87\n",
      "text : austrian computer roland seeking storage space collection roughly apple computers year old repairs apple products said cannot afford rent warehouse keeps most collection would simply put display anywhere people see added \n",
      "original headlines : it seeks space for collection of apple computers \n",
      "expected headlines :  apple confirms apple iphone will not be used by\n",
      "\n",
      "\n",
      "number: 88\n",
      "text : class student bihar got maths got paper updated results announced another student sanskrit marks increased another one got marks upgraded state board got papers failed year \n",
      "original headlines : bihar class student marks up from to after \n",
      "expected headlines :  girl scores from board exam name after giving birth\n",
      "\n",
      "\n",
      "number: 89\n",
      "text : year old dutch woman found dead thursday hotel room chennai nagar area body discovered hotel staff not vacate room scheduled check time police said could suicide case adding substance found next bed \n",
      "original headlines : yr old dutch woman found dead in chennai hotel \n",
      "expected headlines :  woman found dead in hospital at her house in delhi\n",
      "\n",
      "\n",
      "number: 90\n",
      "text : salman khan bodyguard shera guarding former boxing champion mike tyson visit india said american boxer ate liked chicken biryani took home traditional talking time spent american boxer shera said work salman khan handling celebrity becomes \n",
      "original headlines : tyson ate chicken biryani took home \n",
      "expected headlines :  salman khan honoured with salman khan\n",
      "\n",
      "\n",
      "number: 91\n",
      "text : bjp cm candidate bs yeddyurappa jd congress delegation including siddaramaiah cm candidate hd kumaraswamy met karnataka governor vajubhai vala stake claims form state government no time given us want chance prove majority floor house yeddyurappa said meeting \n",
      "original headlines : jd cong alliance bjp stake claim to form karnataka govt \n",
      "expected headlines :  taka cm kumaraswamy jd candidate money kumaraswamy\n",
      "\n",
      "\n",
      "number: 92\n",
      "text : china based scientists discovered method convert tree leaves carbon material used make electronics dried phoenix tree leaves grounded heated produced powder carbon heating chemical treatment powder developed charge holding capacity three times graphene researchers said \n",
      "original headlines : scientists convert tree leaves into electronics \n",
      "expected headlines :  scientists study study\n",
      "\n",
      "\n",
      "number: 93\n",
      "text : china based alibaba founder jack starring kung fu movie titled produced actor jet li entrepreneur play role master ancient art twenty minute movie also feature jet li well notable actors including yen \n",
      "original headlines : alibaba founder jack ma to star in kung fu movie \n",
      "expected headlines :  alibaba founder jack ma releases his first look\n",
      "\n",
      "\n",
      "number: 94\n",
      "text : ghaziabad health department reportedly planning give lakh three instalments pregnant women act help expose sex determination centres across uttar pradesh official said order eligible amount give undertaking not abort child girl \n",
      "original headlines : for pregnant women to expose sex centres \n",
      "expected headlines :  women to get child sex from men in\n",
      "\n",
      "\n",
      "number: 95\n",
      "text : speaking comparison indian captain virat kohli australia steve smith sourav ganguly said time virat kohli score steve smith not score runs think one times one person gets runs person not get runs ganguly added \n",
      "original headlines : time will come when kohli will score smith won ganguly \n",
      "expected headlines :  kohli has no innings of the world cup tweets user\n",
      "\n",
      "\n",
      "number: 96\n",
      "text : writing poem daughter shweta bachchan nanda launched new fashion brand partnership friend amitabh bachchan wrote proud daughters found success like necklace jewels precious keep safe wrote shweta new fashion brand called \n",
      "original headlines : proud when daughters find success themselves big in poem \n",
      "expected headlines :  amitabh bachchan shares pic with daughter from her th birthday\n",
      "\n",
      "\n",
      "number: 97\n",
      "text : fire broke moving car bagh flyover delhi sunday passenger car said informed fire man driving next got car immediately took belongings vehicle informed police \n",
      "original headlines : fire breaks out in moving car in delhi bagh \n",
      "expected headlines :  car breaks into car on fire in delhi\n",
      "\n",
      "\n",
      "number: 98\n",
      "text : goa tourism minister manohar said government soon announce whatsapp number people report beach site contractor charge cleaning beaches required act within hours tourism department called stop gap arrangement concrete measures put place ensure cleanliness beaches \n",
      "original headlines : goa to get whatsapp number to report beaches \n",
      "expected headlines :  goa cm to get new app from app for\n",
      "\n",
      "\n",
      "number: 99\n",
      "text : diamond encrusted handbag holds guinness world record most valuable handbag put up sale valued million karat gold covered diamonds statement piece designed jeweller robert nn \n",
      "original headlines : world most valuable bag worth crore goes on sale \n",
      "expected headlines :  world most expensive virtual reality site\n",
      "\n",
      "\n"
     ]
    }
   ],
   "source": [
    "for i in range(80, 100):\n",
    "    print('number:', i)\n",
    "    print(\"text :\", seq2text(encoder_input_test[i]))\n",
    "    print(\"original headlines :\", seq2summary(decoder_input_test[i]))\n",
    "    print(\"expected headlines :\", decode_sequence(encoder_input_test[i].reshape(1, text_max_len)))\n",
    "    print(\"\\n\")"
   ]
  },
  {
   "cell_type": "markdown",
   "id": "1ba304f2",
   "metadata": {},
   "source": [
    "#### So far\n",
    "number 85 seems quite right <br/>\n",
    "the loss was too high and needs to be adjusted <br/>\n",
    "could try adjusting hyperparmeters, reducing the size of vocabulary or using different optimizer"
   ]
  },
  {
   "cell_type": "markdown",
   "id": "e1efe4ca",
   "metadata": {},
   "source": [
    "## Using Summa for Extractive Summarization"
   ]
  },
  {
   "cell_type": "code",
   "execution_count": 5,
   "id": "c7a53948",
   "metadata": {},
   "outputs": [
    {
     "name": "stdout",
     "output_type": "stream",
     "text": [
      "number of total samples: 98401\n"
     ]
    }
   ],
   "source": [
    "data2 = pd.read_csv('news_summary_more.csv', encoding='iso-8859-1')\n",
    "\n",
    "print('number of total samples:', (len(data2)))"
   ]
  },
  {
   "cell_type": "code",
   "execution_count": 6,
   "id": "eb8a0083",
   "metadata": {},
   "outputs": [],
   "source": [
    "data2 = data2[['text', 'headlines']]\n",
    "data2.rename(columns = {'text': 'Text', 'headlines': 'Summary'}, inplace = True)"
   ]
  },
  {
   "cell_type": "code",
   "execution_count": 7,
   "id": "35358788",
   "metadata": {
    "scrolled": true
   },
   "outputs": [
    {
     "name": "stdout",
     "output_type": "stream",
     "text": [
      "Summary:\n",
      "Users get one CRED coin per rupee of bill paid, which can be used to avail rewards from brands like Ixigo, BookMyShow, UberEats, Cult.Fit and more.\n"
     ]
    }
   ],
   "source": [
    "print('Summary:')\n",
    "print(summarize(data2['Text'].apply(str).iloc[1], ratio=0.4))"
   ]
  },
  {
   "cell_type": "code",
   "execution_count": 8,
   "id": "0a64a3e4",
   "metadata": {},
   "outputs": [
    {
     "data": {
      "text/plain": [
       "\"Kunal Shah's credit card bill payment platform, CRED, gave users a chance to win free food from Swiggy for one year. Pranav Kaushik, a Delhi techie, bagged this reward after spending 2000 CRED coins. Users get one CRED coin per rupee of bill paid, which can be used to avail rewards from brands like Ixigo, BookMyShow, UberEats, Cult.Fit and more.\""
      ]
     },
     "execution_count": 8,
     "metadata": {},
     "output_type": "execute_result"
    }
   ],
   "source": [
    "data2['Text'].apply(str).iloc[1]"
   ]
  },
  {
   "cell_type": "code",
   "execution_count": 86,
   "id": "4b9ebf46",
   "metadata": {},
   "outputs": [
    {
     "name": "stdout",
     "output_type": "stream",
     "text": [
      "<Text_1> \n",
      "Saurav Kant, an alumnus of upGrad and IIIT-B's PG Program in Machine learning and Artificial Intelligence, was a Sr Systems Engineer at Infosys with almost 5 years of work experience. The program and upGrad's 360-degree career support helped him transition to a Data Scientist at Tech Mahindra with 90% salary hike. upGrad's Online Power Learning has powered 3 lakh+ careers.\n",
      "\n",
      "<Summary> \n",
      "The program and upGrad's 360-degree career support helped him transition to a Data Scientist at Tech Mahindra with 90% salary hike.\n",
      "upGrad's Online Power Learning has powered 3 lakh+ careers.\n",
      "\n",
      "\n",
      "<Text_2> \n",
      "Kunal Shah's credit card bill payment platform, CRED, gave users a chance to win free food from Swiggy for one year. Pranav Kaushik, a Delhi techie, bagged this reward after spending 2000 CRED coins. Users get one CRED coin per rupee of bill paid, which can be used to avail rewards from brands like Ixigo, BookMyShow, UberEats, Cult.Fit and more.\n",
      "\n",
      "<Summary> \n",
      "Users get one CRED coin per rupee of bill paid, which can be used to avail rewards from brands like Ixigo, BookMyShow, UberEats, Cult.Fit and more.\n",
      "\n",
      "\n",
      "<Text_3> \n",
      "New Zealand defeated India by 8 wickets in the fourth ODI at Hamilton on Thursday to win their first match of the five-match ODI series. India lost an international match under Rohit Sharma's captaincy after 12 consecutive victories dating back to March 2018. The match witnessed India getting all out for 92, their seventh lowest total in ODI cricket history.\n",
      "\n",
      "<Summary> \n",
      "The match witnessed India getting all out for 92, their seventh lowest total in ODI cricket history.\n",
      "\n",
      "\n",
      "<Text_4> \n",
      "With Aegon Life iTerm Insurance plan, customers can enjoy tax benefits on your premiums paid and save up to Ã¢ÂÂ¹46,800^ on taxes. The plan provides life cover up to the age of 100 years. Also, customers have options to insure against Critical Illnesses, Disability and Accidental Death Benefit Rider with a life cover up to the age of 80 years.\n",
      "\n",
      "<Summary> \n",
      "Also, customers have options to insure against Critical Illnesses, Disability and Accidental Death Benefit Rider with a life cover up to the age of 80 years.\n",
      "\n",
      "\n",
      "<Text_5> \n",
      "Speaking about the sexual harassment allegations against Rajkumar Hirani, Sonam Kapoor said, \"I've known Hirani for many years...What if it's not true, the [#MeToo] movement will get derailed.\" \"In the #MeToo movement, I always believe a woman. But in this case, we need to reserve our judgment,\" she added. Hirani has been accused by an assistant who worked in 'Sanju'.\n",
      "\n",
      "<Summary> \n",
      "Speaking about the sexual harassment allegations against Rajkumar Hirani, Sonam Kapoor said, \"I've known Hirani for many years...What if it's not true, the [#MeToo] movement will get derailed.\" \"In the #MeToo movement, I always believe a woman.\n",
      "\n",
      "\n",
      "<Text_6> \n",
      "Pakistani singer Rahat Fateh Ali Khan has denied receiving any notice from the Enforcement Directorate over allegedly smuggling foreign currency out of India. \"It would have been better if the authorities would have served the notice first if any and then publicised this,\" reads a press release issued on behalf of Rahat. The statement further called the allegation \"bizarre\".\n",
      "\n",
      "<Summary> \n",
      "Pakistani singer Rahat Fateh Ali Khan has denied receiving any notice from the Enforcement Directorate over allegedly smuggling foreign currency out of India.\n",
      "\n",
      "\n",
      "<Text_7> \n",
      "India recorded their lowest ODI total in New Zealand after getting all out for 92 runs in 30.5 overs in the fourth ODI at Hamilton on Thursday. Seven of India's batsmen were dismissed for single-digit scores, while their number ten batsman Yuzvendra Chahal top-scored with 18*(37). India's previous lowest ODI total in New Zealand was 108.\n",
      "\n",
      "<Summary> \n",
      "India's previous lowest ODI total in New Zealand was 108.\n",
      "\n",
      "\n",
      "<Text_8> \n",
      "Weeks after ex-CBI Director Alok Verma told the Department of Personnel and Training to consider him retired, the Home Ministry asked him to join work on the last day of his fixed tenure as Director on Thursday. The ministry directed him to immediately join as DG, Fire Services, the post he was transferred to after his removal as CBI chief.\n",
      "\n",
      "<Summary> \n",
      "Weeks after ex-CBI Director Alok Verma told the Department of Personnel and Training to consider him retired, the Home Ministry asked him to join work on the last day of his fixed tenure as Director on Thursday.\n",
      "\n",
      "\n",
      "<Text_9> \n",
      "Andhra Pradesh CM N Chandrababu Naidu has said, \"When I met then US President Bill Clinton, I addressed him as Mr Clinton, not as 'sir'. (PM Narendra) Modi is my junior in politics...I addressed him as sir 10 times.\" \"I did this...to satisfy his ego in the hope that he will do justice to the state,\" he added.\n",
      "\n",
      "<Summary> \n",
      "Andhra Pradesh CM N Chandrababu Naidu has said, \"When I met then US President Bill Clinton, I addressed him as Mr Clinton, not as 'sir'.\n",
      "\n",
      "\n",
      "<Text_10> \n",
      "Congress candidate Shafia Zubair won the Ramgarh Assembly seat in Rajasthan, by defeating BJP's Sukhwant Singh with a margin of 12,228 votes in the bypoll. With this victory, Congress has taken its total to 100 seats in the 200-member assembly. The election to the Ramgarh seat was delayed due to the death of sitting MLA and BSP candidate Laxman Singh.\n",
      "\n",
      "<Summary> \n",
      "Congress candidate Shafia Zubair won the Ramgarh Assembly seat in Rajasthan, by defeating BJP's Sukhwant Singh with a margin of 12,228 votes in the bypoll.\n",
      "\n",
      "\n"
     ]
    }
   ],
   "source": [
    "# using 'words'\n",
    "for idx, text in enumerate(data2['Text'][:10]):\n",
    "    print(f'<Text_{idx+1}> \\n{text}\\n')\n",
    "    print(f'<Summary> \\n{summarize(text, words=20)}\\n\\n')"
   ]
  },
  {
   "cell_type": "code",
   "execution_count": 83,
   "id": "636126bf",
   "metadata": {},
   "outputs": [],
   "source": [
    "# using 'ratio'\n",
    "def summarized_news(idx):\n",
    "    for i in idx:\n",
    "        print(f\"<Text_{i+1}> \\n{data2['Text'].apply(str).iloc[i]} \\n\")\n",
    "        print('<Summary>\\n', summarize(data2['Text'].apply(str).iloc[i], ratio=0.5), '\\n\\n')"
   ]
  },
  {
   "cell_type": "code",
   "execution_count": 84,
   "id": "48176a50",
   "metadata": {},
   "outputs": [
    {
     "name": "stdout",
     "output_type": "stream",
     "text": [
      "<Text_1> \n",
      "Saurav Kant, an alumnus of upGrad and IIIT-B's PG Program in Machine learning and Artificial Intelligence, was a Sr Systems Engineer at Infosys with almost 5 years of work experience. The program and upGrad's 360-degree career support helped him transition to a Data Scientist at Tech Mahindra with 90% salary hike. upGrad's Online Power Learning has powered 3 lakh+ careers. \n",
      "\n",
      "<Summary>\n",
      " upGrad's Online Power Learning has powered 3 lakh+ careers. \n",
      "\n",
      "\n",
      "<Text_3> \n",
      "New Zealand defeated India by 8 wickets in the fourth ODI at Hamilton on Thursday to win their first match of the five-match ODI series. India lost an international match under Rohit Sharma's captaincy after 12 consecutive victories dating back to March 2018. The match witnessed India getting all out for 92, their seventh lowest total in ODI cricket history. \n",
      "\n",
      "<Summary>\n",
      " The match witnessed India getting all out for 92, their seventh lowest total in ODI cricket history. \n",
      "\n",
      "\n",
      "<Text_6> \n",
      "Pakistani singer Rahat Fateh Ali Khan has denied receiving any notice from the Enforcement Directorate over allegedly smuggling foreign currency out of India. \"It would have been better if the authorities would have served the notice first if any and then publicised this,\" reads a press release issued on behalf of Rahat. The statement further called the allegation \"bizarre\". \n",
      "\n",
      "<Summary>\n",
      " Pakistani singer Rahat Fateh Ali Khan has denied receiving any notice from the Enforcement Directorate over allegedly smuggling foreign currency out of India. \n",
      "\n",
      "\n"
     ]
    }
   ],
   "source": [
    "summarized_news([0, 2, 5])"
   ]
  },
  {
   "cell_type": "markdown",
   "id": "87762b85",
   "metadata": {},
   "source": [
    "---\n",
    "\n",
    "## Conclusion\n",
    "\n",
    "### Abstractive vs Extractive summarization\n",
    "\n",
    "#### Abstractive summarization:\n",
    "\n",
    "**#80 Good: found 'what' Bad: missing 'who' and the main topic** <br/>\n",
    "Influenced by: a specific country related article, religious words <br/>\n",
    "\n",
    "**text:** warning citizens buying selling bitcoin turkey directorate religious affairs said cryptocurrency not accordance islam adding bitcoin not authorised state religious body said cryptocurrency widely used illegal activities not regulated <br/>\n",
    "**original headlines:** turkish religious authority declares bitcoin un islamic <br/>\n",
    "**expected headlines:** bitcoin is not bitcoin says it is<br/>\n",
    "\n",
    "**#92 Good: found 'who'  Bad: repeated words, missing 'what'** <br/>\n",
    "Influenced by: technical terms <br/>\n",
    "\n",
    "**text:** china based scientists discovered method convert tree leaves carbon material used make electronics  dried phoenix tree leaves grounded heated produced powder carbon heating chemical treatment powder developed charge holding capacity three times graphene researchers said <br/>\n",
    "**original headlines:** scientists convert tree leaves into electronics <br/>\n",
    "**expected headlines:** scientists study study <br/>\n",
    "\n",
    "#### Extractive summarization:\n",
    "\n",
    "**Text_1** <br/>\n",
    "Saurav Kant, an alumnus of upGrad and IIIT-B's PG Program in Machine learning and Artificial Intelligence, was a Sr Systems Engineer at Infosys with almost 5 years of work experience. The program and upGrad's 360-degree career support helped him transition to a Data Scientist at Tech Mahindra with 90% salary hike. upGrad's Online Power Learning has powered 3 lakh+ careers.<br/>\n",
    "\n",
    "**Summary** <br/>\n",
    "**using `words=20`**<br/>\n",
    "The program and upGrad's 360-degree career support helped him transition to a Data Scientist at Tech Mahindra with 90% salary hike.<br/>\n",
    "upGrad's Online Power Learning has powered 3 lakh+ careers.<br/> \n",
    "\n",
    "**using `ratio=0.5`**<br/>\n",
    "upGrad's Online Power Learning has powered 3 lakh+ careers.<br/> \n",
    "\n",
    "\n",
    "**Text_3** <br/>\n",
    "New Zealand defeated India by 8 wickets in the fourth ODI at Hamilton on Thursday to win their first match of the five-match ODI series. India lost an international match under Rohit Sharma's captaincy after 12 consecutive victories dating back to March 2018. The match witnessed India getting all out for 92, their seventh lowest total in ODI cricket history.<br/> \n",
    "\n",
    "**Summary** <br/>\n",
    "**using `words=20`**<br/> \n",
    "The match witnessed India getting all out for 92, their seventh lowest total in ODI cricket history.<br/> \n",
    "\n",
    "**using `ratio=0.5`**<br/>\n",
    "The match witnessed India getting all out for 92, their seventh lowest total in ODI cricket history.<br/> \n",
    "\n",
    "can see that `words` or `ratio` does not make any difference <br/>\n",
    "\n",
    "After trying both of them, short sentences or paragraphs fit better with Extractive summarization while long articles would suit better with Abstractive summarization.<br/>\n",
    "Although the accuracy of abstractive summarization must be high enough to deliver an understandable message, it would make more sense to understand the whole article or paper and create an estimated summary rather than just popping a few words out of the context.<br/>\n",
    "However, for short sentences, choosing words from the text will increase comprehension because it's less likely to choose the rare or unimportant words.<br/>\n",
    "\n",
    "### Attention Mechanism\n",
    "\n",
    "This [article](https://www.analyticsvidhya.com/blog/2019/11/comprehensive-guide-attention-mechanism-deep-learning/) was helpful to understand what Attention Mechanism is.<br/>\n",
    "To briefly explain, it helps to choose features that need to be focused on or ignored.<br/>\n",
    "definitely something to remember b/c it is widely used in NLP and even in CV.<br/>\n",
    "\n",
    "Even after applying the attention function, the accuracy was very low. <br/>\n",
    "As stated before, adjusting hyperparameters, reducing the size of vocabulary, or using different optimizers might increase the accuracy.<br/>\n",
    "\n",
    "Still somewhat disappointed with the result and definitely will work on it more later."
   ]
  }
 ],
 "metadata": {
  "kernelspec": {
   "display_name": "Python 3 (ipykernel)",
   "language": "python",
   "name": "python3"
  },
  "language_info": {
   "codemirror_mode": {
    "name": "ipython",
    "version": 3
   },
   "file_extension": ".py",
   "mimetype": "text/x-python",
   "name": "python",
   "nbconvert_exporter": "python",
   "pygments_lexer": "ipython3",
   "version": "3.9.7"
  }
 },
 "nbformat": 4,
 "nbformat_minor": 5
}
