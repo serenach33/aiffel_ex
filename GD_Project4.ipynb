{
  "nbformat": 4,
  "nbformat_minor": 0,
  "metadata": {
    "colab": {
      "name": "GD_Project4.ipynb",
      "provenance": [],
      "collapsed_sections": [],
      "machine_shape": "hm"
    },
    "kernelspec": {
      "name": "python3",
      "display_name": "Python 3"
    },
    "language_info": {
      "name": "python"
    }
  },
  "cells": [
    {
      "cell_type": "markdown",
      "source": [
        "# Project 4 - 로이터 뉴스 데이터\n",
        "\n",
        "단어의 수에 따라 모델의 성능이 어떻게 변하는지 확인하기\n",
        "\n",
        "---"
      ],
      "metadata": {
        "id": "UT4aXAccjA5g"
      }
    },
    {
      "cell_type": "markdown",
      "source": [
        "## Importing Dependencies"
      ],
      "metadata": {
        "id": "ACZ6kkSIDjgh"
      }
    },
    {
      "cell_type": "code",
      "execution_count": 2,
      "metadata": {
        "colab": {
          "base_uri": "https://localhost:8080/"
        },
        "id": "UwpEWjW5Cc_r",
        "outputId": "deb3f42b-f720-46ad-9ca3-61b49b10a9c3"
      },
      "outputs": [
        {
          "output_type": "stream",
          "name": "stdout",
          "text": [
            "done!\n"
          ]
        }
      ],
      "source": [
        "import tensorflow\n",
        "import sklearn\n",
        "import matplotlib.pyplot as plt\n",
        "import seaborn as sns\n",
        "import numpy as np\n",
        "import pandas as pd\n",
        "from tensorflow.keras.datasets import reuters\n",
        "from sklearn.feature_extraction.text import CountVectorizer\n",
        "from sklearn.feature_extraction.text import TfidfTransformer\n",
        "\n",
        "#model\n",
        "from sklearn.naive_bayes import MultinomialNB\n",
        "from sklearn.linear_model import LogisticRegression, SGDClassifier\n",
        "from sklearn.naive_bayes import ComplementNB\n",
        "from sklearn.tree import DecisionTreeClassifier\n",
        "from sklearn.ensemble import RandomForestClassifier\n",
        "from sklearn.ensemble import GradientBoostingClassifier\n",
        "from sklearn.ensemble import VotingClassifier\n",
        "from sklearn.svm import LinearSVC\n",
        "from sklearn.metrics import accuracy_score\n",
        "from keras.preprocessing import sequence\n",
        "\n",
        "print('done!')"
      ]
    },
    {
      "cell_type": "markdown",
      "source": [
        "## 1. 모든 단어 사용"
      ],
      "metadata": {
        "id": "A4nl1oPCEOeU"
      }
    },
    {
      "cell_type": "code",
      "source": [
        "(x_train, y_train), (x_test, y_test) = reuters.load_data(num_words=None, test_split=0.2)"
      ],
      "metadata": {
        "colab": {
          "base_uri": "https://localhost:8080/"
        },
        "id": "bwEfSPLaEDmw",
        "outputId": "bd4fc0c9-682f-4532-cf69-8026ec43aa82"
      },
      "execution_count": null,
      "outputs": [
        {
          "output_type": "stream",
          "name": "stdout",
          "text": [
            "Downloading data from https://storage.googleapis.com/tensorflow/tf-keras-datasets/reuters.npz\n",
            "2113536/2110848 [==============================] - 0s 0us/step\n",
            "2121728/2110848 [==============================] - 0s 0us/step\n"
          ]
        }
      ]
    },
    {
      "cell_type": "code",
      "source": [
        "print('train 샘플의 수:{}'.format(len(x_train)), end='\\n\\n')\n",
        "print('test 샘플의 수:{}'.format(len(x_test)))"
      ],
      "metadata": {
        "colab": {
          "base_uri": "https://localhost:8080/"
        },
        "id": "7PF9-Dq8Etcs",
        "outputId": "63f2e355-4ad3-41fd-e20d-062b317e68a7"
      },
      "execution_count": null,
      "outputs": [
        {
          "output_type": "stream",
          "name": "stdout",
          "text": [
            "train 샘플의 수:8982\n",
            "\n",
            "test 샘플의 수:2246\n"
          ]
        }
      ]
    },
    {
      "cell_type": "markdown",
      "source": [
        "#### data 확인하기"
      ],
      "metadata": {
        "id": "hAjS22_RFSL0"
      }
    },
    {
      "cell_type": "code",
      "source": [
        "print('훈련용 뉴스의 최대 길이 :{}'.format(max(len(l) for l in x_train)))\n",
        "print('훈련용 뉴스의 평균 길이 :{}'.format(sum(map(len, x_train))/len(x_train)))\n",
        "\n",
        "plt.hist([len(s) for s in x_train], bins=50)\n",
        "plt.xlabel('length of samples')\n",
        "plt.ylabel('number of samples')\n",
        "plt.show()"
      ],
      "metadata": {
        "colab": {
          "base_uri": "https://localhost:8080/",
          "height": 316
        },
        "id": "0L9eHurzFFms",
        "outputId": "624c6304-4c2e-429c-b5e7-973d41a0c9bc"
      },
      "execution_count": null,
      "outputs": [
        {
          "output_type": "stream",
          "name": "stdout",
          "text": [
            "훈련용 뉴스의 최대 길이 :2376\n",
            "훈련용 뉴스의 평균 길이 :145.5398574927633\n"
          ]
        },
        {
          "output_type": "display_data",
          "data": {
            "text/plain": [
              "<Figure size 432x288 with 1 Axes>"
            ],
            "image/png": "[encoded data removed]"
          },
          "metadata": {
            "needs_background": "light"
          }
        }
      ]
    },
    {
      "cell_type": "code",
      "source": [
        "fig, axe = plt.subplots(ncols=1)\n",
        "fig.set_size_inches(11, 5)\n",
        "sns.countplot(x=y_train)\n",
        "plt.show()"
      ],
      "metadata": {
        "colab": {
          "base_uri": "https://localhost:8080/",
          "height": 320
        },
        "id": "GZKeMYCIFZvi",
        "outputId": "6d8ce9ad-63b2-4e13-ab4f-aeba459abd21"
      },
      "execution_count": null,
      "outputs": [
        {
          "output_type": "display_data",
          "data": {
            "text/plain": [
              "<Figure size 792x360 with 1 Axes>"
            ],
            "image/png": "[encoded data removed]"
          },
          "metadata": {
            "needs_background": "light"
          }
        }
      ]
    },
    {
      "cell_type": "markdown",
      "source": [
        "3, 4번 클래스가 대부분을 차지하고 있고 그 뒤로는 19번, 16번, 1번, 11번 등이 높은 분포를 가지고 있다.<br/>(num_words=10000 으로 설정했을 때와 변화 없다)"
      ],
      "metadata": {
        "id": "e_jWgRLVF5Nb"
      }
    },
    {
      "cell_type": "code",
      "source": [
        "unique_elements, counts_elements = np.unique(y_train, return_counts=True)\n",
        "print('각 클래스 빈도수:')\n",
        "print(np.asarray((unique_elements, counts_elements)))"
      ],
      "metadata": {
        "colab": {
          "base_uri": "https://localhost:8080/"
        },
        "id": "zpqgcjD3FzQG",
        "outputId": "3dba6959-2c1b-43c9-9144-5347f377fc8d"
      },
      "execution_count": null,
      "outputs": [
        {
          "output_type": "stream",
          "name": "stdout",
          "text": [
            "각 클래스 빈도수:\n",
            "[[   0    1    2    3    4    5    6    7    8    9   10   11   12   13\n",
            "    14   15   16   17   18   19   20   21   22   23   24   25   26   27\n",
            "    28   29   30   31   32   33   34   35   36   37   38   39   40   41\n",
            "    42   43   44   45]\n",
            " [  55  432   74 3159 1949   17   48   16  139  101  124  390   49  172\n",
            "    26   20  444   39   66  549  269  100   15   41   62   92   24   15\n",
            "    48   19   45   39   32   11   50   10   49   19   19   24   36   30\n",
            "    13   21   12   18]]\n"
          ]
        }
      ]
    },
    {
      "cell_type": "markdown",
      "source": [
        "#### data 복원하기"
      ],
      "metadata": {
        "id": "JpLw9R_xNaW6"
      }
    },
    {
      "cell_type": "code",
      "source": [
        "word_index = reuters.get_word_index(path='reuters_word_index.json')"
      ],
      "metadata": {
        "colab": {
          "base_uri": "https://localhost:8080/"
        },
        "id": "kseIjCmZM0lY",
        "outputId": "908628fa-3def-4465-d434-a5643fdfb05c"
      },
      "execution_count": null,
      "outputs": [
        {
          "output_type": "stream",
          "name": "stdout",
          "text": [
            "Downloading data from https://storage.googleapis.com/tensorflow/tf-keras-datasets/reuters_word_index.json\n",
            "557056/550378 [==============================] - 0s 0us/step\n",
            "565248/550378 [==============================] - 0s 0us/step\n"
          ]
        }
      ]
    },
    {
      "cell_type": "code",
      "source": [
        "index_to_word = {index+3: word for word, index in word_index.items()}\n",
        "print(index_to_word[5])"
      ],
      "metadata": {
        "colab": {
          "base_uri": "https://localhost:8080/"
        },
        "id": "fSHHGKe4Nnwd",
        "outputId": "b08c06da-abbd-4284-f0ff-ee5cc003315e"
      },
      "execution_count": null,
      "outputs": [
        {
          "output_type": "stream",
          "name": "stdout",
          "text": [
            "of\n"
          ]
        }
      ]
    },
    {
      "cell_type": "code",
      "source": [
        "for index, token in enumerate(('<pad>', '<sos>', '<unk>')):\n",
        "  index_to_word[index]=token\n",
        "\n",
        "print(' '.join([index_to_word[index] for index in x_train[0]]))"
      ],
      "metadata": {
        "colab": {
          "base_uri": "https://localhost:8080/"
        },
        "id": "UCyBeRShNvrV",
        "outputId": "6314b0c9-626c-481a-8f98-8d510bab9d2f"
      },
      "execution_count": null,
      "outputs": [
        {
          "output_type": "stream",
          "name": "stdout",
          "text": [
            "<sos> mcgrath rentcorp said as a result of its december acquisition of space co it expects earnings per share in 1987 of 1 15 to 1 30 dlrs per share up from 70 cts in 1986 the company said pretax net should rise to nine to 10 mln dlrs from six mln dlrs in 1986 and rental operation revenues to 19 to 22 mln dlrs from 12 5 mln dlrs it said cash flow per share this year should be 2 50 to three dlrs reuter 3\n"
          ]
        }
      ]
    },
    {
      "cell_type": "markdown",
      "source": [
        "전체 train, test data 복원"
      ],
      "metadata": {
        "id": "pg5fGv-_OQF8"
      }
    },
    {
      "cell_type": "code",
      "source": [
        "decoded = []\n",
        "for i in range(len(x_train)):\n",
        "  t = ' '.join([index_to_word[index] for index in x_train[i]])\n",
        "  decoded.append(t)\n",
        "\n",
        "x_train = decoded\n",
        "print(len(x_train))"
      ],
      "metadata": {
        "colab": {
          "base_uri": "https://localhost:8080/"
        },
        "id": "nSSyH1_yOHX3",
        "outputId": "d7a87921-3dfc-4dbc-84d0-6aab7999a85b"
      },
      "execution_count": null,
      "outputs": [
        {
          "output_type": "stream",
          "name": "stdout",
          "text": [
            "8982\n"
          ]
        }
      ]
    },
    {
      "cell_type": "code",
      "source": [
        "decoded = []\n",
        "for i in range(len(x_test)):\n",
        "  t = ' '.join([index_to_word[index] for index in x_test[i]])\n",
        "  decoded.append(t)\n",
        "\n",
        "x_test = decoded\n",
        "print(len(x_test))"
      ],
      "metadata": {
        "colab": {
          "base_uri": "https://localhost:8080/"
        },
        "id": "NhfoAx__OmPv",
        "outputId": "3969ab1e-657b-4707-95f9-1c700e4a3851"
      },
      "execution_count": null,
      "outputs": [
        {
          "output_type": "stream",
          "name": "stdout",
          "text": [
            "2246\n"
          ]
        }
      ]
    },
    {
      "cell_type": "markdown",
      "source": [
        "#### DTM"
      ],
      "metadata": {
        "id": "KnVQINREO2Fs"
      }
    },
    {
      "cell_type": "code",
      "source": [
        "dtmvector = CountVectorizer()\n",
        "x_train_dtm = dtmvector.fit_transform(x_train)\n",
        "print(x_train_dtm.shape)"
      ],
      "metadata": {
        "colab": {
          "base_uri": "https://localhost:8080/"
        },
        "id": "QLG727wSOshV",
        "outputId": "5a73e928-e3ac-4adb-b227-161541ba2adb"
      },
      "execution_count": null,
      "outputs": [
        {
          "output_type": "stream",
          "name": "stdout",
          "text": [
            "(8982, 26506)\n"
          ]
        }
      ]
    },
    {
      "cell_type": "markdown",
      "source": [
        "#### TF-IDF Matrix"
      ],
      "metadata": {
        "id": "pI77IZezPNiq"
      }
    },
    {
      "cell_type": "code",
      "source": [
        "tfidf_transformer = TfidfTransformer()\n",
        "tfidfv = tfidf_transformer.fit_transform(x_train_dtm)\n",
        "print(tfidfv.shape)"
      ],
      "metadata": {
        "colab": {
          "base_uri": "https://localhost:8080/"
        },
        "id": "0CzUI_7HO9Lu",
        "outputId": "96ebf0e0-8d5d-4c30-ee20-9454c3f0acc0"
      },
      "execution_count": null,
      "outputs": [
        {
          "output_type": "stream",
          "name": "stdout",
          "text": [
            "(8982, 26506)\n"
          ]
        }
      ]
    },
    {
      "cell_type": "markdown",
      "source": [
        "test data 변환"
      ],
      "metadata": {
        "id": "AJGS3G3ZTLF9"
      }
    },
    {
      "cell_type": "code",
      "source": [
        "x_test_dtm = dtmvector.transform(x_test)\n",
        "tfidfv_test = tfidf_transformer.transform(x_test_dtm) #DTM 을 TF-IDF 행렬로 변환"
      ],
      "metadata": {
        "id": "53KRCA4KTK3z"
      },
      "execution_count": null,
      "outputs": []
    },
    {
      "cell_type": "markdown",
      "source": [
        "### 모델별 정확도 예측"
      ],
      "metadata": {
        "id": "XZHE8oe0Pe6E"
      }
    },
    {
      "cell_type": "code",
      "source": [
        "# 결과값 비교를 위한 리스트\n",
        "classifier_list = ['MultinomialNB', 'ComplementNB', 'Logistic Regression', 'LinearSVC', 'Decision Tree', \n",
        "                   'Random Forest', 'GradientBoostingClassifier', 'Voting']\n",
        "classifier_score_list = []"
      ],
      "metadata": {
        "id": "0yIo5PqSPZ8P"
      },
      "execution_count": null,
      "outputs": []
    },
    {
      "cell_type": "markdown",
      "source": [
        "#### 나이브 베이즈 분류기 Multinomial Naive Bayes Classifier"
      ],
      "metadata": {
        "id": "x2-CYM5WTnSY"
      }
    },
    {
      "cell_type": "code",
      "source": [
        "model = MultinomialNB()\n",
        "model.fit(tfidfv, y_train)\n",
        "\n",
        "predicted = model.predict(tfidfv_test)\n",
        "print('accuracy:', accuracy_score(y_test, predicted)) #예측값과 실제값 비교\n",
        "\n",
        "classifier_score_list.append(accuracy_score(y_test, predicted))"
      ],
      "metadata": {
        "colab": {
          "base_uri": "https://localhost:8080/"
        },
        "id": "RlXJhomiTmkA",
        "outputId": "3262e98f-7e9d-4589-ce91-4511e08f4b12"
      },
      "execution_count": null,
      "outputs": [
        {
          "output_type": "stream",
          "name": "stdout",
          "text": [
            "accuracy: 0.5997328584149599\n"
          ]
        }
      ]
    },
    {
      "cell_type": "markdown",
      "source": [
        "#### Complement Naive Bayes Classifier(CNB)"
      ],
      "metadata": {
        "id": "UBqUxGYUUdJY"
      }
    },
    {
      "cell_type": "code",
      "source": [
        "cb = ComplementNB()\n",
        "cb.fit(tfidfv, y_train)\n",
        "\n",
        "predicted = cb.predict(tfidfv_test)\n",
        "print('accuracy:', accuracy_score(y_test, predicted))\n",
        "\n",
        "classifier_score_list.append(accuracy_score(y_test, predicted))"
      ],
      "metadata": {
        "colab": {
          "base_uri": "https://localhost:8080/"
        },
        "id": "OqN7ETkWT_Pe",
        "outputId": "91912c4d-ae64-4655-bb09-bb1adf9301e5"
      },
      "execution_count": null,
      "outputs": [
        {
          "output_type": "stream",
          "name": "stdout",
          "text": [
            "accuracy: 0.7649154051647373\n"
          ]
        }
      ]
    },
    {
      "cell_type": "markdown",
      "source": [
        "#### 로지스틱 회귀 Logistic Regression\n",
        "\n",
        "parameter\n",
        "* penalty: 규제에 사용된 기준을 지정 (l1, l2, elasticnet, none) - default:l2\n",
        "* C: 규제 강도"
      ],
      "metadata": {
        "id": "ImvgM2IMUx-n"
      }
    },
    {
      "cell_type": "code",
      "source": [
        "lr = LogisticRegression(C=10000, penalty='l2')\n",
        "lr.fit(tfidfv, y_train)\n",
        "predicted = cb.predict(tfidfv_test)\n",
        "\n",
        "print('accuracy:', accuracy_score(y_test, predicted))\n",
        "\n",
        "classifier_score_list.append(accuracy_score(y_test, predicted))"
      ],
      "metadata": {
        "colab": {
          "base_uri": "https://localhost:8080/"
        },
        "id": "hIp_PbYRUwr3",
        "outputId": "21c397ac-668f-480e-9c7a-98a078ced65e"
      },
      "execution_count": null,
      "outputs": [
        {
          "output_type": "stream",
          "name": "stdout",
          "text": [
            "accuracy: 0.7649154051647373\n"
          ]
        },
        {
          "output_type": "stream",
          "name": "stderr",
          "text": [
            "/usr/local/lib/python3.7/dist-packages/sklearn/linear_model/_logistic.py:818: ConvergenceWarning: lbfgs failed to converge (status=1):\n",
            "STOP: TOTAL NO. of ITERATIONS REACHED LIMIT.\n",
            "\n",
            "Increase the number of iterations (max_iter) or scale the data as shown in:\n",
            "    https://scikit-learn.org/stable/modules/preprocessing.html\n",
            "Please also refer to the documentation for alternative solver options:\n",
            "    https://scikit-learn.org/stable/modules/linear_model.html#logistic-regression\n",
            "  extra_warning_msg=_LOGISTIC_SOLVER_CONVERGENCE_MSG,\n"
          ]
        }
      ]
    },
    {
      "cell_type": "markdown",
      "source": [
        "#### 선형 서포트 벡터 머신 Linear Support Vector Machine"
      ],
      "metadata": {
        "id": "eiQwVoA-Vl5p"
      }
    },
    {
      "cell_type": "code",
      "source": [
        "lsvc = LinearSVC(C=1000, penalty='l1', max_iter=500, dual=False)\n",
        "lsvc.fit(tfidfv, y_train)\n",
        "\n",
        "predicted = lsvc.predict(tfidfv_test)\n",
        "print('accuracy:', accuracy_score(y_test, predicted))\n",
        "\n",
        "classifier_score_list.append(accuracy_score(y_test, predicted))"
      ],
      "metadata": {
        "colab": {
          "base_uri": "https://localhost:8080/"
        },
        "id": "qCERkRWpVRqk",
        "outputId": "bb12f6e4-08f3-494c-cbf1-bd102a705d2a"
      },
      "execution_count": null,
      "outputs": [
        {
          "output_type": "stream",
          "name": "stdout",
          "text": [
            "accuracy: 0.7804986642920748\n"
          ]
        },
        {
          "output_type": "stream",
          "name": "stderr",
          "text": [
            "/usr/local/lib/python3.7/dist-packages/sklearn/svm/_base.py:1208: ConvergenceWarning: Liblinear failed to converge, increase the number of iterations.\n",
            "  ConvergenceWarning,\n"
          ]
        }
      ]
    },
    {
      "cell_type": "markdown",
      "source": [
        "#### 결정 트리 Decision Tree"
      ],
      "metadata": {
        "id": "Q3NRudCoWBy2"
      }
    },
    {
      "cell_type": "code",
      "source": [
        "tree = DecisionTreeClassifier(max_depth=10, random_state=0)\n",
        "tree.fit(tfidfv, y_train)\n",
        "\n",
        "predicted = tree.predict(tfidfv_test)\n",
        "print('accuracy:', accuracy_score(y_test, predicted))\n",
        "\n",
        "classifier_score_list.append(accuracy_score(y_test, predicted))"
      ],
      "metadata": {
        "colab": {
          "base_uri": "https://localhost:8080/"
        },
        "id": "Qo-zDkbpV9qc",
        "outputId": "8a44a4a6-9d79-4312-e6dc-0a4d1b7f4a30"
      },
      "execution_count": null,
      "outputs": [
        {
          "output_type": "stream",
          "name": "stdout",
          "text": [
            "accuracy: 0.6211041852181657\n"
          ]
        }
      ]
    },
    {
      "cell_type": "markdown",
      "source": [
        "#### 랜덤 포레스트 Random Forest"
      ],
      "metadata": {
        "id": "HRan0BFzWR_6"
      }
    },
    {
      "cell_type": "code",
      "source": [
        "forest = RandomForestClassifier(n_estimators=5, random_state=0)\n",
        "forest.fit(tfidfv, y_train)\n",
        "\n",
        "predicted = forest.predict(tfidfv_test)\n",
        "print('accuracy:', accuracy_score(y_test, predicted))\n",
        "\n",
        "classifier_score_list.append(accuracy_score(y_test, predicted))"
      ],
      "metadata": {
        "colab": {
          "base_uri": "https://localhost:8080/"
        },
        "id": "xaoEWi7LWMqf",
        "outputId": "724ced18-e3cf-4185-a2ff-e9823ff418eb"
      },
      "execution_count": null,
      "outputs": [
        {
          "output_type": "stream",
          "name": "stdout",
          "text": [
            "accuracy: 0.6544968833481746\n"
          ]
        }
      ]
    },
    {
      "cell_type": "markdown",
      "source": [
        "#### 그래디언트 부스팅 트리 GradientBoostingClassifier"
      ],
      "metadata": {
        "id": "322uS9yCWgbf"
      }
    },
    {
      "cell_type": "code",
      "source": [
        "grbt = GradientBoostingClassifier(random_state=0, verbose=3)\n",
        "grbt.fit(tfidfv, y_train)\n",
        "\n",
        "predicted = grbt.predict(tfidfv_test)\n",
        "print('accuracy:', accuracy_score(y_test, predicted))\n",
        "\n",
        "classifier_score_list.append(accuracy_score(y_test, predicted))"
      ],
      "metadata": {
        "colab": {
          "base_uri": "https://localhost:8080/"
        },
        "id": "vbEXVFzvWeyf",
        "outputId": "4e3afeb0-9ac1-4fd9-b163-3172a124e214"
      },
      "execution_count": null,
      "outputs": [
        {
          "output_type": "stream",
          "name": "stdout",
          "text": [
            "      Iter       Train Loss   Remaining Time \n",
            "         1           1.4301           20.40m\n",
            "         2       76760.8864           19.18m\n",
            "         3   766490025.2967           18.70m\n",
            "         4 660857139232122368.0000           18.79m\n",
            "         5 1006529060407114004275646732312951615311370376755613476759245377256674837692003341988813591601665584394912965173495998495951159296.0000           18.92m\n",
            "         6 1006529060407114004275646732312951615311370376755613476759245377256674837692003341988813591601665584394912965173495998495951159296.0000           18.81m\n",
            "         7 1006529060407114004275646732312951615311370376755613476759245377256674837692003341988813591601665584394912965173495998495951159296.0000           18.78m\n",
            "         8 1006529060407114004275646732312951615311370376755613476759245377256674837692003341988813591601665584394912965173495998495951159296.0000           18.72m\n",
            "         9 1006529060407114004275646732312951615311370376755613476759245377256674837692003341988813591601665584394912965173495998495951159296.0000           18.44m\n",
            "        10 1006529060407114004275646732312951615311370376755613476759245377256674837692003341988813591601665584394912965173495998495951159296.0000           18.15m\n",
            "        11 1006529060407114004275646732312951615311370376755613476759245377256674837692003341988813591601665584394912965173495998495951159296.0000           18.04m\n",
            "        12 1006529060407114004275646732312951615311370376755613476759245377256674837692003341988813591601665584394912965173495998495951159296.0000           17.86m\n",
            "        13 1006529060407114004275646732312951615311370376755613476759245377256674837692003341988813591601665584394912965173495998495951159296.0000           17.67m\n",
            "        14 1006529060407114004275646732312951615311370376755613476759245377256674837692003341988813591601665584394912965173495998495951159296.0000           17.44m\n",
            "        15 1006529060407114004275646732312951615311370376755613476759245377256674837692003341988813591601665584394912965173495998495951159296.0000           17.19m\n",
            "        16 1006529060407114004275646732312951615311370376755613476759245377256674837692003341988813591601665584394912965173495998495951159296.0000           16.97m\n",
            "        17 1006529060407114004275646732312951615311370376755613476759245377256674837692003341988813591601665584394912965173495998495951159296.0000           16.77m\n",
            "        18 1006529060407114004275646732312951615311370376755613476759245377256674837692003341988813591601665584394912965173495998495951159296.0000           16.53m\n",
            "        19 1006529060407114004275646732312951615311370376755613476759245377256674837692003341988813591601665584394912965173495998495951159296.0000           16.39m\n",
            "        20 1006529060407114004275646732312951615311370376755613476759245377256674837692003341988813591601665584394912965173495998495951159296.0000           16.20m\n",
            "        21 1006529060407114004275646732312951615311370376755613476759245377256674837692003341988813591601665584394912965173495998495951159296.0000           16.01m\n",
            "        22 1006529060407114004275646732312951615311370376755613476759245377256674837692003341988813591601665584394912965173495998495951159296.0000           15.81m\n",
            "        23 1006529060407114004275646732312951615311370376755613476759245377256674837692003341988813591601665584394912965173495998495951159296.0000           15.56m\n",
            "        24 1006529060407114004275646732312951615311370376755613476759245377256674837692003341988813591601665584394912965173495998495951159296.0000           15.30m\n",
            "        25 7935486330861459413268209935908863185564832687635547920920276400843855648137909550861590845608894276096734983386906163942311234165539923296256.0000           15.08m\n",
            "        26 7935486330861459413268209935908863185564832687635547920920276400843855648137909550861590845608894276096734983386906163942311234165539923296256.0000           14.83m\n",
            "        27 7935486330861459413268209935908863185564832687635547920920276400843855648137909550861590845608894276096734983386906163942311234165539923296256.0000           14.57m\n",
            "        28 7935486330861459413268209935908863185564832687635547920920276400843855648137909550861590845608894276096734983386906163942311234165539923296256.0000           14.33m\n",
            "        29 7935486330861459413268209935908863185564832687635547920920276400843855648137909550861590845608894276096734983386906163942311234165539923296256.0000           14.10m\n",
            "        30 7935486330861459413268209935908863185564832687635547920920276400843855648137909550861590845608894276096734983386906163942311234165539923296256.0000           13.86m\n",
            "        31 7935486330861459413268209935908863185564832687635547920920276400843855648137909550861590845608894276096734983386906163942311234165539923296256.0000           13.65m\n",
            "        32 7935486330861459413268209935908863185564832687635547920920276400843855648137909550861590845608894276096734983386906163942311234165539923296256.0000           13.42m\n",
            "        33 7935486330861459413268209935908863185564832687635547920920276400843855648137909550861590845608894276096734983386906163942311234165539923296256.0000           13.19m\n",
            "        34 7935486330861459413268209935908863185564832687635547920920276400843855648137909550861590845608894276096734983386906163942311234165539923296256.0000           12.97m\n",
            "        35 7935486330861459413268209935908863185564832687635547920920276400843855648137909550861590845608894276096734983386906163942311234165539923296256.0000           12.75m\n",
            "        36 7935486330861459413268209935908863185564832687635547920920276400843855648137909550861590845608894276096734983386906163942311234165539923296256.0000           12.53m\n",
            "        37 7935486330861459413268209935908863185564832687635547920920276400843855648137909550861590845608894276096734983386906163942311234165539923296256.0000           12.31m\n",
            "        38 7935486330861459413268209935908863185564832687635547920920276400843855648137909550861590845608894276096734983386906163942311234165539923296256.0000           12.09m\n",
            "        39 7935486330861459413268209935908863185564832687635547920920276400843855648137909550861590845608894276096734983386906163942311234165539923296256.0000           11.89m\n",
            "        40 7935486330861459413268209935908863185564832687635547920920276400843855648137909550861590845608894276096734983386906163942311234165539923296256.0000           11.68m\n",
            "        41 7935486330861459413268209935908863185564832687635547920920276400843855648137909550861590845608894276096734983386906163942311234165539923296256.0000           11.47m\n",
            "        42 7935486330861459413268209935908863185564832687635547920920276400843855648137909550861590845608894276096734983386906163942311234165539923296256.0000           11.26m\n",
            "        43 7935486330861459413268209935908863185564832687635547920920276400843855648137909550861590845608894276096734983386906163942311234165539923296256.0000           11.06m\n",
            "        44 7935486330861459413268209935908863185564832687635547920920276400843855648137909550861590845608894276096734983386906163942311234165539923296256.0000           10.86m\n",
            "        45 7935486330861459413268209935908863185564832687635547920920276400843855648137909550861590845608894276096734983386906163942311234165539923296256.0000           10.65m\n",
            "        46 7935486330861459413268209935908863185564832687635547920920276400843855648137909550861590845608894276096734983386906163942311234165539923296256.0000           10.44m\n",
            "        47 7935486330861459413268209935908863185564832687635547920920276400843855648137909550861590845608894276096734983386906163942311234165539923296256.0000           10.24m\n",
            "        48 7935486330861459413268209935908863185564832687635547920920276400843855648137909550861590845608894276096734983386906163942311234165539923296256.0000           10.03m\n",
            "        49 7935486330861459413268209935908863185564832687635547920920276400843855648137909550861590845608894276096734983386906163942311234165539923296256.0000            9.83m\n",
            "        50 7935486330861459413268209935908863185564832687635547920920276400843855648137909550861590845608894276096734983386906163942311234165539923296256.0000            9.62m\n",
            "        51 7935486330861459413268209935908863185564832687635547920920276400843855648137909550861590845608894276096734983386906163942311234165539923296256.0000            9.42m\n",
            "        52 7935486330861459413268209935908863185564832687635547920920276400843855648137909550861590845608894276096734983386906163942311234165539923296256.0000            9.22m\n",
            "        53 7935486330861459413268209935908863185564832687635547920920276400843855648137909550861590845608894276096734983386906163942311234165539923296256.0000            9.02m\n",
            "        54 7935486330861459413268209935908863185564832687635547920920276400843855648137909550861590845608894276096734983386906163942311234165539923296256.0000            8.82m\n",
            "        55 7935486330861459413268209935908863185564832687635547920920276400843855648137909550861590845608894276096734983386906163942311234165539923296256.0000            8.61m\n",
            "        56 7935486330861459413268209935908863185564832687635547920920276400843855648137909550861590845608894276096734983386906163942311234165539923296256.0000            8.42m\n",
            "        57 7935486330861459413268209935908863185564832687635547920920276400843855648137909550861590845608894276096734983386906163942311234165539923296256.0000            8.22m\n",
            "        58 7935486330861459413268209935908863185564832687635547920920276400843855648137909550861590845608894276096734983386906163942311234165539923296256.0000            8.02m\n",
            "        59 7935486330861459413268209935908863185564832687635547920920276400843855648137909550861590845608894276096734983386906163942311234165539923296256.0000            7.82m\n",
            "        60 7935486330861459413268209935908863185564832687635547920920276400843855648137909550861590845608894276096734983386906163942311234165539923296256.0000            7.62m\n",
            "        61 7935486330861459413268209935908863185564832687635547920920276400843855648137909550861590845608894276096734983386906163942311234165539923296256.0000            7.42m\n",
            "        62 7935486330861459413268209935908863185564832687635547920920276400843855648137909550861590845608894276096734983386906163942311234165539923296256.0000            7.23m\n",
            "        63 7935486330861459413268209935908863185564832687635547920920276400843855648137909550861590845608894276096734983386906163942311234165539923296256.0000            7.03m\n",
            "        64 7935486330861459413268209935908863185564832687635547920920276400843855648137909550861590845608894276096734983386906163942311234165539923296256.0000            6.84m\n",
            "        65 7935486330861459413268209935908863185564832687635547920920276400843855648137909550861590845608894276096734983386906163942311234165539923296256.0000            6.64m\n",
            "        66 7935486330861459413268209935908863185564832687635547920920276400843855648137909550861590845608894276096734983386906163942311234165539923296256.0000            6.45m\n",
            "        67 7935486330861459413268209935908863185564832687635547920920276400843855648137909550861590845608894276096734983386906163942311234165539923296256.0000            6.26m\n",
            "        68 7935486330861459413268209935908863185564832687635547920920276400843855648137909550861590845608894276096734983386906163942311234165539923296256.0000            6.07m\n",
            "        69 7935486330861459413268209935908863185564832687635547920920276400843855648137909550861590845608894276096734983386906163942311234165539923296256.0000            5.88m\n",
            "        70 7935486330861459413268209935908863185564832687635547920920276400843855648137909550861590845608894276096734983386906163942311234165539923296256.0000            5.69m\n",
            "        71 7935486330861459413268209935908863185564832687635547920920276400843855648137909550861590845608894276096734983386906163942311234165539923296256.0000            5.50m\n",
            "        72 7935486330861459413268209935908863185564832687635547920920276400843855648137909550861590845608894276096734983386906163942311234165539923296256.0000            5.31m\n",
            "        73 7935486330861459413268209935908863185564832687635547920920276400843855648137909550861590845608894276096734983386906163942311234165539923296256.0000            5.12m\n",
            "        74 7935486330861459413268209935908863185564832687635547920920276400843855648137909550861590845608894276096734983386906163942311234165539923296256.0000            4.93m\n",
            "        75 7935486330861459413268209935908863185564832687635547920920276400843855648137909550861590845608894276096734983386906163942311234165539923296256.0000            4.74m\n",
            "        76 7935486330861459413268209935908863185564832687635547920920276400843855648137909550861590845608894276096734983386906163942311234165539923296256.0000            4.55m\n",
            "        77 7935486330861459413268209935908863185564832687635547920920276400843855648137909550861590845608894276096734983386906163942311234165539923296256.0000            4.36m\n",
            "        78 7935486330861459413268209935908863185564832687635547920920276400843855648137909550861590845608894276096734983386906163942311234165539923296256.0000            4.17m\n",
            "        79 7935486330861459413268209935908863185564832687635547920920276400843855648137909550861590845608894276096734983386906163942311234165539923296256.0000            3.99m\n",
            "        80 7935486330861459413268209935908863185564832687635547920920276400843855648137909550861590845608894276096734983386906163942311234165539923296256.0000            3.80m\n",
            "        81 7935486330861459413268209935908863185564832687635547920920276400843855648137909550861590845608894276096734983386906163942311234165539923296256.0000            3.61m\n",
            "        82 7935486330861459413268209935908863185564832687635547920920276400843855648137909550861590845608894276096734983386906163942311234165539923296256.0000            3.42m\n",
            "        83 7935486330861459413268209935908863185564832687635547920920276400843855648137909550861590845608894276096734983386906163942311234165539923296256.0000            3.23m\n",
            "        84 7935486330861459413268209935908863185564832687635547920920276400843855648137909550861590845608894276096734983386906163942311234165539923296256.0000            3.04m\n",
            "        85 7935486330861459413268209935908863185564832687635547920920276400843855648137909550861590845608894276096734983386906163942311234165539923296256.0000            2.85m\n",
            "        86 7935486330861459413268209935908863185564832687635547920920276400843855648137909550861590845608894276096734983386906163942311234165539923296256.0000            2.66m\n",
            "        87 7935486330861459413268209935908863185564832687635547920920276400843855648137909550861590845608894276096734983386906163942311234165539923296256.0000            2.47m\n",
            "        88 7935486330861459413268209935908863185564832687635547920920276400843855648137909550861590845608894276096734983386906163942311234165539923296256.0000            2.28m\n",
            "        89 7935486330861459413268209935908863185564832687635547920920276400843855648137909550861590845608894276096734983386906163942311234165539923296256.0000            2.09m\n",
            "        90 7935486330861459413268209935908863185564832687635547920920276400843855648137909550861590845608894276096734983386906163942311234165539923296256.0000            1.90m\n",
            "        91 7935486330861459413268209935908863185564832687635547920920276400843855648137909550861590845608894276096734983386906163942311234165539923296256.0000            1.71m\n",
            "        92 7935486330861459413268209935908863185564832687635547920920276400843855648137909550861590845608894276096734983386906163942311234165539923296256.0000            1.52m\n",
            "        93 7935486330861459413268209935908863185564832687635547920920276400843855648137909550861590845608894276096734983386906163942311234165539923296256.0000            1.33m\n",
            "        94 7935486330861459413268209935908863185564832687635547920920276400843855648137909550861590845608894276096734983386906163942311234165539923296256.0000            1.14m\n",
            "        95 7935486330861459413268209935908863185564832687635547920920276400843855648137909550861590845608894276096734983386906163942311234165539923296256.0000           57.05s\n",
            "        96 7935486330861459413268209935908863185564832687635547920920276400843855648137909550861590845608894276096734983386906163942311234165539923296256.0000           45.64s\n",
            "        97 7935486330861459413268209935908863185564832687635547920920276400843855648137909550861590845608894276096734983386906163942311234165539923296256.0000           34.23s\n",
            "        98 7935486330861459413268209935908863185564832687635547920920276400843855648137909550861590845608894276096734983386906163942311234165539923296256.0000           22.82s\n",
            "        99 7935486330861459413268209935908863185564832687635547920920276400843855648137909550861590845608894276096734983386906163942311234165539923296256.0000           11.41s\n",
            "       100 7935486330861459413268209935908863185564832687635547920920276400843855648137909550861590845608894276096734983386906163942311234165539923296256.0000            0.00s\n",
            "accuracy: 0.7702582368655387\n"
          ]
        }
      ]
    },
    {
      "cell_type": "markdown",
      "source": [
        "#### 보팅 Voting"
      ],
      "metadata": {
        "id": "L3j3pA4TWxMC"
      }
    },
    {
      "cell_type": "code",
      "source": [
        "voting_classifier = VotingClassifier(estimators=[\n",
        "                                                 ('lr', LogisticRegression(C=10000, penalty='l2')),\n",
        "                                                 ('cb', ComplementNB()),\n",
        "                                                 ('grbt', GradientBoostingClassifier(random_state=0))\n",
        "], voting='soft', n_jobs=-1)\n",
        "voting_classifier.fit(tfidfv, y_train)\n",
        "\n",
        "predicted = voting_classifier.predict(tfidfv_test)\n",
        "print('accuracy:', accuracy_score(y_test, predicted))\n",
        "\n",
        "classifier_score_list.append(accuracy_score(y_test, predicted))"
      ],
      "metadata": {
        "colab": {
          "base_uri": "https://localhost:8080/"
        },
        "id": "H89qlP4GWuzW",
        "outputId": "b675eaa4-7d6d-4446-9a19-3926b0ff97de"
      },
      "execution_count": null,
      "outputs": [
        {
          "output_type": "stream",
          "name": "stdout",
          "text": [
            "accuracy: 0.8187889581478184\n"
          ]
        }
      ]
    },
    {
      "cell_type": "markdown",
      "source": [
        "#### accuracy 비교"
      ],
      "metadata": {
        "id": "VPbJpIULXZNz"
      }
    },
    {
      "cell_type": "code",
      "source": [
        "print('Accuracy when 빈도수 제한없음', end='\\n\\n')\n",
        "for x in range(len(classifier_list)):\n",
        "  print(classifier_list[x], ':', classifier_score_list[x].round(3), end='\\n\\n')"
      ],
      "metadata": {
        "colab": {
          "base_uri": "https://localhost:8080/"
        },
        "id": "4G55p3BCXbBU",
        "outputId": "804f06fc-9b03-4e31-db79-06240ddb6e43"
      },
      "execution_count": null,
      "outputs": [
        {
          "output_type": "stream",
          "name": "stdout",
          "text": [
            "Accuracy when 빈도수 제한없음\n",
            "\n",
            "MultinomialNB : 0.6\n",
            "\n",
            "ComplementNB : 0.765\n",
            "\n",
            "Logistic Regression : 0.765\n",
            "\n",
            "LinearSVC : 0.78\n",
            "\n",
            "Decision Tree : 0.621\n",
            "\n",
            "Random Forest : 0.654\n",
            "\n",
            "GradientBoostingClassifier : 0.77\n",
            "\n",
            "Voting : 0.819\n",
            "\n"
          ]
        }
      ]
    },
    {
      "cell_type": "markdown",
      "source": [
        "**정확도 높은 순서** <br/>\n",
        "Voting > LinearSVC > GradientBoostingClassifier > ComplementNB, Logistic Regression > Random Forest > Decision Tree > MultinomiaNB"
      ],
      "metadata": {
        "id": "SDSjA3ZZg2DR"
      }
    },
    {
      "cell_type": "markdown",
      "source": [
        "## 2. 빈도수 상위 5,000개"
      ],
      "metadata": {
        "id": "fXN-24PehaTM"
      }
    },
    {
      "cell_type": "code",
      "source": [
        "(x_train, y_train), (x_test, y_test) = reuters.load_data(num_words=5000, test_split=0.2)"
      ],
      "metadata": {
        "colab": {
          "base_uri": "https://localhost:8080/"
        },
        "outputId": "06c7dd81-5341-4939-f64d-9a1bc20458d4",
        "id": "HEkAbJ7ec3yf"
      },
      "execution_count": 2,
      "outputs": [
        {
          "output_type": "stream",
          "name": "stdout",
          "text": [
            "Downloading data from https://storage.googleapis.com/tensorflow/tf-keras-datasets/reuters.npz\n",
            "2113536/2110848 [==============================] - 0s 0us/step\n",
            "2121728/2110848 [==============================] - 0s 0us/step\n"
          ]
        }
      ]
    },
    {
      "cell_type": "code",
      "source": [
        "print('train 샘플의 수:{}'.format(len(x_train)), end='\\n\\n')\n",
        "print('test 샘플의 수:{}'.format(len(x_test)))"
      ],
      "metadata": {
        "colab": {
          "base_uri": "https://localhost:8080/"
        },
        "outputId": "a9bd65b8-63ae-4e87-c283-0d86b7cda834",
        "id": "v4IKbVx_c3yg"
      },
      "execution_count": 3,
      "outputs": [
        {
          "output_type": "stream",
          "name": "stdout",
          "text": [
            "train 샘플의 수:8982\n",
            "\n",
            "test 샘플의 수:2246\n"
          ]
        }
      ]
    },
    {
      "cell_type": "markdown",
      "source": [
        "#### data 확인하기"
      ],
      "metadata": {
        "id": "rK-KGcTTc3yh"
      }
    },
    {
      "cell_type": "code",
      "source": [
        "print('훈련용 뉴스의 최대 길이 :{}'.format(max(len(l) for l in x_train)))\n",
        "print('훈련용 뉴스의 평균 길이 :{}'.format(sum(map(len, x_train))/len(x_train)))\n",
        "\n",
        "plt.hist([len(s) for s in x_train], bins=50)\n",
        "plt.xlabel('length of samples')\n",
        "plt.ylabel('number of samples')\n",
        "plt.show()"
      ],
      "metadata": {
        "colab": {
          "base_uri": "https://localhost:8080/",
          "height": 316
        },
        "outputId": "d50bea28-8fec-41df-ed4a-3054ad40fa23",
        "id": "H2WIzJpec3yh"
      },
      "execution_count": 4,
      "outputs": [
        {
          "output_type": "stream",
          "name": "stdout",
          "text": [
            "훈련용 뉴스의 최대 길이 :2376\n",
            "훈련용 뉴스의 평균 길이 :145.5398574927633\n"
          ]
        },
        {
          "output_type": "display_data",
          "data": {
            "text/plain": [
              "<Figure size 432x288 with 1 Axes>"
            ],
            "image/png": "[encoded data removed]"
          },
          "metadata": {
            "needs_background": "light"
          }
        }
      ]
    },
    {
      "cell_type": "code",
      "source": [
        "fig, axe = plt.subplots(ncols=1)\n",
        "fig.set_size_inches(11, 5)\n",
        "sns.countplot(x=y_train)\n",
        "plt.show()"
      ],
      "metadata": {
        "colab": {
          "base_uri": "https://localhost:8080/",
          "height": 320
        },
        "outputId": "a9d91fc0-9058-459f-fb54-7b37fb8ff112",
        "id": "QsyMhhMoc3yh"
      },
      "execution_count": 5,
      "outputs": [
        {
          "output_type": "display_data",
          "data": {
            "text/plain": [
              "<Figure size 792x360 with 1 Axes>"
            ],
            "image/png": "[encoded data removed]"
          },
          "metadata": {
            "needs_background": "light"
          }
        }
      ]
    },
    {
      "cell_type": "markdown",
      "source": [
        "3, 4번 클래스가 대부분을 차지하고 있고 그 뒤로는 19번, 16번, 1번, 11번 등이 높은 분포를 가지고 있다.<br/>(num_words=10000 으로 설정했을 때와 변화 없다)"
      ],
      "metadata": {
        "id": "6qsmVmAmc3yh"
      }
    },
    {
      "cell_type": "code",
      "source": [
        "unique_elements, counts_elements = np.unique(y_train, return_counts=True)\n",
        "print('각 클래스 빈도수:')\n",
        "print(np.asarray((unique_elements, counts_elements)))"
      ],
      "metadata": {
        "colab": {
          "base_uri": "https://localhost:8080/"
        },
        "outputId": "ca1b38e4-5867-4cd8-f63b-89f422774c88",
        "id": "so9Phyr9c3yi"
      },
      "execution_count": 6,
      "outputs": [
        {
          "output_type": "stream",
          "name": "stdout",
          "text": [
            "각 클래스 빈도수:\n",
            "[[   0    1    2    3    4    5    6    7    8    9   10   11   12   13\n",
            "    14   15   16   17   18   19   20   21   22   23   24   25   26   27\n",
            "    28   29   30   31   32   33   34   35   36   37   38   39   40   41\n",
            "    42   43   44   45]\n",
            " [  55  432   74 3159 1949   17   48   16  139  101  124  390   49  172\n",
            "    26   20  444   39   66  549  269  100   15   41   62   92   24   15\n",
            "    48   19   45   39   32   11   50   10   49   19   19   24   36   30\n",
            "    13   21   12   18]]\n"
          ]
        }
      ]
    },
    {
      "cell_type": "markdown",
      "source": [
        "#### data 복원하기"
      ],
      "metadata": {
        "id": "fzkT3QHQc3yi"
      }
    },
    {
      "cell_type": "code",
      "source": [
        "word_index = reuters.get_word_index(path='reuters_word_index.json')"
      ],
      "metadata": {
        "colab": {
          "base_uri": "https://localhost:8080/"
        },
        "outputId": "5e2be953-2bad-4f98-8499-046e9a9d1036",
        "id": "RZ8ql2y0c3yi"
      },
      "execution_count": 7,
      "outputs": [
        {
          "output_type": "stream",
          "name": "stdout",
          "text": [
            "Downloading data from https://storage.googleapis.com/tensorflow/tf-keras-datasets/reuters_word_index.json\n",
            "557056/550378 [==============================] - 0s 0us/step\n",
            "565248/550378 [==============================] - 0s 0us/step\n"
          ]
        }
      ]
    },
    {
      "cell_type": "code",
      "source": [
        "index_to_word = {index+3: word for word, index in word_index.items()}\n",
        "print(index_to_word[5])"
      ],
      "metadata": {
        "colab": {
          "base_uri": "https://localhost:8080/"
        },
        "outputId": "02655ce5-bfc8-4c64-89ab-f8c2fed3ed44",
        "id": "mCtZYG46c3yi"
      },
      "execution_count": 8,
      "outputs": [
        {
          "output_type": "stream",
          "name": "stdout",
          "text": [
            "of\n"
          ]
        }
      ]
    },
    {
      "cell_type": "code",
      "source": [
        "for index, token in enumerate(('<pad>', '<sos>', '<unk>')):\n",
        "  index_to_word[index]=token\n",
        "\n",
        "print(' '.join([index_to_word[index] for index in x_train[0]]))"
      ],
      "metadata": {
        "colab": {
          "base_uri": "https://localhost:8080/"
        },
        "outputId": "6e7d2052-deb6-4457-e473-1d3bf2aa52c9",
        "id": "P-_YOPpTc3yj"
      },
      "execution_count": 9,
      "outputs": [
        {
          "output_type": "stream",
          "name": "stdout",
          "text": [
            "<sos> <unk> <unk> said as a result of its december acquisition of space co it expects earnings per share in 1987 of 1 15 to 1 30 dlrs per share up from 70 cts in 1986 the company said pretax net should rise to nine to 10 mln dlrs from six mln dlrs in 1986 and rental operation revenues to 19 to 22 mln dlrs from 12 5 mln dlrs it said cash flow per share this year should be 2 50 to three dlrs reuter 3\n"
          ]
        }
      ]
    },
    {
      "cell_type": "markdown",
      "source": [
        "전체 train, test data 복원"
      ],
      "metadata": {
        "id": "wIwlQkO7c3yj"
      }
    },
    {
      "cell_type": "code",
      "source": [
        "decoded = []\n",
        "for i in range(len(x_train)):\n",
        "  t = ' '.join([index_to_word[index] for index in x_train[i]])\n",
        "  decoded.append(t)\n",
        "\n",
        "x_train = decoded\n",
        "print(len(x_train))"
      ],
      "metadata": {
        "colab": {
          "base_uri": "https://localhost:8080/"
        },
        "outputId": "4e3cfc41-1327-4b5b-f29e-474b9717dd59",
        "id": "v4nyeysHc3yj"
      },
      "execution_count": 10,
      "outputs": [
        {
          "output_type": "stream",
          "name": "stdout",
          "text": [
            "8982\n"
          ]
        }
      ]
    },
    {
      "cell_type": "code",
      "source": [
        "decoded = []\n",
        "for i in range(len(x_test)):\n",
        "  t = ' '.join([index_to_word[index] for index in x_test[i]])\n",
        "  decoded.append(t)\n",
        "\n",
        "x_test = decoded\n",
        "print(len(x_test))"
      ],
      "metadata": {
        "colab": {
          "base_uri": "https://localhost:8080/"
        },
        "outputId": "73bd0ef1-ffc0-4774-d2c1-b50347472f56",
        "id": "7iDAM-QIc3yj"
      },
      "execution_count": 11,
      "outputs": [
        {
          "output_type": "stream",
          "name": "stdout",
          "text": [
            "2246\n"
          ]
        }
      ]
    },
    {
      "cell_type": "markdown",
      "source": [
        "#### DTM"
      ],
      "metadata": {
        "id": "F_-y_uwwc3yk"
      }
    },
    {
      "cell_type": "code",
      "source": [
        "dtmvector = CountVectorizer()\n",
        "x_train_dtm = dtmvector.fit_transform(x_train)\n",
        "print(x_train_dtm.shape)"
      ],
      "metadata": {
        "colab": {
          "base_uri": "https://localhost:8080/"
        },
        "outputId": "0ae916ea-df73-41e0-d462-d7900420ae21",
        "id": "SlKsxl4cc3yk"
      },
      "execution_count": 12,
      "outputs": [
        {
          "output_type": "stream",
          "name": "stdout",
          "text": [
            "(8982, 4867)\n"
          ]
        }
      ]
    },
    {
      "cell_type": "markdown",
      "source": [
        "#### TF-IDF Matrix"
      ],
      "metadata": {
        "id": "Aso1S7mcc3yk"
      }
    },
    {
      "cell_type": "code",
      "source": [
        "tfidf_transformer = TfidfTransformer()\n",
        "tfidfv = tfidf_transformer.fit_transform(x_train_dtm)\n",
        "print(tfidfv.shape)"
      ],
      "metadata": {
        "colab": {
          "base_uri": "https://localhost:8080/"
        },
        "outputId": "b7be408a-be18-4701-8941-10683d7c7d75",
        "id": "kvaOFXdac3yk"
      },
      "execution_count": 13,
      "outputs": [
        {
          "output_type": "stream",
          "name": "stdout",
          "text": [
            "(8982, 4867)\n"
          ]
        }
      ]
    },
    {
      "cell_type": "markdown",
      "source": [
        "test data 변환"
      ],
      "metadata": {
        "id": "5H0OyaK5c3yl"
      }
    },
    {
      "cell_type": "code",
      "source": [
        "x_test_dtm = dtmvector.transform(x_test)\n",
        "tfidfv_test = tfidf_transformer.transform(x_test_dtm) #DTM 을 TF-IDF 행렬로 변환"
      ],
      "metadata": {
        "id": "cdidYP8Bc3yl"
      },
      "execution_count": 14,
      "outputs": []
    },
    {
      "cell_type": "markdown",
      "source": [
        "### 모델별 정확도 예측"
      ],
      "metadata": {
        "id": "7BB6TOXOc3yl"
      }
    },
    {
      "cell_type": "code",
      "source": [
        "# 결과값 비교를 위한 리스트\n",
        "classifier_list = ['MultinomialNB', 'ComplementNB', 'Logistic Regression', 'LinearSVC', 'Decision Tree', \n",
        "                   'Random Forest', 'GradientBoostingClassifier', 'Voting']\n",
        "classifier_score_list = []"
      ],
      "metadata": {
        "id": "XVTeeM1yc3yl"
      },
      "execution_count": 15,
      "outputs": []
    },
    {
      "cell_type": "markdown",
      "source": [
        "#### 나이브 베이즈 분류기 Multinomial Naive Bayes Classifier"
      ],
      "metadata": {
        "id": "LICq_Ymsc3yl"
      }
    },
    {
      "cell_type": "code",
      "source": [
        "model = MultinomialNB()\n",
        "model.fit(tfidfv, y_train)\n",
        "\n",
        "predicted = model.predict(tfidfv_test)\n",
        "print('accuracy:', accuracy_score(y_test, predicted)) #예측값과 실제값 비교\n",
        "\n",
        "classifier_score_list.append(accuracy_score(y_test, predicted))"
      ],
      "metadata": {
        "colab": {
          "base_uri": "https://localhost:8080/"
        },
        "outputId": "187ad1d7-f0b0-42d2-f3d2-5910a3ff46a0",
        "id": "46YZ_p6Gc3ym"
      },
      "execution_count": 16,
      "outputs": [
        {
          "output_type": "stream",
          "name": "stdout",
          "text": [
            "accuracy: 0.6731967943009796\n"
          ]
        }
      ]
    },
    {
      "cell_type": "markdown",
      "source": [
        "#### Complement Naive Bayes Classifier(CNB)"
      ],
      "metadata": {
        "id": "5FoWu3ggc3ym"
      }
    },
    {
      "cell_type": "code",
      "source": [
        "cb = ComplementNB()\n",
        "cb.fit(tfidfv, y_train)\n",
        "\n",
        "predicted = cb.predict(tfidfv_test)\n",
        "print('accuracy:', accuracy_score(y_test, predicted))\n",
        "\n",
        "classifier_score_list.append(accuracy_score(y_test, predicted))"
      ],
      "metadata": {
        "colab": {
          "base_uri": "https://localhost:8080/"
        },
        "outputId": "2b42a335-12b2-407c-d1a9-4a52a3f73527",
        "id": "4vuIMZ6Lc3ym"
      },
      "execution_count": 17,
      "outputs": [
        {
          "output_type": "stream",
          "name": "stdout",
          "text": [
            "accuracy: 0.7707034728406055\n"
          ]
        }
      ]
    },
    {
      "cell_type": "markdown",
      "source": [
        "#### 로지스틱 회귀 Logistic Regression\n",
        "\n",
        "parameter\n",
        "* penalty: 규제에 사용된 기준을 지정 (l1, l2, elasticnet, none) - default:l2\n",
        "* C: 규제 강도"
      ],
      "metadata": {
        "id": "R4vWealdc3yn"
      }
    },
    {
      "cell_type": "code",
      "source": [
        "lr = LogisticRegression(C=10000, penalty='l2')\n",
        "lr.fit(tfidfv, y_train)\n",
        "predicted = cb.predict(tfidfv_test)\n",
        "\n",
        "print('accuracy:', accuracy_score(y_test, predicted))\n",
        "\n",
        "classifier_score_list.append(accuracy_score(y_test, predicted))"
      ],
      "metadata": {
        "colab": {
          "base_uri": "https://localhost:8080/"
        },
        "outputId": "9635cf16-8b4a-4c97-f730-2c62387e777b",
        "id": "TSr6njgvc3yo"
      },
      "execution_count": 18,
      "outputs": [
        {
          "output_type": "stream",
          "name": "stdout",
          "text": [
            "accuracy: 0.7707034728406055\n"
          ]
        },
        {
          "output_type": "stream",
          "name": "stderr",
          "text": [
            "/usr/local/lib/python3.7/dist-packages/sklearn/linear_model/_logistic.py:818: ConvergenceWarning: lbfgs failed to converge (status=1):\n",
            "STOP: TOTAL NO. of ITERATIONS REACHED LIMIT.\n",
            "\n",
            "Increase the number of iterations (max_iter) or scale the data as shown in:\n",
            "    https://scikit-learn.org/stable/modules/preprocessing.html\n",
            "Please also refer to the documentation for alternative solver options:\n",
            "    https://scikit-learn.org/stable/modules/linear_model.html#logistic-regression\n",
            "  extra_warning_msg=_LOGISTIC_SOLVER_CONVERGENCE_MSG,\n"
          ]
        }
      ]
    },
    {
      "cell_type": "markdown",
      "source": [
        "#### 선형 서포트 벡터 머신 Linear Support Vector Machine"
      ],
      "metadata": {
        "id": "bMiL9rTCc3yp"
      }
    },
    {
      "cell_type": "code",
      "source": [
        "lsvc = LinearSVC(C=1000, penalty='l1', max_iter=500, dual=False)\n",
        "lsvc.fit(tfidfv, y_train)\n",
        "\n",
        "predicted = lsvc.predict(tfidfv_test)\n",
        "print('accuracy:', accuracy_score(y_test, predicted))\n",
        "\n",
        "classifier_score_list.append(accuracy_score(y_test, predicted))"
      ],
      "metadata": {
        "colab": {
          "base_uri": "https://localhost:8080/"
        },
        "outputId": "9a870b72-b4f8-486c-cda7-2872aa9ab4b8",
        "id": "GiyPV4mMc3yq"
      },
      "execution_count": 19,
      "outputs": [
        {
          "output_type": "stream",
          "name": "stdout",
          "text": [
            "accuracy: 0.7666963490650045\n"
          ]
        },
        {
          "output_type": "stream",
          "name": "stderr",
          "text": [
            "/usr/local/lib/python3.7/dist-packages/sklearn/svm/_base.py:1208: ConvergenceWarning: Liblinear failed to converge, increase the number of iterations.\n",
            "  ConvergenceWarning,\n"
          ]
        }
      ]
    },
    {
      "cell_type": "markdown",
      "source": [
        "#### 결정 트리 Decision Tree"
      ],
      "metadata": {
        "id": "KoVrVHBTc3yr"
      }
    },
    {
      "cell_type": "code",
      "source": [
        "tree = DecisionTreeClassifier(max_depth=10, random_state=0)\n",
        "tree.fit(tfidfv, y_train)\n",
        "\n",
        "predicted = tree.predict(tfidfv_test)\n",
        "print('accuracy:', accuracy_score(y_test, predicted))\n",
        "\n",
        "classifier_score_list.append(accuracy_score(y_test, predicted))"
      ],
      "metadata": {
        "colab": {
          "base_uri": "https://localhost:8080/"
        },
        "outputId": "1bb4de37-8457-45ea-95a7-638f6583ad9d",
        "id": "EY1nAsGCc3yr"
      },
      "execution_count": 20,
      "outputs": [
        {
          "output_type": "stream",
          "name": "stdout",
          "text": [
            "accuracy: 0.6179875333926982\n"
          ]
        }
      ]
    },
    {
      "cell_type": "markdown",
      "source": [
        "#### 랜덤 포레스트 Random Forest"
      ],
      "metadata": {
        "id": "NYCD5vunc3ys"
      }
    },
    {
      "cell_type": "code",
      "source": [
        "forest = RandomForestClassifier(n_estimators=5, random_state=0)\n",
        "forest.fit(tfidfv, y_train)\n",
        "\n",
        "predicted = forest.predict(tfidfv_test)\n",
        "print('accuracy:', accuracy_score(y_test, predicted))\n",
        "\n",
        "classifier_score_list.append(accuracy_score(y_test, predicted))"
      ],
      "metadata": {
        "colab": {
          "base_uri": "https://localhost:8080/"
        },
        "outputId": "5c3d06d4-90d2-460b-f120-3f8352e8c14b",
        "id": "jjsHen1tc3ys"
      },
      "execution_count": 21,
      "outputs": [
        {
          "output_type": "stream",
          "name": "stdout",
          "text": [
            "accuracy: 0.701246660730187\n"
          ]
        }
      ]
    },
    {
      "cell_type": "markdown",
      "source": [
        "#### 그래디언트 부스팅 트리 GradientBoostingClassifier"
      ],
      "metadata": {
        "id": "6MeoDRaoc3ys"
      }
    },
    {
      "cell_type": "code",
      "source": [
        "grbt = GradientBoostingClassifier(random_state=0, verbose=3)\n",
        "grbt.fit(tfidfv, y_train)\n",
        "\n",
        "predicted = grbt.predict(tfidfv_test)\n",
        "print('accuracy:', accuracy_score(y_test, predicted))\n",
        "\n",
        "classifier_score_list.append(accuracy_score(y_test, predicted))"
      ],
      "metadata": {
        "colab": {
          "base_uri": "https://localhost:8080/"
        },
        "outputId": "0eee2791-a2a6-4809-b0c5-31327a36ddea",
        "id": "fFd4pTg2c3yt"
      },
      "execution_count": 22,
      "outputs": [
        {
          "output_type": "stream",
          "name": "stdout",
          "text": [
            "      Iter       Train Loss   Remaining Time \n",
            "         1           1.4697           14.57m\n",
            "         2     2131099.0239           14.55m\n",
            "         3 113352934366748750033493137947714414201794552363528671409179356940992512.0000           14.43m\n",
            "         4 645005367195105573487290209089081189090170195029150070319832395667206596719018218881024.0000           14.27m\n",
            "         5 443067299530301659980374363525949995629695549691559890285869350923592723545213280554158712204202745088665306932510573934053386280801140736.0000           14.08m\n",
            "         6 443067299530301659980374363525949995629695549691559890285869350923592723545213280554158712204202745088665306932510573934053386280801140736.0000           13.93m\n",
            "         7 443067299530301659980374363525949995629695549691559890285869350923592723545213280554158712204202745088665306932510573934053386280801140736.0000           13.77m\n",
            "         8 443067299530301659980374363525949995629695549691559890285869350923592723545213280554158712204202745088665306932510573934053386280801140736.0000           13.61m\n",
            "         9 443067299530301659980374363525949995629695549691559890285869350923592723545213280554158712204202745088665306932510573934053386280801140736.0000           13.45m\n",
            "        10 443067299530301659980374363525949995629695549691559890285869350923592723545213280554158712204202745088665306932510573934053386280801140736.0000           13.30m\n",
            "        11 443067299530301659980374363525949995629695549691559890285869350923592723545213280554158712204202745088665306932510573934053386280801140736.0000           13.14m\n",
            "        12 443067299530301659980374363525949995629695549691559890285869350923592723545213280554158712204202745088665306932510573934053386280801140736.0000           12.99m\n",
            "        13 443067299530301659980374363525949995629695549691559890285869350923592723545213280554158712204202745088665306932510573934053386280801140736.0000           12.84m\n",
            "        14 443067299530301659980374363525949995629695549691559890285869350923592723545213280554158712204202745088665306932510573934053386280801140736.0000           12.68m\n",
            "        15 443067299530301659980374363525949995629695549691559890285869350923592723545213280554158712204202745088665306932510573934053386280801140736.0000           12.53m\n",
            "        16 443067299530301659980374363525949995629695549691559890285869350923592723545213280554158712204202745088665306932510573934053386280801140736.0000           12.38m\n",
            "        17 443067299530301659980374363525949995629695549691559890285869350923592723545213280554158712204202745088665306932510573934053386280801140736.0000           12.22m\n",
            "        18 443067299530301659980374363525949995629695549691559890285869350923592723545213280554158712204202745088665306932510573934053386280801140736.0000           12.06m\n",
            "        19 443067299530301659980374363525949995629695549691559890285869350923592723545213280554158712204202745088665306932510573934053386280801140736.0000           11.90m\n",
            "        20 443067299530301659980374363525949995629695549691559890285869350923592723545213280554158712204202745088665306932510573934053386280801140736.0000           11.75m\n",
            "        21 443067299530301659980374363525949995629695549691559890285869350923592723545213280554158712204202745088665306932510573934053386280801140736.0000           11.59m\n",
            "        22 443067299530301659980374363525949995629695549691559890285869350923592723545213280554158712204202745088665306932510573934053386280801140736.0000           11.44m\n",
            "        23 443067299530301659980374363525949995629695549691559890285869350923592723545213280554158712204202745088665306932510573934053386280801140736.0000           11.29m\n",
            "        24 443067299530301659980374363525949995629695549691559890285869350923592723545213280554158712204202745088665306932510573934053386280801140736.0000           11.14m\n",
            "        25 443067299530301659980374363525949995629695549691559890285869350923592723545213280554158712204202745088665306932510573934053386280801140736.0000           10.98m\n",
            "        26 443067299530301659980374363525949995629695549691559890285869350923592723545213280554158712204202745088665306932510573934053386280801140736.0000           10.83m\n",
            "        27 443067299530302073140354857431324340576763070173459783038796203599354776450710327057778234898793885831921831754563603678560901920400080896.0000           10.68m\n",
            "        28 443067299530302073140354857431324340576763070173459783038796203599354776450710327057778234898793885831921831754563603678560901920400080896.0000           10.53m\n",
            "        29 443067299530302073140354857431324340576763070173459783038796203599354776450710327057778234898793885831921831754563603678560901920400080896.0000           10.38m\n",
            "        30 443067299530302073140354857431324340576763070173459783038796203599354776450710327057778234898793885831921831754563603678560901920400080896.0000           10.23m\n",
            "        31 443067299530302073140354857431324340576763070173459783038796203599354776450710327057778234898793885831921831754563603678560901920400080896.0000           10.08m\n",
            "        32 443067299530302073140354857431324340576763070173459783038796203599354776450710327057778234898793885831921831754563603678560901920400080896.0000            9.93m\n",
            "        33 443067299530302073140354857431324340576763070173459783038796203599354776450710327057778234898793885831921831754563603678560901920400080896.0000            9.78m\n",
            "        34 443067299530302073140354857431324340576763070173459783038796203599354776450710327057778234898793885831921831754563603678560901920400080896.0000            9.64m\n",
            "        35 443067299530302073140354857431324340576763070173459783038796203599354776450710327057778234898793885831921831754563603678560901920400080896.0000            9.49m\n",
            "        36 443067299530302073140354857431324340576763070173459783038796203599354776450710327057778234898793885831921831754563603678560901920400080896.0000            9.34m\n",
            "        37 443067299530302073140354857431324340576763070173459783038796203599354776450710327057778234898793885831921831754563603678560901920400080896.0000            9.19m\n",
            "        38 443067299530302073140354857431324340576763070173459783038796203599354776450710327057778234898793885831921831754563603678560901920400080896.0000            9.04m\n",
            "        39 443067299530302073140354857431324340576763070173459783038796203599354776450710327057778234898793885831921831754563603678560901920400080896.0000            8.90m\n",
            "        40 443067299530302073140354857431324340576763070173459783038796203599354776450710327057778234898793885831921831754563603678560901920400080896.0000            8.75m\n",
            "        41 443067299530302073140354857431324340576763070173459783038796203599354776450710327057778234898793885831921831754563603678560901920400080896.0000            8.60m\n",
            "        42 443067299530302073140354857431324340576763070173459783038796203599354776450710327057778234898793885831921831754563603678560901920400080896.0000            8.46m\n",
            "        43 443067299530302073140354857431324340576763070173459783038796203599354776450710327057778234898793885831921831754563603678560901920400080896.0000            8.31m\n",
            "        44 443067299530302073140354857431324340576763070173459783038796203599354776450710327057778234898793885831921831754563603678560901920400080896.0000            8.16m\n",
            "        45 443067299530302073140354857431324340576763070173459783038796203599354776450710327057778234898793885831921831754563603678560901920400080896.0000            8.01m\n",
            "        46 443067299530302073140354857431324340576763070173459783038796203599354776450710327057778234898793885831921831754563603678560901920400080896.0000            7.87m\n",
            "        47 443067299530302073140354857431324340576763070173459783038796203599354776450710327057778234898793885831921831754563603678560901920400080896.0000            7.72m\n",
            "        48 443067299530302073140354857431324340576763070173459783038796203599354776450710327057778234898793885831921831754563603678560901920400080896.0000            7.57m\n",
            "        49 443067299530302073140354857431324340576763070173459783038796203599354776450710327057778234898793885831921831754563603678560901920400080896.0000            7.43m\n",
            "        50 443067299530302073140354857431324340576763070173459783038796203599354776450710327057778234898793885831921831754563603678560901920400080896.0000            7.28m\n",
            "        51 443067299530302073140354857431324340576763070173459783038796203599354776450710327057778234898793885831921831754563603678560901920400080896.0000            7.13m\n",
            "        52 443067299530302073140354857431324340576763070173459783038796203599354776450710327057778234898793885831921831754563603678560901920400080896.0000            6.99m\n",
            "        53 443067299530302073140354857431324340576763070173459783038796203599354776450710327057778234898793885831921831754563603678560901920400080896.0000            6.84m\n",
            "        54 443067299530302073140354857431324340576763070173459783038796203599354776450710327057778234898793885831921831754563603678560901920400080896.0000            6.69m\n",
            "        55 443067299530302073140354857431324340576763070173459783038796203599354776450710327057778234898793885831921831754563603678560901920400080896.0000            6.55m\n",
            "        56 443067299530302073140354857431324340576763070173459783038796203599354776450710327057778234898793885831921831754563603678560901920400080896.0000            6.40m\n",
            "        57 443067299530302073140354857431324340576763070173459783038796203599354776450710327057778234898793885831921831754563603678560901920400080896.0000            6.26m\n",
            "        58 443067299530302073140354857431324340576763070173459783038796203599354776450710327057778234898793885831921831754563603678560901920400080896.0000            6.11m\n",
            "        59 443067299530302073140354857431324340576763070173459783038796203599354776450710327057778234898793885831921831754563603678560901920400080896.0000            5.96m\n",
            "        60 443067299530302073140354857431324340576763070173459783038796203599354776450710327057778234898793885831921831754563603678560901920400080896.0000            5.82m\n",
            "        61 443067299530302073140354857431324340576763070173459783038796203599354776450710327057778234898793885831921831754563603678560901920400080896.0000            5.67m\n",
            "        62 443067299530302073140354857431324340576763070173459783038796203599354776450710327057778234898793885831921831754563603678560901920400080896.0000            5.53m\n",
            "        63 443067299530302073140354857431324340576763070173459783038796203599354776450710327057778234898793885831921831754563603678560901920400080896.0000            5.38m\n",
            "        64 443067299530302073140354857431324340576763070173459783038796203599354776450710327057778234898793885831921831754563603678560901920400080896.0000            5.23m\n",
            "        65 443067299530302073140354857431324340576763070173459783038796203599354776450710327057778234898793885831921831754563603678560901920400080896.0000            5.09m\n",
            "        66 443067299530302073140354857431324340576763070173459783038796203599354776450710327057778234898793885831921831754563603678560901920400080896.0000            4.94m\n",
            "        67 443067299530302073140354857431324340576763070173459783038796203599354776450710327057778234898793885831921831754563603678560901920400080896.0000            4.80m\n",
            "        68 443067299530302073140354857431324340576763070173459783038796203599354776450710327057778234898793885831921831754563603678560901920400080896.0000            4.65m\n",
            "        69 443067299530302073140354857431324340576763070173459783038796203599354776450710327057778234898793885831921831754563603678560901920400080896.0000            4.51m\n",
            "        70 443067299530302073140354857431324340576763070173459783038796203599354776450710327057778234898793885831921831754563603678560901920400080896.0000            4.36m\n",
            "        71 443067299530302073140354857431324340576763070173459783038796203599354776450710327057778234898793885831921831754563603678560901920400080896.0000            4.22m\n",
            "        72 443067299530302073140354857431324340576763070173459783038796203599354776450710327057778234898793885831921831754563603678560901920400080896.0000            4.07m\n",
            "        73 443067299530302073140354857431324340576763070173459783038796203599354776450710327057778234898793885831921831754563603678560901920400080896.0000            3.92m\n",
            "        74 443067299530302073140354857431324340576763070173459783038796203599354776450710327057778234898793885831921831754563603678560901920400080896.0000            3.78m\n",
            "        75 443067299530302073140354857431324340576763070173459783038796203599354776450710327057778234898793885831921831754563603678560901920400080896.0000            3.63m\n",
            "        76 443067299530302073140354857431324340576763070173459783038796203599354776450710327057778234898793885831921831754563603678560901920400080896.0000            3.49m\n",
            "        77 443067299530302073140354857431324340576763070173459783038796203599354776450710327057778234898793885831921831754563603678560901920400080896.0000            3.34m\n",
            "        78 443067299530302073140354857431324340576763070173459783038796203599354776450710327057778234898793885831921831754563603678560901920400080896.0000            3.20m\n",
            "        79 443067299530302073140354857431324340576763070173459783038796203599354776450710327057778234898793885831921831754563603678560901920400080896.0000            3.05m\n",
            "        80 443067299530302073140354857431324340576763070173459783038796203599354776450710327057778234898793885831921831754563603678560901920400080896.0000            2.91m\n",
            "        81 443067299530302073140354857431324340576763070173459783038796203599354776450710327057778234898793885831921831754563603678560901920400080896.0000            2.76m\n",
            "        82 443067299530302073140354857431324340576763070173459783038796203599354776450710327057778234898793885831921831754563603678560901920400080896.0000            2.61m\n",
            "        83 443067299530302073140354857431324340576763070173459783038796203599354776450710327057778234898793885831921831754563603678560901920400080896.0000            2.47m\n",
            "        84 443067299530302073140354857431324340576763070173459783038796203599354776450710327057778234898793885831921831754563603678560901920400080896.0000            2.32m\n",
            "        85 443067299530302073140354857431324340576763070173459783038796203599354776450710327057778234898793885831921831754563603678560901920400080896.0000            2.18m\n",
            "        86 443067299530302073140354857431324340576763070173459783038796203599354776450710327057778234898793885831921831754563603678560901920400080896.0000            2.03m\n",
            "        87 443067299530302073140354857431324340576763070173459783038796203599354776450710327057778234898793885831921831754563603678560901920400080896.0000            1.89m\n",
            "        88 443067299530302073140354857431324340576763070173459783038796203599354776450710327057778234898793885831921831754563603678560901920400080896.0000            1.74m\n",
            "        89 443067299530302073140354857431324340576763070173459783038796203599354776450710327057778234898793885831921831754563603678560901920400080896.0000            1.60m\n",
            "        90 443067299530302073140354857431324340576763070173459783038796203599354776450710327057778234898793885831921831754563603678560901920400080896.0000            1.45m\n",
            "        91 443067299530302073140354857431324340576763070173459783038796203599354776450710327057778234898793885831921831754563603678560901920400080896.0000            1.31m\n",
            "        92 443067299530302073140354857431324340576763070173459783038796203599354776450710327057778234898793885831921831754563603678560901920400080896.0000            1.16m\n",
            "        93 443067299530302073140354857431324340576763070173459783038796203599354776450710327057778234898793885831921831754563603678560901920400080896.0000            1.02m\n",
            "        94 443067299530302073140354857431324340576763070173459783038796203599354776450710327057778234898793885831921831754563603678560901920400080896.0000           52.25s\n",
            "        95 443067299530302073140354857431324340576763070173459783038796203599354776450710327057778234898793885831921831754563603678560901920400080896.0000           43.54s\n",
            "        96 443067299530302073140354857431324340576763070173459783038796203599354776450710327057778234898793885831921831754563603678560901920400080896.0000           34.83s\n",
            "        97 443067299530302073140354857431324340576763070173459783038796203599354776450710327057778234898793885831921831754563603678560901920400080896.0000           26.12s\n",
            "        98 443067299530302073140354857431324340576763070173459783038796203599354776450710327057778234898793885831921831754563603678560901920400080896.0000           17.41s\n",
            "        99 443067299530302073140354857431324340576763070173459783038796203599354776450710327057778234898793885831921831754563603678560901920400080896.0000            8.70s\n",
            "       100 443067299530302073140354857431324340576763070173459783038796203599354776450710327057778234898793885831921831754563603678560901920400080896.0000            0.00s\n",
            "accuracy: 0.767586821015138\n"
          ]
        }
      ]
    },
    {
      "cell_type": "markdown",
      "source": [
        "#### 보팅 Voting"
      ],
      "metadata": {
        "id": "F6lBX5Q7c3yt"
      }
    },
    {
      "cell_type": "code",
      "source": [
        "voting_classifier = VotingClassifier(estimators=[\n",
        "                                                 ('lr', LogisticRegression(C=10000, penalty='l2')),\n",
        "                                                 ('cb', ComplementNB()),\n",
        "                                                 ('grbt', GradientBoostingClassifier(random_state=0))\n",
        "], voting='soft', n_jobs=-1)\n",
        "voting_classifier.fit(tfidfv, y_train)\n",
        "\n",
        "predicted = voting_classifier.predict(tfidfv_test)\n",
        "print('accuracy:', accuracy_score(y_test, predicted))\n",
        "\n",
        "classifier_score_list.append(accuracy_score(y_test, predicted))"
      ],
      "metadata": {
        "colab": {
          "base_uri": "https://localhost:8080/"
        },
        "outputId": "ed0afe48-bb87-43b8-c0d8-453074f421a0",
        "id": "ggYBCdphc3yt"
      },
      "execution_count": 23,
      "outputs": [
        {
          "output_type": "stream",
          "name": "stdout",
          "text": [
            "accuracy: 0.8161175422974176\n"
          ]
        }
      ]
    },
    {
      "cell_type": "markdown",
      "source": [
        "#### accuracy 비교"
      ],
      "metadata": {
        "id": "jJGx1EY1c3yt"
      }
    },
    {
      "cell_type": "code",
      "source": [
        "print('Accuracy when 빈도수 상위 5,000개', end='\\n\\n')\n",
        "for x in range(len(classifier_list)):\n",
        "  print(classifier_list[x], ':', classifier_score_list[x].round(3), end='\\n\\n')"
      ],
      "metadata": {
        "colab": {
          "base_uri": "https://localhost:8080/"
        },
        "outputId": "8c54a738-6ba6-48ac-f2cb-4ee0216b634f",
        "id": "KnJhdIy5c3yu"
      },
      "execution_count": 26,
      "outputs": [
        {
          "output_type": "stream",
          "name": "stdout",
          "text": [
            "Accuracy when 빈도수 상위 5,000개\n",
            "\n",
            "MultinomialNB : 0.673\n",
            "\n",
            "ComplementNB : 0.771\n",
            "\n",
            "Logistic Regression : 0.771\n",
            "\n",
            "LinearSVC : 0.767\n",
            "\n",
            "Decision Tree : 0.618\n",
            "\n",
            "Random Forest : 0.701\n",
            "\n",
            "GradientBoostingClassifier : 0.768\n",
            "\n",
            "Voting : 0.816\n",
            "\n"
          ]
        }
      ]
    },
    {
      "cell_type": "markdown",
      "source": [
        "**정확도 높은 순서** <br/>\n",
        "Voting > GradientBoostingClassifier > ComplementNB, Logistic Regression > LinearSVC > Random Forest > MultinomiaNB > Decision Tree"
      ],
      "metadata": {
        "id": "YxIn8nZlc3yu"
      }
    },
    {
      "cell_type": "markdown",
      "source": [
        "## 3. 빈도수 상위 7,000개"
      ],
      "metadata": {
        "id": "EuOYgNxRc3yu"
      }
    },
    {
      "cell_type": "code",
      "source": [
        "(x_train, y_train), (x_test, y_test) = reuters.load_data(num_words=7000, test_split=0.2)"
      ],
      "metadata": {
        "id": "o83J1v_JnRFF"
      },
      "execution_count": 27,
      "outputs": []
    },
    {
      "cell_type": "code",
      "source": [
        "print('train 샘플의 수:{}'.format(len(x_train)), end='\\n\\n')\n",
        "print('test 샘플의 수:{}'.format(len(x_test)))"
      ],
      "metadata": {
        "colab": {
          "base_uri": "https://localhost:8080/"
        },
        "outputId": "cfa209ef-d84a-4fbc-aced-2ab579bbda75",
        "id": "1Sm_olTgnRFG"
      },
      "execution_count": 28,
      "outputs": [
        {
          "output_type": "stream",
          "name": "stdout",
          "text": [
            "train 샘플의 수:8982\n",
            "\n",
            "test 샘플의 수:2246\n"
          ]
        }
      ]
    },
    {
      "cell_type": "markdown",
      "source": [
        "#### data 확인하기"
      ],
      "metadata": {
        "id": "TmEAUu7InRFG"
      }
    },
    {
      "cell_type": "code",
      "source": [
        "print('훈련용 뉴스의 최대 길이 :{}'.format(max(len(l) for l in x_train)))\n",
        "print('훈련용 뉴스의 평균 길이 :{}'.format(sum(map(len, x_train))/len(x_train)))\n",
        "\n",
        "plt.hist([len(s) for s in x_train], bins=50)\n",
        "plt.xlabel('length of samples')\n",
        "plt.ylabel('number of samples')\n",
        "plt.show()"
      ],
      "metadata": {
        "colab": {
          "base_uri": "https://localhost:8080/",
          "height": 316
        },
        "outputId": "180f0e4f-8f69-42b7-874a-623d9f7aa83b",
        "id": "v53yp11nnRFG"
      },
      "execution_count": 29,
      "outputs": [
        {
          "output_type": "stream",
          "name": "stdout",
          "text": [
            "훈련용 뉴스의 최대 길이 :2376\n",
            "훈련용 뉴스의 평균 길이 :145.5398574927633\n"
          ]
        },
        {
          "output_type": "display_data",
          "data": {
            "text/plain": [
              "<Figure size 432x288 with 1 Axes>"
            ],
            "image/png": "[encoded data removed]"
          },
          "metadata": {
            "needs_background": "light"
          }
        }
      ]
    },
    {
      "cell_type": "code",
      "source": [
        "fig, axe = plt.subplots(ncols=1)\n",
        "fig.set_size_inches(11, 5)\n",
        "sns.countplot(x=y_train)\n",
        "plt.show()"
      ],
      "metadata": {
        "colab": {
          "base_uri": "https://localhost:8080/",
          "height": 320
        },
        "outputId": "8896fd28-810f-4aa7-e3e2-bbe1a16ae6fe",
        "id": "789ptCxjnRFG"
      },
      "execution_count": 30,
      "outputs": [
        {
          "output_type": "display_data",
          "data": {
            "text/plain": [
              "<Figure size 792x360 with 1 Axes>"
            ],
            "image/png": "[encoded data removed]"
          },
          "metadata": {
            "needs_background": "light"
          }
        }
      ]
    },
    {
      "cell_type": "markdown",
      "source": [
        "3, 4번 클래스가 대부분을 차지하고 있고 그 뒤로는 19번, 16번, 1번, 11번 등이 높은 분포를 가지고 있다.<br/>(num_words=10000 으로 설정했을 때와 변화 없다)"
      ],
      "metadata": {
        "id": "hLl5MIGfnRFH"
      }
    },
    {
      "cell_type": "code",
      "source": [
        "unique_elements, counts_elements = np.unique(y_train, return_counts=True)\n",
        "print('각 클래스 빈도수:')\n",
        "print(np.asarray((unique_elements, counts_elements)))"
      ],
      "metadata": {
        "colab": {
          "base_uri": "https://localhost:8080/"
        },
        "outputId": "96985720-684e-4fa6-f0b7-836585d26c51",
        "id": "8JSBIbhInRFH"
      },
      "execution_count": 31,
      "outputs": [
        {
          "output_type": "stream",
          "name": "stdout",
          "text": [
            "각 클래스 빈도수:\n",
            "[[   0    1    2    3    4    5    6    7    8    9   10   11   12   13\n",
            "    14   15   16   17   18   19   20   21   22   23   24   25   26   27\n",
            "    28   29   30   31   32   33   34   35   36   37   38   39   40   41\n",
            "    42   43   44   45]\n",
            " [  55  432   74 3159 1949   17   48   16  139  101  124  390   49  172\n",
            "    26   20  444   39   66  549  269  100   15   41   62   92   24   15\n",
            "    48   19   45   39   32   11   50   10   49   19   19   24   36   30\n",
            "    13   21   12   18]]\n"
          ]
        }
      ]
    },
    {
      "cell_type": "markdown",
      "source": [
        "#### data 복원하기"
      ],
      "metadata": {
        "id": "seMO90Z5nRFH"
      }
    },
    {
      "cell_type": "code",
      "source": [
        "word_index = reuters.get_word_index(path='reuters_word_index.json')"
      ],
      "metadata": {
        "id": "QtGg0401nRFH"
      },
      "execution_count": 32,
      "outputs": []
    },
    {
      "cell_type": "code",
      "source": [
        "index_to_word = {index+3: word for word, index in word_index.items()}\n",
        "print(index_to_word[5])"
      ],
      "metadata": {
        "colab": {
          "base_uri": "https://localhost:8080/"
        },
        "outputId": "fe460de0-cc80-490f-fc70-5674f84d9f21",
        "id": "bE5Wj8WknRFH"
      },
      "execution_count": 33,
      "outputs": [
        {
          "output_type": "stream",
          "name": "stdout",
          "text": [
            "of\n"
          ]
        }
      ]
    },
    {
      "cell_type": "code",
      "source": [
        "for index, token in enumerate(('<pad>', '<sos>', '<unk>')):\n",
        "  index_to_word[index]=token\n",
        "\n",
        "print(' '.join([index_to_word[index] for index in x_train[0]]))"
      ],
      "metadata": {
        "colab": {
          "base_uri": "https://localhost:8080/"
        },
        "outputId": "6598fcbe-9a1e-40bd-a7ea-149035c9b1c0",
        "id": "YKMvIIIQnRFH"
      },
      "execution_count": 34,
      "outputs": [
        {
          "output_type": "stream",
          "name": "stdout",
          "text": [
            "<sos> <unk> <unk> said as a result of its december acquisition of space co it expects earnings per share in 1987 of 1 15 to 1 30 dlrs per share up from 70 cts in 1986 the company said pretax net should rise to nine to 10 mln dlrs from six mln dlrs in 1986 and rental operation revenues to 19 to 22 mln dlrs from 12 5 mln dlrs it said cash flow per share this year should be 2 50 to three dlrs reuter 3\n"
          ]
        }
      ]
    },
    {
      "cell_type": "markdown",
      "source": [
        "전체 train, test data 복원"
      ],
      "metadata": {
        "id": "65zoeu1SnRFI"
      }
    },
    {
      "cell_type": "code",
      "source": [
        "decoded = []\n",
        "for i in range(len(x_train)):\n",
        "  t = ' '.join([index_to_word[index] for index in x_train[i]])\n",
        "  decoded.append(t)\n",
        "\n",
        "x_train = decoded\n",
        "print(len(x_train))"
      ],
      "metadata": {
        "colab": {
          "base_uri": "https://localhost:8080/"
        },
        "outputId": "a611df53-ab5c-4ab6-c81a-75042280a1b1",
        "id": "f-52xM96nRFI"
      },
      "execution_count": 35,
      "outputs": [
        {
          "output_type": "stream",
          "name": "stdout",
          "text": [
            "8982\n"
          ]
        }
      ]
    },
    {
      "cell_type": "code",
      "source": [
        "decoded = []\n",
        "for i in range(len(x_test)):\n",
        "  t = ' '.join([index_to_word[index] for index in x_test[i]])\n",
        "  decoded.append(t)\n",
        "\n",
        "x_test = decoded\n",
        "print(len(x_test))"
      ],
      "metadata": {
        "colab": {
          "base_uri": "https://localhost:8080/"
        },
        "outputId": "f97ca66e-0ad5-4024-8961-db2929c43bae",
        "id": "mpKyvvJrnRFI"
      },
      "execution_count": 36,
      "outputs": [
        {
          "output_type": "stream",
          "name": "stdout",
          "text": [
            "2246\n"
          ]
        }
      ]
    },
    {
      "cell_type": "markdown",
      "source": [
        "#### DTM"
      ],
      "metadata": {
        "id": "zT4JlaLlnRFI"
      }
    },
    {
      "cell_type": "code",
      "source": [
        "dtmvector = CountVectorizer()\n",
        "x_train_dtm = dtmvector.fit_transform(x_train)\n",
        "print(x_train_dtm.shape)"
      ],
      "metadata": {
        "colab": {
          "base_uri": "https://localhost:8080/"
        },
        "outputId": "4f47f640-aee9-4ebc-dac5-d0925a38aa96",
        "id": "q0etrueunRFI"
      },
      "execution_count": 37,
      "outputs": [
        {
          "output_type": "stream",
          "name": "stdout",
          "text": [
            "(8982, 6807)\n"
          ]
        }
      ]
    },
    {
      "cell_type": "markdown",
      "source": [
        "#### TF-IDF Matrix"
      ],
      "metadata": {
        "id": "B4Tw1wmQnRFJ"
      }
    },
    {
      "cell_type": "code",
      "source": [
        "tfidf_transformer = TfidfTransformer()\n",
        "tfidfv = tfidf_transformer.fit_transform(x_train_dtm)\n",
        "print(tfidfv.shape)"
      ],
      "metadata": {
        "colab": {
          "base_uri": "https://localhost:8080/"
        },
        "outputId": "67d75325-3949-4e3a-9821-bea4b3640375",
        "id": "NOrs0afcnRFJ"
      },
      "execution_count": 38,
      "outputs": [
        {
          "output_type": "stream",
          "name": "stdout",
          "text": [
            "(8982, 6807)\n"
          ]
        }
      ]
    },
    {
      "cell_type": "markdown",
      "source": [
        "test data 변환"
      ],
      "metadata": {
        "id": "HpqR3I9YnRFJ"
      }
    },
    {
      "cell_type": "code",
      "source": [
        "x_test_dtm = dtmvector.transform(x_test)\n",
        "tfidfv_test = tfidf_transformer.transform(x_test_dtm) #DTM 을 TF-IDF 행렬로 변환"
      ],
      "metadata": {
        "id": "gaCMI7Z6nRFJ"
      },
      "execution_count": 39,
      "outputs": []
    },
    {
      "cell_type": "markdown",
      "source": [
        "### 모델별 정확도 예측"
      ],
      "metadata": {
        "id": "Fe5KPD62nRFJ"
      }
    },
    {
      "cell_type": "code",
      "source": [
        "# 결과값 비교를 위한 리스트\n",
        "classifier_list = ['MultinomialNB', 'ComplementNB', 'Logistic Regression', 'LinearSVC', 'Decision Tree', \n",
        "                   'Random Forest', 'GradientBoostingClassifier', 'Voting']\n",
        "classifier_score_list = []"
      ],
      "metadata": {
        "id": "ao5dEIcgnRFJ"
      },
      "execution_count": 40,
      "outputs": []
    },
    {
      "cell_type": "markdown",
      "source": [
        "#### 나이브 베이즈 분류기 Multinomial Naive Bayes Classifier"
      ],
      "metadata": {
        "id": "lRn48KKVnRFJ"
      }
    },
    {
      "cell_type": "code",
      "source": [
        "model = MultinomialNB()\n",
        "model.fit(tfidfv, y_train)\n",
        "\n",
        "predicted = model.predict(tfidfv_test)\n",
        "print('accuracy:', accuracy_score(y_test, predicted)) #예측값과 실제값 비교\n",
        "\n",
        "classifier_score_list.append(accuracy_score(y_test, predicted))"
      ],
      "metadata": {
        "colab": {
          "base_uri": "https://localhost:8080/"
        },
        "outputId": "97a35ed6-4170-4dce-8a54-bfc5a1c36ea9",
        "id": "IUnaOxsrnRFJ"
      },
      "execution_count": 41,
      "outputs": [
        {
          "output_type": "stream",
          "name": "stdout",
          "text": [
            "accuracy: 0.6647373107747105\n"
          ]
        }
      ]
    },
    {
      "cell_type": "markdown",
      "source": [
        "#### Complement Naive Bayes Classifier(CNB)"
      ],
      "metadata": {
        "id": "GmM0d4QYnRFJ"
      }
    },
    {
      "cell_type": "code",
      "source": [
        "cb = ComplementNB()\n",
        "cb.fit(tfidfv, y_train)\n",
        "\n",
        "predicted = cb.predict(tfidfv_test)\n",
        "print('accuracy:', accuracy_score(y_test, predicted))\n",
        "\n",
        "classifier_score_list.append(accuracy_score(y_test, predicted))"
      ],
      "metadata": {
        "colab": {
          "base_uri": "https://localhost:8080/"
        },
        "outputId": "e4094a18-0c1d-4b8b-a320-7d63b7801e7f",
        "id": "JdZyI6egnRFK"
      },
      "execution_count": 42,
      "outputs": [
        {
          "output_type": "stream",
          "name": "stdout",
          "text": [
            "accuracy: 0.7684772929652716\n"
          ]
        }
      ]
    },
    {
      "cell_type": "markdown",
      "source": [
        "#### 로지스틱 회귀 Logistic Regression\n",
        "\n",
        "parameter\n",
        "* penalty: 규제에 사용된 기준을 지정 (l1, l2, elasticnet, none) - default:l2\n",
        "* C: 규제 강도"
      ],
      "metadata": {
        "id": "ru1YJWronRFK"
      }
    },
    {
      "cell_type": "code",
      "source": [
        "lr = LogisticRegression(C=10000, penalty='l2')\n",
        "lr.fit(tfidfv, y_train)\n",
        "predicted = cb.predict(tfidfv_test)\n",
        "\n",
        "print('accuracy:', accuracy_score(y_test, predicted))\n",
        "\n",
        "classifier_score_list.append(accuracy_score(y_test, predicted))"
      ],
      "metadata": {
        "colab": {
          "base_uri": "https://localhost:8080/"
        },
        "outputId": "166c6aa7-d786-4dcd-ccc6-ed0aab522122",
        "id": "713ElVnNnRFK"
      },
      "execution_count": 43,
      "outputs": [
        {
          "output_type": "stream",
          "name": "stdout",
          "text": [
            "accuracy: 0.7684772929652716\n"
          ]
        },
        {
          "output_type": "stream",
          "name": "stderr",
          "text": [
            "/usr/local/lib/python3.7/dist-packages/sklearn/linear_model/_logistic.py:818: ConvergenceWarning: lbfgs failed to converge (status=1):\n",
            "STOP: TOTAL NO. of ITERATIONS REACHED LIMIT.\n",
            "\n",
            "Increase the number of iterations (max_iter) or scale the data as shown in:\n",
            "    https://scikit-learn.org/stable/modules/preprocessing.html\n",
            "Please also refer to the documentation for alternative solver options:\n",
            "    https://scikit-learn.org/stable/modules/linear_model.html#logistic-regression\n",
            "  extra_warning_msg=_LOGISTIC_SOLVER_CONVERGENCE_MSG,\n"
          ]
        }
      ]
    },
    {
      "cell_type": "markdown",
      "source": [
        "#### 선형 서포트 벡터 머신 Linear Support Vector Machine"
      ],
      "metadata": {
        "id": "iD6Wk5fMnRFK"
      }
    },
    {
      "cell_type": "code",
      "source": [
        "lsvc = LinearSVC(C=1000, penalty='l1', max_iter=500, dual=False)\n",
        "lsvc.fit(tfidfv, y_train)\n",
        "\n",
        "predicted = lsvc.predict(tfidfv_test)\n",
        "print('accuracy:', accuracy_score(y_test, predicted))\n",
        "\n",
        "classifier_score_list.append(accuracy_score(y_test, predicted))"
      ],
      "metadata": {
        "colab": {
          "base_uri": "https://localhost:8080/"
        },
        "outputId": "05cdb0cb-6b59-4ec3-fda0-28d876754ad3",
        "id": "qA2ut0i8nRFK"
      },
      "execution_count": 44,
      "outputs": [
        {
          "output_type": "stream",
          "name": "stdout",
          "text": [
            "accuracy: 0.7729296527159395\n"
          ]
        },
        {
          "output_type": "stream",
          "name": "stderr",
          "text": [
            "/usr/local/lib/python3.7/dist-packages/sklearn/svm/_base.py:1208: ConvergenceWarning: Liblinear failed to converge, increase the number of iterations.\n",
            "  ConvergenceWarning,\n"
          ]
        }
      ]
    },
    {
      "cell_type": "markdown",
      "source": [
        "#### 결정 트리 Decision Tree"
      ],
      "metadata": {
        "id": "1kShO8SEnRFK"
      }
    },
    {
      "cell_type": "code",
      "source": [
        "tree = DecisionTreeClassifier(max_depth=10, random_state=0)\n",
        "tree.fit(tfidfv, y_train)\n",
        "\n",
        "predicted = tree.predict(tfidfv_test)\n",
        "print('accuracy:', accuracy_score(y_test, predicted))\n",
        "\n",
        "classifier_score_list.append(accuracy_score(y_test, predicted))"
      ],
      "metadata": {
        "colab": {
          "base_uri": "https://localhost:8080/"
        },
        "outputId": "ab111c1b-9413-468f-ea0b-928c8a48685f",
        "id": "yY9tSdr-nRFK"
      },
      "execution_count": 45,
      "outputs": [
        {
          "output_type": "stream",
          "name": "stdout",
          "text": [
            "accuracy: 0.6206589492430988\n"
          ]
        }
      ]
    },
    {
      "cell_type": "markdown",
      "source": [
        "#### 랜덤 포레스트 Random Forest"
      ],
      "metadata": {
        "id": "jENOq2NdnRFK"
      }
    },
    {
      "cell_type": "code",
      "source": [
        "forest = RandomForestClassifier(n_estimators=5, random_state=0)\n",
        "forest.fit(tfidfv, y_train)\n",
        "\n",
        "predicted = forest.predict(tfidfv_test)\n",
        "print('accuracy:', accuracy_score(y_test, predicted))\n",
        "\n",
        "classifier_score_list.append(accuracy_score(y_test, predicted))"
      ],
      "metadata": {
        "colab": {
          "base_uri": "https://localhost:8080/"
        },
        "outputId": "49b8eb4e-6bae-4b53-c93f-ec064258c39f",
        "id": "Ganej8jgnRFK"
      },
      "execution_count": 46,
      "outputs": [
        {
          "output_type": "stream",
          "name": "stdout",
          "text": [
            "accuracy: 0.6736420302760463\n"
          ]
        }
      ]
    },
    {
      "cell_type": "markdown",
      "source": [
        "#### 그래디언트 부스팅 트리 GradientBoostingClassifier"
      ],
      "metadata": {
        "id": "aiVrOkIrnRFL"
      }
    },
    {
      "cell_type": "code",
      "source": [
        "grbt = GradientBoostingClassifier(random_state=0, verbose=3)\n",
        "grbt.fit(tfidfv, y_train)\n",
        "\n",
        "predicted = grbt.predict(tfidfv_test)\n",
        "print('accuracy:', accuracy_score(y_test, predicted))\n",
        "\n",
        "classifier_score_list.append(accuracy_score(y_test, predicted))"
      ],
      "metadata": {
        "colab": {
          "base_uri": "https://localhost:8080/"
        },
        "outputId": "fb6ab40d-2c13-4372-cd87-2934a7f5ab54",
        "id": "JPkA6B-mnRFL"
      },
      "execution_count": 47,
      "outputs": [
        {
          "output_type": "stream",
          "name": "stdout",
          "text": [
            "      Iter       Train Loss   Remaining Time \n",
            "         1           1.4702           14.29m\n",
            "         2       66877.7080           14.38m\n",
            "         3 889935379239589.0000           14.31m\n",
            "         4 473359652203823424.0000           14.21m\n",
            "         5 5684890459610620717999549779132711970496885722902391376835471286389172216935743488.0000           14.10m\n",
            "         6 5684890459610620717999549779132711970496885722902391376835471286389172216935743488.0000           13.96m\n",
            "         7 24726776950066592341950498667020400738329317895488375303073597129553646484008730624.0000           13.81m\n",
            "         8 24726776950066592341950498667020400738329317895488375303073597129553646484008730624.0000           13.65m\n",
            "         9 24726776950066592341950498667020400738329317895488375303073597129553646484008730624.0000           13.50m\n",
            "        10 24726776950066592341950498667020400738329317895488375303073597129553646484008730624.0000           13.37m\n",
            "        11 24726776950066592341950498667020400738329317895488375303073597129553646484008730624.0000           13.23m\n",
            "        12 24726776950066592341950498667020400738329317895488375303073597129553646484008730624.0000           13.08m\n",
            "        13 24726776950066592341950498667020400738329317895488375303073597129553646484008730624.0000           12.94m\n",
            "        14 24726776950066592341950498667020400738329317895488375303073597129553646484008730624.0000           12.79m\n",
            "        15 24726776950066592341950498667020400738329317895488375303073597129553646484008730624.0000           12.64m\n",
            "        16 24726776950066592341950498667020400738329317895488375303073597129553646484008730624.0000           12.50m\n",
            "        17 24726776950066592341950498667020400738329317895488375303073597129553646484008730624.0000           12.35m\n",
            "        18 24726776950066592341950498667020400738329317895488375303073597129553646484008730624.0000           12.21m\n",
            "        19 24726776950066592341950498667020400738329317895488375303073597129553646484008730624.0000           12.06m\n",
            "        20 24726776950066592341950498667020400738329317895488375303073597129553646484008730624.0000           11.91m\n",
            "        21 24726776950066592341950498667020400738329317895488375303073597129553646484008730624.0000           11.75m\n",
            "        22 24726776950066592341950498667020400738329317895488375303073597129553646484008730624.0000           11.60m\n",
            "        23 24726776950066592341950498667020400738329317895488375303073597129553646484008730624.0000           11.45m\n",
            "        24 24726776950066592341950498667020400738329317895488375303073597129553646484008730624.0000           11.30m\n",
            "        25 24726776950066592341950498667020400738329317895488375303073597129553646484008730624.0000           11.15m\n",
            "        26 24726776950066592341950498667020400738329317895488375303073597129553646484008730624.0000           11.00m\n",
            "        27 24726776950066592341950498667020400738329317895488375303073597129553646484008730624.0000           10.84m\n",
            "        28 24726776950066592341950498667020400738329317895488375303073597129553646484008730624.0000           10.70m\n",
            "        29 24726776950066592341950498667020400738329317895488375303073597129553646484008730624.0000           10.54m\n",
            "        30 24726776950066592341950498667020400738329317895488375303073597129553646484008730624.0000           10.39m\n",
            "        31 24726776950066592341950498667020400738329317895488375303073597129553646484008730624.0000           10.24m\n",
            "        32 24726776950066592341950498667020400738329317895488375303073597129553646484008730624.0000           10.09m\n",
            "        33 24726776950066592341950498667020400738329317895488375303073597129553646484008730624.0000            9.94m\n",
            "        34 24726776950066592341950498667020400738329317895488375303073597129553646484008730624.0000            9.79m\n",
            "        35 24726776950066592341950498667020400738329317895488375303073597129553646484008730624.0000            9.64m\n",
            "        36 24726776950066592341950498667020400738329317895488375303073597129553646484008730624.0000            9.49m\n",
            "        37 24726776950066592341950498667020400738329317895488375303073597129553646484008730624.0000            9.34m\n",
            "        38 24726776950066592341950498667020400738329317895488375303073597129553646484008730624.0000            9.19m\n",
            "        39 24726776950066592341950498667020400738329317895488375303073597129553646484008730624.0000            9.04m\n",
            "        40 24726776950066592341950498667020400738329317895488375303073597129553646484008730624.0000            8.89m\n",
            "        41 24726776950066592341950498667020400738329317895488375303073597129553646484008730624.0000            8.74m\n",
            "        42 24726776950066592341950498667020400738329317895488375303073597129553646484008730624.0000            8.60m\n",
            "        43 24726776950066592341950498667020400738329317895488375303073597129553646484008730624.0000            8.45m\n",
            "        44 24726776950066592341950498667020400738329317895488375303073597129553646484008730624.0000            8.30m\n",
            "        45 24726776950066592341950498667020400738329317895488375303073597129553646484008730624.0000            8.15m\n",
            "        46 24726776950066592341950498667020400738329317895488375303073597129553646484008730624.0000            8.00m\n",
            "        47 24726776950066592341950498667020400738329317895488375303073597129553646484008730624.0000            7.85m\n",
            "        48 24726776950066592341950498667020400738329317895488375303073597129553646484008730624.0000            7.70m\n",
            "        49 24726776950066592341950498667020400738329317895488375303073597129553646484008730624.0000            7.55m\n",
            "        50 24726776950066592341950498667020400738329317895488375303073597129553646484008730624.0000            7.40m\n",
            "        51 24726776950066592341950498667020400738329317895488375303073597129553646484008730624.0000            7.25m\n",
            "        52 24726776950066592341950498667020400738329317895488375303073597129553646484008730624.0000            7.11m\n",
            "        53 24726776950066592341950498667020400738329317895488375303073597129553646484008730624.0000            6.96m\n",
            "        54 24726776950066592341950498667020400738329317895488375303073597129553646484008730624.0000            6.81m\n",
            "        55 24726776950066592341950498667020400738329317895488375303073597129553646484008730624.0000            6.66m\n",
            "        56 24726776950066592341950498667020400738329317895488375303073597129553646484008730624.0000            6.51m\n",
            "        57 24726776950066592341950498667020400738329317895488375303073597129553646484008730624.0000            6.36m\n",
            "        58 24726776950066592341950498667020400738329317895488375303073597129553646484008730624.0000            6.22m\n",
            "        59 24726776950066592341950498667020400738329317895488375303073597129553646484008730624.0000            6.07m\n",
            "        60 24726776950066592341950498667020400738329317895488375303073597129553646484008730624.0000            5.92m\n",
            "        61 24726776950066592341950498667020400738329317895488375303073597129553646484008730624.0000            5.77m\n",
            "        62 24726776950066592341950498667020400738329317895488375303073597129553646484008730624.0000            5.62m\n",
            "        63 24726776950066592341950498667020400738329317895488375303073597129553646484008730624.0000            5.47m\n",
            "        64 24726776950066592341950498667020400738329317895488375303073597129553646484008730624.0000            5.32m\n",
            "        65 24726776950066592341950498667020400738329317895488375303073597129553646484008730624.0000            5.18m\n",
            "        66 24726776950066592341950498667020400738329317895488375303073597129553646484008730624.0000            5.03m\n",
            "        67 24726776950066592341950498667020400738329317895488375303073597129553646484008730624.0000            4.88m\n",
            "        68 24726776950066592341950498667020400738329317895488375303073597129553646484008730624.0000            4.73m\n",
            "        69 24726776950066592341950498667020400738329317895488375303073597129553646484008730624.0000            4.58m\n",
            "        70 24726776950066592341950498667020400738329317895488375303073597129553646484008730624.0000            4.44m\n",
            "        71 24726776950066592341950498667020400738329317895488375303073597129553646484008730624.0000            4.29m\n",
            "        72 24726776950066592341950498667020400738329317895488375303073597129553646484008730624.0000            4.14m\n",
            "        73 24726776950066592341950498667020400738329317895488375303073597129553646484008730624.0000            3.99m\n",
            "        74 24726776950066592341950498667020400738329317895488375303073597129553646484008730624.0000            3.84m\n",
            "        75 24726776950066592341950498667020400738329317895488375303073597129553646484008730624.0000            3.70m\n",
            "        76 24726776950066592341950498667020400738329317895488375303073597129553646484008730624.0000            3.55m\n",
            "        77 24726776950066592341950498667020400738329317895488375303073597129553646484008730624.0000            3.40m\n",
            "        78 24726776950066592341950498667020400738329317895488375303073597129553646484008730624.0000            3.25m\n",
            "        79 24726776950066592341950498667020400738329317895488375303073597129553646484008730624.0000            3.10m\n",
            "        80 24726776950066592341950498667020400738329317895488375303073597129553646484008730624.0000            2.96m\n",
            "        81 24726776950066592341950498667020400738329317895488375303073597129553646484008730624.0000            2.81m\n",
            "        82 24726776950066592341950498667020400738329317895488375303073597129553646484008730624.0000            2.66m\n",
            "        83 24726776950066592341950498667020400738329317895488375303073597129553646484008730624.0000            2.51m\n",
            "        84 24726776950066592341950498667020400738329317895488375303073597129553646484008730624.0000            2.36m\n",
            "        85 24726776950066592341950498667020400738329317895488375303073597129553646484008730624.0000            2.22m\n",
            "        86 24726776950066592341950498667020400738329317895488375303073597129553646484008730624.0000            2.07m\n",
            "        87 24726776950066592341950498667020400738329317895488375303073597129553646484008730624.0000            1.92m\n",
            "        88 24726776950066592341950498667020400738329317895488375303073597129553646484008730624.0000            1.77m\n",
            "        89 24726776950066592341950498667020400738329317895488375303073597129553646484008730624.0000            1.63m\n",
            "        90 24726776950066592341950498667020400738329317895488375303073597129553646484008730624.0000            1.48m\n",
            "        91 24726776950066592341950498667020400738329317895488375303073597129553646484008730624.0000            1.33m\n",
            "        92 24726776950066592341950498667020400738329317895488375303073597129553646484008730624.0000            1.18m\n",
            "        93 24726776950066592341950498667020400738329317895488375303073597129553646484008730624.0000            1.03m\n",
            "        94 24726776950066592341950498667020400738329317895488375303073597129553646484008730624.0000           53.18s\n",
            "        95 24726776950066592341950498667020400738329317895488375303073597129553646484008730624.0000           44.31s\n",
            "        96 24726776950066592341950498667020400738329317895488375303073597129553646484008730624.0000           35.45s\n",
            "        97 24726776950066592341950498667020400738329317895488375303073597129553646484008730624.0000           26.58s\n",
            "        98 24726776950066592341950498667020400738329317895488375303073597129553646484008730624.0000           17.72s\n",
            "        99 24726776950066592341950498667020400738329317895488375303073597129553646484008730624.0000            8.86s\n",
            "       100 24726776950066592341950498667020400738329317895488375303073597129553646484008730624.0000            0.00s\n",
            "accuracy: 0.7604630454140695\n"
          ]
        }
      ]
    },
    {
      "cell_type": "markdown",
      "source": [
        "#### 보팅 Voting"
      ],
      "metadata": {
        "id": "fbQkizJEnRFL"
      }
    },
    {
      "cell_type": "code",
      "source": [
        "voting_classifier = VotingClassifier(estimators=[\n",
        "                                                 ('lr', LogisticRegression(C=10000, penalty='l2')),\n",
        "                                                 ('cb', ComplementNB()),\n",
        "                                                 ('grbt', GradientBoostingClassifier(random_state=0))\n",
        "], voting='soft', n_jobs=-1)\n",
        "voting_classifier.fit(tfidfv, y_train)\n",
        "\n",
        "predicted = voting_classifier.predict(tfidfv_test)\n",
        "print('accuracy:', accuracy_score(y_test, predicted))\n",
        "\n",
        "classifier_score_list.append(accuracy_score(y_test, predicted))"
      ],
      "metadata": {
        "colab": {
          "base_uri": "https://localhost:8080/"
        },
        "outputId": "fbc4aa70-9ae7-440c-a509-abc3c00e4f72",
        "id": "b6c9i0jsnRFL"
      },
      "execution_count": 48,
      "outputs": [
        {
          "output_type": "stream",
          "name": "stdout",
          "text": [
            "accuracy: 0.815227070347284\n"
          ]
        }
      ]
    },
    {
      "cell_type": "markdown",
      "source": [
        "#### accuracy 비교"
      ],
      "metadata": {
        "id": "uaC-L186nRFL"
      }
    },
    {
      "cell_type": "code",
      "source": [
        "print('Accuracy when 빈도수 상위 7,000개', end='\\n\\n')\n",
        "for x in range(len(classifier_list)):\n",
        "  print(classifier_list[x], ':', classifier_score_list[x].round(3), end='\\n\\n')"
      ],
      "metadata": {
        "colab": {
          "base_uri": "https://localhost:8080/"
        },
        "outputId": "168a9342-191d-4780-8ea5-f5c4f0bc6ff9",
        "id": "fvHhd-CznRFL"
      },
      "execution_count": 50,
      "outputs": [
        {
          "output_type": "stream",
          "name": "stdout",
          "text": [
            "Accuracy when 빈도수 상위 7,000개\n",
            "\n",
            "MultinomialNB : 0.665\n",
            "\n",
            "ComplementNB : 0.768\n",
            "\n",
            "Logistic Regression : 0.768\n",
            "\n",
            "LinearSVC : 0.773\n",
            "\n",
            "Decision Tree : 0.621\n",
            "\n",
            "Random Forest : 0.674\n",
            "\n",
            "GradientBoostingClassifier : 0.76\n",
            "\n",
            "Voting : 0.815\n",
            "\n"
          ]
        }
      ]
    },
    {
      "cell_type": "markdown",
      "source": [
        "**정확도 높은 순서** <br/>\n",
        "Voting > LinearSVC > ComplementNB, Logistic Regression > GradientBoostingClassifier > Random Forest > MultinomialNB > Decision Tree"
      ],
      "metadata": {
        "id": "FVZJCwwbnRFL"
      }
    },
    {
      "cell_type": "markdown",
      "source": [
        "## 딥러닝 모델과 비교"
      ],
      "metadata": {
        "id": "svZBGRAYKFxa"
      }
    },
    {
      "cell_type": "code",
      "source": [
        "(x_train, y_train), (x_test, y_test) = reuters.load_data(num_words=None, test_split=0.2)"
      ],
      "metadata": {
        "id": "qdsHHnFbJ4PM"
      },
      "execution_count": 59,
      "outputs": []
    },
    {
      "cell_type": "code",
      "source": [
        "print(x_train.shape, y_train.shape)\n",
        "print(x_test.shape, y_test.shape)"
      ],
      "metadata": {
        "colab": {
          "base_uri": "https://localhost:8080/"
        },
        "id": "4X0BOC2LKx4u",
        "outputId": "790395e1-de98-422f-9675-24843b884bfa"
      },
      "execution_count": 60,
      "outputs": [
        {
          "output_type": "stream",
          "name": "stdout",
          "text": [
            "(8982,) (8982,)\n",
            "(2246,) (2246,)\n"
          ]
        }
      ]
    },
    {
      "cell_type": "code",
      "source": [
        "from keras.utils.np_utils import to_categorical\n",
        "\n",
        "def vectorize_sequences(sequences, dimension=30000):\n",
        "  results = np.zeros((len(sequences), dimension))\n",
        "  for i, sequence in enumerate(sequences):\n",
        "    results[i, sequence] = 1.\n",
        "    return results\n",
        "\n",
        "x_train = vectorize_sequences(x_train)\n",
        "x_test = vectorize_sequences(x_test)"
      ],
      "metadata": {
        "id": "GJzxjjcXK26j"
      },
      "execution_count": 61,
      "outputs": []
    },
    {
      "cell_type": "code",
      "source": [
        "one_hot_train_labels = to_categorical(y_train)\n",
        "one_hot_test_labels = to_categorical(y_test)"
      ],
      "metadata": {
        "id": "_-rkkeuQWi_O"
      },
      "execution_count": 62,
      "outputs": []
    },
    {
      "cell_type": "code",
      "source": [
        "from keras import models, layers\n",
        "\n",
        "model = models.Sequential()\n",
        "model.add(layers.Dense(64, activation='relu', input_shape=(30000, )))\n",
        "model.add(layers.Dense(64, activation='relu'))\n",
        "model.add(layers.Dense(46, activation='softmax'))\n",
        "\n",
        "model.summary()"
      ],
      "metadata": {
        "colab": {
          "base_uri": "https://localhost:8080/"
        },
        "id": "E4GpDHuVW52L",
        "outputId": "6b9fd958-957a-4e65-b8a8-adfdd10d2abf"
      },
      "execution_count": 63,
      "outputs": [
        {
          "output_type": "stream",
          "name": "stdout",
          "text": [
            "Model: \"sequential_8\"\n",
            "_________________________________________________________________\n",
            " Layer (type)                Output Shape              Param #   \n",
            "=================================================================\n",
            " dense_19 (Dense)            (None, 64)                1920064   \n",
            "                                                                 \n",
            " dense_20 (Dense)            (None, 64)                4160      \n",
            "                                                                 \n",
            " dense_21 (Dense)            (None, 46)                2990      \n",
            "                                                                 \n",
            "=================================================================\n",
            "Total params: 1,927,214\n",
            "Trainable params: 1,927,214\n",
            "Non-trainable params: 0\n",
            "_________________________________________________________________\n"
          ]
        }
      ]
    },
    {
      "cell_type": "code",
      "source": [
        "model.compile(optimizer='adam', loss='categorical_crossentropy', metrics=['accuracy'])"
      ],
      "metadata": {
        "id": "QO4VsrL-XJ5c"
      },
      "execution_count": 64,
      "outputs": []
    },
    {
      "cell_type": "code",
      "source": [
        "x_val = x_train[:2000]\n",
        "partial_x_train = x_train[2000:]\n",
        "\n",
        "y_val = one_hot_train_labels[:2000]\n",
        "partial_y_train = one_hot_train_labels[2000:]"
      ],
      "metadata": {
        "id": "2tT4xvRCXhSk"
      },
      "execution_count": 65,
      "outputs": []
    },
    {
      "cell_type": "code",
      "source": [
        "history = model.fit(partial_x_train, partial_y_train, epochs=15, batch_size=64, validation_data=(x_val, y_val))"
      ],
      "metadata": {
        "colab": {
          "base_uri": "https://localhost:8080/"
        },
        "id": "HW9X0uJGXyK7",
        "outputId": "2af1acff-40de-466b-c8c1-befe93645523"
      },
      "execution_count": 66,
      "outputs": [
        {
          "output_type": "stream",
          "name": "stdout",
          "text": [
            "Epoch 1/15\n",
            "110/110 [==============================] - 2s 18ms/step - loss: 3.7665 - accuracy: 0.3178 - val_loss: 3.7035 - val_accuracy: 0.3400\n",
            "Epoch 2/15\n",
            "110/110 [==============================] - 2s 16ms/step - loss: 3.6444 - accuracy: 0.3551 - val_loss: 3.5858 - val_accuracy: 0.3400\n",
            "Epoch 3/15\n",
            "110/110 [==============================] - 2s 17ms/step - loss: 3.5288 - accuracy: 0.3551 - val_loss: 3.4750 - val_accuracy: 0.3400\n",
            "Epoch 4/15\n",
            "110/110 [==============================] - 2s 16ms/step - loss: 3.4205 - accuracy: 0.3551 - val_loss: 3.3706 - val_accuracy: 0.3400\n",
            "Epoch 5/15\n",
            "110/110 [==============================] - 2s 16ms/step - loss: 3.3192 - accuracy: 0.3551 - val_loss: 3.2738 - val_accuracy: 0.3400\n",
            "Epoch 6/15\n",
            "110/110 [==============================] - 2s 16ms/step - loss: 3.2248 - accuracy: 0.3551 - val_loss: 3.1838 - val_accuracy: 0.3400\n",
            "Epoch 7/15\n",
            "110/110 [==============================] - 2s 16ms/step - loss: 3.1370 - accuracy: 0.3551 - val_loss: 3.1002 - val_accuracy: 0.3400\n",
            "Epoch 8/15\n",
            "110/110 [==============================] - 2s 16ms/step - loss: 3.0559 - accuracy: 0.3551 - val_loss: 3.0234 - val_accuracy: 0.3400\n",
            "Epoch 9/15\n",
            "110/110 [==============================] - 2s 16ms/step - loss: 2.9811 - accuracy: 0.3551 - val_loss: 2.9525 - val_accuracy: 0.3400\n",
            "Epoch 10/15\n",
            "110/110 [==============================] - 2s 16ms/step - loss: 2.9126 - accuracy: 0.3551 - val_loss: 2.8881 - val_accuracy: 0.3400\n",
            "Epoch 11/15\n",
            "110/110 [==============================] - 2s 16ms/step - loss: 2.8495 - accuracy: 0.3551 - val_loss: 2.8290 - val_accuracy: 0.3400\n",
            "Epoch 12/15\n",
            "110/110 [==============================] - 2s 16ms/step - loss: 2.7922 - accuracy: 0.3551 - val_loss: 2.7758 - val_accuracy: 0.3400\n",
            "Epoch 13/15\n",
            "110/110 [==============================] - 2s 16ms/step - loss: 2.7404 - accuracy: 0.3551 - val_loss: 2.7275 - val_accuracy: 0.3400\n",
            "Epoch 14/15\n",
            "110/110 [==============================] - 2s 16ms/step - loss: 2.6941 - accuracy: 0.3551 - val_loss: 2.6851 - val_accuracy: 0.3400\n",
            "Epoch 15/15\n",
            "110/110 [==============================] - 2s 16ms/step - loss: 2.6529 - accuracy: 0.3551 - val_loss: 2.6474 - val_accuracy: 0.3400\n"
          ]
        }
      ]
    },
    {
      "cell_type": "code",
      "source": [
        "model.evaluate(x_test, one_hot_test_labels)"
      ],
      "metadata": {
        "colab": {
          "base_uri": "https://localhost:8080/"
        },
        "id": "m6PK2Iw7mesE",
        "outputId": "edd280a4-755a-47bd-af66-76bbf1dfca24"
      },
      "execution_count": 67,
      "outputs": [
        {
          "output_type": "stream",
          "name": "stdout",
          "text": [
            "71/71 [==============================] - 0s 5ms/step - loss: 2.6450 - accuracy: 0.3620\n"
          ]
        },
        {
          "output_type": "execute_result",
          "data": {
            "text/plain": [
              "[2.645042896270752, 0.36197686195373535]"
            ]
          },
          "metadata": {},
          "execution_count": 67
        }
      ]
    },
    {
      "cell_type": "markdown",
      "source": [
        "---\n",
        "\n",
        "## 회고"
      ],
      "metadata": {
        "id": "wNXAym9eijWc"
      }
    },
    {
      "cell_type": "markdown",
      "source": [
        "accuracy 비교\n",
        "\n",
        "| models | 제한 없음 | 상위 7,000개 | 상위 5,000개 |\n",
        "|:--------|:--------:|:--------:|:--------:|\n",
        "| MultinomialNB | 0.6 | 0.665 | 0.673 |\n",
        "| ComplementNB | 0.765 | 0.768 | 0.771 |\n",
        "| Logistic Regression | 0.765 | 0.768 | 0.771 |\n",
        "| LinearSVC | 0.78 | 0.773 | 0.767 |\n",
        "| Decision Tree | 0.621 | 0.621 | 0.618 |\n",
        "| Random Forest | 0.654 | 0.674 | 0.701 |\n",
        "| GradientBoostingClassifier | 0.77 | 0.76 | 0.768 |\n",
        "| Voting | 0.819 | 0.815 | 0.816 |\n",
        "\n",
        "단어 수의 설정마다 각 모델의 accuracy의 변화가 있었지만 (당연하게도) 매번 `Voting` 이 가장 좋은 accuracy 를 유지했다.<br/>\n",
        "`GradientBoostingClassifier`이나 `Voting`의 경우 다소 시간이 걸렸지만 의외로 빨랐던 `LinearSVC`가 `GradientBoostingClassifier`와 비슷하거나 더 나은 accuracy 가 나왔다.<br/>\n",
        "시간 관계상 다른 딥러닝 모델을 사용해보지 못한 것이 아쉽다. 다른 딥러닝 모델을 적용하여 비교해보면 좋을 것 같다."
      ],
      "metadata": {
        "id": "2LcPZSGEi7AE"
      }
    }
  ]
}