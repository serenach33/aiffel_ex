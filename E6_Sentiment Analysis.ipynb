{
 "cells": [
  {
   "cell_type": "markdown",
   "id": "c223fbba",
   "metadata": {},
   "source": [
    "# Exploration 6: Sentiment Analysis on Movie Reviews\n",
    "\n",
    "---\n",
    "\n",
    "#### Model\n",
    "* GlobalMaxPooling1D\n",
    "* 1-D CNN\n",
    "* LSTM\n",
    "\n",
    "#### Datasets\n",
    "* Naver Sentiment Movie Corpus\n",
    "\n",
    "#### Goals\n",
    "\n",
    "1. To use multiple models\n",
    "2. To use gensim and Word2Vec\n",
    "3. Accuracy higher than 85%\n",
    "\n",
    "---"
   ]
  },
  {
   "cell_type": "markdown",
   "id": "06b5b660",
   "metadata": {},
   "source": [
    "## Importing Dependencies\n",
    "\n",
    "laying the foundation to build my model on"
   ]
  },
  {
   "cell_type": "code",
   "execution_count": 1,
   "id": "86b2bb31",
   "metadata": {},
   "outputs": [
    {
     "name": "stdout",
     "output_type": "stream",
     "text": [
      "All imported!\n"
     ]
    }
   ],
   "source": [
    "import os, re, gensim, urllib.request\n",
    "import pandas as pd\n",
    "import matplotlib.pyplot as plt\n",
    "%matplotlib inline\n",
    "import numpy as np\n",
    "from konlpy.tag import Okt\n",
    "from tensorflow import keras\n",
    "from tensorflow.keras.preprocessing.text import Tokenizer\n",
    "from tensorflow.keras.preprocessing.sequence import pad_sequences\n",
    "from collections import Counter\n",
    "from tensorflow.keras.initializers import Constant\n",
    "from gensim.models.keyedvectors import Word2VecKeyedVectors\n",
    "from gensim.models import KeyedVectors\n",
    "from konlpy.tag import Mecab\n",
    "from sklearn.model_selection import train_test_split\n",
    "from keras.callbacks import EarlyStopping\n",
    "\n",
    "print(\"All imported!\")"
   ]
  },
  {
   "cell_type": "markdown",
   "id": "8987e090",
   "metadata": {},
   "source": [
    "---\n",
    "\n",
    "## Data Pre-processing\n"
   ]
  },
  {
   "cell_type": "markdown",
   "id": "35c852cb",
   "metadata": {},
   "source": [
    "### Importing data"
   ]
  },
  {
   "cell_type": "code",
   "execution_count": 2,
   "id": "b04f3b12",
   "metadata": {},
   "outputs": [
    {
     "data": {
      "text/html": [
       "<div>\n",
       "<style scoped>\n",
       "    .dataframe tbody tr th:only-of-type {\n",
       "        vertical-align: middle;\n",
       "    }\n",
       "\n",
       "    .dataframe tbody tr th {\n",
       "        vertical-align: top;\n",
       "    }\n",
       "\n",
       "    .dataframe thead th {\n",
       "        text-align: right;\n",
       "    }\n",
       "</style>\n",
       "<table border=\"1\" class=\"dataframe\">\n",
       "  <thead>\n",
       "    <tr style=\"text-align: right;\">\n",
       "      <th></th>\n",
       "      <th>id</th>\n",
       "      <th>document</th>\n",
       "      <th>label</th>\n",
       "    </tr>\n",
       "  </thead>\n",
       "  <tbody>\n",
       "    <tr>\n",
       "      <th>0</th>\n",
       "      <td>9976970</td>\n",
       "      <td>아 더빙.. 진짜 짜증나네요 목소리</td>\n",
       "      <td>0</td>\n",
       "    </tr>\n",
       "    <tr>\n",
       "      <th>1</th>\n",
       "      <td>3819312</td>\n",
       "      <td>흠...포스터보고 초딩영화줄....오버연기조차 가볍지 않구나</td>\n",
       "      <td>1</td>\n",
       "    </tr>\n",
       "    <tr>\n",
       "      <th>2</th>\n",
       "      <td>10265843</td>\n",
       "      <td>너무재밓었다그래서보는것을추천한다</td>\n",
       "      <td>0</td>\n",
       "    </tr>\n",
       "    <tr>\n",
       "      <th>3</th>\n",
       "      <td>9045019</td>\n",
       "      <td>교도소 이야기구먼 ..솔직히 재미는 없다..평점 조정</td>\n",
       "      <td>0</td>\n",
       "    </tr>\n",
       "    <tr>\n",
       "      <th>4</th>\n",
       "      <td>6483659</td>\n",
       "      <td>사이몬페그의 익살스런 연기가 돋보였던 영화!스파이더맨에서 늙어보이기만 했던 커스틴 ...</td>\n",
       "      <td>1</td>\n",
       "    </tr>\n",
       "  </tbody>\n",
       "</table>\n",
       "</div>"
      ],
      "text/plain": [
       "         id                                           document  label\n",
       "0   9976970                                아 더빙.. 진짜 짜증나네요 목소리      0\n",
       "1   3819312                  흠...포스터보고 초딩영화줄....오버연기조차 가볍지 않구나      1\n",
       "2  10265843                                  너무재밓었다그래서보는것을추천한다      0\n",
       "3   9045019                      교도소 이야기구먼 ..솔직히 재미는 없다..평점 조정      0\n",
       "4   6483659  사이몬페그의 익살스런 연기가 돋보였던 영화!스파이더맨에서 늙어보이기만 했던 커스틴 ...      1"
      ]
     },
     "execution_count": 2,
     "metadata": {},
     "output_type": "execute_result"
    }
   ],
   "source": [
    "train_data = pd.read_table('~/aiffel/sentiment_classification/data/ratings_train.txt')\n",
    "test_data = pd.read_table('~/aiffel/sentiment_classification/data/ratings_test.txt')\n",
    "\n",
    "train_data.head()"
   ]
  },
  {
   "cell_type": "markdown",
   "id": "862e00b9",
   "metadata": {},
   "source": [
    "looks like label 0 is the negatives and 1 is the positives"
   ]
  },
  {
   "cell_type": "markdown",
   "id": "16998bc7",
   "metadata": {},
   "source": [
    "### Data loader"
   ]
  },
  {
   "cell_type": "code",
   "execution_count": 3,
   "id": "ab88a09c",
   "metadata": {
    "scrolled": true
   },
   "outputs": [
    {
     "name": "stdout",
     "output_type": "stream",
     "text": [
      "number of train data: 146182, number of test data: 49157\n"
     ]
    }
   ],
   "source": [
    "tokenizer = Mecab()\n",
    "stopwords = ['의','가','이','은','들','는','좀','잘','걍','과','도','를','으로','자','에','와','한','하다']\n",
    "\n",
    "# Data loader function\n",
    "def load_data(train_data, test_data, num_words=10000):\n",
    "    train_data.drop_duplicates(subset=['document'], inplace=True)\n",
    "    train_data['document'].replace('', np.nan, inplace=True)\n",
    "    train_data = train_data.dropna(how = 'any')\n",
    "\n",
    "    test_data.drop_duplicates(subset=['document'], inplace=True)\n",
    "    test_data['document'].replace('', np.nan, inplace=True)\n",
    "    test_data = test_data.dropna(how = 'any')\n",
    "\n",
    "    X_train = []\n",
    "    for sentence in train_data['document']:\n",
    "        temp_X = tokenizer.morphs(sentence) \n",
    "        temp_X = [word for word in temp_X if not word in stopwords] \n",
    "        X_train.append(temp_X)\n",
    "\n",
    "    X_test = []\n",
    "    for sentence in test_data['document']:\n",
    "        temp_X = tokenizer.morphs(sentence)\n",
    "        temp_X = [word for word in temp_X if not word in stopwords]\n",
    "        X_test.append(temp_X)\n",
    "    \n",
    "    # Dictionary\n",
    "    words = np.concatenate(X_train).tolist()\n",
    "    counter = Counter(words)\n",
    "    counter = counter.most_common(10000-4)\n",
    "    vocab = ['<PAD>', '<BOS>', '<UNK>', '<UNUSED>'] + [key for key, _ in counter]\n",
    "    word_to_index = {word:index for index, word in enumerate(vocab)}\n",
    "    \n",
    "    def wordlist_to_indexlist(wordlist):\n",
    "        return [word_to_index[word] if word in word_to_index else word_to_index['<UNK>'] for word in wordlist]\n",
    "    \n",
    "    X_train = list(map(wordlist_to_indexlist, X_train))\n",
    "    X_test = list(map(wordlist_to_indexlist, X_test))\n",
    "\n",
    "    return X_train, np.array(list(train_data['label'])), X_test, np.array(list(test_data['label'])), word_to_index\n",
    "\n",
    "X_train, y_train, X_test, y_test, word_to_index = load_data(train_data, test_data)\n",
    "print(\"number of train data: {}, number of test data: {}\".format(len(X_train), len(X_test)))\n",
    "\n",
    "index_to_word = {index:word for word, index in word_to_index.items()}"
   ]
  },
  {
   "cell_type": "code",
   "execution_count": 4,
   "id": "1de4423c",
   "metadata": {},
   "outputs": [
    {
     "name": "stdout",
     "output_type": "stream",
     "text": [
      "[32, 74, 919, 4, 4, 39, 228, 20, 33, 748]\n",
      "더 빙 . . 진짜 짜증 나 네요 목소리\n",
      "Label:  0\n",
      "[1028, 4, 11, 519, 549, 687, 5, 120, 4, 70, 1639, 52, 925, 1006, 15, 44, 391]\n",
      ". .. 포스터 보고 초딩 영화 줄 . ... 오버 연기 조차 가볍 지 않 구나\n",
      "Label:  1\n",
      "[24, 205, 2]\n",
      "재 <UNK>\n",
      "Label:  0\n",
      "[8409, 158, 3925, 4, 4, 298, 94, 17, 6, 4, 4, 58, 3479]\n",
      "이야기 구먼 . . 솔직히 재미 없 다 . . 평점 조정\n",
      "Label:  0\n",
      "[2, 8894, 1108, 52, 2832, 60, 5, 14, 2758, 41, 1188, 35, 351, 42, 22, 40, 60, 2, 2, 427, 3102, 1766, 6]\n",
      "익살 스런 연기 돋보였 던 영화 ! 스파이더맨 에서 늙 어 보이 기 만 했 던 <UNK> <UNK> 너무나 이뻐 보였 다\n",
      "Label:  1\n"
     ]
    }
   ],
   "source": [
    "def get_encoded_sentence(sentence, word_to_index):\n",
    "    return [word_to_index['<BOS>']]+[word_to_index[word] if word in word_to_index else word_to_index['<UNK>'] for word in sentence.split()]\n",
    "\n",
    "def get_encoded_sentences(sentences, word_to_index):\n",
    "    return [get_encoded_sentence(sentence, word_to_index) for sentence in sentences]\n",
    "\n",
    "def get_decoded_sentence(encoded_sentence, index_to_word):\n",
    "    return ' '.join(index_to_word[index] if index in index_to_word else '<UNK>' for index in encoded_sentence[1:])\n",
    "\n",
    "def get_decoded_sentences(encoded_sentences, index_to_word):\n",
    "    return [get_decoded_sentence(encoded_sentence, index_to_word) for encoded_sentence in encoded_sentences]\n",
    "\n",
    "for i in range(5):\n",
    "    print(X_train[i])\n",
    "    print(get_decoded_sentence(X_train[i], index_to_word))\n",
    "    print('Label: ', y_train[i])"
   ]
  },
  {
   "cell_type": "markdown",
   "id": "0f37f68a",
   "metadata": {},
   "source": [
    "### Data analysis"
   ]
  },
  {
   "cell_type": "code",
   "execution_count": 5,
   "id": "3e7ab418",
   "metadata": {},
   "outputs": [
    {
     "name": "stdout",
     "output_type": "stream",
     "text": [
      "average sentence length:  15.96940191154864\n",
      "max sentence length:  116\n",
      "sentence length standard deviation:  12.843571191092\n",
      "pad_sequences maxlen:  41\n",
      "93.42988343341575% of all sentences lies within the range of set maxlen value\n"
     ]
    }
   ],
   "source": [
    "total_data_text = list(X_train) + list(X_test)\n",
    "num_tokens = [len(tokens) for tokens in total_data_text]\n",
    "num_tokens = np.array(num_tokens)\n",
    "\n",
    "print('average sentence length: ', np.mean(num_tokens))\n",
    "print('max sentence length: ', np.max(num_tokens))\n",
    "print('sentence length standard deviation: ', np.std(num_tokens))\n",
    "\n",
    "max_tokens = np.mean(num_tokens) + 2*np.std(num_tokens)\n",
    "maxlen = int(max_tokens)\n",
    "print('pad_sequences maxlen: ', maxlen)\n",
    "print('{}% of all sentences lies within the range of set maxlen value'.format(np.sum(num_tokens < max_tokens) / len(num_tokens) *100))"
   ]
  },
  {
   "cell_type": "code",
   "execution_count": 6,
   "id": "c84d8125",
   "metadata": {},
   "outputs": [
    {
     "name": "stdout",
     "output_type": "stream",
     "text": [
      "(146182, 41)\n",
      "(49157, 41)\n"
     ]
    }
   ],
   "source": [
    "X_train = keras.preprocessing.sequence.pad_sequences(X_train,\n",
    "                                                        value=word_to_index['<PAD>'],\n",
    "                                                        padding='pre',\n",
    "                                                        maxlen=maxlen)\n",
    "\n",
    "X_test = keras.preprocessing.sequence.pad_sequences(X_test,\n",
    "                                                       value=word_to_index['<PAD>'],\n",
    "                                                       padding='pre',\n",
    "                                                       maxlen=maxlen)\n",
    "\n",
    "print(X_train.shape)\n",
    "print(X_test.shape)"
   ]
  },
  {
   "cell_type": "markdown",
   "id": "84a6a618",
   "metadata": {},
   "source": [
    "* padding is added in front of the sentences"
   ]
  },
  {
   "cell_type": "code",
   "execution_count": 7,
   "id": "47215151",
   "metadata": {
    "scrolled": true
   },
   "outputs": [
    {
     "data": {
      "text/plain": [
       "array([   0,    0,    0,    0,    0,    0,    0,    0,    0,    0,    0,\n",
       "          0,    0,    0,    0,    0,    0,    0,    0,    0,    0,    0,\n",
       "          0,    0, 1028,    4,   11,  519,  549,  687,    5,  120,    4,\n",
       "         70, 1639,   52,  925, 1006,   15,   44,  391], dtype=int32)"
      ]
     },
     "execution_count": 7,
     "metadata": {},
     "output_type": "execute_result"
    }
   ],
   "source": [
    "X_train[1]"
   ]
  },
  {
   "cell_type": "markdown",
   "id": "0848d7c0",
   "metadata": {},
   "source": [
    "---\n",
    "## Model Construction, Compile and Fit"
   ]
  },
  {
   "cell_type": "code",
   "execution_count": 8,
   "id": "7cdf6c55",
   "metadata": {},
   "outputs": [],
   "source": [
    "vocab_size = 10000\n",
    "word_vector_dim = 32"
   ]
  },
  {
   "cell_type": "code",
   "execution_count": 9,
   "id": "5dfd0b93",
   "metadata": {},
   "outputs": [],
   "source": [
    "X_train, X_val, y_train, y_val = train_test_split(X_train, y_train,\n",
    "                                                          test_size=0.2,\n",
    "                                                          random_state=7)"
   ]
  },
  {
   "cell_type": "code",
   "execution_count": 10,
   "id": "9f6da070",
   "metadata": {},
   "outputs": [],
   "source": [
    "early_stopping = EarlyStopping(monitor='val_loss', mode='min', verbose=1, patience=10)"
   ]
  },
  {
   "cell_type": "markdown",
   "id": "06f9efaa",
   "metadata": {},
   "source": [
    "### 1. GlobalMaxPooling1D"
   ]
  },
  {
   "cell_type": "code",
   "execution_count": 11,
   "id": "8e94ae9f",
   "metadata": {},
   "outputs": [
    {
     "name": "stdout",
     "output_type": "stream",
     "text": [
      "Model: \"sequential\"\n",
      "_________________________________________________________________\n",
      "Layer (type)                 Output Shape              Param #   \n",
      "=================================================================\n",
      "embedding (Embedding)        (None, None, 32)          320000    \n",
      "_________________________________________________________________\n",
      "global_max_pooling1d (Global (None, 32)                0         \n",
      "_________________________________________________________________\n",
      "dense (Dense)                (None, 8)                 264       \n",
      "_________________________________________________________________\n",
      "dense_1 (Dense)              (None, 1)                 9         \n",
      "=================================================================\n",
      "Total params: 320,273\n",
      "Trainable params: 320,273\n",
      "Non-trainable params: 0\n",
      "_________________________________________________________________\n"
     ]
    }
   ],
   "source": [
    "model1 = keras.Sequential()\n",
    "model1.add(keras.layers.Embedding(vocab_size, word_vector_dim, input_shape=(None,)))\n",
    "model1.add(keras.layers.GlobalMaxPooling1D())\n",
    "model1.add(keras.layers.Dense(8, activation='relu'))\n",
    "model1.add(keras.layers.Dense(1, activation='sigmoid'))\n",
    "\n",
    "model1.summary()"
   ]
  },
  {
   "cell_type": "code",
   "execution_count": 58,
   "id": "f5cf920e",
   "metadata": {},
   "outputs": [
    {
     "name": "stdout",
     "output_type": "stream",
     "text": [
      "Epoch 1/30\n",
      "1828/1828 [==============================] - 6s 3ms/step - loss: 0.1573 - accuracy: 0.9407 - val_loss: 0.5074 - val_accuracy: 0.8306\n",
      "Epoch 2/30\n",
      "1828/1828 [==============================] - 6s 3ms/step - loss: 0.1417 - accuracy: 0.9476 - val_loss: 0.5472 - val_accuracy: 0.8255\n",
      "Epoch 3/30\n",
      "1828/1828 [==============================] - 6s 3ms/step - loss: 0.1231 - accuracy: 0.9557 - val_loss: 0.5835 - val_accuracy: 0.8257\n",
      "Epoch 4/30\n",
      "1828/1828 [==============================] - 6s 3ms/step - loss: 0.1097 - accuracy: 0.9614 - val_loss: 0.6329 - val_accuracy: 0.8228\n",
      "Epoch 5/30\n",
      "1828/1828 [==============================] - 6s 3ms/step - loss: 0.0989 - accuracy: 0.9656 - val_loss: 0.6703 - val_accuracy: 0.8198\n",
      "Epoch 6/30\n",
      "1828/1828 [==============================] - 6s 3ms/step - loss: 0.0886 - accuracy: 0.9690 - val_loss: 0.7009 - val_accuracy: 0.8182\n",
      "Epoch 7/30\n",
      "1828/1828 [==============================] - 6s 3ms/step - loss: 0.0789 - accuracy: 0.9732 - val_loss: 0.7648 - val_accuracy: 0.8177\n",
      "Epoch 8/30\n",
      "1828/1828 [==============================] - 6s 3ms/step - loss: 0.0720 - accuracy: 0.9752 - val_loss: 0.7950 - val_accuracy: 0.8153\n",
      "Epoch 9/30\n",
      "1828/1828 [==============================] - 6s 3ms/step - loss: 0.0655 - accuracy: 0.9777 - val_loss: 0.8337 - val_accuracy: 0.8136\n",
      "Epoch 10/30\n",
      "1828/1828 [==============================] - 6s 3ms/step - loss: 0.0600 - accuracy: 0.9790 - val_loss: 0.8963 - val_accuracy: 0.8128\n",
      "Epoch 11/30\n",
      "1828/1828 [==============================] - 6s 3ms/step - loss: 0.0549 - accuracy: 0.9812 - val_loss: 0.9185 - val_accuracy: 0.8108\n",
      "Epoch 00011: early stopping\n"
     ]
    }
   ],
   "source": [
    "model1.compile(optimizer='adam',\n",
    "             loss='binary_crossentropy',\n",
    "             metrics=['accuracy'])\n",
    "            \n",
    "epochs=30\n",
    "\n",
    "history1 = model1.fit(X_train, \n",
    "                      y_train, \n",
    "                      epochs=epochs, \n",
    "                      batch_size=64, \n",
    "                      validation_data=(X_val, y_val),\n",
    "                      callbacks=[early_stopping],\n",
    "                      verbose=1)"
   ]
  },
  {
   "cell_type": "code",
   "execution_count": 96,
   "id": "e9d58cee",
   "metadata": {},
   "outputs": [
    {
     "name": "stdout",
     "output_type": "stream",
     "text": [
      "1537/1537 - 2s - loss: 0.8959 - accuracy: 0.8099\n",
      "[0.8959338665008545, 0.8099151849746704]\n"
     ]
    }
   ],
   "source": [
    "results1 = model1.evaluate(X_test,  y_test, verbose=2)\n",
    "print(results1)"
   ]
  },
  {
   "cell_type": "markdown",
   "id": "e6200973",
   "metadata": {},
   "source": [
    "### 2. 1-D CNN"
   ]
  },
  {
   "cell_type": "code",
   "execution_count": 14,
   "id": "23c37288",
   "metadata": {},
   "outputs": [
    {
     "name": "stdout",
     "output_type": "stream",
     "text": [
      "Model: \"CNN\"\n",
      "_________________________________________________________________\n",
      "Layer (type)                 Output Shape              Param #   \n",
      "=================================================================\n",
      "embedding_1 (Embedding)      (None, None, 32)          320000    \n",
      "_________________________________________________________________\n",
      "conv1d (Conv1D)              (None, None, 16)          3600      \n",
      "_________________________________________________________________\n",
      "max_pooling1d (MaxPooling1D) (None, None, 16)          0         \n",
      "_________________________________________________________________\n",
      "conv1d_1 (Conv1D)            (None, None, 16)          1808      \n",
      "_________________________________________________________________\n",
      "global_max_pooling1d_1 (Glob (None, 16)                0         \n",
      "_________________________________________________________________\n",
      "dense_2 (Dense)              (None, 8)                 136       \n",
      "_________________________________________________________________\n",
      "dense_3 (Dense)              (None, 1)                 9         \n",
      "=================================================================\n",
      "Total params: 325,553\n",
      "Trainable params: 325,553\n",
      "Non-trainable params: 0\n",
      "_________________________________________________________________\n"
     ]
    }
   ],
   "source": [
    "model2 = keras.Sequential(name='CNN')\n",
    "model2.add(keras.layers.Embedding(vocab_size, word_vector_dim, input_shape=(None,)))\n",
    "model2.add(keras.layers.Conv1D(16, 7, activation='relu'))\n",
    "model2.add(keras.layers.MaxPooling1D(5))\n",
    "model2.add(keras.layers.Conv1D(16, 7, activation='relu'))\n",
    "model2.add(keras.layers.GlobalMaxPooling1D())\n",
    "model2.add(keras.layers.Dense(8, activation='relu'))\n",
    "model2.add(keras.layers.Dense(1, activation='sigmoid'))\n",
    "\n",
    "model2.summary()"
   ]
  },
  {
   "cell_type": "code",
   "execution_count": 15,
   "id": "025cd505",
   "metadata": {},
   "outputs": [
    {
     "name": "stdout",
     "output_type": "stream",
     "text": [
      "Epoch 1/20\n",
      "229/229 [==============================] - 3s 6ms/step - loss: 0.5036 - accuracy: 0.7341 - val_loss: 0.3686 - val_accuracy: 0.8395\n",
      "Epoch 2/20\n",
      "229/229 [==============================] - 1s 5ms/step - loss: 0.3227 - accuracy: 0.8628 - val_loss: 0.3498 - val_accuracy: 0.8497\n",
      "Epoch 3/20\n",
      "229/229 [==============================] - 1s 5ms/step - loss: 0.2833 - accuracy: 0.8826 - val_loss: 0.3497 - val_accuracy: 0.8502\n",
      "Epoch 4/20\n",
      "229/229 [==============================] - 1s 5ms/step - loss: 0.2458 - accuracy: 0.9009 - val_loss: 0.3634 - val_accuracy: 0.8485\n",
      "Epoch 5/20\n",
      "229/229 [==============================] - 1s 5ms/step - loss: 0.2021 - accuracy: 0.9232 - val_loss: 0.3852 - val_accuracy: 0.8449\n",
      "Epoch 6/20\n",
      "229/229 [==============================] - 1s 5ms/step - loss: 0.1572 - accuracy: 0.9439 - val_loss: 0.4274 - val_accuracy: 0.8420\n",
      "Epoch 7/20\n",
      "229/229 [==============================] - 1s 5ms/step - loss: 0.1188 - accuracy: 0.9604 - val_loss: 0.4821 - val_accuracy: 0.8393\n",
      "Epoch 8/20\n",
      "229/229 [==============================] - 1s 5ms/step - loss: 0.0901 - accuracy: 0.9714 - val_loss: 0.5381 - val_accuracy: 0.8345\n",
      "Epoch 9/20\n",
      "229/229 [==============================] - 1s 5ms/step - loss: 0.0683 - accuracy: 0.9797 - val_loss: 0.5956 - val_accuracy: 0.8350\n",
      "Epoch 10/20\n",
      "229/229 [==============================] - 1s 5ms/step - loss: 0.0537 - accuracy: 0.9844 - val_loss: 0.6461 - val_accuracy: 0.8302\n",
      "Epoch 11/20\n",
      "229/229 [==============================] - 1s 5ms/step - loss: 0.0447 - accuracy: 0.9872 - val_loss: 0.7168 - val_accuracy: 0.8272\n",
      "Epoch 12/20\n",
      "229/229 [==============================] - 1s 5ms/step - loss: 0.0370 - accuracy: 0.9895 - val_loss: 0.7573 - val_accuracy: 0.8273\n",
      "Epoch 13/20\n",
      "229/229 [==============================] - 1s 5ms/step - loss: 0.0314 - accuracy: 0.9912 - val_loss: 0.8270 - val_accuracy: 0.8240\n",
      "Epoch 00013: early stopping\n"
     ]
    }
   ],
   "source": [
    "model2.compile(optimizer='adam',\n",
    "              loss='binary_crossentropy',\n",
    "              metrics=['accuracy'])\n",
    "              \n",
    "epochs=20\n",
    "\n",
    "history2 = model2.fit(X_train,\n",
    "                    y_train,\n",
    "                    epochs=epochs,\n",
    "                    batch_size=512,\n",
    "                    validation_data=(X_val, y_val),\n",
    "                    callbacks=[early_stopping],\n",
    "                    verbose=1)"
   ]
  },
  {
   "cell_type": "code",
   "execution_count": 97,
   "id": "7fa3831e",
   "metadata": {},
   "outputs": [
    {
     "name": "stdout",
     "output_type": "stream",
     "text": [
      "1537/1537 - 2s - loss: 0.8208 - accuracy: 0.8252\n",
      "[0.8208118677139282, 0.8251927495002747]\n"
     ]
    }
   ],
   "source": [
    "results2 = model2.evaluate(X_test,  y_test, verbose=2)\n",
    "print(results2)"
   ]
  },
  {
   "cell_type": "markdown",
   "id": "e85692c9",
   "metadata": {},
   "source": [
    "### 3. LSTM"
   ]
  },
  {
   "cell_type": "code",
   "execution_count": 17,
   "id": "91d00b23",
   "metadata": {},
   "outputs": [
    {
     "name": "stdout",
     "output_type": "stream",
     "text": [
      "Model: \"LSTM\"\n",
      "_________________________________________________________________\n",
      "Layer (type)                 Output Shape              Param #   \n",
      "=================================================================\n",
      "embedding_2 (Embedding)      (None, None, 32)          320000    \n",
      "_________________________________________________________________\n",
      "lstm (LSTM)                  (None, 8)                 1312      \n",
      "_________________________________________________________________\n",
      "dense_4 (Dense)              (None, 8)                 72        \n",
      "_________________________________________________________________\n",
      "dense_5 (Dense)              (None, 1)                 9         \n",
      "=================================================================\n",
      "Total params: 321,393\n",
      "Trainable params: 321,393\n",
      "Non-trainable params: 0\n",
      "_________________________________________________________________\n"
     ]
    }
   ],
   "source": [
    "model3 = keras.Sequential(name='LSTM')\n",
    "model3.add(keras.layers.Embedding(vocab_size, word_vector_dim, input_shape=(None,)))\n",
    "model3.add(keras.layers.LSTM(8))\n",
    "model3.add(keras.layers.Dense(8, activation='relu'))\n",
    "model3.add(keras.layers.Dense(1, activation='sigmoid'))\n",
    "\n",
    "model3.summary()"
   ]
  },
  {
   "cell_type": "code",
   "execution_count": 18,
   "id": "c6fa0aa9",
   "metadata": {},
   "outputs": [
    {
     "name": "stdout",
     "output_type": "stream",
     "text": [
      "Epoch 1/20\n",
      "229/229 [==============================] - 3s 7ms/step - loss: 0.4810 - accuracy: 0.7870 - val_loss: 0.3712 - val_accuracy: 0.8404\n",
      "Epoch 2/20\n",
      "229/229 [==============================] - 1s 5ms/step - loss: 0.3364 - accuracy: 0.8588 - val_loss: 0.3619 - val_accuracy: 0.8440\n",
      "Epoch 3/20\n",
      "229/229 [==============================] - 1s 6ms/step - loss: 0.3153 - accuracy: 0.8694 - val_loss: 0.3616 - val_accuracy: 0.8447\n",
      "Epoch 4/20\n",
      "229/229 [==============================] - 1s 6ms/step - loss: 0.3028 - accuracy: 0.8745 - val_loss: 0.3639 - val_accuracy: 0.8443\n",
      "Epoch 5/20\n",
      "229/229 [==============================] - 1s 5ms/step - loss: 0.2930 - accuracy: 0.8790 - val_loss: 0.3643 - val_accuracy: 0.8447\n",
      "Epoch 6/20\n",
      "229/229 [==============================] - 1s 5ms/step - loss: 0.2849 - accuracy: 0.8832 - val_loss: 0.3672 - val_accuracy: 0.8451\n",
      "Epoch 7/20\n",
      "229/229 [==============================] - 1s 5ms/step - loss: 0.2758 - accuracy: 0.8875 - val_loss: 0.3687 - val_accuracy: 0.8445\n",
      "Epoch 8/20\n",
      "229/229 [==============================] - 1s 5ms/step - loss: 0.2647 - accuracy: 0.8928 - val_loss: 0.3697 - val_accuracy: 0.8469\n",
      "Epoch 9/20\n",
      "229/229 [==============================] - 1s 5ms/step - loss: 0.2550 - accuracy: 0.8959 - val_loss: 0.3704 - val_accuracy: 0.8458\n",
      "Epoch 10/20\n",
      "229/229 [==============================] - 1s 5ms/step - loss: 0.2427 - accuracy: 0.9022 - val_loss: 0.3731 - val_accuracy: 0.8482\n",
      "Epoch 11/20\n",
      "229/229 [==============================] - 1s 6ms/step - loss: 0.2328 - accuracy: 0.9071 - val_loss: 0.3829 - val_accuracy: 0.8452\n",
      "Epoch 12/20\n",
      "229/229 [==============================] - 1s 6ms/step - loss: 0.2223 - accuracy: 0.9119 - val_loss: 0.3929 - val_accuracy: 0.8454\n",
      "Epoch 13/20\n",
      "229/229 [==============================] - 1s 5ms/step - loss: 0.2135 - accuracy: 0.9159 - val_loss: 0.3964 - val_accuracy: 0.8466\n",
      "Epoch 00013: early stopping\n"
     ]
    }
   ],
   "source": [
    "model3.compile(optimizer='adam',\n",
    "              loss='binary_crossentropy',\n",
    "              metrics=['accuracy'])\n",
    "              \n",
    "epochs=20\n",
    "\n",
    "history3 = model3.fit(X_train,\n",
    "                    y_train,\n",
    "                    epochs=epochs,\n",
    "                    batch_size=512,\n",
    "                    validation_data=(X_val, y_val),\n",
    "                    callbacks=[early_stopping],\n",
    "                    verbose=1)"
   ]
  },
  {
   "cell_type": "code",
   "execution_count": 98,
   "id": "9bb117c7",
   "metadata": {},
   "outputs": [
    {
     "name": "stdout",
     "output_type": "stream",
     "text": [
      "1537/1537 - 3s - loss: 0.3979 - accuracy: 0.8449\n",
      "[0.3979060649871826, 0.8449050784111023]\n"
     ]
    }
   ],
   "source": [
    "results3 = model3.evaluate(X_test,  y_test, verbose=2)\n",
    "print(results3)"
   ]
  },
  {
   "cell_type": "markdown",
   "id": "712498b0",
   "metadata": {},
   "source": [
    "### accuracy and loss graphs"
   ]
  },
  {
   "cell_type": "code",
   "execution_count": 60,
   "id": "d8cb1f0f",
   "metadata": {
    "scrolled": true
   },
   "outputs": [
    {
     "name": "stdout",
     "output_type": "stream",
     "text": [
      "dict_keys(['loss', 'accuracy', 'val_loss', 'val_accuracy'])\n"
     ]
    }
   ],
   "source": [
    "history1_dict = history1.history\n",
    "history2_dict = history2.history\n",
    "history3_dict = history3.history\n",
    "\n",
    "print(history1_dict.keys())"
   ]
  },
  {
   "cell_type": "code",
   "execution_count": 61,
   "id": "4ca7242a",
   "metadata": {
    "scrolled": true
   },
   "outputs": [
    {
     "data": {
      "text/plain": [
       "<Figure size 432x288 with 0 Axes>"
      ]
     },
     "metadata": {},
     "output_type": "display_data"
    },
    {
     "data": {
      "image/png": "[encoded data removed]",
      "text/plain": [
       "<Figure size 1152x288 with 2 Axes>"
      ]
     },
     "metadata": {
      "needs_background": "light"
     },
     "output_type": "display_data"
    }
   ],
   "source": [
    "#GlobalMaxPooling1D\n",
    "acc = history1_dict['accuracy']\n",
    "val_acc = history1_dict['val_accuracy']\n",
    "loss = history1_dict['loss']\n",
    "val_loss = history1_dict['val_loss']\n",
    "\n",
    "epochs = range(1, len(acc) + 1)\n",
    "\n",
    "plt.clf() \n",
    "\n",
    "plt.figure(figsize=(16,4))\n",
    "\n",
    "plt.subplot(1,2,1)\n",
    "plt.plot(epochs, acc, label='Training Accuracy')\n",
    "plt.plot(epochs, val_acc, label='Validation Accuracy')\n",
    "plt.title('GlobalMaxPooling training and validation accuracy')\n",
    "plt.xlabel('Epochs')\n",
    "plt.ylabel('Accuracy')\n",
    "plt.legend()\n",
    "\n",
    "plt.subplot(1,2,2)\n",
    "plt.plot(epochs, loss, label='Training Loss')\n",
    "plt.plot(epochs, val_loss, label='Validation Loss')\n",
    "plt.title('GlobalMaxPooling training and validation loss')\n",
    "plt.xlabel('Epochs')\n",
    "plt.ylabel('Loss')\n",
    "plt.legend()\n",
    "\n",
    "plt.show()"
   ]
  },
  {
   "cell_type": "code",
   "execution_count": 22,
   "id": "c1344e0d",
   "metadata": {
    "scrolled": true
   },
   "outputs": [
    {
     "data": {
      "text/plain": [
       "<Figure size 432x288 with 0 Axes>"
      ]
     },
     "metadata": {},
     "output_type": "display_data"
    },
    {
     "data": {
      "image/png": "[encoded data removed]",
      "text/plain": [
       "<Figure size 1152x288 with 2 Axes>"
      ]
     },
     "metadata": {
      "needs_background": "light"
     },
     "output_type": "display_data"
    }
   ],
   "source": [
    "#1-D CNN\n",
    "acc = history2_dict['accuracy']\n",
    "val_acc = history2_dict['val_accuracy']\n",
    "loss = history2_dict['loss']\n",
    "val_loss = history2_dict['val_loss']\n",
    "\n",
    "epochs = range(1, len(acc) + 1)\n",
    "\n",
    "plt.clf() \n",
    "\n",
    "plt.figure(figsize=(16,4))\n",
    "\n",
    "plt.subplot(1,2,1)\n",
    "plt.plot(epochs, acc, label='Training Accuracy')\n",
    "plt.plot(epochs, val_acc, label='Validation Accuracy')\n",
    "plt.title('1-D CNN training and validation accuracy')\n",
    "plt.xlabel('Epochs')\n",
    "plt.ylabel('Accuracy')\n",
    "plt.legend()\n",
    "\n",
    "plt.subplot(1,2,2)\n",
    "plt.plot(epochs, loss, label='Training Loss')\n",
    "plt.plot(epochs, val_loss, label='Validation Loss')\n",
    "plt.title('1-D CNN training and validation loss')\n",
    "plt.xlabel('Epochs')\n",
    "plt.ylabel('Loss')\n",
    "plt.legend()\n",
    "\n",
    "plt.show()"
   ]
  },
  {
   "cell_type": "code",
   "execution_count": 23,
   "id": "c2d12bbe",
   "metadata": {},
   "outputs": [
    {
     "data": {
      "text/plain": [
       "<Figure size 432x288 with 0 Axes>"
      ]
     },
     "metadata": {},
     "output_type": "display_data"
    },
    {
     "data": {
      "image/png": "[encoded data removed]",
      "text/plain": [
       "<Figure size 1152x288 with 2 Axes>"
      ]
     },
     "metadata": {
      "needs_background": "light"
     },
     "output_type": "display_data"
    }
   ],
   "source": [
    "#LSTM\n",
    "acc = history3_dict['accuracy']\n",
    "val_acc = history3_dict['val_accuracy']\n",
    "loss = history3_dict['loss']\n",
    "val_loss = history3_dict['val_loss']\n",
    "\n",
    "epochs = range(1, len(acc) + 1)\n",
    "\n",
    "plt.clf() \n",
    "\n",
    "plt.figure(figsize=(16,4))\n",
    "\n",
    "plt.subplot(1,2,1)\n",
    "plt.plot(epochs, acc, label='Training Accuracy')\n",
    "plt.plot(epochs, val_acc, label='Validation Accuracy')\n",
    "plt.title('LSTM training and validation accuracy')\n",
    "plt.xlabel('Epochs')\n",
    "plt.ylabel('Accuracy')\n",
    "plt.legend()\n",
    "\n",
    "plt.subplot(1,2,2)\n",
    "plt.plot(epochs, loss, label='Training Loss')\n",
    "plt.plot(epochs, val_loss, label='Validation Loss')\n",
    "plt.title('LSTM training and validation loss')\n",
    "plt.xlabel('Epochs')\n",
    "plt.ylabel('Loss')\n",
    "plt.legend()\n",
    "\n",
    "plt.show()"
   ]
  },
  {
   "cell_type": "markdown",
   "id": "9e33ab9f",
   "metadata": {},
   "source": [
    "## Embedding layer analysis"
   ]
  },
  {
   "cell_type": "code",
   "execution_count": 24,
   "id": "39fd5500",
   "metadata": {},
   "outputs": [
    {
     "name": "stdout",
     "output_type": "stream",
     "text": [
      "(10000, 32)\n"
     ]
    }
   ],
   "source": [
    "embedding_layer = model3.layers[0]\n",
    "weights = embedding_layer.get_weights()[0]\n",
    "print(weights.shape) # shape: (vocab_size, embedding_dim)"
   ]
  },
  {
   "cell_type": "code",
   "execution_count": 25,
   "id": "f36b4d3b",
   "metadata": {},
   "outputs": [],
   "source": [
    "word2vec_file_path = os.getenv('HOME')+'/aiffel/sentiment_classification/word2vec.txt'\n",
    "f = open(word2vec_file_path, 'w')\n",
    "f.write('{} {}\\n'.format(vocab_size-4, word_vector_dim))\n",
    "\n",
    "vectors = model3.get_weights()[0]\n",
    "for i in range(4,vocab_size):\n",
    "    f.write('{} {}\\n'.format(index_to_word[i], ' '.join(map(str, list(vectors[i, :])))))\n",
    "f.close()"
   ]
  },
  {
   "cell_type": "code",
   "execution_count": 26,
   "id": "8d7ed9ce",
   "metadata": {},
   "outputs": [],
   "source": [
    "word_vectors = Word2VecKeyedVectors.load_word2vec_format(word2vec_file_path, binary=False)"
   ]
  },
  {
   "cell_type": "code",
   "execution_count": 27,
   "id": "e08d5f58",
   "metadata": {},
   "outputs": [
    {
     "data": {
      "text/plain": [
       "array([ 0.17380646,  0.28894696, -0.10418054,  0.03672168,  0.13409118,\n",
       "        0.06237672,  0.07462927, -0.00829997,  0.17591566, -0.11348925,\n",
       "       -0.03901356, -0.21748222, -0.05198418,  0.1294495 , -0.23913479,\n",
       "        0.1208543 , -0.07131209, -0.21806547,  0.13024566,  0.13290158,\n",
       "       -0.20268025, -0.08058907,  0.05973604,  0.09884182,  0.11379284,\n",
       "        0.05255895,  0.0931486 ,  0.14042406, -0.11010145, -0.04521723,\n",
       "        0.10535672, -0.05575649], dtype=float32)"
      ]
     },
     "execution_count": 27,
     "metadata": {},
     "output_type": "execute_result"
    }
   ],
   "source": [
    "vector = word_vectors['감동']\n",
    "vector"
   ]
  },
  {
   "cell_type": "code",
   "execution_count": 28,
   "id": "f219c7c5",
   "metadata": {},
   "outputs": [
    {
     "data": {
      "text/plain": [
       "[('주옥같', 0.9799162745475769),\n",
       " ('am', 0.978428840637207),\n",
       " ('love', 0.9760814905166626),\n",
       " ('덴젤워싱턴', 0.9754340052604675),\n",
       " ('Best', 0.9750730991363525),\n",
       " ('best', 0.9731928110122681),\n",
       " ('예뻐요', 0.9729690551757812),\n",
       " ('Good', 0.9726728200912476),\n",
       " ('♥', 0.9720125198364258),\n",
       " ('♥♥', 0.9719205498695374)]"
      ]
     },
     "execution_count": 28,
     "metadata": {},
     "output_type": "execute_result"
    }
   ],
   "source": [
    "word_vectors.similar_by_word(\"황홀\")"
   ]
  },
  {
   "cell_type": "markdown",
   "id": "1e56bf8b",
   "metadata": {},
   "source": [
    "## Korean Word2Vec embedding"
   ]
  },
  {
   "cell_type": "code",
   "execution_count": 29,
   "id": "e3c2e472",
   "metadata": {},
   "outputs": [
    {
     "data": {
      "text/plain": [
       "'3.8.3'"
      ]
     },
     "execution_count": 29,
     "metadata": {},
     "output_type": "execute_result"
    }
   ],
   "source": [
    "import gensim\n",
    "gensim.__version__"
   ]
  },
  {
   "cell_type": "markdown",
   "id": "52c525f8",
   "metadata": {},
   "source": [
    "the version needs to be downgraded to 3.8.3<br/>\n",
    "before downgrading: v 4.1.2"
   ]
  },
  {
   "cell_type": "code",
   "execution_count": 31,
   "id": "31a54212",
   "metadata": {
    "scrolled": false
   },
   "outputs": [
    {
     "name": "stderr",
     "output_type": "stream",
     "text": [
      "/tmp/ipykernel_1811/239434341.py:3: DeprecationWarning: Call to deprecated `__getitem__` (Method will be removed in 4.0.0, use self.wv.__getitem__() instead).\n",
      "  vector = word2vec['사랑']\n"
     ]
    },
    {
     "data": {
      "text/plain": [
       "(200,)"
      ]
     },
     "execution_count": 31,
     "metadata": {},
     "output_type": "execute_result"
    }
   ],
   "source": [
    "word2vec_path = os.getenv('HOME')+'/aiffel/sentiment_classification/data/ko.bin'\n",
    "word2vec = gensim.models.Word2Vec.load(word2vec_path)\n",
    "vector = word2vec['사랑']\n",
    "vector.shape"
   ]
  },
  {
   "cell_type": "code",
   "execution_count": 34,
   "id": "9f9a98ba",
   "metadata": {},
   "outputs": [
    {
     "name": "stderr",
     "output_type": "stream",
     "text": [
      "/tmp/ipykernel_1811/219167998.py:1: DeprecationWarning: Call to deprecated `similar_by_word` (Method will be removed in 4.0.0, use self.wv.similar_by_word() instead).\n",
      "  word2vec.similar_by_word(\"감동\")\n"
     ]
    },
    {
     "data": {
      "text/plain": [
       "[('감명', 0.7177015542984009),\n",
       " ('감격', 0.6908231973648071),\n",
       " ('실망', 0.6267645359039307),\n",
       " ('감화', 0.6191877126693726),\n",
       " ('감탄', 0.6140128374099731),\n",
       " ('칭찬', 0.6059398055076599),\n",
       " ('존경', 0.6032299995422363),\n",
       " ('자극', 0.594598650932312),\n",
       " ('감복', 0.5902734994888306),\n",
       " ('호응', 0.5850393772125244)]"
      ]
     },
     "execution_count": 34,
     "metadata": {},
     "output_type": "execute_result"
    }
   ],
   "source": [
    "word2vec.similar_by_word(\"감동\")"
   ]
  },
  {
   "cell_type": "code",
   "execution_count": 35,
   "id": "cdfc70ff",
   "metadata": {},
   "outputs": [
    {
     "name": "stderr",
     "output_type": "stream",
     "text": [
      "/tmp/ipykernel_1811/1360476464.py:1: DeprecationWarning: Call to deprecated `similar_by_word` (Method will be removed in 4.0.0, use self.wv.similar_by_word() instead).\n",
      "  word2vec.similar_by_word(\"사랑\")\n"
     ]
    },
    {
     "data": {
      "text/plain": [
       "[('슬픔', 0.7216662764549255),\n",
       " ('행복', 0.6759077310562134),\n",
       " ('절망', 0.6468985080718994),\n",
       " ('기쁨', 0.6458414196968079),\n",
       " ('이별', 0.6334798336029053),\n",
       " ('추억', 0.6320937275886536),\n",
       " ('인생', 0.6216273307800293),\n",
       " ('애정', 0.6206069588661194),\n",
       " ('연인', 0.6186063289642334),\n",
       " ('유혹', 0.5965287685394287)]"
      ]
     },
     "execution_count": 35,
     "metadata": {},
     "output_type": "execute_result"
    }
   ],
   "source": [
    "word2vec.similar_by_word(\"사랑\")"
   ]
  },
  {
   "cell_type": "code",
   "execution_count": 36,
   "id": "eeb08666",
   "metadata": {},
   "outputs": [
    {
     "name": "stderr",
     "output_type": "stream",
     "text": [
      "/tmp/ipykernel_1811/704438165.py:7: DeprecationWarning: Call to deprecated `__contains__` (Method will be removed in 4.0.0, use self.wv.__contains__() instead).\n",
      "  if index_to_word[i] in word2vec:\n",
      "/tmp/ipykernel_1811/704438165.py:8: DeprecationWarning: Call to deprecated `__getitem__` (Method will be removed in 4.0.0, use self.wv.__getitem__() instead).\n",
      "  embedding_matrix[i] = word2vec[index_to_word[i]]\n"
     ]
    }
   ],
   "source": [
    "vocab_size = 10000    # size of the dictionary (10,000 vocabularies)\n",
    "word_vector_dim = 200  # adjustable hyperparameter\n",
    "\n",
    "embedding_matrix = np.random.rand(vocab_size, word_vector_dim)\n",
    "\n",
    "for i in range(4,vocab_size):\n",
    "    if index_to_word[i] in word2vec:\n",
    "        embedding_matrix[i] = word2vec[index_to_word[i]]"
   ]
  },
  {
   "cell_type": "code",
   "execution_count": 48,
   "id": "8f2b0f0b",
   "metadata": {},
   "outputs": [
    {
     "name": "stdout",
     "output_type": "stream",
     "text": [
      "Model: \"sequential_2\"\n",
      "_________________________________________________________________\n",
      "Layer (type)                 Output Shape              Param #   \n",
      "=================================================================\n",
      "embedding_6 (Embedding)      (None, 41, 200)           2000000   \n",
      "_________________________________________________________________\n",
      "global_max_pooling1d_2 (Glob (None, 200)               0         \n",
      "_________________________________________________________________\n",
      "dense_12 (Dense)             (None, 8)                 1608      \n",
      "_________________________________________________________________\n",
      "dense_13 (Dense)             (None, 1)                 9         \n",
      "=================================================================\n",
      "Total params: 2,001,617\n",
      "Trainable params: 2,001,617\n",
      "Non-trainable params: 0\n",
      "_________________________________________________________________\n"
     ]
    }
   ],
   "source": [
    "#new model with GlobalMaxPooling1D\n",
    "model4 = keras.Sequential()\n",
    "model4.add(keras.layers.Embedding(vocab_size, \n",
    "                                 word_vector_dim, \n",
    "                                 embeddings_initializer=Constant(embedding_matrix),\n",
    "                                 input_length=maxlen,\n",
    "                                 trainable=True))\n",
    "model4.add(keras.layers.GlobalMaxPooling1D())\n",
    "model4.add(keras.layers.Dense(8, activation='relu'))\n",
    "model4.add(keras.layers.Dense(1, activation='sigmoid'))\n",
    "\n",
    "model4.summary()"
   ]
  },
  {
   "cell_type": "code",
   "execution_count": 71,
   "id": "661b6e04",
   "metadata": {},
   "outputs": [
    {
     "name": "stdout",
     "output_type": "stream",
     "text": [
      "Epoch 1/15\n",
      "457/457 [==============================] - 2s 5ms/step - loss: 0.0050 - accuracy: 0.9972 - val_loss: 2.2916 - val_accuracy: 0.8078\n",
      "Epoch 2/15\n",
      "457/457 [==============================] - 2s 4ms/step - loss: 0.0049 - accuracy: 0.9972 - val_loss: 2.4132 - val_accuracy: 0.8011\n",
      "Epoch 3/15\n",
      "457/457 [==============================] - 2s 4ms/step - loss: 0.0061 - accuracy: 0.9966 - val_loss: 2.2765 - val_accuracy: 0.8088\n",
      "Epoch 4/15\n",
      "457/457 [==============================] - 2s 4ms/step - loss: 0.0046 - accuracy: 0.9972 - val_loss: 2.2728 - val_accuracy: 0.8090\n",
      "Epoch 5/15\n",
      "457/457 [==============================] - 2s 4ms/step - loss: 0.0046 - accuracy: 0.9973 - val_loss: 2.2117 - val_accuracy: 0.8077\n",
      "Epoch 6/15\n",
      "457/457 [==============================] - 2s 4ms/step - loss: 0.0047 - accuracy: 0.9972 - val_loss: 2.3162 - val_accuracy: 0.8095\n",
      "Epoch 7/15\n",
      "457/457 [==============================] - 2s 4ms/step - loss: 0.0046 - accuracy: 0.9972 - val_loss: 2.2996 - val_accuracy: 0.8093\n",
      "Epoch 8/15\n",
      "457/457 [==============================] - 2s 4ms/step - loss: 0.0047 - accuracy: 0.9973 - val_loss: 2.4483 - val_accuracy: 0.8050\n",
      "Epoch 9/15\n",
      "457/457 [==============================] - 2s 4ms/step - loss: 0.0050 - accuracy: 0.9970 - val_loss: 2.2084 - val_accuracy: 0.8068\n",
      "Epoch 10/15\n",
      "457/457 [==============================] - 2s 4ms/step - loss: 0.0046 - accuracy: 0.9973 - val_loss: 2.3577 - val_accuracy: 0.8060\n",
      "Epoch 11/15\n",
      "457/457 [==============================] - 2s 4ms/step - loss: 0.0048 - accuracy: 0.9972 - val_loss: 2.2063 - val_accuracy: 0.8081\n",
      "Epoch 12/15\n",
      "457/457 [==============================] - 2s 4ms/step - loss: 0.0092 - accuracy: 0.9959 - val_loss: 2.3696 - val_accuracy: 0.8106\n",
      "Epoch 13/15\n",
      "457/457 [==============================] - 2s 4ms/step - loss: 0.0045 - accuracy: 0.9972 - val_loss: 2.3444 - val_accuracy: 0.8112\n",
      "Epoch 14/15\n",
      "457/457 [==============================] - 2s 4ms/step - loss: 0.0044 - accuracy: 0.9973 - val_loss: 2.4168 - val_accuracy: 0.8097\n",
      "Epoch 15/15\n",
      "457/457 [==============================] - 2s 4ms/step - loss: 0.0045 - accuracy: 0.9972 - val_loss: 2.3614 - val_accuracy: 0.8100\n"
     ]
    }
   ],
   "source": [
    "model4.compile(optimizer='adam',\n",
    "              loss='binary_crossentropy',\n",
    "              metrics=['accuracy'])\n",
    "              \n",
    "epochs=15\n",
    "\n",
    "history4 = model4.fit(X_train,\n",
    "                    y_train,\n",
    "                    epochs=epochs,\n",
    "                    batch_size=256,\n",
    "                    validation_data=(X_val, y_val),\n",
    "                    verbose=1)"
   ]
  },
  {
   "cell_type": "code",
   "execution_count": 72,
   "id": "99e3cf55",
   "metadata": {},
   "outputs": [
    {
     "name": "stdout",
     "output_type": "stream",
     "text": [
      "1537/1537 - 2s - loss: 2.3512 - accuracy: 0.8087\n"
     ]
    }
   ],
   "source": [
    "results4 = model4.evaluate(X_test,  y_test, verbose=2)"
   ]
  },
  {
   "cell_type": "code",
   "execution_count": 75,
   "id": "02d72969",
   "metadata": {},
   "outputs": [
    {
     "data": {
      "text/plain": [
       "<Figure size 432x288 with 0 Axes>"
      ]
     },
     "metadata": {},
     "output_type": "display_data"
    },
    {
     "data": {
      "image/png": "[encoded data removed]",
      "text/plain": [
       "<Figure size 1152x288 with 2 Axes>"
      ]
     },
     "metadata": {
      "needs_background": "light"
     },
     "output_type": "display_data"
    }
   ],
   "source": [
    "history4_dict = history4.history\n",
    "\n",
    "acc = history4_dict['accuracy']\n",
    "val_acc = history4_dict['val_accuracy']\n",
    "loss = history4_dict['loss']\n",
    "val_loss = history4_dict['val_loss']\n",
    "\n",
    "epochs = range(1, len(acc) + 1)\n",
    "\n",
    "plt.clf() \n",
    "\n",
    "plt.figure(figsize=(16,4))\n",
    "\n",
    "plt.subplot(1,2,1)\n",
    "plt.plot(epochs, acc, label='Training Accuracy')\n",
    "plt.plot(epochs, val_acc, label='Validation Accuracy')\n",
    "plt.title('GlobalMaxPooling training and validation accuracy')\n",
    "plt.xlabel('Epochs')\n",
    "plt.ylabel('Accuracy')\n",
    "plt.legend()\n",
    "\n",
    "plt.subplot(1,2,2)\n",
    "plt.plot(epochs, loss, label='Training Loss')\n",
    "plt.plot(epochs, val_loss, label='Validation Loss')\n",
    "plt.title('GlobalMaxPooling training and validation loss')\n",
    "plt.xlabel('Epochs')\n",
    "plt.ylabel('Loss')\n",
    "plt.legend()\n",
    "\n",
    "plt.show()"
   ]
  },
  {
   "cell_type": "code",
   "execution_count": 86,
   "id": "19a0dbbe",
   "metadata": {},
   "outputs": [
    {
     "name": "stdout",
     "output_type": "stream",
     "text": [
      "Model: \"newCNN\"\n",
      "_________________________________________________________________\n",
      "Layer (type)                 Output Shape              Param #   \n",
      "=================================================================\n",
      "embedding_10 (Embedding)     (None, 41, 200)           2000000   \n",
      "_________________________________________________________________\n",
      "conv1d_8 (Conv1D)            (None, 35, 16)            22416     \n",
      "_________________________________________________________________\n",
      "max_pooling1d_4 (MaxPooling1 (None, 7, 16)             0         \n",
      "_________________________________________________________________\n",
      "conv1d_9 (Conv1D)            (None, 1, 16)             1808      \n",
      "_________________________________________________________________\n",
      "global_max_pooling1d_6 (Glob (None, 16)                0         \n",
      "_________________________________________________________________\n",
      "dense_20 (Dense)             (None, 8)                 136       \n",
      "_________________________________________________________________\n",
      "dense_21 (Dense)             (None, 1)                 9         \n",
      "=================================================================\n",
      "Total params: 2,024,369\n",
      "Trainable params: 2,024,369\n",
      "Non-trainable params: 0\n",
      "_________________________________________________________________\n"
     ]
    }
   ],
   "source": [
    "#new model with 1-D CNN\n",
    "model5 = keras.Sequential(name='newCNN')\n",
    "model5.add(keras.layers.Embedding(vocab_size, \n",
    "                                 word_vector_dim, \n",
    "                                 embeddings_initializer=Constant(embedding_matrix),\n",
    "                                 input_length=maxlen,\n",
    "                                 trainable=True))\n",
    "model5.add(keras.layers.Conv1D(16, 7, activation='relu'))\n",
    "model5.add(keras.layers.MaxPooling1D(5))\n",
    "model5.add(keras.layers.Conv1D(16, 7, activation='relu'))\n",
    "model5.add(keras.layers.GlobalMaxPooling1D())\n",
    "model5.add(keras.layers.Dense(8, activation='relu'))\n",
    "model5.add(keras.layers.Dense(1, activation='sigmoid'))\n",
    "\n",
    "model5.summary()"
   ]
  },
  {
   "cell_type": "code",
   "execution_count": 91,
   "id": "10fcd06b",
   "metadata": {},
   "outputs": [
    {
     "name": "stdout",
     "output_type": "stream",
     "text": [
      "Epoch 1/5\n",
      "914/914 [==============================] - 5s 5ms/step - loss: 0.0956 - accuracy: 0.9663 - val_loss: 0.6171 - val_accuracy: 0.8357\n",
      "Epoch 2/5\n",
      "914/914 [==============================] - 5s 5ms/step - loss: 0.0806 - accuracy: 0.9729 - val_loss: 0.6727 - val_accuracy: 0.8342\n",
      "Epoch 3/5\n",
      "914/914 [==============================] - 5s 5ms/step - loss: 0.0717 - accuracy: 0.9757 - val_loss: 0.7137 - val_accuracy: 0.8363\n",
      "Epoch 4/5\n",
      "914/914 [==============================] - 5s 5ms/step - loss: 0.0636 - accuracy: 0.9785 - val_loss: 0.7704 - val_accuracy: 0.8347\n",
      "Epoch 5/5\n",
      "914/914 [==============================] - 5s 5ms/step - loss: 0.0596 - accuracy: 0.9800 - val_loss: 0.8265 - val_accuracy: 0.8341\n"
     ]
    }
   ],
   "source": [
    "model5.compile(optimizer='adam',\n",
    "              loss='binary_crossentropy',\n",
    "              metrics=['accuracy'])\n",
    "              \n",
    "epochs=5\n",
    "\n",
    "history5 = model5.fit(X_train,\n",
    "                    y_train,\n",
    "                    epochs=epochs,\n",
    "                    batch_size=128,\n",
    "                    validation_data=(X_val, y_val),\n",
    "                    verbose=1)"
   ]
  },
  {
   "cell_type": "code",
   "execution_count": 92,
   "id": "5283c224",
   "metadata": {},
   "outputs": [
    {
     "name": "stdout",
     "output_type": "stream",
     "text": [
      "1537/1537 - 2s - loss: 0.8196 - accuracy: 0.8351\n"
     ]
    }
   ],
   "source": [
    "results5 = model5.evaluate(X_test,  y_test, verbose=2)"
   ]
  },
  {
   "cell_type": "code",
   "execution_count": 93,
   "id": "baa6f602",
   "metadata": {},
   "outputs": [
    {
     "data": {
      "text/plain": [
       "<Figure size 432x288 with 0 Axes>"
      ]
     },
     "metadata": {},
     "output_type": "display_data"
    },
    {
     "data": {
      "image/png": "[encoded data removed]",
      "text/plain": [
       "<Figure size 1152x288 with 2 Axes>"
      ]
     },
     "metadata": {
      "needs_background": "light"
     },
     "output_type": "display_data"
    }
   ],
   "source": [
    "history5_dict = history5.history\n",
    "\n",
    "acc = history5_dict['accuracy']\n",
    "val_acc = history5_dict['val_accuracy']\n",
    "loss = history5_dict['loss']\n",
    "val_loss = history5_dict['val_loss']\n",
    "\n",
    "epochs = range(1, len(acc) + 1)\n",
    "\n",
    "plt.clf() \n",
    "\n",
    "plt.figure(figsize=(16,4))\n",
    "\n",
    "plt.subplot(1,2,1)\n",
    "plt.plot(epochs, acc, label='Training Accuracy')\n",
    "plt.plot(epochs, val_acc, label='Validation Accuracy')\n",
    "plt.title('1-D CNN training and validation accuracy')\n",
    "plt.xlabel('Epochs')\n",
    "plt.ylabel('Accuracy')\n",
    "plt.legend()\n",
    "\n",
    "plt.subplot(1,2,2)\n",
    "plt.plot(epochs, loss, label='Training Loss')\n",
    "plt.plot(epochs, val_loss, label='Validation Loss')\n",
    "plt.title('1-D CNN training and validation loss')\n",
    "plt.xlabel('Epochs')\n",
    "plt.ylabel('Loss')\n",
    "plt.legend()\n",
    "\n",
    "plt.show()"
   ]
  },
  {
   "cell_type": "code",
   "execution_count": 44,
   "id": "cf204309",
   "metadata": {},
   "outputs": [
    {
     "name": "stdout",
     "output_type": "stream",
     "text": [
      "Model: \"newLSTM\"\n",
      "_________________________________________________________________\n",
      "Layer (type)                 Output Shape              Param #   \n",
      "=================================================================\n",
      "embedding_5 (Embedding)      (None, 41, 200)           2000000   \n",
      "_________________________________________________________________\n",
      "lstm_3 (LSTM)                (None, 512)               1460224   \n",
      "_________________________________________________________________\n",
      "dense_10 (Dense)             (None, 8)                 4104      \n",
      "_________________________________________________________________\n",
      "dense_11 (Dense)             (None, 1)                 9         \n",
      "=================================================================\n",
      "Total params: 3,464,337\n",
      "Trainable params: 3,464,337\n",
      "Non-trainable params: 0\n",
      "_________________________________________________________________\n"
     ]
    }
   ],
   "source": [
    "# new model with LSTM\n",
    "model6 = keras.Sequential(name='newLSTM')\n",
    "model6.add(keras.layers.Embedding(vocab_size, \n",
    "                                 word_vector_dim, \n",
    "                                 embeddings_initializer=Constant(embedding_matrix),\n",
    "                                 input_length=maxlen,\n",
    "                                 trainable=True))\n",
    "model6.add(keras.layers.LSTM(512))\n",
    "model6.add(keras.layers.Dense(8, activation='relu'))\n",
    "model6.add(keras.layers.Dense(1, activation='sigmoid'))\n",
    "\n",
    "model6.summary()"
   ]
  },
  {
   "cell_type": "code",
   "execution_count": 45,
   "id": "f56104a8",
   "metadata": {},
   "outputs": [
    {
     "name": "stdout",
     "output_type": "stream",
     "text": [
      "Epoch 1/20\n",
      "229/229 [==============================] - 18s 73ms/step - loss: 0.4509 - accuracy: 0.7824 - val_loss: 0.3675 - val_accuracy: 0.8408\n",
      "Epoch 2/20\n",
      "229/229 [==============================] - 16s 70ms/step - loss: 0.3152 - accuracy: 0.8639 - val_loss: 0.3336 - val_accuracy: 0.8579\n",
      "Epoch 3/20\n",
      "229/229 [==============================] - 16s 68ms/step - loss: 0.2666 - accuracy: 0.8886 - val_loss: 0.3258 - val_accuracy: 0.8621\n",
      "Epoch 4/20\n",
      "229/229 [==============================] - 15s 68ms/step - loss: 0.2302 - accuracy: 0.9048 - val_loss: 0.3286 - val_accuracy: 0.8653\n",
      "Epoch 5/20\n",
      "229/229 [==============================] - 16s 68ms/step - loss: 0.1909 - accuracy: 0.9239 - val_loss: 0.3531 - val_accuracy: 0.8600\n",
      "Epoch 6/20\n",
      "229/229 [==============================] - 16s 69ms/step - loss: 0.1492 - accuracy: 0.9415 - val_loss: 0.3901 - val_accuracy: 0.8630\n",
      "Epoch 7/20\n",
      "229/229 [==============================] - 16s 69ms/step - loss: 0.1103 - accuracy: 0.9579 - val_loss: 0.4477 - val_accuracy: 0.8600\n",
      "Epoch 8/20\n",
      "229/229 [==============================] - 16s 69ms/step - loss: 0.0803 - accuracy: 0.9700 - val_loss: 0.5270 - val_accuracy: 0.8549\n",
      "Epoch 9/20\n",
      "229/229 [==============================] - 16s 68ms/step - loss: 0.0594 - accuracy: 0.9777 - val_loss: 0.5886 - val_accuracy: 0.8556\n",
      "Epoch 10/20\n",
      "229/229 [==============================] - 16s 69ms/step - loss: 0.0494 - accuracy: 0.9813 - val_loss: 0.6475 - val_accuracy: 0.8571\n",
      "Epoch 11/20\n",
      "229/229 [==============================] - 16s 69ms/step - loss: 0.0351 - accuracy: 0.9866 - val_loss: 0.7262 - val_accuracy: 0.8567\n",
      "Epoch 12/20\n",
      "229/229 [==============================] - 16s 69ms/step - loss: 0.0311 - accuracy: 0.9877 - val_loss: 0.7374 - val_accuracy: 0.8525\n",
      "Epoch 13/20\n",
      "229/229 [==============================] - 16s 69ms/step - loss: 0.0290 - accuracy: 0.9891 - val_loss: 0.8075 - val_accuracy: 0.8572\n",
      "Epoch 00013: early stopping\n"
     ]
    }
   ],
   "source": [
    "model6.compile(optimizer='adam',\n",
    "              loss='binary_crossentropy',\n",
    "              metrics=['accuracy'])\n",
    "              \n",
    "epochs=20\n",
    "\n",
    "history6 = model6.fit(X_train,\n",
    "                    y_train,\n",
    "                    epochs=epochs,\n",
    "                    batch_size=512,\n",
    "                    validation_data=(X_val, y_val),\n",
    "                    callbacks=[early_stopping],\n",
    "                    verbose=1)"
   ]
  },
  {
   "cell_type": "code",
   "execution_count": 46,
   "id": "acc4699f",
   "metadata": {
    "scrolled": true
   },
   "outputs": [
    {
     "name": "stdout",
     "output_type": "stream",
     "text": [
      "1537/1537 - 5s - loss: 0.7958 - accuracy: 0.8561\n"
     ]
    }
   ],
   "source": [
    "results6 = model6.evaluate(X_test,  y_test, verbose=2)"
   ]
  },
  {
   "cell_type": "code",
   "execution_count": 47,
   "id": "ee957dc6",
   "metadata": {},
   "outputs": [
    {
     "data": {
      "text/plain": [
       "<Figure size 432x288 with 0 Axes>"
      ]
     },
     "metadata": {},
     "output_type": "display_data"
    },
    {
     "data": {
      "image/png": "[encoded data removed]",
      "text/plain": [
       "<Figure size 1152x288 with 2 Axes>"
      ]
     },
     "metadata": {
      "needs_background": "light"
     },
     "output_type": "display_data"
    }
   ],
   "source": [
    "history6_dict = history6.history\n",
    "\n",
    "acc = history6_dict['accuracy']\n",
    "val_acc = history6_dict['val_accuracy']\n",
    "loss = history6_dict['loss']\n",
    "val_loss = history6_dict['val_loss']\n",
    "\n",
    "epochs = range(1, len(acc) + 1)\n",
    "\n",
    "plt.clf() \n",
    "\n",
    "plt.figure(figsize=(16,4))\n",
    "\n",
    "plt.subplot(1,2,1)\n",
    "plt.plot(epochs, acc, label='Training Accuracy')\n",
    "plt.plot(epochs, val_acc, label='Validation Accuracy')\n",
    "plt.title('LSTM training and validation accuracy')\n",
    "plt.xlabel('Epochs')\n",
    "plt.ylabel('Accuracy')\n",
    "plt.legend()\n",
    "\n",
    "plt.subplot(1,2,2)\n",
    "plt.plot(epochs, loss, label='Training Loss')\n",
    "plt.plot(epochs, val_loss, label='Validation Loss')\n",
    "plt.title('LSTM training and validation loss')\n",
    "plt.xlabel('Epochs')\n",
    "plt.ylabel('Loss')\n",
    "plt.legend()\n",
    "\n",
    "plt.show()"
   ]
  },
  {
   "cell_type": "code",
   "execution_count": 104,
   "id": "cc188035",
   "metadata": {},
   "outputs": [
    {
     "name": "stdout",
     "output_type": "stream",
     "text": [
      "Comparing GlobalMaxPooling1D\n",
      "loss and accuracy: [0.8959338665008545, 0.8099151849746704]\n",
      "loss and accuracy: [2.3512260913848877, 0.8087352514266968]\n",
      "Comparing 1-D CNN\n",
      "loss and accuracy: [0.8208118677139282, 0.8251927495002747]\n",
      "loss and accuracy: [0.8195919990539551, 0.8350591063499451]\n",
      "Comparing LSTM\n",
      "loss and accuracy: [0.3979060649871826, 0.8449050784111023]\n",
      "loss and accuracy: [0.7957519888877869, 0.8560733795166016]\n"
     ]
    }
   ],
   "source": [
    "print('Comparing GlobalMaxPooling1D')\n",
    "print('loss and accuracy:' , (results1))\n",
    "print('loss and accuracy:' ,results4)\n",
    "print('Comparing 1-D CNN')\n",
    "print('loss and accuracy:' ,results2)\n",
    "print('loss and accuracy:' ,results5)\n",
    "print('Comparing LSTM')\n",
    "print('loss and accuracy:' ,results3)\n",
    "print('loss and accuracy:' ,results6)"
   ]
  },
  {
   "cell_type": "markdown",
   "id": "9b44ebe8",
   "metadata": {},
   "source": [
    "---\n",
    "\n",
    "## Conclusion\n",
    "\n",
    "#### Final model accuracy: 86%\n",
    "\n",
    "* 1-D CNN and LSTM were able to improve by using Word2Vec but didn't work for GlobalMaxPooling\n",
    "* Tried adjusting parameters to get better results\n",
    "* First I thought with higher epochs, the better the results but found out that I was wrong\n",
    "* For some using only 5 epochs seems to work the best which I thought was a very small amount\n",
    "* Using Word2Vec improved the accuracy but not as much as I expected\n",
    "* I wish to work on my data preprocessing because it seems like that's the part that went wrong\n",
    "* Drawing graphs to visualize and analyze was fun"
   ]
  }
 ],
 "metadata": {
  "kernelspec": {
   "display_name": "Python 3 (ipykernel)",
   "language": "python",
   "name": "python3"
  },
  "language_info": {
   "codemirror_mode": {
    "name": "ipython",
    "version": 3
   },
   "file_extension": ".py",
   "mimetype": "text/x-python",
   "name": "python",
   "nbconvert_exporter": "python",
   "pygments_lexer": "ipython3",
   "version": "3.9.7"
  }
 },
 "nbformat": 4,
 "nbformat_minor": 5
}
