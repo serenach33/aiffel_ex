{
  "nbformat": 4,
  "nbformat_minor": 0,
  "metadata": {
    "colab": {
      "name": "E1_RockPaperScissors.ipynb",
      "provenance": [],
      "authorship_tag": "ABX9TyPVeT1Az28x0PJTHs5pC6MH",
      "include_colab_link": true
    },
    "kernelspec": {
      "name": "python3",
      "display_name": "Python 3"
    },
    "language_info": {
      "name": "python"
    }
  },
  "cells": [
    {
      "cell_type": "markdown",
      "metadata": {
        "id": "view-in-github",
        "colab_type": "text"
      },
      "source": [
        "<a href=\"https://colab.research.google.com/github/serenach33/aiffel_ex/blob/main/E1_RockPaperScissors.ipynb\" target=\"_parent\"><img src=\"https://colab.research.google.com/assets/colab-badge.svg\" alt=\"Open In Colab\"/></a>"
      ]
    },
    {
      "cell_type": "markdown",
      "source": [
        "# Exploration 1: Rock-Paper-Scissors Image Classification\n",
        "\n",
        "---\n",
        "\n",
        "#### Model\n",
        "* Keras Sequential API\n",
        "\n",
        "#### Datasets\n",
        "* Created my own datasets from [Teachable Machine](https://teachablemachine.withgoogle.com/)\n",
        "* Gathered more datasets from the Aiffel mates\n",
        "\n",
        "#### Model evaluation\n",
        "* Loss and Accuracy\n",
        "* Confusion Matrix\n",
        "* Classification report\n",
        "\n",
        "#### Goals\n",
        "\n",
        "1. Get higher accuracy than the first result which was 0.37, hopefully above 0.80\n",
        "2. Import more datasets\n",
        "3. Use `sklearn.model_selection.train_test_split`\n",
        "4. Plot Confusion Matrix and Classification report\n",
        "5. Validate my hypothesis: If test datasets are highly qualified than the train sets, then the accuracy will increase.\n",
        "\n",
        "---\n",
        "\n",
        "\n",
        "\n",
        "\n"
      ],
      "metadata": {
        "id": "vnMhg7-HeXZq"
      }
    },
    {
      "cell_type": "markdown",
      "source": [
        "## Importing Dependencies\n",
        "\n",
        "laying the foundation to build my model on"
      ],
      "metadata": {
        "id": "_GAGpw8BvH-Q"
      }
    },
    {
      "cell_type": "code",
      "source": [
        "import os\n",
        "import glob\n",
        "import random\n",
        "from PIL import Image\n",
        "import tensorflow as tf\n",
        "from tensorflow import keras\n",
        "import numpy as np\n",
        "import matplotlib.pyplot as plt\n",
        "import math\n",
        "from sklearn.model_selection import train_test_split\n",
        "from sklearn.metrics import classification_report, confusion_matrix\n",
        "from tensorflow.keras.preprocessing.image import ImageDataGenerator\n"
      ],
      "metadata": {
        "id": "3vdbBVfBve-A"
      },
      "execution_count": 3,
      "outputs": []
    },
    {
      "cell_type": "code",
      "source": [
        ""
      ],
      "metadata": {
        "id": "pkxbYaeRxbtz"
      },
      "execution_count": null,
      "outputs": []
    }
  ]
}