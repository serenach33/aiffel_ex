{
  "nbformat": 4,
  "nbformat_minor": 0,
  "metadata": {
    "colab": {
      "name": "E1_RockPaperScissors.ipynb",
      "provenance": [],
      "authorship_tag": "ABX9TyOeG5hb4Y39Wr6ZcB/5XhOf",
      "include_colab_link": true
    },
    "kernelspec": {
      "name": "python3",
      "display_name": "Python 3"
    },
    "language_info": {
      "name": "python"
    }
  },
  "cells": [
    {
      "cell_type": "markdown",
      "metadata": {
        "id": "view-in-github",
        "colab_type": "text"
      },
      "source": [
        "<a href=\"https://colab.research.google.com/github/serenach33/aiffel_ex/blob/main/E1_RockPaperScissors.ipynb\" target=\"_parent\"><img src=\"https://colab.research.google.com/assets/colab-badge.svg\" alt=\"Open In Colab\"/></a>"
      ]
    },
    {
      "cell_type": "markdown",
      "source": [
        "# Exploration 1: Rock-Paper-Scissors Image Classification\n",
        "\n",
        "---\n",
        "\n",
        "Model\n",
        "* Keras Sequential API\n",
        "\n",
        "Datasets\n",
        "* Created my own datasets from [Teachable Machine](https://teachablemachine.withgoogle.com/)\n",
        "* Gathered more datasets from Aiffel mates\n",
        "\n",
        "Model evaluation\n",
        "* Loss and Accuracy\n",
        "* Confusion Matrix\n",
        "* Classification report\n"
      ],
      "metadata": {
        "id": "vnMhg7-HeXZq"
      }
    },
    {
      "cell_type": "code",
      "execution_count": null,
      "metadata": {
        "id": "xAEcQdjFeQfC"
      },
      "outputs": [],
      "source": [
        ""
      ]
    }
  ]
}