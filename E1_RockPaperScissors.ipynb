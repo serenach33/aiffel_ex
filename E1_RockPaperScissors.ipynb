{
 "cells": [
  {
   "cell_type": "markdown",
   "id": "e97f493b",
   "metadata": {},
   "source": [
    "# Exploration 1: Rock-Paper-Scissors Image Classification\n",
    "\n",
    "---\n",
    "\n",
    "#### Model\n",
    "* Keras Sequential API\n",
    "\n",
    "#### Datasets\n",
    "* Created my own datasets from [Teachable Machine](https://teachablemachine.withgoogle.com/)\n",
    "* Gathered more datasets from the Aiffel mates\n",
    "\n",
    "#### Model evaluation\n",
    "* Loss and Accuracy\n",
    "* Confusion Matrix\n",
    "* Classification report\n",
    "\n",
    "#### Goals\n",
    "\n",
    "1. Get higher accuracy than the first time which was 0.37, hopefully above 0.80\n",
    "2. Import more datasets\n",
    "3. Use `sklearn.model_selection.train_test_split`\n",
    "4. Plot Confusion matrix and Classification report\n",
    "5. Validate my hypothesis: If test datasets are highly qualified than the train sets, then the accuracy will increase.\n",
    "\n",
    "---"
   ]
  },
  {
   "cell_type": "markdown",
   "id": "9242715e",
   "metadata": {},
   "source": [
    "## Importing Dependencies\n",
    "\n",
    "laying the foundation to build my model on"
   ]
  },
  {
   "cell_type": "code",
   "execution_count": 2,
   "id": "8590b4a6",
   "metadata": {},
   "outputs": [
    {
     "name": "stdout",
     "output_type": "stream",
     "text": [
      "All imported!\n"
     ]
    }
   ],
   "source": [
    "from PIL import Image #for resizing images\n",
    "import os, glob, random, math\n",
    "import tensorflow as tf\n",
    "from tensorflow import keras\n",
    "import numpy as np\n",
    "import matplotlib.pyplot as plt\n",
    "from sklearn.model_selection import train_test_split\n",
    "from sklearn.metrics import classification_report, confusion_matrix\n",
    "from tensorflow.keras.preprocessing.image import ImageDataGenerator\n",
    "\n",
    "print(\"All imported!\")"
   ]
  },
  {
   "cell_type": "markdown",
   "id": "0ef2e1d4",
   "metadata": {},
   "source": [
    "---\n",
    "\n",
    "## Data Pre-processing\n",
    "\n",
    "### Images importing and resizing\n",
    "\n",
    "Resizing images from 224x224 to 28x28\n",
    "\n",
    "#### Anti-aliasing\n",
    "* a technique for minimizing the distortion artifacts (aliasing) when representing a high-resolution image at a lower resolution\n",
    "* basically it reduces the jaggedness and creates a \"smoother\" look\n"
   ]
  },
  {
   "cell_type": "code",
   "execution_count": 14,
   "id": "93ead9cd",
   "metadata": {},
   "outputs": [
    {
     "name": "stdout",
     "output_type": "stream",
     "text": [
      "1904 images to be resized\n",
      "1904 images resized.\n",
      "1857 images to be resized\n",
      "1857 images resized.\n",
      "1959 images to be resized\n",
      "1959 images resized.\n",
      "all images have been resized\n"
     ]
    }
   ],
   "source": [
    "def resize_images(img_path):\n",
    "    images = glob.glob(img_path + \"/*.jpg\")\n",
    "    \n",
    "    print(len(images), \"images to be resized\") # how many images are needed to be resized\n",
    "    \n",
    "    # resizing all images to 28x28\n",
    "    target_size = (28,28)\n",
    "    for img in images:\n",
    "        old_img = Image.open(img)\n",
    "        new_img = old_img.resize(target_size, Image.ANTIALIAS)# smooths the line\n",
    "        new_img.save(img, \"JPEG\")\n",
    "    \n",
    "    print(len(images), \"images resized.\") # how many images have been resized\n",
    "    \n",
    "# reading all the jpg files from rock, paper and scissors directory\n",
    "\n",
    "image_dir_path = os.getenv(\"HOME\") + \"/aiffel/e1_rsp/rock/rock\"\n",
    "resize_images(image_dir_path)\n",
    "\n",
    "image_dir_path = os.getenv(\"HOME\") + \"/aiffel/e1_rsp/paper/paper\"\n",
    "resize_images(image_dir_path)\n",
    "\n",
    "image_dir_path = os.getenv(\"HOME\") + \"/aiffel/e1_rsp/scissors/scissors\"\n",
    "resize_images(image_dir_path)\n",
    "\n",
    "print(\"all images have been resized\")"
   ]
  },
  {
   "cell_type": "markdown",
   "id": "64ecc14d",
   "metadata": {},
   "source": [
    "### Data loading and labeling\n",
    "\n",
    "iglobe(): return an iterator which yields the same values as glob() without actually storing them all simultaneously. <br/>\n",
    "[glob documentation](https://docs.python.org/3/library/glob.html)"
   ]
  },
  {
   "cell_type": "code",
   "execution_count": 32,
   "id": "a7dd43dc",
   "metadata": {},
   "outputs": [
    {
     "name": "stdout",
     "output_type": "stream",
     "text": [
      "a total of x_train images are 5720\n",
      "x_train shape: (5720, 28, 28, 3)\n",
      "y_train shape: (5720,)\n"
     ]
    }
   ],
   "source": [
    "def load_data(img_path, number_of_data = 5720):\n",
    "    img_size = 28\n",
    "    color = 3\n",
    "    # matrix for images and labels\n",
    "    imgs = np.zeros(number_of_data*img_size*img_size*color,dtype=np.int32).reshape(number_of_data,img_size,img_size,color)\n",
    "    labels = np.zeros(number_of_data,dtype=np.int32)\n",
    "    \n",
    "    idx = 0\n",
    "    for file in glob.iglob(img_path+'/scissors/scissors/*.jpg'):\n",
    "        img = np.array(Image.open(file), dtype=np.int32)\n",
    "        imgs[idx,:,:,:] = img\n",
    "        labels[idx] = 0 # scissors : 0\n",
    "        idx = idx+1\n",
    "        \n",
    "    for file in glob.iglob(img_path+'/rock/rock/*.jpg'):\n",
    "        img = np.array(Image.open(file), dtype=np.int32)\n",
    "        imgs[idx,:,:,:] = img\n",
    "        labels[idx] = 1 # rock : 1\n",
    "        idx = idx+1\n",
    "    \n",
    "    for file in glob.iglob(img_path+'/paper/paper/*.jpg'):\n",
    "        img = np.array(Image.open(file), dtype=np.int32)\n",
    "        imgs[idx,:,:,:] = img\n",
    "        labels[idx] = 2 # paper : 2\n",
    "        idx = idx+1\n",
    "        \n",
    "    print(\"a total of x_train images are\", idx)\n",
    "    return imgs, labels\n",
    "\n",
    "image_dir_path = os.getenv(\"HOME\") + \"/aiffel/e1_rsp\"\n",
    "(x_train, y_train) = load_data(image_dir_path)\n",
    "x_train_norm = x_train/255.0 # Min-Max Normalization, value lies in between 0 and 1\n",
    "\n",
    "print(\"x_train shape: {}\".format(x_train.shape))\n",
    "print(\"y_train shape: {}\".format(y_train.shape))"
   ]
  },
  {
   "cell_type": "markdown",
   "id": "f1279d8c",
   "metadata": {},
   "source": [
    "### Train_Test_Split\n",
    "\n",
    "Validation Dataset: The sample of data used to provide an unbiased evaluation of a model fit on the training dataset while tuning model hyperparameters."
   ]
  },
  {
   "cell_type": "code",
   "execution_count": 33,
   "id": "fad200d7",
   "metadata": {},
   "outputs": [
    {
     "name": "stdout",
     "output_type": "stream",
     "text": [
      "(4576, 28, 28, 3) (1144, 28, 28, 3) (4576,) (1144,)\n"
     ]
    }
   ],
   "source": [
    "# 80% into the train 20% into the validation\n",
    "x_train, x_val, y_train, y_val = train_test_split(x_train_norm, y_train, test_size=0.2, shuffle=True, random_state=10)\n",
    "\n",
    "# view the size of train and validation data\n",
    "print(x_train.shape, x_val.shape, y_train.shape, y_val.shape)"
   ]
  },
  {
   "cell_type": "code",
   "execution_count": 34,
   "id": "51bb6119",
   "metadata": {},
   "outputs": [
    {
     "name": "stdout",
     "output_type": "stream",
     "text": [
      "label 1\n"
     ]
    },
    {
     "data": {
      "image/png": "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\n",
      "text/plain": [
       "<Figure size 432x288 with 1 Axes>"
      ]
     },
     "metadata": {
      "needs_background": "light"
     },
     "output_type": "display_data"
    }
   ],
   "source": [
    "# view certain image and label\n",
    "plt.imshow(x_train[1234])\n",
    "print('label', y_train[1234])"
   ]
  },
  {
   "cell_type": "code",
   "execution_count": 35,
   "id": "2a110a78",
   "metadata": {},
   "outputs": [
    {
     "data": {
      "image/png": "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\n",
      "text/plain": [
       "<Figure size 576x576 with 6 Axes>"
      ]
     },
     "metadata": {
      "needs_background": "light"
     },
     "output_type": "display_data"
    }
   ],
   "source": [
    "# one is not enough! much better way to view dataset\n",
    "sample_train_images = [x_train[30], x_train[300], x_train[3000]]\n",
    "sample_validation_images = [x_val[10], x_val[110], x_val[1110]]\n",
    "sample_images = sample_train_images + sample_validation_images\n",
    "\n",
    "plt.figure(figsize=(8,8))\n",
    "plt.suptitle(\"Dataset Preview\", fontsize = 16)\n",
    "\n",
    "for i, image in enumerate(sample_images):\n",
    "    plt.subplot(2, 3, i+1)\n",
    "    plt.imshow(image)\n",
    "    plt.title('Train' if i < 3 else 'Validation', fontsize = 12)\n",
    "    plt.axis('off')\n",
    "    \n",
    "plt.tight_layout()"
   ]
  },
  {
   "cell_type": "markdown",
   "id": "eecf6266",
   "metadata": {},
   "source": [
    "---\n",
    "## Deep Learning Network Training\n",
    "\n",
    "### Model construction\n",
    "\n",
    "Buidling a LeNet network, the Convolutional Neural Network(CNN)\n",
    "\n",
    "* Conv2D: this layer creates a convolution kernel that is wind with layers input which helps produce a tensor of outputs. <br/>\n",
    "The Keras Conv2D class constructor has the following arguments:\n",
    "``` \n",
    "keras.layers.Conv2D(filters, kernel_size, strides=(1, 1),\n",
    "  padding='valid', data_format=None, dilation_rate=(1, 1),\n",
    "  activation=None, use_bias=True, kernel_initializer='glorot_uniform',\n",
    "  bias_initializer='zeros', kernel_regularizer=None,\n",
    "  bias_regularizer=None, activity_regularizer=None,\n",
    "  kernel_constraint=None, bias_constraint=None)\n",
    "  ```\n",
    "* `activation = 'relu'`: Rectified Linear Unit, a piecewise linear function that will output the input directly if it is positive, otherwise, it will output zero.<br/> It has become the default activation function for many types of neural networks because a model that uses it is easier to train and often achieves better performance."
   ]
  },
  {
   "cell_type": "code",
   "execution_count": 42,
   "id": "c11f7981",
   "metadata": {},
   "outputs": [
    {
     "name": "stdout",
     "output_type": "stream",
     "text": [
      "number of added layer: 7\n",
      "Model: \"sequential_1\"\n",
      "_________________________________________________________________\n",
      "Layer (type)                 Output Shape              Param #   \n",
      "=================================================================\n",
      "conv2d_2 (Conv2D)            (None, 26, 26, 16)        448       \n",
      "_________________________________________________________________\n",
      "max_pooling2d_2 (MaxPooling2 (None, 13, 13, 16)        0         \n",
      "_________________________________________________________________\n",
      "conv2d_3 (Conv2D)            (None, 11, 11, 32)        4640      \n",
      "_________________________________________________________________\n",
      "max_pooling2d_3 (MaxPooling2 (None, 5, 5, 32)          0         \n",
      "_________________________________________________________________\n",
      "flatten_1 (Flatten)          (None, 800)               0         \n",
      "_________________________________________________________________\n",
      "dense_2 (Dense)              (None, 32)                25632     \n",
      "_________________________________________________________________\n",
      "dense_3 (Dense)              (None, 3)                 99        \n",
      "=================================================================\n",
      "Total params: 30,819\n",
      "Trainable params: 30,819\n",
      "Non-trainable params: 0\n",
      "_________________________________________________________________\n"
     ]
    }
   ],
   "source": [
    "n_channel_1 = 16\n",
    "n_channel_2 = 32\n",
    "n_dense = 32\n",
    "n_train_epoch = 20\n",
    "\n",
    "model = keras.models.Sequential()\n",
    "model.add(keras.layers.Conv2D(n_channel_1, (3, 3), activation = 'relu', input_shape = (28, 28, 3)))\n",
    "model.add(keras.layers.MaxPool2D(2, 2))\n",
    "model.add(keras.layers.Conv2D(n_channel_2, (3, 3), activation = 'relu'))\n",
    "model.add(keras.layers.MaxPooling2D((2, 2)))\n",
    "model.add(keras.layers.Flatten())\n",
    "model.add(keras.layers.Dense(n_dense, activation = 'relu'))\n",
    "model.add(keras.layers.Dense(3, activation = 'softmax'))\n",
    "\n",
    "print('number of added layer:', len(model.layers))\n",
    "model.summary()"
   ]
  },
  {
   "cell_type": "markdown",
   "id": "af80719a",
   "metadata": {},
   "source": [
    "### Compile and Fit"
   ]
  },
  {
   "cell_type": "code",
   "execution_count": 43,
   "id": "63a2cae6",
   "metadata": {},
   "outputs": [
    {
     "name": "stdout",
     "output_type": "stream",
     "text": [
      "Epoch 1/20\n",
      "143/143 [==============================] - 1s 4ms/step - loss: 1.0633 - accuracy: 0.4301 - val_loss: 0.9681 - val_accuracy: 0.4913\n",
      "Epoch 2/20\n",
      "143/143 [==============================] - 0s 3ms/step - loss: 0.8309 - accuracy: 0.6346 - val_loss: 0.6819 - val_accuracy: 0.7509\n",
      "Epoch 3/20\n",
      "143/143 [==============================] - 0s 3ms/step - loss: 0.5503 - accuracy: 0.8125 - val_loss: 0.4301 - val_accuracy: 0.8767\n",
      "Epoch 4/20\n",
      "143/143 [==============================] - 0s 3ms/step - loss: 0.3754 - accuracy: 0.8818 - val_loss: 0.3115 - val_accuracy: 0.9073\n",
      "Epoch 5/20\n",
      "143/143 [==============================] - 0s 3ms/step - loss: 0.2659 - accuracy: 0.9183 - val_loss: 0.2399 - val_accuracy: 0.9231\n",
      "Epoch 6/20\n",
      "143/143 [==============================] - 0s 3ms/step - loss: 0.2074 - accuracy: 0.9399 - val_loss: 0.2618 - val_accuracy: 0.9257\n",
      "Epoch 7/20\n",
      "143/143 [==============================] - 0s 3ms/step - loss: 0.1496 - accuracy: 0.9620 - val_loss: 0.1461 - val_accuracy: 0.9633\n",
      "Epoch 8/20\n",
      "143/143 [==============================] - 0s 3ms/step - loss: 0.1096 - accuracy: 0.9777 - val_loss: 0.1358 - val_accuracy: 0.9642\n",
      "Epoch 9/20\n",
      "143/143 [==============================] - 0s 3ms/step - loss: 0.1035 - accuracy: 0.9725 - val_loss: 0.1100 - val_accuracy: 0.9685\n",
      "Epoch 10/20\n",
      "143/143 [==============================] - 0s 3ms/step - loss: 0.0691 - accuracy: 0.9858 - val_loss: 0.1019 - val_accuracy: 0.9781\n",
      "Epoch 11/20\n",
      "143/143 [==============================] - 0s 3ms/step - loss: 0.0626 - accuracy: 0.9867 - val_loss: 0.0944 - val_accuracy: 0.9773\n",
      "Epoch 12/20\n",
      "143/143 [==============================] - 0s 3ms/step - loss: 0.0507 - accuracy: 0.9893 - val_loss: 0.0550 - val_accuracy: 0.9878\n",
      "Epoch 13/20\n",
      "143/143 [==============================] - 0s 3ms/step - loss: 0.0325 - accuracy: 0.9954 - val_loss: 0.0472 - val_accuracy: 0.9886\n",
      "Epoch 14/20\n",
      "143/143 [==============================] - 0s 3ms/step - loss: 0.0318 - accuracy: 0.9952 - val_loss: 0.0454 - val_accuracy: 0.9895\n",
      "Epoch 15/20\n",
      "143/143 [==============================] - 0s 3ms/step - loss: 0.0355 - accuracy: 0.9919 - val_loss: 0.0355 - val_accuracy: 0.9930\n",
      "Epoch 16/20\n",
      "143/143 [==============================] - 0s 3ms/step - loss: 0.0225 - accuracy: 0.9965 - val_loss: 0.0263 - val_accuracy: 0.9956\n",
      "Epoch 17/20\n",
      "143/143 [==============================] - 0s 3ms/step - loss: 0.0193 - accuracy: 0.9967 - val_loss: 0.0298 - val_accuracy: 0.9939\n",
      "Epoch 18/20\n",
      "143/143 [==============================] - 0s 3ms/step - loss: 0.0139 - accuracy: 0.9989 - val_loss: 0.0203 - val_accuracy: 0.9956\n",
      "Epoch 19/20\n",
      "143/143 [==============================] - 0s 3ms/step - loss: 0.0118 - accuracy: 0.9985 - val_loss: 0.0208 - val_accuracy: 0.9974\n",
      "Epoch 20/20\n",
      "143/143 [==============================] - 0s 3ms/step - loss: 0.0083 - accuracy: 0.9993 - val_loss: 0.0172 - val_accuracy: 0.9948\n"
     ]
    }
   ],
   "source": [
    "model.compile(optimizer = 'adam',\n",
    "             loss = 'sparse_categorical_crossentropy',\n",
    "             metrics = ['accuracy'])\n",
    "\n",
    "result = model.fit(x_train, y_train, epochs = n_train_epoch, validation_data=(x_val, y_val))"
   ]
  },
  {
   "cell_type": "markdown",
   "id": "89ba7bc2",
   "metadata": {},
   "source": [
    "1. Hyperparameter #1 :<br/>\n",
    "``` n_channel_1 = 16\n",
    "n_channel_2 = 32\n",
    "n_dense = 64\n",
    "n_train_epoch = 20\n",
    "```\n",
    "<br/>\n",
    "Epoch 16/20 <br/>\n",
    "143/143 [==============================] - 0s 3ms/step - loss: 0.0041 - accuracy: 0.9998 - val_loss: 0.0098 - val_accuracy: 0.9991 <br/>\n",
    "Epoch 17/20 <br/>\n",
    "143/143 [==============================] - 0s 3ms/step - loss: 0.0030 - accuracy: 1.0000 - val_loss: 0.0070 - val_accuracy: 0.9991\n",
    "\n",
    "2. Hyperparameter #2:<br/>\n",
    "``` n_channel_1 = 16\n",
    "n_channel_2 = 32\n",
    "n_dense = 64\n",
    "n_train_epoch = 21\n",
    "```\n",
    "<br/>\n",
    "Epoch 16/21 <br/>\n",
    "143/143 [==============================] - 0s 3ms/step - loss: 0.0132 - accuracy: 0.9969 - val_loss: 0.0153 - val_accuracy: 0.9974<br/>\n",
    "Epoch 17/21 <br/>\n",
    "143/143 [==============================] - 0s 3ms/step - loss: 0.0065 - accuracy: 0.9993 - val_loss: 0.0046 - val_accuracy: 1.0000\n",
    "\n",
    "3. Hyperparameter #3:<br/>\n",
    "``` n_channel_1 = 16\n",
    "n_channel_2 = 32\n",
    "n_dense = 64\n",
    "n_train_epoch = 22\n",
    "``` \n",
    "<br/>\n",
    "Epoch 13/22 <br/>\n",
    "143/143 [==============================] - 0s 3ms/step - loss: 0.0126 - accuracy: 0.9987 - val_loss: 0.0074 - val_accuracy: 1.0000 <br/>\n",
    "Epoch 14/22 <br/>\n",
    "143/143 [==============================] - 0s 3ms/step - loss: 0.0046 - accuracy: 0.9996 - val_loss: 0.0094 - val_accuracy: 0.9991"
   ]
  },
  {
   "cell_type": "markdown",
   "id": "9166ced6",
   "metadata": {},
   "source": [
    "### Visualization"
   ]
  },
  {
   "cell_type": "code",
   "execution_count": 44,
   "id": "6cc6b248",
   "metadata": {},
   "outputs": [
    {
     "data": {
      "text/plain": [
       "<matplotlib.legend.Legend at 0x7fd56c1e5b20>"
      ]
     },
     "execution_count": 44,
     "metadata": {},
     "output_type": "execute_result"
    },
    {
     "data": {
      "image/png": "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\n",
      "text/plain": [
       "<Figure size 720x432 with 1 Axes>"
      ]
     },
     "metadata": {
      "needs_background": "light"
     },
     "output_type": "display_data"
    }
   ],
   "source": [
    "# visualizing the Loss and Accuracy values of train and validation datas\n",
    "plt.figure(figsize=(10, 6))\n",
    "\n",
    "plt.plot(result.history['accuracy'])\n",
    "plt.plot(result.history['val_accuracy'])\n",
    "plt.plot(result.history['loss'])\n",
    "plt.plot(result.history['val_loss'])\n",
    "\n",
    "plt.title('Performance')\n",
    "plt.xlabel('Epochs')\n",
    "plt.ylabel('Accuracy & Loss')\n",
    "plt.legend(['train_acc', 'val_acc', 'train_loss', 'val_loss'], loc='center right')"
   ]
  },
  {
   "cell_type": "code",
   "execution_count": 45,
   "id": "02e2ea48",
   "metadata": {},
   "outputs": [
    {
     "data": {
      "image/png": "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\n",
      "text/plain": [
       "<Figure size 1008x360 with 2 Axes>"
      ]
     },
     "metadata": {
      "needs_background": "light"
     },
     "output_type": "display_data"
    }
   ],
   "source": [
    "# visualizing train and validation accuracy vs train and vailidation loss\n",
    "def eval_plot(result):\n",
    "\n",
    "  plt.figure(figsize=(14, 5))\n",
    "\n",
    "  # Accuracy plot\n",
    "  plt.subplot(1, 2, 1)\n",
    "  acc = result.history['accuracy']\n",
    "  val_acc = result.history['val_accuracy']\n",
    "  epochs = range(len(acc))\n",
    "  acc_plot, = plt.plot(epochs, acc, 'r')\n",
    "  val_acc_plot, = plt.plot(epochs, val_acc, 'b')\n",
    "  plt.title('Train and Validation Accuracy')\n",
    "  plt.legend([acc_plot, val_acc_plot], ['Train Accuracy', 'Validation Accuracy'])\n",
    "\n",
    "  # Loss plot\n",
    "  plt.subplot(1, 2, 2)\n",
    "  loss = result.history['loss']\n",
    "  val_loss = result.history['val_loss']\n",
    "  epochs = range(len(loss))\n",
    "  loss_plot, = plt.plot(epochs, loss, 'r')\n",
    "  val_loss_plot, = plt.plot(epochs, val_loss, 'b')\n",
    "  plt.title('Train and Validation Loss')\n",
    "  plt.legend([loss_plot, val_loss_plot], ['Train Loss', 'Validation Loss'])\n",
    "\n",
    "eval_plot(result)"
   ]
  },
  {
   "cell_type": "markdown",
   "id": "ced4c84a",
   "metadata": {},
   "source": [
    "## Deep Learning Network Testing"
   ]
  },
  {
   "cell_type": "markdown",
   "id": "53c4ca5e",
   "metadata": {},
   "source": [
    "### Importing test data"
   ]
  },
  {
   "cell_type": "code",
   "execution_count": 46,
   "id": "33e22837",
   "metadata": {},
   "outputs": [
    {
     "name": "stdout",
     "output_type": "stream",
     "text": [
      "123 images to be resized\n",
      "123 images resized.\n",
      "124 images to be resized\n",
      "124 images resized.\n",
      "124 images to be resized\n",
      "124 images resized.\n",
      "all images have been resized\n"
     ]
    }
   ],
   "source": [
    "def resize_images(img_path):\n",
    "    images = glob.glob(img_path + \"/*.png\")\n",
    "    \n",
    "    print(len(images), \"images to be resized\") # how many images are needed to be resized\n",
    "    \n",
    "    # resizing all images to 28x28\n",
    "    target_size = (28,28)\n",
    "    for img in images:\n",
    "        old_img = Image.open(img)\n",
    "        new_img = old_img.resize(target_size, Image.ANTIALIAS)# smooths the line\n",
    "        new_img.save(img, \"png\")\n",
    "    \n",
    "    print(len(images), \"images resized.\") # how many images have been resized\n",
    "    \n",
    "# reading all the jpg files from rock, paper and scissors directory\n",
    "\n",
    "image_dir_path = os.getenv(\"HOME\") + \"/aiffel/e1_rsp/test/rock\"\n",
    "resize_images(image_dir_path)\n",
    "\n",
    "image_dir_path = os.getenv(\"HOME\") + \"/aiffel/e1_rsp/test/paper\"\n",
    "resize_images(image_dir_path)\n",
    "\n",
    "image_dir_path = os.getenv(\"HOME\") + \"/aiffel/e1_rsp/test/scissors\"\n",
    "resize_images(image_dir_path)\n",
    "\n",
    "print(\"all images have been resized\")"
   ]
  },
  {
   "cell_type": "code",
   "execution_count": 29,
   "id": "2c92a497",
   "metadata": {},
   "outputs": [
    {
     "name": "stdout",
     "output_type": "stream",
     "text": [
      "a total of x_test images are 371\n",
      "x_test shape: (371, 28, 28, 3)\n",
      "y_test shape: (371,)\n"
     ]
    }
   ],
   "source": [
    "def load_test_data(img_path, number_of_data = 371):\n",
    "    img_size = 28\n",
    "    color = 3\n",
    "    # matrix for images and labels\n",
    "    imgs = np.zeros(number_of_data*img_size*img_size*color,dtype=np.int32).reshape(number_of_data,img_size,img_size,color)\n",
    "    labels = np.zeros(number_of_data,dtype=np.int32)\n",
    "    \n",
    "    idx = 0\n",
    "    for file in glob.iglob(img_path+'/scissors/*.png'):\n",
    "        img = np.array(Image.open(file), dtype=np.int32)\n",
    "        img = Image.open(file).convert('RGB')\n",
    "        imgs[idx,:,:,:] = img\n",
    "        labels[idx] = 0 # scissors : 0\n",
    "        idx = idx+1\n",
    "        \n",
    "    for file in glob.iglob(img_path+'/rock/*.png'):\n",
    "        img = np.array(Image.open(file), dtype=np.int32)\n",
    "        img = Image.open(file).convert('RGB')\n",
    "        imgs[idx,:,:,:] = img\n",
    "        labels[idx] = 1 # rock : 1\n",
    "        idx = idx+1\n",
    "    \n",
    "    for file in glob.iglob(img_path+'/paper/*.png'):\n",
    "        img = np.array(Image.open(file), dtype=np.int32)\n",
    "        img = Image.open(file).convert('RGB')\n",
    "        imgs[idx,:,:,:] = img\n",
    "        labels[idx] = 2 # paper : 2\n",
    "        idx = idx+1\n",
    "        \n",
    "    print(\"a total of x_test images are\", idx)\n",
    "    return imgs, labels\n",
    "\n",
    "\n",
    "image_dir_path = os.getenv(\"HOME\") + \"/aiffel/e1_rsp/test\"\n",
    "(x_test, y_test) = load_test_data(image_dir_path)\n",
    "x_test_norm = x_test/255.0 # Min-Max Normalization, value lies in between 0 and 1\n",
    "\n",
    "print(\"x_test shape: {}\".format(x_test.shape))\n",
    "print(\"y_test shape: {}\".format(y_test.shape))"
   ]
  },
  {
   "cell_type": "markdown",
   "id": "15b5c760",
   "metadata": {},
   "source": [
    "Using the same codes from previous preprocessing, I came across with the value error which was <br/>\n",
    "`ValueError: could not broadcast input array from shape (28, 28, 4) to (28,28, 3)` <br/>\n",
    "Which means 'at least one item in your list is either not three dimensional, or its second or third dimension does not match the other elements.'\n",
    "\n",
    "I've tried and failed\n",
    "1. coverting numpy.ndarray to object using `.astype(object)`\n",
    "2. using\n",
    "```\n",
    "from PIL import Image\n",
    "img = Image.open(img_name).convert('RGB')\n",
    "```\n",
    "\n",
    "But once I've tried `.conver('RGB)` in for loops, I was able to solve the ValueError\n",
    "[ThisHelped](https://github.com/carpedm20/DCGAN-tensorflow/issues/162)"
   ]
  },
  {
   "cell_type": "code",
   "execution_count": 50,
   "id": "3efa098d",
   "metadata": {},
   "outputs": [
    {
     "data": {
      "image/png": "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\n",
      "text/plain": [
       "<Figure size 576x576 with 3 Axes>"
      ]
     },
     "metadata": {
      "needs_background": "light"
     },
     "output_type": "display_data"
    }
   ],
   "source": [
    "sample_test_images = [x_test_norm[30], x_test_norm[100], x_test_norm[300]]\n",
    "\n",
    "plt.figure(figsize=(8,8))\n",
    "plt.suptitle(\"Dataset Preview\", fontsize = 16)\n",
    "\n",
    "for i, image in enumerate(sample_test_images):\n",
    "    plt.subplot(2, 3, i+1)\n",
    "    plt.imshow(image)\n",
    "    plt.title('Test', fontsize = 12)\n",
    "    plt.axis('off')\n",
    "    \n",
    "plt.tight_layout()"
   ]
  },
  {
   "cell_type": "markdown",
   "id": "fd05d70e",
   "metadata": {},
   "source": [
    "### Testing"
   ]
  },
  {
   "cell_type": "code",
   "execution_count": 47,
   "id": "c1fa3150",
   "metadata": {},
   "outputs": [
    {
     "name": "stdout",
     "output_type": "stream",
     "text": [
      "12/12 - 0s - loss: 10.9555 - accuracy: 0.5472\n",
      "test_loss: 10.955463409423828 \n",
      "test_accuracy: 0.5471698045730591\n"
     ]
    }
   ],
   "source": [
    "test_loss, test_accuracy = model.evaluate(x_test_norm, y_test, verbose=2)\n",
    "print(\"test_loss: {} \".format(test_loss))\n",
    "print(\"test_accuracy: {}\".format(test_accuracy))"
   ]
  },
  {
   "cell_type": "code",
   "execution_count": 55,
   "id": "5ea37f45",
   "metadata": {},
   "outputs": [],
   "source": [
    "predicted_result = model.predict(x_test_norm)\n",
    "predicted_labels = np.argmax(predicted_result, axis=1)"
   ]
  },
  {
   "cell_type": "code",
   "execution_count": 56,
   "id": "9cc956c6",
   "metadata": {},
   "outputs": [
    {
     "name": "stdout",
     "output_type": "stream",
     "text": [
      "예측 확률 분포:  [1.0000000e+00 8.2680227e-09 1.7897494e-14]\n",
      "라벨:  1\n",
      "예측 결과:  0\n"
     ]
    },
    {
     "data": {
      "image/png": "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\n",
      "text/plain": [
       "<Figure size 432x288 with 1 Axes>"
      ]
     },
     "metadata": {
      "needs_background": "light"
     },
     "output_type": "display_data"
    },
    {
     "name": "stdout",
     "output_type": "stream",
     "text": [
      "예측 확률 분포:  [4.2942105e-04 9.9957055e-01 5.4907623e-08]\n",
      "라벨:  2\n",
      "예측 결과:  1\n"
     ]
    },
    {
     "data": {
      "image/png": "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\n",
      "text/plain": [
       "<Figure size 432x288 with 1 Axes>"
      ]
     },
     "metadata": {
      "needs_background": "light"
     },
     "output_type": "display_data"
    },
    {
     "name": "stdout",
     "output_type": "stream",
     "text": [
      "예측 확률 분포:  [9.9864417e-01 1.4661780e-08 1.3557959e-03]\n",
      "라벨:  2\n",
      "예측 결과:  0\n"
     ]
    },
    {
     "data": {
      "image/png": "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\n",
      "text/plain": [
       "<Figure size 432x288 with 1 Axes>"
      ]
     },
     "metadata": {
      "needs_background": "light"
     },
     "output_type": "display_data"
    }
   ],
   "source": [
    "wrong_predict_list = []\n",
    "\n",
    "for i, _ in enumerate(predicted_labels):\n",
    "    if predicted_labels[i] != y_test[i]:         
    "        wrong_predict_list.append(i)\n",
    "        \n",
    "samples = random.choices(population=wrong_predict_list, k=3)\n",
    "\n",
    "for n in samples:\n",
    "    print(\"probability distribution: \", str(predicted_result[n]))\n",
    "    print(\"label: \", str(y_test[n]))\n",
    "    print(\"predicted result: \", str(predicted_labels[n]))\n",
    "    \n",
    "    plt.imshow(x_test_norm[n], cmap=plt.cm.binary)\n",
    "    plt.show()"
   ]
  },
  {
   "cell_type": "markdown",
   "id": "742dee56",
   "metadata": {},
   "source": [
    "### Fine-tuning\n",
    "\n",
    "#### First trial: resizing ==> epic fail"
   ]
  },
  {
   "cell_type": "code",
   "execution_count": null,
   "id": "bcb25e9c",
   "metadata": {},
   "outputs": [],
   "source": [
    " target_size = (112,112)"
   ]
  },
  {
   "cell_type": "markdown",
   "id": "2de5b42a",
   "metadata": {},
   "source": [
    "Adjusted hyperparameters <br/>\n",
    "First\n",
    "* n_channel_1 = 16\n",
    "* n_channel_2 = 32\n",
    "* n_dense = 32\n",
    "* n_train_epoch = 20 <br/>\n",
    "test accuracy: 0.3450\n",
    "\n",
    "Second\n",
    "* n_channel_1 = 16\n",
    "* n_channel_2 = 32\n",
    "* n_dense = 64\n",
    "* n_train_epoch = 10 <br/>\n",
    "test accuracy: 0.3638 "
   ]
  },
  {
   "cell_type": "markdown",
   "id": "234bea34",
   "metadata": {},
   "source": [
    "#### Second trial: VGG16 ==> there's something wrong with my datasets"
   ]
  },
  {
   "cell_type": "code",
   "execution_count": 3,
   "id": "63a4aca4",
   "metadata": {},
   "outputs": [
    {
     "name": "stdout",
     "output_type": "stream",
     "text": [
      "1904 images to be resized\n",
      "1904 images resized.\n",
      "1857 images to be resized\n",
      "1857 images resized.\n",
      "1959 images to be resized\n",
      "1959 images resized.\n",
      "all images have been resized\n"
     ]
    }
   ],
   "source": [
    "def resize_images(img_path):\n",
    "    images = glob.glob(img_path + \"/*.jpg\")\n",
    "    \n",
    "    print(len(images), \"images to be resized\") # how many images are needed to be resized\n",
    "    \n",
    "    # resizing all images to 112x112\n",
    "    target_size = (112,112)\n",
    "    for img in images:\n",
    "        old_img = Image.open(img)\n",
    "        new_img = old_img.resize(target_size, Image.ANTIALIAS)# smooths the line\n",
    "        new_img.save(img, \"JPEG\")\n",
    "    \n",
    "    print(len(images), \"images resized.\") # how many images have been resized\n",
    "    \n",
    "# reading all the jpg files from rock, paper and scissors directory\n",
    "\n",
    "image_dir_path = os.getenv(\"HOME\") + \"/aiffel/e1_rsp/rock/rock\"\n",
    "resize_images(image_dir_path)\n",
    "\n",
    "image_dir_path = os.getenv(\"HOME\") + \"/aiffel/e1_rsp/paper/paper\"\n",
    "resize_images(image_dir_path)\n",
    "\n",
    "image_dir_path = os.getenv(\"HOME\") + \"/aiffel/e1_rsp/scissors/scissors\"\n",
    "resize_images(image_dir_path)\n",
    "\n",
    "print(\"all images have been resized\")"
   ]
  },
  {
   "cell_type": "code",
   "execution_count": 4,
   "id": "36947ff3",
   "metadata": {},
   "outputs": [
    {
     "name": "stdout",
     "output_type": "stream",
     "text": [
      "a total of x_train_resized images are 5720\n",
      "x_train_resized shape: (5720, 112, 112, 3)\n",
      "y_train_resized shape: (5720,)\n"
     ]
    }
   ],
   "source": [
    "def load_data(img_path, number_of_data = 5720):\n",
    "    img_size = 112\n",
    "    color = 3\n",
    "    # matrix for images and labels\n",
    "    imgs = np.zeros(number_of_data*img_size*img_size*color,dtype=np.int32).reshape(number_of_data,img_size,img_size,color)\n",
    "    labels = np.zeros(number_of_data,dtype=np.int32)\n",
    "    \n",
    "    idx = 0\n",
    "    for file in glob.iglob(img_path+'/scissors/scissors/*.jpg'):\n",
    "        img = np.array(Image.open(file), dtype=np.int32)\n",
    "        imgs[idx,:,:,:] = img\n",
    "        labels[idx] = 0 # scissors : 0\n",
    "        idx = idx+1\n",
    "        \n",
    "    for file in glob.iglob(img_path+'/rock/rock/*.jpg'):\n",
    "        img = np.array(Image.open(file), dtype=np.int32)\n",
    "        imgs[idx,:,:,:] = img\n",
    "        labels[idx] = 1 # rock : 1\n",
    "        idx = idx+1\n",
    "    \n",
    "    for file in glob.iglob(img_path+'/paper/paper/*.jpg'):\n",
    "        img = np.array(Image.open(file), dtype=np.int32)\n",
    "        imgs[idx,:,:,:] = img\n",
    "        labels[idx] = 2 # paper : 2\n",
    "        idx = idx+1\n",
    "        \n",
    "    print(\"a total of x_train_resized images are\", idx)\n",
    "    return imgs, labels\n",
    "\n",
    "image_dir_path = os.getenv(\"HOME\") + \"/aiffel/e1_rsp\"\n",
    "(x_train_resized, y_train_resized) = load_data(image_dir_path)\n",
    "x_train_resized_norm = x_train_resized/255.0 # Min-Max Normalization, value lies in between 0 and 1\n",
    "\n",
    "print(\"x_train_resized shape: {}\".format(x_train_resized.shape))\n",
    "print(\"y_train_resized shape: {}\".format(y_train_resized.shape))"
   ]
  },
  {
   "cell_type": "code",
   "execution_count": 5,
   "id": "b1aa73f6",
   "metadata": {},
   "outputs": [
    {
     "name": "stdout",
     "output_type": "stream",
     "text": [
      "(4576, 112, 112, 3) (1144, 112, 112, 3) (4576,) (1144,)\n"
     ]
    }
   ],
   "source": [
    "# 80% into the train 20% into the validation\n",
    "x_train_resized, x_val_resized, y_train_resized, y_val_resized = train_test_split(x_train_resized_norm, y_train_resized, test_size=0.2, shuffle=True, random_state=10)\n",
    "\n",
    "# view the size of train and validation data\n",
    "print(x_train_resized.shape, x_val_resized.shape, y_train_resized.shape, y_val_resized.shape)"
   ]
  },
  {
   "cell_type": "code",
   "execution_count": 6,
   "id": "678c831f",
   "metadata": {},
   "outputs": [
    {
     "name": "stdout",
     "output_type": "stream",
     "text": [
      "Model: \"sequential\"\n",
      "_________________________________________________________________\n",
      "Layer (type)                 Output Shape              Param #   \n",
      "=================================================================\n",
      "vgg16 (Functional)           (None, 3, 3, 512)         14714688  \n",
      "_________________________________________________________________\n",
      "flatten (Flatten)            (None, 4608)              0         \n",
      "_________________________________________________________________\n",
      "dense (Dense)                (None, 4096)              18878464  \n",
      "_________________________________________________________________\n",
      "dropout (Dropout)            (None, 4096)              0         \n",
      "_________________________________________________________________\n",
      "dense_1 (Dense)              (None, 4096)              16781312  \n",
      "_________________________________________________________________\n",
      "dropout_1 (Dropout)          (None, 4096)              0         \n",
      "_________________________________________________________________\n",
      "dense_2 (Dense)              (None, 3)                 12291     \n",
      "=================================================================\n",
      "Total params: 50,386,755\n",
      "Trainable params: 35,672,067\n",
      "Non-trainable params: 14,714,688\n",
      "_________________________________________________________________\n"
     ]
    }
   ],
   "source": [
    "from tensorflow.keras.applications import VGG16\n",
    "\n",
    "model_vgg = VGG16(weights='imagenet', include_top=False, input_shape=(112, 112, 3))\n",
    "model_vgg.trainable = False                                                       \n",
    "\n",
    "model = keras.models.Sequential()\n",
    "model.add(model_vgg)                                                               \n",
    "model.add(keras.layers.Flatten())                    \n",
    "model.add(keras.layers.Dense(4096, activation='relu', kernel_regularizer='l2'))   \n",
    "model.add(keras.layers.Dropout(0.5))\n",
    "model.add(keras.layers.Dense(4096, activation='relu', kernel_regularizer='l2'))    \n",
    "model.add(keras.layers.Dropout(0.5))                                               \n",
    "model.add(keras.layers.Dense(3, activation='softmax'))\n",
    "\n",
    "model.summary()"
   ]
  },
  {
   "cell_type": "code",
   "execution_count": 12,
   "id": "a273f860",
   "metadata": {},
   "outputs": [
    {
     "name": "stdout",
     "output_type": "stream",
     "text": [
      "Epoch 1/12\n",
      "143/143 [==============================] - 9s 59ms/step - loss: 0.7818 - accuracy: 0.8062 - val_loss: 0.5376 - val_accuracy: 0.9458\n",
      "Epoch 2/12\n",
      "143/143 [==============================] - 8s 55ms/step - loss: 0.5858 - accuracy: 0.8623 - val_loss: 0.3512 - val_accuracy: 0.9554\n",
      "Epoch 3/12\n",
      "143/143 [==============================] - 8s 56ms/step - loss: 0.6024 - accuracy: 0.8335 - val_loss: 0.4010 - val_accuracy: 0.9598\n",
      "Epoch 4/12\n",
      "143/143 [==============================] - 8s 56ms/step - loss: 0.6837 - accuracy: 0.8132 - val_loss: 0.4550 - val_accuracy: 0.9476\n",
      "Epoch 5/12\n",
      "143/143 [==============================] - 8s 56ms/step - loss: 0.6045 - accuracy: 0.8427 - val_loss: 0.3601 - val_accuracy: 0.9650\n",
      "Epoch 6/12\n",
      "143/143 [==============================] - 8s 56ms/step - loss: 0.6101 - accuracy: 0.8173 - val_loss: 0.3962 - val_accuracy: 0.9694\n",
      "Epoch 7/12\n",
      "143/143 [==============================] - 8s 55ms/step - loss: 0.5362 - accuracy: 0.8599 - val_loss: 0.3290 - val_accuracy: 0.9650\n",
      "Epoch 8/12\n",
      "143/143 [==============================] - 8s 55ms/step - loss: 0.6054 - accuracy: 0.8197 - val_loss: 0.3612 - val_accuracy: 0.9624\n",
      "Epoch 9/12\n",
      "143/143 [==============================] - 8s 55ms/step - loss: 0.6021 - accuracy: 0.8169 - val_loss: 0.3658 - val_accuracy: 0.9580\n",
      "Epoch 10/12\n",
      "143/143 [==============================] - 8s 55ms/step - loss: 0.6124 - accuracy: 0.8136 - val_loss: 0.3508 - val_accuracy: 0.9484\n",
      "Epoch 11/12\n",
      "143/143 [==============================] - 8s 55ms/step - loss: 0.6418 - accuracy: 0.8295 - val_loss: 0.3996 - val_accuracy: 0.9563\n",
      "Epoch 12/12\n",
      "143/143 [==============================] - 8s 55ms/step - loss: 0.6796 - accuracy: 0.8287 - val_loss: 0.4333 - val_accuracy: 0.9572\n"
     ]
    }
   ],
   "source": [
    "EPOCH = 12\n",
    "model.compile(optimizer='adam',                         \n",
    "             loss='sparse_categorical_crossentropy', \n",
    "             metrics=['accuracy'], )\n",
    "\n",
    "history = model.fit(x_train_resized, y_train_resized, epochs=EPOCH, validation_data=(x_val_resized, y_val_resized))"
   ]
  },
  {
   "cell_type": "markdown",
   "id": "1cd57761",
   "metadata": {},
   "source": [
    "**Without validation dataset:**\n",
    "\n",
    "Epoch 1/10 <br/>\n",
    "179/179 [==============================] - 12s 53ms/step - loss: 50.8296 - accuracy: 0.8921 <br/>\n",
    "Epoch 2/10 <br/>\n",
    "179/179 [==============================] - 8s 46ms/step - loss: 26.0720 - accuracy: 0.9460<br/>\n",
    "Epoch 3/10<br/>\n",
    "179/179 [==============================] - 8s 46ms/step - loss: 20.8675 - accuracy: 0.9629<br/>\n",
    "Epoch 4/10<br/>\n",
    "179/179 [==============================] - 8s 47ms/step - loss: 20.7191 - accuracy: 0.9663<br/>\n",
    "Epoch 5/10<br/>\n",
    "179/179 [==============================] - 8s 47ms/step - loss: 18.3663 - accuracy: 0.9771<br/>\n",
    "Epoch 6/10<br/>\n",
    "179/179 [==============================] - 8s 47ms/step - loss: 16.0640 - accuracy: 0.9801<br/>\n",
    "Epoch 7/10<br/>\n",
    "179/179 [==============================] - 8s 47ms/step - loss: 21.2503 - accuracy: 0.9673<br/>\n",
    "Epoch 8/10<br/>\n",
    "179/179 [==============================] - 8s 46ms/step - loss: 19.6972 - accuracy: 0.9823<br/>\n",
    "Epoch 9/10<br/>\n",
    "179/179 [==============================] - 8s 46ms/step - loss: 17.4191 - accuracy: 0.9869<br/>\n",
    "Epoch 10/10<br/>\n",
    "179/179 [==============================] - 8s 46ms/step - loss: 16.7626 - accuracy: 0.9820<br/>"
   ]
  },
  {
   "cell_type": "code",
   "execution_count": 8,
   "id": "aba950b2",
   "metadata": {},
   "outputs": [
    {
     "name": "stdout",
     "output_type": "stream",
     "text": [
      "123 images to be resized\n",
      "123 images resized.\n",
      "124 images to be resized\n",
      "124 images resized.\n",
      "124 images to be resized\n",
      "124 images resized.\n",
      "all images have been resized\n"
     ]
    }
   ],
   "source": [
    "def resize_images(img_path):\n",
    "    images = glob.glob(img_path + \"/*.png\")\n",
    "    \n",
    "    print(len(images), \"images to be resized\") # how many images are needed to be resized\n",
    "    \n",
    "    # resizing all images to 112x112\n",
    "    target_size = (112,112)\n",
    "    for img in images:\n",
    "        old_img = Image.open(img)\n",
    "        new_img = old_img.resize(target_size, Image.ANTIALIAS)# smooths the line\n",
    "        new_img.save(img, \"png\")\n",
    "    \n",
    "    print(len(images), \"images resized.\") # how many images have been resized\n",
    "    \n",
    "# reading all the jpg files from rock, paper and scissors directory\n",
    "\n",
    "image_dir_path = os.getenv(\"HOME\") + \"/aiffel/e1_rsp/test/rock\"\n",
    "resize_images(image_dir_path)\n",
    "\n",
    "image_dir_path = os.getenv(\"HOME\") + \"/aiffel/e1_rsp/test/paper\"\n",
    "resize_images(image_dir_path)\n",
    "\n",
    "image_dir_path = os.getenv(\"HOME\") + \"/aiffel/e1_rsp/test/scissors\"\n",
    "resize_images(image_dir_path)\n",
    "\n",
    "print(\"all images have been resized\")"
   ]
  },
  {
   "cell_type": "code",
   "execution_count": 9,
   "id": "93188ec3",
   "metadata": {},
   "outputs": [
    {
     "name": "stdout",
     "output_type": "stream",
     "text": [
      "a total of x_test_resized images are 371\n",
      "x_test_resized shape: (371, 112, 112, 3)\n",
      "y_test_resized shape: (371,)\n"
     ]
    }
   ],
   "source": [
    "def load_test_resized_data(img_path, number_of_data = 371):\n",
    "    img_size = 112\n",
    "    color = 3\n",
    "    # matrix for images and labels\n",
    "    imgs = np.zeros(number_of_data*img_size*img_size*color,dtype=np.int32).reshape(number_of_data,img_size,img_size,color)\n",
    "    labels = np.zeros(number_of_data,dtype=np.int32)\n",
    "    \n",
    "    idx = 0\n",
    "    for file in glob.iglob(img_path+'/scissors/*.png'):\n",
    "        img = np.array(Image.open(file), dtype=np.int32)\n",
    "        img = Image.open(file).convert('RGB')\n",
    "        imgs[idx,:,:,:] = img\n",
    "        labels[idx] = 0 # scissors : 0\n",
    "        idx = idx+1\n",
    "        \n",
    "    for file in glob.iglob(img_path+'/rock/*.png'):\n",
    "        img = np.array(Image.open(file), dtype=np.int32)\n",
    "        img = Image.open(file).convert('RGB')\n",
    "        imgs[idx,:,:,:] = img\n",
    "        labels[idx] = 1 # rock : 1\n",
    "        idx = idx+1\n",
    "    \n",
    "    for file in glob.iglob(img_path+'/paper/*.png'):\n",
    "        img = np.array(Image.open(file), dtype=np.int32)\n",
    "        img = Image.open(file).convert('RGB')\n",
    "        imgs[idx,:,:,:] = img\n",
    "        labels[idx] = 2 # paper : 2\n",
    "        idx = idx+1\n",
    "        \n",
    "    print(\"a total of x_test_resized images are\", idx)\n",
    "    return imgs, labels\n",
    "\n",
    "\n",
    "image_dir_path = os.getenv(\"HOME\") + \"/aiffel/e1_rsp/test\"\n",
    "(x_test_resized, y_test_resized) = load_test_resized_data(image_dir_path)\n",
    "x_test_resized_norm = x_test_resized/255.0 # Min-Max Normalization, value lies in between 0 and 1\n",
    "\n",
    "print(\"x_test_resized shape: {}\".format(x_test_resized.shape))\n",
    "print(\"y_test_resized shape: {}\".format(y_test_resized.shape))"
   ]
  },
  {
   "cell_type": "code",
   "execution_count": 13,
   "id": "3d493da7",
   "metadata": {},
   "outputs": [
    {
     "name": "stdout",
     "output_type": "stream",
     "text": [
      "test_loss: 1.6196895837783813 \n",
      "test_accuracy: 0.6226415038108826\n"
     ]
    }
   ],
   "source": [
    "test_loss_resized, test_accuracy_resized = model.evaluate(x_test_resized_norm, y_test_resized, verbose=0)\n",
    "print(\"test_loss: {} \".format(test_loss_resized))\n",
    "print(\"test_accuracy: {}\".format(test_accuracy_resized))"
   ]
  },
  {
   "cell_type": "markdown",
   "id": "4955ff42",
   "metadata": {},
   "source": [
    "#### third trial: VGG19 ==> Kernel died"
   ]
  },
  {
   "cell_type": "code",
   "execution_count": 29,
   "id": "e7d63ba1",
   "metadata": {},
   "outputs": [
    {
     "name": "stdout",
     "output_type": "stream",
     "text": [
      "Model: \"sequential_5\"\n",
      "_________________________________________________________________\n",
      "Layer (type)                 Output Shape              Param #   \n",
      "=================================================================\n",
      "conv2d_26 (Conv2D)           (None, 224, 224, 64)      1792      \n",
      "_________________________________________________________________\n",
      "conv2d_27 (Conv2D)           (None, 224, 224, 64)      36928     \n",
      "_________________________________________________________________\n",
      "max_pooling2d_10 (MaxPooling (None, 112, 112, 64)      0         \n",
      "_________________________________________________________________\n",
      "conv2d_28 (Conv2D)           (None, 112, 112, 128)     73856     \n",
      "_________________________________________________________________\n",
      "conv2d_29 (Conv2D)           (None, 112, 112, 128)     147584    \n",
      "_________________________________________________________________\n",
      "max_pooling2d_11 (MaxPooling (None, 56, 56, 128)       0         \n",
      "_________________________________________________________________\n",
      "conv2d_30 (Conv2D)           (None, 56, 56, 256)       295168    \n",
      "_________________________________________________________________\n",
      "conv2d_31 (Conv2D)           (None, 56, 56, 256)       590080    \n",
      "_________________________________________________________________\n",
      "conv2d_32 (Conv2D)           (None, 56, 56, 256)       590080    \n",
      "_________________________________________________________________\n",
      "max_pooling2d_12 (MaxPooling (None, 28, 28, 256)       0         \n",
      "_________________________________________________________________\n",
      "conv2d_33 (Conv2D)           (None, 28, 28, 512)       1180160   \n",
      "_________________________________________________________________\n",
      "conv2d_34 (Conv2D)           (None, 28, 28, 512)       2359808   \n",
      "_________________________________________________________________\n",
      "conv2d_35 (Conv2D)           (None, 28, 28, 512)       2359808   \n",
      "_________________________________________________________________\n",
      "max_pooling2d_13 (MaxPooling (None, 14, 14, 512)       0         \n",
      "_________________________________________________________________\n",
      "conv2d_36 (Conv2D)           (None, 14, 14, 512)       2359808   \n",
      "_________________________________________________________________\n",
      "conv2d_37 (Conv2D)           (None, 14, 14, 512)       2359808   \n",
      "_________________________________________________________________\n",
      "conv2d_38 (Conv2D)           (None, 14, 14, 512)       2359808   \n",
      "_________________________________________________________________\n",
      "max_pooling2d_14 (MaxPooling (None, 7, 7, 512)         0         \n",
      "_________________________________________________________________\n",
      "flatten_2 (Flatten)          (None, 25088)             0         \n",
      "_________________________________________________________________\n",
      "dense_6 (Dense)              (None, 4096)              102764544 \n",
      "_________________________________________________________________\n",
      "dense_7 (Dense)              (None, 4096)              16781312  \n",
      "_________________________________________________________________\n",
      "dense_8 (Dense)              (None, 2)                 8194      \n",
      "=================================================================\n",
      "Total params: 134,268,738\n",
      "Trainable params: 134,268,738\n",
      "Non-trainable params: 0\n",
      "_________________________________________________________________\n"
     ]
    }
   ],
   "source": [
    "import keras,os\n",
    "from keras.models import Sequential\n",
    "from keras.layers import Dense, Conv2D, MaxPool2D , Flatten\n",
    "from keras.preprocessing.image import ImageDataGenerator\n",
    "\n",
    "model = Sequential()\n",
    "model.add(Conv2D(input_shape=(224,224,3),filters=64,kernel_size=(3,3),padding=\"same\", activation=\"relu\"))\n",
    "model.add(Conv2D(filters=64,kernel_size=(3,3),padding=\"same\", activation=\"relu\"))\n",
    "model.add(MaxPool2D(pool_size=(2,2),strides=(2,2)))\n",
    "model.add(Conv2D(filters=128, kernel_size=(3,3), padding=\"same\", activation=\"relu\"))\n",
    "model.add(Conv2D(filters=128, kernel_size=(3,3), padding=\"same\", activation=\"relu\"))\n",
    "model.add(MaxPool2D(pool_size=(2,2),strides=(2,2)))\n",
    "model.add(Conv2D(filters=256, kernel_size=(3,3), padding=\"same\", activation=\"relu\"))\n",
    "model.add(Conv2D(filters=256, kernel_size=(3,3), padding=\"same\", activation=\"relu\"))\n",
    "model.add(Conv2D(filters=256, kernel_size=(3,3), padding=\"same\", activation=\"relu\"))\n",
    "model.add(MaxPool2D(pool_size=(2,2),strides=(2,2)))\n",
    "model.add(Conv2D(filters=512, kernel_size=(3,3), padding=\"same\", activation=\"relu\"))\n",
    "model.add(Conv2D(filters=512, kernel_size=(3,3), padding=\"same\", activation=\"relu\"))\n",
    "model.add(Conv2D(filters=512, kernel_size=(3,3), padding=\"same\", activation=\"relu\"))\n",
    "model.add(MaxPool2D(pool_size=(2,2),strides=(2,2)))\n",
    "model.add(Conv2D(filters=512, kernel_size=(3,3), padding=\"same\", activation=\"relu\"))\n",
    "model.add(Conv2D(filters=512, kernel_size=(3,3), padding=\"same\", activation=\"relu\"))\n",
    "model.add(Conv2D(filters=512, kernel_size=(3,3), padding=\"same\", activation=\"relu\"))\n",
    "model.add(MaxPool2D(pool_size=(2,2),strides=(2,2)))\n",
    "model.add(Flatten())\n",
    "model.add(Dense(units=4096,activation=\"relu\"))\n",
    "model.add(Dense(units=4096,activation=\"relu\"))\n",
    "model.add(Dense(units=2, activation=\"softmax\"))\n",
    "\n",
    "model.summary()"
   ]
  },
  {
   "cell_type": "markdown",
   "id": "7f0d7200",
   "metadata": {},
   "source": [
    "---\n",
    "\n",
    "## Conclusion\n",
    "\n",
    "#### Model accuracy: 62%\n",
    "\n",
    "#### Hypothesis: falsification\n",
    "\n",
    "1. datasets are important GIGO!\n",
    "2. adjusting hyperparameters are somewhat meaningful but getting better datasets would do much better\n",
    "3. try confusion matrix and classification report nextime\n",
    "4. achieved 3 out of 5 goals\n",
    "5. DATA DATA DATA"
   ]
  }
 ],
 "metadata": {
  "kernelspec": {
   "display_name": "Python 3 (ipykernel)",
   "language": "python",
   "name": "python3"
  },
  "language_info": {
   "codemirror_mode": {
    "name": "ipython",
    "version": 3
   },
   "file_extension": ".py",
   "mimetype": "text/x-python",
   "name": "python",
   "nbconvert_exporter": "python",
   "pygments_lexer": "ipython3",
   "version": "3.9.7"
  }
 },
 "nbformat": 4,
 "nbformat_minor": 5
}
