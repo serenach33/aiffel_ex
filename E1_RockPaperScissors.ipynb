{
 "cells": [
  {
   "cell_type": "markdown",
   "id": "e2c84d0c",
   "metadata": {},
   "source": [
    "# Exploration 1: Rock-Paper-Scissors Image Classification\n",
    "\n",
    "---\n",
    "\n",
    "#### Model\n",
    "* Keras Sequential API\n",
    "\n",
    "#### Datasets\n",
    "* Created my own datasets from [Teachable Machine](https://teachablemachine.withgoogle.com/)\n",
    "* Gathered more datasets from the Aiffel mates\n",
    "\n",
    "#### Model evaluation\n",
    "* Loss and Accuracy\n",
    "* Confusion Matrix\n",
    "* Classification report\n",
    "\n",
    "#### Goals\n",
    "\n",
    "1. Get higher accuracy than the first time which was 0.37, hopefully above 0.80\n",
    "2. Import more datasets\n",
    "3. Use `sklearn.model_selection.train_test_split`\n",
    "4. Plot Confusion matrix and Classification report\n",
    "5. Validate my hypothesis: If test datasets are highly qualified than the train sets, then the accuracy will increase.\n",
    "\n",
    "---"
   ]
  },
  {
   "cell_type": "markdown",
   "id": "fcd9f801",
   "metadata": {},
   "source": [
    "## Importing Dependencies\n",
    "\n",
    "laying the foundation to build my model on"
   ]
  },
  {
   "cell_type": "code",
   "execution_count": 12,
   "id": "9f568e26",
   "metadata": {},
   "outputs": [
    {
     "name": "stdout",
     "output_type": "stream",
     "text": [
      "All imported!\n"
     ]
    }
   ],
   "source": [
    "from PIL import Image #for resizing images\n",
    "import os, glob, random, math\n",
    "import tensorflow as tf\n",
    "from tensorflow import keras\n",
    "import numpy as np\n",
    "import matplotlib.pyplot as plt\n",
    "from sklearn.model_selection import train_test_split\n",
    "from sklearn.metrics import classification_report, confusion_matrix\n",
    "from tensorflow.keras.preprocessing.image import ImageDataGenerator\n",
    "\n",
    "print(\"All imported!\")"
   ]
  },
  {
   "cell_type": "markdown",
   "id": "edc69d44",
   "metadata": {},
   "source": [
    "---\n",
    "\n",
    "## Data Pre-processing\n",
    "\n",
    "### Images importing and resizing\n",
    "\n",
    "Resizing images from 224x224 to 28x28\n",
    "\n",
    "#### Anti-aliasing\n",
    "* a technique for minimizing the distortion artifacts (aliasing) when representing a high-resolution image at a lower resolution\n",
    "* basically it reduces the jaggedness and creates a \"smoother\" look\n"
   ]
  },
  {
   "cell_type": "code",
   "execution_count": 13,
   "id": "ffb68b9f",
   "metadata": {},
   "outputs": [
    {
     "name": "stdout",
     "output_type": "stream",
     "text": [
      "1904 images to be resized\n",
      "1904 images resized.\n",
      "1857 images to be resized\n",
      "1857 images resized.\n",
      "1959 images to be resized\n",
      "1959 images resized.\n",
      "all images have been resized\n"
     ]
    }
   ],
   "source": [
    "def resize_images(img_path):\n",
    "    images = glob.glob(img_path + \"/*.jpg\")\n",
    "    \n",
    "    print(len(images), \"images to be resized\") # how many images are needed to be resized\n",
    "    \n",
    "    # resizing all images to 28x28\n",
    "    target_size = (28,28)\n",
    "    for img in images:\n",
    "        old_img = Image.open(img)\n",
    "        new_img = old_img.resize(target_size, Image.ANTIALIAS)# smooths the line\n",
    "        new_img.save(img, \"JPEG\")\n",
    "    \n",
    "    print(len(images), \"images resized.\") # how many images have been resized\n",
    "    \n",
    "# reading all the jpg files from rock, paper and scissors directory\n",
    "\n",
    "image_dir_path = os.getenv(\"HOME\") + \"/aiffel/e1_rsp/rock/rock\"\n",
    "resize_images(image_dir_path)\n",
    "\n",
    "image_dir_path = os.getenv(\"HOME\") + \"/aiffel/e1_rsp/paper/paper\"\n",
    "resize_images(image_dir_path)\n",
    "\n",
    "image_dir_path = os.getenv(\"HOME\") + \"/aiffel/e1_rsp/scissors/scissors\"\n",
    "resize_images(image_dir_path)\n",
    "\n",
    "print(\"all images have been resized\")"
   ]
  },
  {
   "cell_type": "markdown",
   "id": "a7099ae7",
   "metadata": {},
   "source": [
    "### Data loading and labeling\n",
    "\n",
    "iglobe(): return an iterator which yields the same values as glob() without actually storing them all simultaneously. <br/>\n",
    "[globe documentation](https://docs.python.org/3/library/glob.html)"
   ]
  },
  {
   "cell_type": "code",
   "execution_count": 14,
   "id": "af74ffc2",
   "metadata": {},
   "outputs": [
    {
     "name": "stdout",
     "output_type": "stream",
     "text": [
      "a total of x_train images are 5720\n",
      "x_train shape: (5720, 28, 28, 3)\n",
      "y_train shape: (5720,)\n"
     ]
    }
   ],
   "source": [
    "def load_data(img_path, number_of_data = 5720):\n",
    "    img_size = 28\n",
    "    color = 3\n",
    "    # matrix for images and labels\n",
    "    imgs = np.zeros(number_of_data*img_size*img_size*color,dtype=np.int32).reshape(number_of_data,img_size,img_size,color)\n",
    "    labels = np.zeros(number_of_data,dtype=np.int32)\n",
    "    \n",
    "    idx = 0\n",
    "    for file in glob.iglob(img_path+'/scissors/scissors/*.jpg'):\n",
    "        img = np.array(Image.open(file), dtype=np.int32)\n",
    "        imgs[idx,:,:,:] = img\n",
    "        labels[idx] = 0 # scissors : 0\n",
    "        idx = idx+1\n",
    "        \n",
    "    for file in glob.iglob(img_path+'/rock/rock/*.jpg'):\n",
    "        img = np.array(Image.open(file), dtype=np.int32)\n",
    "        imgs[idx,:,:,:] = img\n",
    "        labels[idx] = 1 # rock : 1\n",
    "        idx = idx+1\n",
    "    \n",
    "    for file in glob.iglob(img_path+'/paper/paper/*.jpg'):\n",
    "        img = np.array(Image.open(file), dtype=np.int32)\n",
    "        imgs[idx,:,:,:] = img\n",
    "        labels[idx] = 2 # paper : 2\n",
    "        idx = idx+1\n",
    "        \n",
    "    print(\"a total of x_train images are\", idx)\n",
    "    return imgs, labels\n",
    "\n",
    "image_dir_path = os.getenv(\"HOME\") + \"/aiffel/e1_rsp\"\n",
    "(x_train, y_train) = load_data(image_dir_path)\n",
    "x_train_norm = x_train/255.0 # Min-Max Normalization, value lies in between 0 and 1\n",
    "\n",
    "print(\"x_train shape: {}\".format(x_train.shape))\n",
    "print(\"y_train shape: {}\".format(y_train.shape))"
   ]
  },
  {
   "cell_type": "markdown",
   "id": "906b1ecb",
   "metadata": {},
   "source": [
    "### Train_Test_Split\n",
    "\n",
    "Validation Dataset: The sample of data used to provide an unbiased evaluation of a model fit on the training dataset while tuning model hyperparameters."
   ]
  },
  {
   "cell_type": "code",
   "execution_count": 15,
   "id": "2af085bf",
   "metadata": {},
   "outputs": [
    {
     "name": "stdout",
     "output_type": "stream",
     "text": [
      "(4576, 28, 28, 3) (1144, 28, 28, 3) (4576,) (1144,)\n"
     ]
    }
   ],
   "source": [
    "# 80% into the train 20% into the validation\n",
    "x_train, x_val, y_train, y_val = train_test_split(x_train_norm, y_train, test_size=0.2, shuffle=True, random_state=10)\n",
    "\n",
    "# view the size of train and validation data\n",
    "print(x_train.shape, x_val.shape, y_train.shape, y_val.shape)"
   ]
  },
  {
   "cell_type": "code",
   "execution_count": 16,
   "id": "d7070e97",
   "metadata": {},
   "outputs": [
    {
     "name": "stdout",
     "output_type": "stream",
     "text": [
      "label 1\n"
     ]
    },
    {
     "data": {
      "image/png": "[encoded data removed]",
      "text/plain": [
       "<Figure size 432x288 with 1 Axes>"
      ]
     },
     "metadata": {
      "needs_background": "light"
     },
     "output_type": "display_data"
    }
   ],
   "source": [
    "# view certain image and label\n",
    "plt.imshow(x_train[1234])\n",
    "print('label', y_train[1234])"
   ]
  },
  {
   "cell_type": "code",
   "execution_count": 17,
   "id": "9dd31969",
   "metadata": {},
   "outputs": [
    {
     "data": {
      "image/png": "[encoded data removed]",
      "text/plain": [
       "<Figure size 576x576 with 6 Axes>"
      ]
     },
     "metadata": {
      "needs_background": "light"
     },
     "output_type": "display_data"
    }
   ],
   "source": [
    "# one is not enough! much better way to view dataset\n",
    "sample_train_images = [x_train[30], x_train[300], x_train[3000]]\n",
    "sample_validation_images = [x_val[10], x_val[110], x_val[1110]]\n",
    "sample_images = sample_train_images + sample_validation_images\n",
    "\n",
    "plt.figure(figsize=(8,8))\n",
    "plt.suptitle(\"Dataset Preview\", fontsize = 16)\n",
    "\n",
    "for i, image in enumerate(sample_images):\n",
    "    plt.subplot(2, 3, i+1)\n",
    "    plt.imshow(image)\n",
    "    plt.title('Train' if i < 3 else 'Validation', fontsize = 12)\n",
    "    plt.axis('off')\n",
    "    \n",
    "plt.tight_layout()"
   ]
  },
  {
   "cell_type": "markdown",
   "id": "5201a3a9",
   "metadata": {},
   "source": [
    "---\n",
    "## Deep Learning Network Training\n",
    "\n",
    "### Model construction\n",
    "\n",
    "Buidling a LeNet network, the Convolutional Neural Network(CNN)\n",
    "\n",
    "* Conv2D: this layer creates a convolution kernel that is wind with layers input which helps produce a tensor of outputs. <br/>\n",
    "The Keras Conv2D class constructor has the following arguments:\n",
    "``` \n",
    "keras.layers.Conv2D(filters, kernel_size, strides=(1, 1),\n",
    "  padding='valid', data_format=None, dilation_rate=(1, 1),\n",
    "  activation=None, use_bias=True, kernel_initializer='glorot_uniform',\n",
    "  bias_initializer='zeros', kernel_regularizer=None,\n",
    "  bias_regularizer=None, activity_regularizer=None,\n",
    "  kernel_constraint=None, bias_constraint=None)\n",
    "  ```\n",
    "* `activation = 'relu'`: Rectified Linear Unit, a piecewise linear function that will output the input directly if it is positive, otherwise, it will output zero.<br/> It has become the default activation function for many types of neural networks because a model that uses it is easier to train and often achieves better performance."
   ]
  },
  {
   "cell_type": "code",
   "execution_count": 18,
   "id": "d6efcdb3",
   "metadata": {},
   "outputs": [
    {
     "name": "stdout",
     "output_type": "stream",
     "text": [
      "number of added layer: 7\n",
      "Model: \"sequential_1\"\n",
      "_________________________________________________________________\n",
      "Layer (type)                 Output Shape              Param #   \n",
      "=================================================================\n",
      "conv2d_2 (Conv2D)            (None, 26, 26, 16)        448       \n",
      "_________________________________________________________________\n",
      "max_pooling2d_2 (MaxPooling2 (None, 13, 13, 16)        0         \n",
      "_________________________________________________________________\n",
      "conv2d_3 (Conv2D)            (None, 11, 11, 32)        4640      \n",
      "_________________________________________________________________\n",
      "max_pooling2d_3 (MaxPooling2 (None, 5, 5, 32)          0         \n",
      "_________________________________________________________________\n",
      "flatten_1 (Flatten)          (None, 800)               0         \n",
      "_________________________________________________________________\n",
      "dense_2 (Dense)              (None, 32)                25632     \n",
      "_________________________________________________________________\n",
      "dense_3 (Dense)              (None, 3)                 99        \n",
      "=================================================================\n",
      "Total params: 30,819\n",
      "Trainable params: 30,819\n",
      "Non-trainable params: 0\n",
      "_________________________________________________________________\n"
     ]
    }
   ],
   "source": [
    "n_channel_1 = 16\n",
    "n_channel_2 = 32\n",
    "n_dense = 32\n",
    "n_train_epoch = 20\n",
    "\n",
    "model = keras.models.Sequential()\n",
    "model.add(keras.layers.Conv2D(n_channel_1, (3, 3), activation = 'relu', input_shape = (28, 28, 3)))\n",
    "model.add(keras.layers.MaxPool2D(2, 2))\n",
    "model.add(keras.layers.Conv2D(n_channel_2, (3, 3), activation = 'relu'))\n",
    "model.add(keras.layers.MaxPooling2D((2, 2)))\n",
    "model.add(keras.layers.Flatten())\n",
    "model.add(keras.layers.Dense(n_dense, activation = 'relu'))\n",
    "model.add(keras.layers.Dense(3, activation = 'softmax'))\n",
    "\n",
    "print('number of added layer:', len(model.layers))\n",
    "model.summary()"
   ]
  },
  {
   "cell_type": "markdown",
   "id": "6bf99be5",
   "metadata": {},
   "source": [
    "### Compile and Fit"
   ]
  },
  {
   "cell_type": "code",
   "execution_count": 19,
   "id": "1f3edcc2",
   "metadata": {},
   "outputs": [
    {
     "name": "stdout",
     "output_type": "stream",
     "text": [
      "Epoch 1/20\n",
      "143/143 [==============================] - 1s 5ms/step - loss: 1.0599 - accuracy: 0.4467 - val_loss: 0.9455 - val_accuracy: 0.5559\n",
      "Epoch 2/20\n",
      "143/143 [==============================] - 0s 3ms/step - loss: 0.7640 - accuracy: 0.6860 - val_loss: 0.6094 - val_accuracy: 0.7727\n",
      "Epoch 3/20\n",
      "143/143 [==============================] - 0s 3ms/step - loss: 0.5133 - accuracy: 0.8156 - val_loss: 0.3949 - val_accuracy: 0.8767\n",
      "Epoch 4/20\n",
      "143/143 [==============================] - 0s 3ms/step - loss: 0.3410 - accuracy: 0.8844 - val_loss: 0.2707 - val_accuracy: 0.9187\n",
      "Epoch 5/20\n",
      "143/143 [==============================] - 0s 3ms/step - loss: 0.2183 - accuracy: 0.9392 - val_loss: 0.2224 - val_accuracy: 0.9248\n",
      "Epoch 6/20\n",
      "143/143 [==============================] - 0s 3ms/step - loss: 0.1495 - accuracy: 0.9598 - val_loss: 0.1657 - val_accuracy: 0.9502\n",
      "Epoch 7/20\n",
      "143/143 [==============================] - 0s 3ms/step - loss: 0.0970 - accuracy: 0.9779 - val_loss: 0.1027 - val_accuracy: 0.9747\n",
      "Epoch 8/20\n",
      "143/143 [==============================] - 0s 3ms/step - loss: 0.0728 - accuracy: 0.9834 - val_loss: 0.0885 - val_accuracy: 0.9825\n",
      "Epoch 9/20\n",
      "143/143 [==============================] - 0s 3ms/step - loss: 0.0602 - accuracy: 0.9875 - val_loss: 0.0662 - val_accuracy: 0.9816\n",
      "Epoch 10/20\n",
      "143/143 [==============================] - 0s 3ms/step - loss: 0.0379 - accuracy: 0.9937 - val_loss: 0.0709 - val_accuracy: 0.9799\n",
      "Epoch 11/20\n",
      "143/143 [==============================] - 0s 3ms/step - loss: 0.0329 - accuracy: 0.9952 - val_loss: 0.0616 - val_accuracy: 0.9825\n",
      "Epoch 12/20\n",
      "143/143 [==============================] - 0s 3ms/step - loss: 0.0216 - accuracy: 0.9978 - val_loss: 0.0328 - val_accuracy: 0.9913\n",
      "Epoch 13/20\n",
      "143/143 [==============================] - 0s 3ms/step - loss: 0.0166 - accuracy: 0.9983 - val_loss: 0.0322 - val_accuracy: 0.9904\n",
      "Epoch 14/20\n",
      "143/143 [==============================] - 0s 3ms/step - loss: 0.0133 - accuracy: 0.9987 - val_loss: 0.0280 - val_accuracy: 0.9921\n",
      "Epoch 15/20\n",
      "143/143 [==============================] - 0s 3ms/step - loss: 0.0103 - accuracy: 0.9989 - val_loss: 0.0196 - val_accuracy: 0.9948\n",
      "Epoch 16/20\n",
      "143/143 [==============================] - 0s 3ms/step - loss: 0.0081 - accuracy: 0.9998 - val_loss: 0.0174 - val_accuracy: 0.9974\n",
      "Epoch 17/20\n",
      "143/143 [==============================] - 0s 3ms/step - loss: 0.0065 - accuracy: 0.9998 - val_loss: 0.0154 - val_accuracy: 0.9974\n",
      "Epoch 18/20\n",
      "143/143 [==============================] - 0s 3ms/step - loss: 0.0057 - accuracy: 0.9998 - val_loss: 0.0147 - val_accuracy: 0.9974\n",
      "Epoch 19/20\n",
      "143/143 [==============================] - 0s 3ms/step - loss: 0.0035 - accuracy: 1.0000 - val_loss: 0.0166 - val_accuracy: 0.9965\n",
      "Epoch 20/20\n",
      "143/143 [==============================] - 0s 3ms/step - loss: 0.0034 - accuracy: 1.0000 - val_loss: 0.0122 - val_accuracy: 0.9983\n"
     ]
    }
   ],
   "source": [
    "model.compile(optimizer = 'adam',\n",
    "             loss = 'sparse_categorical_crossentropy',\n",
    "             metrics = ['accuracy'])\n",
    "\n",
    "result = model.fit(x_train, y_train, epochs = n_train_epoch, validation_data=(x_val, y_val))"
   ]
  },
  {
   "cell_type": "markdown",
   "id": "a5718fa9",
   "metadata": {},
   "source": [
    "1. Hyperparameter #1 :<br/>\n",
    "``` n_channel_1 = 16\n",
    "n_channel_2 = 32\n",
    "n_dense = 64\n",
    "n_train_epoch = 20\n",
    "```\n",
    "<br/>\n",
    "Epoch 16/20 <br/>\n",
    "143/143 [==============================] - 0s 3ms/step - loss: 0.0041 - accuracy: 0.9998 - val_loss: 0.0098 - val_accuracy: 0.9991 <br/>\n",
    "Epoch 17/20 <br/>\n",
    "143/143 [==============================] - 0s 3ms/step - loss: 0.0030 - accuracy: 1.0000 - val_loss: 0.0070 - val_accuracy: 0.9991\n",
    "\n",
    "2. Hyperparameter #2:<br/>\n",
    "``` n_channel_1 = 16\n",
    "n_channel_2 = 32\n",
    "n_dense = 64\n",
    "n_train_epoch = 21\n",
    "```\n",
    "<br/>\n",
    "Epoch 16/21 <br/>\n",
    "143/143 [==============================] - 0s 3ms/step - loss: 0.0132 - accuracy: 0.9969 - val_loss: 0.0153 - val_accuracy: 0.9974<br/>\n",
    "Epoch 17/21 <br/>\n",
    "143/143 [==============================] - 0s 3ms/step - loss: 0.0065 - accuracy: 0.9993 - val_loss: 0.0046 - val_accuracy: 1.0000\n",
    "\n",
    "3. Hyperparameter #3:<br/>\n",
    "``` n_channel_1 = 16\n",
    "n_channel_2 = 32\n",
    "n_dense = 64\n",
    "n_train_epoch = 22\n",
    "``` \n",
    "<br/>\n",
    "Epoch 13/22 <br/>\n",
    "143/143 [==============================] - 0s 3ms/step - loss: 0.0126 - accuracy: 0.9987 - val_loss: 0.0074 - val_accuracy: 1.0000 <br/>\n",
    "Epoch 14/22 <br/>\n",
    "143/143 [==============================] - 0s 3ms/step - loss: 0.0046 - accuracy: 0.9996 - val_loss: 0.0094 - val_accuracy: 0.9991"
   ]
  },
  {
   "cell_type": "markdown",
   "id": "2fe248de",
   "metadata": {},
   "source": [
    "### Visualization"
   ]
  },
  {
   "cell_type": "code",
   "execution_count": 20,
   "id": "a4ae1e5d",
   "metadata": {},
   "outputs": [
    {
     "data": {
      "text/plain": [
       "<matplotlib.legend.Legend at 0x7f525092e640>"
      ]
     },
     "execution_count": 20,
     "metadata": {},
     "output_type": "execute_result"
    },
    {
     "data": {
      "image/png": "[encoded data removed]",
      "text/plain": [
       "<Figure size 720x432 with 1 Axes>"
      ]
     },
     "metadata": {
      "needs_background": "light"
     },
     "output_type": "display_data"
    }
   ],
   "source": [
    "# visualizing the Loss and Accuracy values of train and validation datas\n",
    "plt.figure(figsize=(10, 6))\n",
    "\n",
    "plt.plot(result.history['accuracy'])\n",
    "plt.plot(result.history['val_accuracy'])\n",
    "plt.plot(result.history['loss'])\n",
    "plt.plot(result.history['val_loss'])\n",
    "\n",
    "plt.title('Performance')\n",
    "plt.xlabel('Epochs')\n",
    "plt.ylabel('Accuracy & Loss')\n",
    "plt.legend(['train_acc', 'val_acc', 'train_loss', 'val_loss'], loc='center right')"
   ]
  },
  {
   "cell_type": "code",
   "execution_count": 21,
   "id": "79877cad",
   "metadata": {},
   "outputs": [
    {
     "data": {
      "image/png": "[encoded data removed]",
      "text/plain": [
       "<Figure size 1008x360 with 2 Axes>"
      ]
     },
     "metadata": {
      "needs_background": "light"
     },
     "output_type": "display_data"
    }
   ],
   "source": [
    "# visualizing train and validation accuracy vs train and vailidation loss\n",
    "def eval_plot(result):\n",
    "\n",
    "  plt.figure(figsize=(14, 5))\n",
    "\n",
    "  # Accuracy plot\n",
    "  plt.subplot(1, 2, 1)\n",
    "  acc = result.history['accuracy']\n",
    "  val_acc = result.history['val_accuracy']\n",
    "  epochs = range(len(acc))\n",
    "  acc_plot, = plt.plot(epochs, acc, 'r')\n",
    "  val_acc_plot, = plt.plot(epochs, val_acc, 'b')\n",
    "  plt.title('Train and Validation Accuracy')\n",
    "  plt.legend([acc_plot, val_acc_plot], ['Train Accuracy', 'Validation Accuracy'])\n",
    "\n",
    "  # Loss plot\n",
    "  plt.subplot(1, 2, 2)\n",
    "  loss = result.history['loss']\n",
    "  val_loss = result.history['val_loss']\n",
    "  epochs = range(len(loss))\n",
    "  loss_plot, = plt.plot(epochs, loss, 'r')\n",
    "  val_loss_plot, = plt.plot(epochs, val_loss, 'b')\n",
    "  plt.title('Train and Validation Loss')\n",
    "  plt.legend([loss_plot, val_loss_plot], ['Train Loss', 'Validation Loss'])\n",
    "\n",
    "eval_plot(result)"
   ]
  },
  {
   "cell_type": "markdown",
   "id": "eda8ee25",
   "metadata": {},
   "source": [
    "## Deep Learning Network Testing"
   ]
  },
  {
   "cell_type": "markdown",
   "id": "48f9d8ca",
   "metadata": {},
   "source": [
    "### Importing test data"
   ]
  },
  {
   "cell_type": "code",
   "execution_count": 22,
   "id": "8d1a5164",
   "metadata": {},
   "outputs": [
    {
     "name": "stdout",
     "output_type": "stream",
     "text": [
      "123 images to be resized\n",
      "123 images resized.\n",
      "124 images to be resized\n",
      "124 images resized.\n",
      "124 images to be resized\n",
      "124 images resized.\n",
      "all images have been resized\n"
     ]
    }
   ],
   "source": [
    "def resize_images(img_path):\n",
    "    images = glob.glob(img_path + \"/*.png\")\n",
    "    \n",
    "    print(len(images), \"images to be resized\") # how many images are needed to be resized\n",
    "    \n",
    "    # resizing all images to 28x28\n",
    "    target_size = (28,28)\n",
    "    for img in images:\n",
    "        old_img = Image.open(img)\n",
    "        new_img = old_img.resize(target_size, Image.ANTIALIAS)# smooths the line\n",
    "        new_img.save(img, \"png\")\n",
    "    \n",
    "    print(len(images), \"images resized.\") # how many images have been resized\n",
    "    \n",
    "# reading all the jpg files from rock, paper and scissors directory\n",
    "\n",
    "image_dir_path = os.getenv(\"HOME\") + \"/aiffel/e1_rsp/test/rock\"\n",
    "resize_images(image_dir_path)\n",
    "\n",
    "image_dir_path = os.getenv(\"HOME\") + \"/aiffel/e1_rsp/test/paper\"\n",
    "resize_images(image_dir_path)\n",
    "\n",
    "image_dir_path = os.getenv(\"HOME\") + \"/aiffel/e1_rsp/test/scissors\"\n",
    "resize_images(image_dir_path)\n",
    "\n",
    "print(\"all images have been resized\")"
   ]
  },
  {
   "cell_type": "code",
   "execution_count": 23,
   "id": "28fdf520",
   "metadata": {},
   "outputs": [
    {
     "name": "stdout",
     "output_type": "stream",
     "text": [
      "a total of x_test images are 371\n",
      "x_test shape: (371, 28, 28, 3)\n",
      "y_test shape: (371,)\n"
     ]
    }
   ],
   "source": [
    "def load_test_data(img_path, number_of_data = 371):\n",
    "    img_size = 28\n",
    "    color = 3\n",
    "    # matrix for images and labels\n",
    "    imgs = np.zeros(number_of_data*img_size*img_size*color,dtype=np.int32).reshape(number_of_data,img_size,img_size,color)\n",
    "    labels = np.zeros(number_of_data,dtype=np.int32)\n",
    "    \n",
    "    idx = 0\n",
    "    for file in glob.iglob(img_path+'/scissors/*.png'):\n",
    "        img = np.array(Image.open(file), dtype=np.int32)\n",
    "        img = Image.open(file).convert('RGB')\n",
    "        imgs[idx,:,:,:] = img\n",
    "        labels[idx] = 0 # scissors : 0\n",
    "        idx = idx+1\n",
    "        \n",
    "    for file in glob.iglob(img_path+'/rock/*.png'):\n",
    "        img = np.array(Image.open(file), dtype=np.int32)\n",
    "        img = Image.open(file).convert('RGB')\n",
    "        imgs[idx,:,:,:] = img\n",
    "        labels[idx] = 1 # rock : 1\n",
    "        idx = idx+1\n",
    "    \n",
    "    for file in glob.iglob(img_path+'/paper/*.png'):\n",
    "        img = np.array(Image.open(file), dtype=np.int32)\n",
    "        img = Image.open(file).convert('RGB')\n",
    "        imgs[idx,:,:,:] = img\n",
    "        labels[idx] = 2 # paper : 2\n",
    "        idx = idx+1\n",
    "        \n",
    "    print(\"a total of x_test images are\", idx)\n",
    "    return imgs, labels\n",
    "\n",
    "\n",
    "image_dir_path = os.getenv(\"HOME\") + \"/aiffel/e1_rsp/test\"\n",
    "(x_test, y_test) = load_test_data(image_dir_path)\n",
    "x_test_norm = x_test/255.0 # Min-Max Normalization, value lies in between 0 and 1\n",
    "\n",
    "print(\"x_test shape: {}\".format(x_test.shape))\n",
    "print(\"y_test shape: {}\".format(y_test.shape))"
   ]
  },
  {
   "cell_type": "markdown",
   "id": "48fe76ff",
   "metadata": {},
   "source": [
    "Using the same codes from previous preprocessing, I came across with the value error which was <br/>\n",
    "`ValueError: could not broadcast input array from shape (28, 28, 4) to (28,28, 3)` <br/>\n",
    "Which means 'at least one item in your list is either not three dimensional, or its second or third dimension does not match the other elements.'\n",
    "\n",
    "I've tried and failed\n",
    "1. coverting numpy.ndarray to object using `.astype(object)`\n",
    "2. using\n",
    "```\n",
    "from PIL import Image\n",
    "img = Image.open(img_name).convert('RGB')\n",
    "```\n",
    "\n",
    "But once I've tried `.conver('RGB)` in for loops, I was able to solve the ValueError\n",
    "[ThisHelped](https://github.com/carpedm20/DCGAN-tensorflow/issues/162)"
   ]
  },
  {
   "cell_type": "code",
   "execution_count": 24,
   "id": "123519db",
   "metadata": {},
   "outputs": [
    {
     "data": {
      "image/png": "[encoded data removed]",
      "text/plain": [
       "<Figure size 576x576 with 3 Axes>"
      ]
     },
     "metadata": {
      "needs_background": "light"
     },
     "output_type": "display_data"
    }
   ],
   "source": [
    "sample_test_images = [x_test_norm[30], x_test_norm[100], x_test_norm[300]]\n",
    "\n",
    "plt.figure(figsize=(8,8))\n",
    "plt.suptitle(\"Dataset Preview\", fontsize = 16)\n",
    "\n",
    "for i, image in enumerate(sample_test_images):\n",
    "    plt.subplot(2, 3, i+1)\n",
    "    plt.imshow(image)\n",
    "    plt.title('Test', fontsize = 12)\n",
    "    plt.axis('off')\n",
    "    \n",
    "plt.tight_layout()"
   ]
  },
  {
   "cell_type": "markdown",
   "id": "dd21e4de",
   "metadata": {},
   "source": [
    "### Testing"
   ]
  },
  {
   "cell_type": "code",
   "execution_count": 25,
   "id": "e01fe570",
   "metadata": {},
   "outputs": [
    {
     "name": "stdout",
     "output_type": "stream",
     "text": [
      "12/12 - 0s - loss: 11.4811 - accuracy: 0.4879\n",
      "test_loss: 11.481075286865234 \n",
      "test_accuracy: 0.48787063360214233\n"
     ]
    }
   ],
   "source": [
    "test_loss, test_accuracy = model.evaluate(x_test_norm, y_test, verbose=2)\n",
    "print(\"test_loss: {} \".format(test_loss))\n",
    "print(\"test_accuracy: {}\".format(test_accuracy))"
   ]
  },
  {
   "cell_type": "code",
   "execution_count": 26,
   "id": "ade8e00c",
   "metadata": {},
   "outputs": [],
   "source": [
    "predicted_result = model.predict(x_test_norm)\n",
    "predicted_labels = np.argmax(predicted_result, axis=1)"
   ]
  },
  {
   "cell_type": "code",
   "execution_count": 27,
   "id": "b37822b2",
   "metadata": {},
   "outputs": [
    {
     "name": "stdout",
     "output_type": "stream",
     "text": [
      "probability distribution:  [1.0000000e+00 6.6252918e-14 2.0234999e-18]\n",
      "label:  2\n",
      "predicted result:  0\n"
     ]
    },
    {
     "data": {
      "image/png": "[encoded data removed]",
      "text/plain": [
       "<Figure size 432x288 with 1 Axes>"
      ]
     },
     "metadata": {
      "needs_background": "light"
     },
     "output_type": "display_data"
    },
    {
     "name": "stdout",
     "output_type": "stream",
     "text": [
      "probability distribution:  [1.0000000e+00 6.3200675e-17 2.3856988e-14]\n",
      "label:  2\n",
      "predicted result:  0\n"
     ]
    },
    {
     "data": {
      "image/png": "[encoded data removed]",
      "text/plain": [
       "<Figure size 432x288 with 1 Axes>"
      ]
     },
     "metadata": {
      "needs_background": "light"
     },
     "output_type": "display_data"
    },
    {
     "name": "stdout",
     "output_type": "stream",
     "text": [
      "probability distribution:  [1.0000000e+00 1.6786248e-15 1.0917409e-20]\n",
      "label:  2\n",
      "predicted result:  0\n"
     ]
    },
    {
     "data": {
      "image/png": "[encoded data removed]",
      "text/plain": [
       "<Figure size 432x288 with 1 Axes>"
      ]
     },
     "metadata": {
      "needs_background": "light"
     },
     "output_type": "display_data"
    }
   ],
   "source": [
    "wrong_predict_list = []\n",
    "\n",
    "for i, _ in enumerate(predicted_labels):\n",
    "    if predicted_labels[i] != y_test[i]: \n",
    "        wrong_predict_list.append(i)\n",
    "        \n",
    "samples = random.choices(population=wrong_predict_list, k=3)\n",
    "\n",
    "for n in samples:\n",
    "    print(\"probability distribution: \", str(predicted_result[n]))\n",
    "    print(\"label: \", str(y_test[n]))\n",
    "    print(\"predicted result: \", str(predicted_labels[n]))\n",
    "    \n",
    "    plt.imshow(x_test_norm[n], cmap=plt.cm.binary)\n",
    "    plt.show()"
   ]
  },
  {
   "cell_type": "markdown",
   "id": "d4fb5a78",
   "metadata": {},
   "source": [
    "### Fine-tuning\n",
    "\n",
    "#### First trial: resizing ==> epic fail"
   ]
  },
  {
   "cell_type": "code",
   "execution_count": 28,
   "id": "295f9fac",
   "metadata": {},
   "outputs": [],
   "source": [
    " target_size = (112,112)"
   ]
  },
  {
   "cell_type": "markdown",
   "id": "9b57c4d6",
   "metadata": {},
   "source": [
    "Adjusted hyperparameters <br/>\n",
    "First\n",
    "* n_channel_1 = 16\n",
    "* n_channel_2 = 32\n",
    "* n_dense = 32\n",
    "* n_train_epoch = 20 <br/>\n",
    "test accuracy: 0.3450\n",
    "\n",
    "Second\n",
    "* n_channel_1 = 16\n",
    "* n_channel_2 = 32\n",
    "* n_dense = 64\n",
    "* n_train_epoch = 10 <br/>\n",
    "test accuracy: 0.3638 "
   ]
  },
  {
   "cell_type": "markdown",
   "id": "e3809266",
   "metadata": {},
   "source": [
    "#### Second trial: VGG16 ==> there's something wrong with my datasets"
   ]
  },
  {
   "cell_type": "code",
   "execution_count": 29,
   "id": "db25927e",
   "metadata": {},
   "outputs": [
    {
     "name": "stdout",
     "output_type": "stream",
     "text": [
      "1904 images to be resized\n",
      "1904 images resized.\n",
      "1857 images to be resized\n",
      "1857 images resized.\n",
      "1959 images to be resized\n",
      "1959 images resized.\n",
      "all images have been resized\n"
     ]
    }
   ],
   "source": [
    "def resize_images(img_path):\n",
    "    images = glob.glob(img_path + \"/*.jpg\")\n",
    "    \n",
    "    print(len(images), \"images to be resized\") # how many images are needed to be resized\n",
    "    \n",
    "    # resizing all images to 112x112\n",
    "    target_size = (112,112)\n",
    "    for img in images:\n",
    "        old_img = Image.open(img)\n",
    "        new_img = old_img.resize(target_size, Image.ANTIALIAS)# smooths the line\n",
    "        new_img.save(img, \"JPEG\")\n",
    "    \n",
    "    print(len(images), \"images resized.\") # how many images have been resized\n",
    "    \n",
    "# reading all the jpg files from rock, paper and scissors directory\n",
    "\n",
    "image_dir_path = os.getenv(\"HOME\") + \"/aiffel/e1_rsp/rock/rock\"\n",
    "resize_images(image_dir_path)\n",
    "\n",
    "image_dir_path = os.getenv(\"HOME\") + \"/aiffel/e1_rsp/paper/paper\"\n",
    "resize_images(image_dir_path)\n",
    "\n",
    "image_dir_path = os.getenv(\"HOME\") + \"/aiffel/e1_rsp/scissors/scissors\"\n",
    "resize_images(image_dir_path)\n",
    "\n",
    "print(\"all images have been resized\")"
   ]
  },
  {
   "cell_type": "code",
   "execution_count": 30,
   "id": "94dacf0b",
   "metadata": {},
   "outputs": [
    {
     "name": "stdout",
     "output_type": "stream",
     "text": [
      "a total of x_train_resized images are 5720\n",
      "x_train_resized shape: (5720, 112, 112, 3)\n",
      "y_train_resized shape: (5720,)\n"
     ]
    }
   ],
   "source": [
    "def load_data(img_path, number_of_data = 5720):\n",
    "    img_size = 112\n",
    "    color = 3\n",
    "    # matrix for images and labels\n",
    "    imgs = np.zeros(number_of_data*img_size*img_size*color,dtype=np.int32).reshape(number_of_data,img_size,img_size,color)\n",
    "    labels = np.zeros(number_of_data,dtype=np.int32)\n",
    "    \n",
    "    idx = 0\n",
    "    for file in glob.iglob(img_path+'/scissors/scissors/*.jpg'):\n",
    "        img = np.array(Image.open(file), dtype=np.int32)\n",
    "        imgs[idx,:,:,:] = img\n",
    "        labels[idx] = 0 # scissors : 0\n",
    "        idx = idx+1\n",
    "        \n",
    "    for file in glob.iglob(img_path+'/rock/rock/*.jpg'):\n",
    "        img = np.array(Image.open(file), dtype=np.int32)\n",
    "        imgs[idx,:,:,:] = img\n",
    "        labels[idx] = 1 # rock : 1\n",
    "        idx = idx+1\n",
    "    \n",
    "    for file in glob.iglob(img_path+'/paper/paper/*.jpg'):\n",
    "        img = np.array(Image.open(file), dtype=np.int32)\n",
    "        imgs[idx,:,:,:] = img\n",
    "        labels[idx] = 2 # paper : 2\n",
    "        idx = idx+1\n",
    "        \n",
    "    print(\"a total of x_train_resized images are\", idx)\n",
    "    return imgs, labels\n",
    "\n",
    "image_dir_path = os.getenv(\"HOME\") + \"/aiffel/e1_rsp\"\n",
    "(x_train_resized, y_train_resized) = load_data(image_dir_path)\n",
    "x_train_resized_norm = x_train_resized/255.0 # Min-Max Normalization, value lies in between 0 and 1\n",
    "\n",
    "print(\"x_train_resized shape: {}\".format(x_train_resized.shape))\n",
    "print(\"y_train_resized shape: {}\".format(y_train_resized.shape))"
   ]
  },
  {
   "cell_type": "code",
   "execution_count": 31,
   "id": "8ebe2b6b",
   "metadata": {},
   "outputs": [
    {
     "name": "stdout",
     "output_type": "stream",
     "text": [
      "(4576, 112, 112, 3) (1144, 112, 112, 3) (4576,) (1144,)\n"
     ]
    }
   ],
   "source": [
    "# 80% into the train 20% into the validation\n",
    "x_train_resized, x_val_resized, y_train_resized, y_val_resized = train_test_split(x_train_resized_norm, y_train_resized, test_size=0.2, shuffle=True, random_state=10)\n",
    "\n",
    "# view the size of train and validation data\n",
    "print(x_train_resized.shape, x_val_resized.shape, y_train_resized.shape, y_val_resized.shape)"
   ]
  },
  {
   "cell_type": "code",
   "execution_count": 32,
   "id": "347be0d1",
   "metadata": {},
   "outputs": [
    {
     "name": "stdout",
     "output_type": "stream",
     "text": [
      "Downloading data from https://storage.googleapis.com/tensorflow/keras-applications/vgg16/vgg16_weights_tf_dim_ordering_tf_kernels_notop.h5\n",
      "58892288/58889256 [==============================] - 0s 0us/step\n",
      "58900480/58889256 [==============================] - 0s 0us/step\n",
      "Model: \"sequential_2\"\n",
      "_________________________________________________________________\n",
      "Layer (type)                 Output Shape              Param #   \n",
      "=================================================================\n",
      "vgg16 (Functional)           (None, 3, 3, 512)         14714688  \n",
      "_________________________________________________________________\n",
      "flatten_2 (Flatten)          (None, 4608)              0         \n",
      "_________________________________________________________________\n",
      "dense_4 (Dense)              (None, 4096)              18878464  \n",
      "_________________________________________________________________\n",
      "dropout (Dropout)            (None, 4096)              0         \n",
      "_________________________________________________________________\n",
      "dense_5 (Dense)              (None, 4096)              16781312  \n",
      "_________________________________________________________________\n",
      "dropout_1 (Dropout)          (None, 4096)              0         \n",
      "_________________________________________________________________\n",
      "dense_6 (Dense)              (None, 3)                 12291     \n",
      "=================================================================\n",
      "Total params: 50,386,755\n",
      "Trainable params: 35,672,067\n",
      "Non-trainable params: 14,714,688\n",
      "_________________________________________________________________\n"
     ]
    }
   ],
   "source": [
    "from tensorflow.keras.applications import VGG16\n",
    "\n",
    "model_vgg = VGG16(weights='imagenet', include_top=False, input_shape=(112, 112, 3))\n",
    "model_vgg.trainable = False                                                       \n",
    "\n",
    "model = keras.models.Sequential()\n",
    "model.add(model_vgg)                                                               \n",
    "model.add(keras.layers.Flatten())                    \n",
    "model.add(keras.layers.Dense(4096, activation='relu', kernel_regularizer='l2'))   \n",
    "model.add(keras.layers.Dropout(0.5))\n",
    "model.add(keras.layers.Dense(4096, activation='relu', kernel_regularizer='l2'))    \n",
    "model.add(keras.layers.Dropout(0.5))                                               \n",
    "model.add(keras.layers.Dense(3, activation='softmax'))\n",
    "\n",
    "model.summary()"
   ]
  },
  {
   "cell_type": "code",
   "execution_count": 33,
   "id": "1a8dcff1",
   "metadata": {},
   "outputs": [
    {
     "name": "stdout",
     "output_type": "stream",
     "text": [
      "Epoch 1/12\n",
      "143/143 [==============================] - 12s 66ms/step - loss: 11.2499 - accuracy: 0.6510 - val_loss: 1.7803 - val_accuracy: 0.8129\n",
      "Epoch 2/12\n",
      "143/143 [==============================] - 8s 53ms/step - loss: 1.2678 - accuracy: 0.7725 - val_loss: 0.8175 - val_accuracy: 0.8680\n",
      "Epoch 3/12\n",
      "143/143 [==============================] - 8s 54ms/step - loss: 0.8272 - accuracy: 0.8125 - val_loss: 0.6452 - val_accuracy: 0.8767\n",
      "Epoch 4/12\n",
      "143/143 [==============================] - 8s 54ms/step - loss: 0.7985 - accuracy: 0.7896 - val_loss: 0.5471 - val_accuracy: 0.8934\n",
      "Epoch 5/12\n",
      "143/143 [==============================] - 8s 54ms/step - loss: 0.7420 - accuracy: 0.7926 - val_loss: 0.5526 - val_accuracy: 0.9213\n",
      "Epoch 6/12\n",
      "143/143 [==============================] - 8s 55ms/step - loss: 0.6994 - accuracy: 0.7979 - val_loss: 0.4772 - val_accuracy: 0.9108\n",
      "Epoch 7/12\n",
      "143/143 [==============================] - 8s 55ms/step - loss: 0.7102 - accuracy: 0.7788 - val_loss: 0.4376 - val_accuracy: 0.9484\n",
      "Epoch 8/12\n",
      "143/143 [==============================] - 8s 56ms/step - loss: 0.6503 - accuracy: 0.8073 - val_loss: 0.4207 - val_accuracy: 0.9362\n",
      "Epoch 9/12\n",
      "143/143 [==============================] - 8s 56ms/step - loss: 0.6814 - accuracy: 0.7976 - val_loss: 0.5108 - val_accuracy: 0.8977\n",
      "Epoch 10/12\n",
      "143/143 [==============================] - 8s 57ms/step - loss: 0.7152 - accuracy: 0.7904 - val_loss: 0.4820 - val_accuracy: 0.9274\n",
      "Epoch 11/12\n",
      "143/143 [==============================] - 8s 57ms/step - loss: 0.6992 - accuracy: 0.7821 - val_loss: 0.4645 - val_accuracy: 0.9414\n",
      "Epoch 12/12\n",
      "143/143 [==============================] - 8s 57ms/step - loss: 0.7091 - accuracy: 0.7697 - val_loss: 0.5885 - val_accuracy: 0.8890\n"
     ]
    }
   ],
   "source": [
    "EPOCH = 12\n",
    "model.compile(optimizer='adam',                         \n",
    "             loss='sparse_categorical_crossentropy', \n",
    "             metrics=['accuracy'], )\n",
    "\n",
    "history = model.fit(x_train_resized, y_train_resized, epochs=EPOCH, validation_data=(x_val_resized, y_val_resized))"
   ]
  },
  {
   "cell_type": "markdown",
   "id": "81ed0ea5",
   "metadata": {},
   "source": [
    "**Without validation dataset:**\n",
    "\n",
    "Epoch 1/10 <br/>\n",
    "179/179 [==============================] - 12s 53ms/step - loss: 50.8296 - accuracy: 0.8921 <br/>\n",
    "Epoch 2/10 <br/>\n",
    "179/179 [==============================] - 8s 46ms/step - loss: 26.0720 - accuracy: 0.9460<br/>\n",
    "Epoch 3/10<br/>\n",
    "179/179 [==============================] - 8s 46ms/step - loss: 20.8675 - accuracy: 0.9629<br/>\n",
    "Epoch 4/10<br/>\n",
    "179/179 [==============================] - 8s 47ms/step - loss: 20.7191 - accuracy: 0.9663<br/>\n",
    "Epoch 5/10<br/>\n",
    "179/179 [==============================] - 8s 47ms/step - loss: 18.3663 - accuracy: 0.9771<br/>\n",
    "Epoch 6/10<br/>\n",
    "179/179 [==============================] - 8s 47ms/step - loss: 16.0640 - accuracy: 0.9801<br/>\n",
    "Epoch 7/10<br/>\n",
    "179/179 [==============================] - 8s 47ms/step - loss: 21.2503 - accuracy: 0.9673<br/>\n",
    "Epoch 8/10<br/>\n",
    "179/179 [==============================] - 8s 46ms/step - loss: 19.6972 - accuracy: 0.9823<br/>\n",
    "Epoch 9/10<br/>\n",
    "179/179 [==============================] - 8s 46ms/step - loss: 17.4191 - accuracy: 0.9869<br/>\n",
    "Epoch 10/10<br/>\n",
    "179/179 [==============================] - 8s 46ms/step - loss: 16.7626 - accuracy: 0.9820<br/>"
   ]
  },
  {
   "cell_type": "code",
   "execution_count": 34,
   "id": "2db35153",
   "metadata": {},
   "outputs": [
    {
     "name": "stdout",
     "output_type": "stream",
     "text": [
      "123 images to be resized\n",
      "123 images resized.\n",
      "124 images to be resized\n",
      "124 images resized.\n",
      "124 images to be resized\n",
      "124 images resized.\n",
      "all images have been resized\n"
     ]
    }
   ],
   "source": [
    "def resize_images(img_path):\n",
    "    images = glob.glob(img_path + \"/*.png\")\n",
    "    \n",
    "    print(len(images), \"images to be resized\") # how many images are needed to be resized\n",
    "    \n",
    "    # resizing all images to 112x112\n",
    "    target_size = (112,112)\n",
    "    for img in images:\n",
    "        old_img = Image.open(img)\n",
    "        new_img = old_img.resize(target_size, Image.ANTIALIAS)# smooths the line\n",
    "        new_img.save(img, \"png\")\n",
    "    \n",
    "    print(len(images), \"images resized.\") # how many images have been resized\n",
    "    \n",
    "# reading all the jpg files from rock, paper and scissors directory\n",
    "\n",
    "image_dir_path = os.getenv(\"HOME\") + \"/aiffel/e1_rsp/test/rock\"\n",
    "resize_images(image_dir_path)\n",
    "\n",
    "image_dir_path = os.getenv(\"HOME\") + \"/aiffel/e1_rsp/test/paper\"\n",
    "resize_images(image_dir_path)\n",
    "\n",
    "image_dir_path = os.getenv(\"HOME\") + \"/aiffel/e1_rsp/test/scissors\"\n",
    "resize_images(image_dir_path)\n",
    "\n",
    "print(\"all images have been resized\")"
   ]
  },
  {
   "cell_type": "code",
   "execution_count": 35,
   "id": "b7b49b8a",
   "metadata": {},
   "outputs": [
    {
     "name": "stdout",
     "output_type": "stream",
     "text": [
      "a total of x_test_resized images are 371\n",
      "x_test_resized shape: (371, 112, 112, 3)\n",
      "y_test_resized shape: (371,)\n"
     ]
    }
   ],
   "source": [
    "def load_test_resized_data(img_path, number_of_data = 371):\n",
    "    img_size = 112\n",
    "    color = 3\n",
    "    # matrix for images and labels\n",
    "    imgs = np.zeros(number_of_data*img_size*img_size*color,dtype=np.int32).reshape(number_of_data,img_size,img_size,color)\n",
    "    labels = np.zeros(number_of_data,dtype=np.int32)\n",
    "    \n",
    "    idx = 0\n",
    "    for file in glob.iglob(img_path+'/scissors/*.png'):\n",
    "        img = np.array(Image.open(file), dtype=np.int32)\n",
    "        img = Image.open(file).convert('RGB')\n",
    "        imgs[idx,:,:,:] = img\n",
    "        labels[idx] = 0 # scissors : 0\n",
    "        idx = idx+1\n",
    "        \n",
    "    for file in glob.iglob(img_path+'/rock/*.png'):\n",
    "        img = np.array(Image.open(file), dtype=np.int32)\n",
    "        img = Image.open(file).convert('RGB')\n",
    "        imgs[idx,:,:,:] = img\n",
    "        labels[idx] = 1 # rock : 1\n",
    "        idx = idx+1\n",
    "    \n",
    "    for file in glob.iglob(img_path+'/paper/*.png'):\n",
    "        img = np.array(Image.open(file), dtype=np.int32)\n",
    "        img = Image.open(file).convert('RGB')\n",
    "        imgs[idx,:,:,:] = img\n",
    "        labels[idx] = 2 # paper : 2\n",
    "        idx = idx+1\n",
    "        \n",
    "    print(\"a total of x_test_resized images are\", idx)\n",
    "    return imgs, labels\n",
    "\n",
    "\n",
    "image_dir_path = os.getenv(\"HOME\") + \"/aiffel/e1_rsp/test\"\n",
    "(x_test_resized, y_test_resized) = load_test_resized_data(image_dir_path)\n",
    "x_test_resized_norm = x_test_resized/255.0 # Min-Max Normalization, value lies in between 0 and 1\n",
    "\n",
    "print(\"x_test_resized shape: {}\".format(x_test_resized.shape))\n",
    "print(\"y_test_resized shape: {}\".format(y_test_resized.shape))"
   ]
  },
  {
   "cell_type": "code",
   "execution_count": 36,
   "id": "90f29b8a",
   "metadata": {},
   "outputs": [
    {
     "name": "stdout",
     "output_type": "stream",
     "text": [
      "test_loss: 0.969279408454895 \n",
      "test_accuracy: 0.6388140320777893\n"
     ]
    }
   ],
   "source": [
    "test_loss_resized, test_accuracy_resized = model.evaluate(x_test_resized_norm, y_test_resized, verbose=0)\n",
    "print(\"test_loss: {} \".format(test_loss_resized))\n",
    "print(\"test_accuracy: {}\".format(test_accuracy_resized))"
   ]
  },
  {
   "cell_type": "markdown",
   "id": "13ecdfa0",
   "metadata": {},
   "source": [
    "#### third trial: VGG19 ==> Kernel died"
   ]
  },
  {
   "cell_type": "code",
   "execution_count": 37,
   "id": "fa7fba1b",
   "metadata": {},
   "outputs": [
    {
     "name": "stdout",
     "output_type": "stream",
     "text": [
      "Model: \"sequential_3\"\n",
      "_________________________________________________________________\n",
      "Layer (type)                 Output Shape              Param #   \n",
      "=================================================================\n",
      "conv2d_4 (Conv2D)            (None, 224, 224, 64)      1792      \n",
      "_________________________________________________________________\n",
      "conv2d_5 (Conv2D)            (None, 224, 224, 64)      36928     \n",
      "_________________________________________________________________\n",
      "max_pooling2d_4 (MaxPooling2 (None, 112, 112, 64)      0         \n",
      "_________________________________________________________________\n",
      "conv2d_6 (Conv2D)            (None, 112, 112, 128)     73856     \n",
      "_________________________________________________________________\n",
      "conv2d_7 (Conv2D)            (None, 112, 112, 128)     147584    \n",
      "_________________________________________________________________\n",
      "max_pooling2d_5 (MaxPooling2 (None, 56, 56, 128)       0         \n",
      "_________________________________________________________________\n",
      "conv2d_8 (Conv2D)            (None, 56, 56, 256)       295168    \n",
      "_________________________________________________________________\n",
      "conv2d_9 (Conv2D)            (None, 56, 56, 256)       590080    \n",
      "_________________________________________________________________\n",
      "conv2d_10 (Conv2D)           (None, 56, 56, 256)       590080    \n",
      "_________________________________________________________________\n",
      "max_pooling2d_6 (MaxPooling2 (None, 28, 28, 256)       0         \n",
      "_________________________________________________________________\n",
      "conv2d_11 (Conv2D)           (None, 28, 28, 512)       1180160   \n",
      "_________________________________________________________________\n",
      "conv2d_12 (Conv2D)           (None, 28, 28, 512)       2359808   \n",
      "_________________________________________________________________\n",
      "conv2d_13 (Conv2D)           (None, 28, 28, 512)       2359808   \n",
      "_________________________________________________________________\n",
      "max_pooling2d_7 (MaxPooling2 (None, 14, 14, 512)       0         \n",
      "_________________________________________________________________\n",
      "conv2d_14 (Conv2D)           (None, 14, 14, 512)       2359808   \n",
      "_________________________________________________________________\n",
      "conv2d_15 (Conv2D)           (None, 14, 14, 512)       2359808   \n",
      "_________________________________________________________________\n",
      "conv2d_16 (Conv2D)           (None, 14, 14, 512)       2359808   \n",
      "_________________________________________________________________\n",
      "max_pooling2d_8 (MaxPooling2 (None, 7, 7, 512)         0         \n",
      "_________________________________________________________________\n",
      "flatten_3 (Flatten)          (None, 25088)             0         \n",
      "_________________________________________________________________\n",
      "dense_7 (Dense)              (None, 4096)              102764544 \n",
      "_________________________________________________________________\n",
      "dense_8 (Dense)              (None, 4096)              16781312  \n",
      "_________________________________________________________________\n",
      "dense_9 (Dense)              (None, 2)                 8194      \n",
      "=================================================================\n",
      "Total params: 134,268,738\n",
      "Trainable params: 134,268,738\n",
      "Non-trainable params: 0\n",
      "_________________________________________________________________\n"
     ]
    }
   ],
   "source": [
    "import keras,os\n",
    "from keras.models import Sequential\n",
    "from keras.layers import Dense, Conv2D, MaxPool2D , Flatten\n",
    "from keras.preprocessing.image import ImageDataGenerator\n",
    "\n",
    "model = Sequential()\n",
    "model.add(Conv2D(input_shape=(224,224,3),filters=64,kernel_size=(3,3),padding=\"same\", activation=\"relu\"))\n",
    "model.add(Conv2D(filters=64,kernel_size=(3,3),padding=\"same\", activation=\"relu\"))\n",
    "model.add(MaxPool2D(pool_size=(2,2),strides=(2,2)))\n",
    "model.add(Conv2D(filters=128, kernel_size=(3,3), padding=\"same\", activation=\"relu\"))\n",
    "model.add(Conv2D(filters=128, kernel_size=(3,3), padding=\"same\", activation=\"relu\"))\n",
    "model.add(MaxPool2D(pool_size=(2,2),strides=(2,2)))\n",
    "model.add(Conv2D(filters=256, kernel_size=(3,3), padding=\"same\", activation=\"relu\"))\n",
    "model.add(Conv2D(filters=256, kernel_size=(3,3), padding=\"same\", activation=\"relu\"))\n",
    "model.add(Conv2D(filters=256, kernel_size=(3,3), padding=\"same\", activation=\"relu\"))\n",
    "model.add(MaxPool2D(pool_size=(2,2),strides=(2,2)))\n",
    "model.add(Conv2D(filters=512, kernel_size=(3,3), padding=\"same\", activation=\"relu\"))\n",
    "model.add(Conv2D(filters=512, kernel_size=(3,3), padding=\"same\", activation=\"relu\"))\n",
    "model.add(Conv2D(filters=512, kernel_size=(3,3), padding=\"same\", activation=\"relu\"))\n",
    "model.add(MaxPool2D(pool_size=(2,2),strides=(2,2)))\n",
    "model.add(Conv2D(filters=512, kernel_size=(3,3), padding=\"same\", activation=\"relu\"))\n",
    "model.add(Conv2D(filters=512, kernel_size=(3,3), padding=\"same\", activation=\"relu\"))\n",
    "model.add(Conv2D(filters=512, kernel_size=(3,3), padding=\"same\", activation=\"relu\"))\n",
    "model.add(MaxPool2D(pool_size=(2,2),strides=(2,2)))\n",
    "model.add(Flatten())\n",
    "model.add(Dense(units=4096,activation=\"relu\"))\n",
    "model.add(Dense(units=4096,activation=\"relu\"))\n",
    "model.add(Dense(units=2, activation=\"softmax\"))\n",
    "\n",
    "model.summary()"
   ]
  },
  {
   "cell_type": "markdown",
   "id": "31b06727",
   "metadata": {},
   "source": [
    "---\n",
    "\n",
    "## Conclusion\n",
    "\n",
    "#### Model accuracy: 63%\n",
    "\n",
    "#### Hypothesis: falsification\n",
    "\n",
    "1. datasets are important GIGO!\n",
    "2. adjusting hyperparameters are somewhat meaningful but getting better datasets would do much better\n",
    "3. try confusion matrix and classification report nextime\n",
    "4. achieved 3 out of 5 goals\n",
    "5. DATA DATA DATA"
   ]
  }
 ],
 "metadata": {
  "kernelspec": {
   "display_name": "Python 3 (ipykernel)",
   "language": "python",
   "name": "python3"
  },
  "language_info": {
   "codemirror_mode": {
    "name": "ipython",
    "version": 3
   },
   "file_extension": ".py",
   "mimetype": "text/x-python",
   "name": "python",
   "nbconvert_exporter": "python",
   "pygments_lexer": "ipython3",
   "version": "3.9.7"
  }
 },
 "nbformat": 4,
 "nbformat_minor": 5
}
